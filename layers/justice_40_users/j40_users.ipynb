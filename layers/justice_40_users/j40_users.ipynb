{
 "cells": [
  {
   "cell_type": "markdown",
   "metadata": {},
   "source": [
    "#Instructions\n",
    "\n",
    "add segmented routes and OSM Highway Export to map\n",
    "\n",
    "segmented routes: https://azgeo.maps.arcgis.com/home/item.html?id=b82a0623026c42ea96bdc12dc42967ea\n",
    "\n",
    "OpenStreetMap Highways for North America:\n",
    "https://www.arcgis.com/home/item.html?id=7afec250e02845868db89c83949a672f\n"
   ]
  },
  {
   "cell_type": "markdown",
   "metadata": {},
   "source": [
    "To improve reliability, rather than join based on centroid, I should generate three or five points along each line and then use a voting method..."
   ]
  },
  {
   "cell_type": "code",
   "execution_count": null,
   "metadata": {},
   "outputs": [],
   "source": [
    "def select_pattern(feature_layer, field, pattern, select_type = \"NEW SELECTION\"):\n",
    "    matcher = re.compile(pattern)\n",
    "    describe_feature = arcpy.Describe(feature_layer)\n",
    "    \n",
    "    oid_list = []\n",
    "    with arcpy.da.SearchCursor(feature_layer, ['OID@', field]) as sc:\n",
    "        for row in sc:\n",
    "            if matcher.search(row[1]) is not None:\n",
    "                oid_list.append(row[0])\n",
    "    if(len(oid_list)) == 0:\n",
    "        print('No records matched.')\n",
    "        return None\n",
    "    \n",
    "    sql = \"\\\"{}\\\" IN ({})\".format(\n",
    "        describe_feature.OIDFieldName,\n",
    "        \",\".join([\"{}\".format(oid) for oid in oid_list])\n",
    "    )\n",
    "\n",
    "    arcpy.SelectLayerByAttribute_management(\n",
    "        feature_layer,\n",
    "        select_type,\n",
    "        sql\n",
    "    )"
   ]
  },
  {
   "cell_type": "code",
   "execution_count": 194,
   "metadata": {},
   "outputs": [],
   "source": [
    "pattern = '\\s{1,4}0[\\s123]$' # Match 0 at end\n",
    "select_pattern(\"segmented_routes\", 'route_id', pattern)"
   ]
  },
  {
   "cell_type": "code",
   "execution_count": 189,
   "metadata": {},
   "outputs": [
    {
     "data": {
      "text/html": [
       "<div class='gpresult'><h2>Messages</h2><div id='messages' data-messages='[\"Start Time: Saturday, February 25, 2023 8:05:50 PM\",\"Succeeded at Saturday, February 25, 2023 8:05:50 PM (Elapsed Time: 0.18 seconds)\"]' data-show='true'><div id = 'default' /></div></div>"
      ],
      "text/plain": [
       "<Result 'segmented_routes'>"
      ]
     },
     "execution_count": 189,
     "metadata": {},
     "output_type": "execute_result"
    }
   ],
   "source": [
    "arcpy.management.SelectLayerByAttribute(\"segmented_routes\", \"REMOVE_FROM_SELECTION\", \"\"\"type = 'dual_line'\"\"\", None)"
   ]
  },
  {
   "cell_type": "markdown",
   "metadata": {},
   "source": [
    "### resume here ... I need to separate into three layers\n",
    "\n",
    "* 1 line to 1 line\n",
    "* 2 lines to 2 lines\n",
    "* 2 lines to 1 line\n",
    "* possibly ... 2 lines to 2 lines"
   ]
  },
  {
   "cell_type": "code",
   "execution_count": null,
   "metadata": {},
   "outputs": [],
   "source": [
    "arcpy.management.CalculateField(\n",
    "    \"segmented_routes\", \"type\", \"'dual_line'\", \"PYTHON3\", '', \"TEXT\", \"NO_ENFORCE_DOMAINS\")\n",
    "arcpy.management.SelectLayerByAttribute(\n",
    "    \"segmented_routes\", \"SWITCH_SELECTION\", \"functional_class IN (1, 2)\", None)\n",
    "\n",
    "arcpy.management.CalculateField(\n",
    "    \"segmented_routes\", \"type\", \"'single_line'\", \"PYTHON3\", '', \"TEXT\", \"NO_ENFORCE_DOMAINS\")\n"
   ]
  },
  {
   "cell_type": "code",
   "execution_count": null,
   "metadata": {},
   "outputs": [],
   "source": [
    "# separate motorways from facilities represnted by one line from facilities represented by two lines\n",
    "# ... should actually just separate by one way and two way, then separate the centroids by one way and two two\n",
    "arcpy.management.SelectLayerByAttribute(\n",
    "    \"OSM_NA_Highway_Export\", \"NEW_SELECTION\", \"highway = 'motorway'\", None)\n",
    "arcpy.conversion.ExportFeatures(\n",
    "    \"OSM_NA_Highway_Export\", r\"Y:\\mag\\sun_cloud\\layers\\justice_40_users\\j40_users.gdb\\OSM_Non_Motorways\", '', \"NOT_USE_ALIAS\", 'highway \"highway\" true true false 255 Text 0 0,First,#,OSM_NA_Highway_Export,highway,0,255;name \"name\" true true false 255 Text 0 0,First,#,OSM_NA_Highway_Export,name,0,255;oneway \"oneway\" true true false 255 Text 0 0,First,#,OSM_NA_Highway_Export,oneway,0,255;osm_id2 \"osm_id2\" true true false 255 Text 0 0,First,#,OSM_NA_Highway_Export,osm_id2,0,255;Shape_Length \"Shape_Length\" false true true 8 Double 0 0,First,#,OSM_NA_Highway_Export,Shape_Length,-1,-1', None)\n",
    "arcpy.management.SelectLayerByAttribute(\n",
    "    \"OSM_NA_Highway_Export\", \"NEW_SELECTION\", \"highway <> 'motorway'\", None)\n",
    "arcpy.conversion.ExportFeatures(\n",
    "    \"OSM_NA_Highway_Export\", r\"Y:\\mag\\sun_cloud\\layers\\justice_40_users\\j40_users.gdb\\OSM_Motorways\", '', \"NOT_USE_ALIAS\", 'highway \"highway\" true true false 255 Text 0 0,First,#,OSM_NA_Highway_Export,highway,0,255;name \"name\" true true false 255 Text 0 0,First,#,OSM_NA_Highway_Export,name,0,255;oneway \"oneway\" true true false 255 Text 0 0,First,#,OSM_NA_Highway_Export,oneway,0,255;osm_id2 \"osm_id2\" true true false 255 Text 0 0,First,#,OSM_NA_Highway_Export,osm_id2,0,255;Shape_Length \"Shape_Length\" false true true 8 Double 0 0,First,#,OSM_NA_Highway_Export,Shape_Length,-1,-1', None)"
   ]
  },
  {
   "cell_type": "code",
   "execution_count": null,
   "metadata": {},
   "outputs": [],
   "source": [
    "arcpy.management.SelectLayerByAttribute(\n",
    "    \"OSM_Non_Motorways\", \"NEW_SELECTION\", \"oneway IN ('yes', '-1')\", None)\n",
    "arcpy.conversion.ExportFeatures(\n",
    "    \"OSM_Non_Motorways\", r\"j40_users.gdb\\OSM_Non_Motorway_Two_Lines\"\n",
    ")"
   ]
  },
  {
   "cell_type": "code",
   "execution_count": null,
   "metadata": {},
   "outputs": [],
   "source": [
    "arcpy.analysis.PairwiseBuffer(\n",
    "    \"segmented_routes\", r\"Y:\\mag\\sun_cloud\\layers\\justice_40_users\\j40_users.gdb\\segmented_rout_PairwiseBuffe\", \"8 Meters\", \"ALL\", None, \"PLANAR\", \"0 Feet\")\n",
    "arcpy.management.SelectLayerByLocation(\n",
    "    \"OSM_Non_Motorways\", \"WITHIN\", \"segmented_rout_PairwiseBuffe\", None, \"NEW_SELECTION\", \"NOT_INVERT\")\n",
    "arcpy.management.SelectLayerByAttribute(\n",
    "    \"OSM_Non_Motorways\", \"REMOVE_FROM_SELECTION\", \"oneway IN ('yes', '-1')\", None)\n",
    "arcpy.conversion.ExportFeatures(\n",
    "    \"OSM_Non_Motorways\", r\"Y:\\mag\\sun_cloud\\layers\\justice_40_users\\j40_users.gdb\\OSM_Non_Motorway_One_Line_Filtered\", '', \"NOT_USE_ALIAS\", 'highway \"highway\" true true false 255 Text 0 0,First,#,OSM_Non_Motorways,highway,0,255;name \"name\" true true false 255 Text 0 0,First,#,OSM_Non_Motorways,name,0,255;oneway \"oneway\" true true false 255 Text 0 0,First,#,OSM_Non_Motorways,oneway,0,255;osm_id2 \"osm_id2\" true true false 255 Text 0 0,First,#,OSM_Non_Motorways,osm_id2,0,255;Shape_Length \"Shape_Length\" false true true 8 Double 0 0,First,#,OSM_Non_Motorways,Shape_Length,-1,-1', None)\n"
   ]
  },
  {
   "cell_type": "code",
   "execution_count": 120,
   "metadata": {},
   "outputs": [],
   "source": [
    "# manually go through and delete SC segments\n",
    "# that do not overlap with OSM segments\n",
    "# ... should consider removing these\n",
    "# segments from the SC Routes layer\n",
    "\n",
    "# then go through and filter the OSM segments down to just where\n",
    "# they overlap with SC routes to get rid of the lower\n",
    "# funtional class routes"
   ]
  },
  {
   "cell_type": "code",
   "execution_count": 198,
   "metadata": {},
   "outputs": [
    {
     "data": {
      "text/html": [
       "<div class='gpresult'><h2>Messages</h2><div id='messages' data-messages='[\"Start Time: Sunday, February 26, 2023 1:20:23 PM\",\"Succeeded at Sunday, February 26, 2023 1:20:25 PM (Elapsed Time: 2.26 seconds)\"]' data-show='true'><div id = 'default' /></div></div>"
      ],
      "text/plain": [
       "<Result 'j40_users.gdb\\\\centroids'>"
      ]
     },
     "execution_count": 198,
     "metadata": {},
     "output_type": "execute_result"
    }
   ],
   "source": [
    "# create centroids\n",
    "arcpy.management.FeatureToPoint(\n",
    "    \"segmented_routes\", \n",
    "    r\"j40_users.gdb\\centroids\", \n",
    "    \"INSIDE\"\n",
    ")"
   ]
  },
  {
   "cell_type": "code",
   "execution_count": 204,
   "metadata": {
    "scrolled": true
   },
   "outputs": [
    {
     "data": {
      "text/html": [
       "<div class='gpresult'><h2>Messages</h2><div id='messages' data-messages='[\"Start Time: Sunday, February 26, 2023 1:31:45 PM\",\"Succeeded at Sunday, February 26, 2023 1:31:45 PM (Elapsed Time: 0.09 seconds)\"]' data-show='true'><div id = 'default' /></div></div>"
      ],
      "text/plain": [
       "<Result 'centroids'>"
      ]
     },
     "execution_count": 204,
     "metadata": {},
     "output_type": "execute_result"
    }
   ],
   "source": [
    "# select single vs dual and buffer\n",
    "arcpy.management.SelectLayerByAttribute(\n",
    "    \"centroids\", \n",
    "    \"NEW_SELECTION\", \n",
    "    \"type = 'dual_line'\", \n",
    "    None\n",
    ")"
   ]
  },
  {
   "cell_type": "code",
   "execution_count": null,
   "metadata": {},
   "outputs": [],
   "source": [
    "arcpy.conversion.ExportFeatures(\n",
    "    \"centroids\", \n",
    "    r\"j40_users.gdb\\centroids_dual_line\", \n",
    "    '', \"NOT_USE_ALIAS\"\n",
    ")"
   ]
  },
  {
   "cell_type": "code",
   "execution_count": null,
   "metadata": {},
   "outputs": [],
   "source": [
    "arcpy.edit.Snap(\n",
    "    \"centroids_dual_line\", \n",
    "    \"OSM_Dual_Line_Features EDGE '20 Meters'\"\n",
    ")"
   ]
  },
  {
   "cell_type": "code",
   "execution_count": null,
   "metadata": {},
   "outputs": [],
   "source": [
    "arcpy.analysis.PairwiseIntersect(\n",
    "    \"centroids_dual_line;OSM_Dual_Line_Features\", \n",
    "    r\"j40_users.gdb\\centroids_dual_inter\", \n",
    "    \"ALL\", None, \"INPUT\"\n",
    ")"
   ]
  },
  {
   "cell_type": "code",
   "execution_count": 209,
   "metadata": {},
   "outputs": [
    {
     "data": {
      "text/html": [
       "<div class='gpresult'><h2>Messages</h2><div id='messages' data-messages='[\"Start Time: Sunday, February 26, 2023 2:19:01 PM\",\"Succeeded at Sunday, February 26, 2023 2:19:03 PM (Elapsed Time: 1.84 seconds)\"]' data-show='true'><div id = 'default' /></div></div>"
      ],
      "text/plain": [
       "<Result 'j40_users.gdb\\\\centroids_single_line_buffer'>"
      ]
     },
     "execution_count": 209,
     "metadata": {},
     "output_type": "execute_result"
    }
   ],
   "source": [
    "# export out the single-line centroids\n",
    "# to join to single line and dual line OSM\n",
    "arcpy.management.SelectLayerByAttribute(\n",
    "    \"centroids\", \n",
    "    \"NEW_SELECTION\", \n",
    "    \"type = 'single_line'\", \n",
    "    None\n",
    ")\n",
    "arcpy.analysis.PairwiseBuffer(\n",
    "    \"centroids\", \n",
    "    r\"j40_users.gdb\\centroids_single_line_buffer\", \n",
    "    \"15 Meters\", \"NONE\", None, \"PLANAR\", \"0 Feet\"\n",
    ")"
   ]
  },
  {
   "cell_type": "code",
   "execution_count": null,
   "metadata": {},
   "outputs": [],
   "source": [
    "arcpy.management.AddSpatialJoin(\n",
    "    \"centroids_single_line_buffer\", \n",
    "    \"OSM_Single_Line_Features\", \n",
    "    \"JOIN_ONE_TO_ONE\", \n",
    "    \"KEEP_ALL\", r'highway \"highway\" true true false 255 Text 0 0,First,#,Y:\\mag\\sun_cloud\\layers\\justice_40_users\\j40_users.gdb\\OSM_Non_Motorway_One_L_Merge,highway,0,255;name \"name\" true true false 255 Text 0 0,First,#,Y:\\mag\\sun_cloud\\layers\\justice_40_users\\j40_users.gdb\\OSM_Non_Motorway_One_L_Merge,name,0,255;oneway \"oneway\" true true false 255 Text 0 0,First,#,Y:\\mag\\sun_cloud\\layers\\justice_40_users\\j40_users.gdb\\OSM_Non_Motorway_One_L_Merge,oneway,0,255;osm_id2 \"osm_id2\" true true false 255 Text 0 0,First,#,Y:\\mag\\sun_cloud\\layers\\justice_40_users\\j40_users.gdb\\OSM_Non_Motorway_One_L_Merge,osm_id2,0,255;Shape_Length \"Shape_Length\" false true true 8 Double 0 0,First,#,Y:\\mag\\sun_cloud\\layers\\justice_40_users\\j40_users.gdb\\OSM_Non_Motorway_One_L_Merge,Shape_Length,-1,-1', \"LARGEST_OVERLAP\", None, '')"
   ]
  },
  {
   "cell_type": "code",
   "execution_count": null,
   "metadata": {},
   "outputs": [],
   "source": [
    "arcpy.management.SelectLayerByAttribute(\n",
    "    \"centroids_single_line_buffer\", \n",
    "    \"NEW_SELECTION\", \n",
    "    \"centroids_single_line_buffer_AddSpatialJoin.osm_id2 IS NULL\", \n",
    "    None\n",
    ")"
   ]
  },
  {
   "cell_type": "code",
   "execution_count": 210,
   "metadata": {},
   "outputs": [],
   "source": [
    "# filter OSM routes down to just the layers of interest"
   ]
  },
  {
   "cell_type": "code",
   "execution_count": null,
   "metadata": {},
   "outputs": [],
   "source": [
    "arcpy.management.SelectLayerByAttribute(\n",
    "    \"OSM_Dual_Line_Features\", \n",
    "    \"NEW_SELECTION\", \n",
    "    \"highway IN ('trunk', 'motorway')\", \n",
    "    \"INVERT\"\n",
    ")\n",
    "arcpy.conversion.ExportFeatures(\n",
    "    \"OSM_Dual_Line_Features\", \n",
    "    r\"j40_users.gdb\\OSM_Dual_Line_No_Motorways\", \n",
    "    '', \"NOT_USE_ALIAS\"\n",
    ")"
   ]
  },
  {
   "cell_type": "code",
   "execution_count": null,
   "metadata": {},
   "outputs": [],
   "source": [
    "arcpy.analysis.PairwiseIntersect(\n",
    "    \"centroids_one_to_two_buff20;OSM_Dual_Line_No_Motorways\", \n",
    "    r\"j40_users.gdb\\centroids_one_to_two_intersect\", \n",
    "    \"ALL\", None, \"INPUT\"\n",
    ")"
   ]
  },
  {
   "cell_type": "code",
   "execution_count": null,
   "metadata": {},
   "outputs": [],
   "source": [
    "# export things out\n",
    "arcpy.conversion.ExportTable(\n",
    "    \"centroids_one_to_two_intersect\", \n",
    "    r\"centroids_one_to_two_intersect.csv\",    \n",
    ")"
   ]
  },
  {
   "cell_type": "markdown",
   "metadata": {},
   "source": [
    "# Swith to R and BigQuery\n",
    "\n",
    "now process things in R becuase my python skillz are lacking\n",
    "\n",
    "1. Run 1_extract_osm_ids.R\n",
    "2. Run both bigquery queries\n",
    "3. Then run 2_combine.R and come back here"
   ]
  },
  {
   "cell_type": "code",
   "execution_count": 3,
   "metadata": {},
   "outputs": [
    {
     "data": {
      "text/html": [
       "<div class='gpresult'><h2>Messages</h2><div id='messages' data-messages='[\"Start Time: Monday, February 27, 2023 4:05:46 AM\",\"Succeeded at Monday, February 27, 2023 4:05:51 AM (Elapsed Time: 4.38 seconds)\"]' data-show='true'><div id = 'default' /></div></div>"
      ],
      "text/plain": [
       "<Result 'Y:\\\\mag\\\\sun_cloud\\\\layers\\\\justice_40_users\\\\j40_users.gdb\\\\disadvantaged_facility_users'>"
      ]
     },
     "execution_count": 3,
     "metadata": {},
     "output_type": "execute_result"
    }
   ],
   "source": [
    "arcpy.management.AddJoin(\n",
    "    \"segmented_routes\", \n",
    "    \"join_id\", \"trips_by_join_id.csv\", \n",
    "    \"join_id\", \"KEEP_COMMON\", \"NO_INDEX_JOIN_FIELDS\")\n",
    "arcpy.conversion.ExportFeatures(\n",
    "    \"segmented_routes\", \n",
    "    r\"j40_users.gdb\\disadvantaged_facility_users\"\n",
    ")"
   ]
  },
  {
   "cell_type": "code",
   "execution_count": null,
   "metadata": {},
   "outputs": [],
   "source": [
    "# looking pretty good\n",
    "# definitely some gaps - but these seem to be on the \n",
    "# OSM / Replica side. Could improve by joining based on multiple points per segment\n"
   ]
  },
  {
   "cell_type": "code",
   "execution_count": null,
   "metadata": {},
   "outputs": [],
   "source": []
  },
  {
   "cell_type": "code",
   "execution_count": null,
   "metadata": {},
   "outputs": [],
   "source": []
  },
  {
   "cell_type": "code",
   "execution_count": 4,
   "metadata": {},
   "outputs": [],
   "source": [
    "working_layer = 'disadvantaged_facility_users'\n",
    "\n",
    "system_fields = [arcpy.Describe(working_layer).OIDFieldName, 'Shape', 'geom', 'Shape_Length']\n",
    "current_fields = [f.name for f in arcpy.ListFields(working_layer) if not f.name in system_fields]\n",
    "\n",
    "# Define tuples of CurrentFieldName, target_field_name, Alias\n",
    "target_fields = [\n",
    "    ('route_id', 'route_id', 'Route ID'),\n",
    "    ('trips', 'trips', 'Total Person Trips (Replica Estimate)'),\n",
    "    ('j40_trips', 'j40_trips', 'Trips by Disadvantaged Users'),\n",
    "    ('percent_j40', 'percent_j40', 'Percent Disadvantaged Users'),\n",
    "]\n",
    "\n",
    "# delete unused fields\n",
    "delete_fields = [field for field in current_fields if not field in [a for a, b, c in target_fields]]\n",
    "if delete_fields:\n",
    "    arcpy.management.DeleteField(working_layer, delete_fields)\n",
    "    \n",
    "for current, new, alias in target_fields:\n",
    "    # arcgis can't change capitalization ... a hacky workaround\n",
    "    if new != current and new.lower() == current.lower():\n",
    "        arcpy.management.AlterField(working_layer, current, current + \"1\")\n",
    "        current = current + \"1\"\n",
    "    arcpy.management.AlterField(working_layer, current, new, alias)"
   ]
  },
  {
   "cell_type": "code",
   "execution_count": null,
   "metadata": {},
   "outputs": [],
   "source": []
  }
 ],
 "metadata": {
  "kernelspec": {
   "display_name": "ArcGISPro",
   "language": "Python",
   "name": "python3"
  },
  "language_info": {
   "file_extension": ".py",
   "name": "python",
   "version": "3"
  }
 },
 "nbformat": 4,
 "nbformat_minor": 2
}
