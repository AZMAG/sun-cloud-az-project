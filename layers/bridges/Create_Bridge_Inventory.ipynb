{
 "cells": [
  {
   "cell_type": "markdown",
   "metadata": {
    "pycharm": {
     "name": "#%% md\n"
    }
   },
   "source": [
    "###  Sun Cloud Bridge Condition"
   ]
  },
  {
   "cell_type": "markdown",
   "metadata": {
    "collapsed": false,
    "pycharm": {
     "name": "#%% md\n"
    }
   },
   "source": [
    "Define workspace and project directory."
   ]
  },
  {
   "cell_type": "code",
   "execution_count": null,
   "metadata": {
    "collapsed": false,
    "pycharm": {
     "name": "#%%\n"
    }
   },
   "outputs": [],
   "source": [
    "import arcpy\n",
    "import os\n",
    "from pathlib import Path\n",
    "\n",
    "path = os.getcwd()\n",
    "db = os.path.join(path, \"Data\", \"suncloud_bridge.gdb\")\n",
    "arcpy.env.workspace = db\n",
    "arcpy.Describe(db)\n"
   ]
  },
  {
   "cell_type": "markdown",
   "metadata": {
    "collapsed": false,
    "pycharm": {
     "name": "#%% md\n"
    }
   },
   "source": [
    "Download the current year's NBI data and save as xlsx file. "
   ]
  },
  {
   "cell_type": "code",
   "execution_count": null,
   "metadata": {
    "collapsed": false,
    "pycharm": {
     "name": "#%%\n"
    }
   },
   "outputs": [],
   "source": [
    "import pandas as pd\n",
    "import arcpy\n",
    "from urllib.parse import urlparse\n",
    "\n",
    "\n",
    "# url for the NBI data.  Change this to the current year's URL.\n",
    "url = 'https://www.fhwa.dot.gov/bridge/nbi/2022/delimited/AZ22.txt'\n",
    "\n",
    "# get the filename\n",
    "a = urlparse(url)\n",
    "file_name = os.path.basename(a.path).split('.')[0]\n",
    "file_name\n",
    "\n"
   ]
  },
  {
   "cell_type": "code",
   "execution_count": null,
   "metadata": {
    "collapsed": false,
    "pycharm": {
     "name": "#%%\n"
    }
   },
   "outputs": [],
   "source": [
    "# save the data to \"Data\" folder as xlsx file. \n",
    "data_dir = os.path.join(path, \"Data\")\n",
    "download_excel = \"{0}.xlsx\".format(file_name)\n",
    "out = os.path.join(data_dir, download_excel)\n",
    "\n",
    "\n",
    "read_file = pd.read_csv(url)\n",
    "read_file.to_excel (out, index=None)"
   ]
  },
  {
   "cell_type": "markdown",
   "metadata": {
    "collapsed": false,
    "pycharm": {
     "name": "#%% md\n"
    }
   },
   "source": [
    "Covert the Excel sheet into a file geodatabase table. "
   ]
  },
  {
   "cell_type": "code",
   "execution_count": null,
   "metadata": {
    "collapsed": false,
    "pycharm": {
     "name": "#%%\n"
    }
   },
   "outputs": [],
   "source": [
    "excel_path = out\n",
    "converted_tb = \"{}_tb\".format(file_name) # name of the converted table\n",
    "arcpy.conversion.ExcelToTable(excel_path, converted_tb, \"Sheet1\", 1, \"\")"
   ]
  },
  {
   "cell_type": "markdown",
   "metadata": {
    "collapsed": false,
    "pycharm": {
     "name": "#%% md\n"
    }
   },
   "source": [
    "Add LAT and LON fields.  "
   ]
  },
  {
   "cell_type": "code",
   "execution_count": null,
   "metadata": {
    "collapsed": false,
    "pycharm": {
     "name": "#%%\n"
    }
   },
   "outputs": [],
   "source": [
    "# convert lat & lon into DMS coordinates\n",
    "converted_tb = 'AZ22_tb'\n",
    "codeblock = \"\"\"\n",
    "def to_lon(x):\n",
    "    x = str(x)\n",
    "    return('-' + x[0:3] + ' ' + x[3:5] + ' ' + x[5:7] + '.' + x[7:9])\n",
    "    \n",
    "def to_lat(x):\n",
    "    x = str(x)\n",
    "    return(x[0:2] + ' ' + x[2:4] + ' ' + x[4:6] + '.' + x[6:8])\"\"\"\n",
    "\n",
    "arcpy.management.CalculateField(converted_tb, \"LAT\", \"to_lat(!LAT_016!)\", \"PYTHON3\", codeblock, \"TEXT\", \"NO_ENFORCE_DOMAINS\")\n",
    "arcpy.management.CalculateField(converted_tb, \"LON\", \"to_lon(!LONG_017!)\", \"PYTHON3\", codeblock, \"TEXT\", \"NO_ENFORCE_DOMAINS\")"
   ]
  },
  {
   "cell_type": "markdown",
   "metadata": {
    "collapsed": false,
    "pycharm": {
     "name": "#%% md\n"
    }
   },
   "source": [
    "Convert the table to a feature class"
   ]
  },
  {
   "cell_type": "code",
   "execution_count": null,
   "metadata": {
    "collapsed": false,
    "pycharm": {
     "name": "#%%\n"
    }
   },
   "outputs": [],
   "source": [
    "# using the LAT and LON fields, conver the table to a feature class. \n",
    "\n",
    "spatial_ref = arcpy.SpatialReference('WGS 1984')\n",
    "bridge_fc = \"{0}_fc\".format(file_name)\n",
    "out_fc = \"{0}\\{1}\".format(db, bridge_fc)\n",
    "\n",
    "with arcpy.EnvManager(scratchWorkspace=db,\n",
    "                      workspace=db):\n",
    "    arcpy.management.ConvertCoordinateNotation(\n",
    "        in_table = converted_tb, \n",
    "        out_featureclass = out_fc, \n",
    "        x_field = \"LON\", \n",
    "        y_field = \"LAT\", \n",
    "        input_coordinate_format=\"DMS_2\",\n",
    "        output_coordinate_format=\"DD_2\",\n",
    "        spatial_reference=spatial_ref)"
   ]
  },
  {
   "cell_type": "markdown",
   "metadata": {
    "collapsed": false,
    "pycharm": {
     "name": "#%% md\n"
    }
   },
   "source": [
    "Clean up brige's text fields. \n",
    "- Strip white space.\n",
    "- Remove quotation mark."
   ]
  },
  {
   "cell_type": "code",
   "execution_count": null,
   "metadata": {
    "collapsed": false,
    "pycharm": {
     "name": "#%%\n"
    }
   },
   "outputs": [],
   "source": [
    "\n",
    "fieldlist=[i.name for i in arcpy.ListFields(bridge_fc) if i.type=='String']\n",
    "with arcpy.da.UpdateCursor(bridge_fc, fieldlist) as cursor:\n",
    "    for row in cursor:\n",
    "        row=[i.strip() if i is not None else None for i in row]\n",
    "        row=[i.replace(\"'\", \"\") if i is not None else None for i in row]\n",
    "        cursor.updateRow(row)"
   ]
  },
  {
   "cell_type": "markdown",
   "metadata": {},
   "source": [
    "Project the layer."
   ]
  },
  {
   "cell_type": "code",
   "execution_count": null,
   "metadata": {},
   "outputs": [],
   "source": [
    "def project(in_data, target_sr, out_name):\n",
    "\n",
    "\n",
    "    in_sr = arcpy.Describe(in_data).spatialReference\n",
    "\n",
    "    tr = arcpy.ListTransformations (in_sr, target_sr)\n",
    "    datum_conversion = ''\n",
    "    if(len(tr)>0):\n",
    "        datum_conversion = arcpy.ListTransformations (in_sr, target_sr)[0]\n",
    "\n",
    "    arcpy.Project_management(\n",
    "        in_dataset = in_data, \n",
    "        out_dataset = out_name,\n",
    "        out_coor_system = target_sr,\n",
    "        transform_method = datum_conversion)"
   ]
  },
  {
   "cell_type": "code",
   "execution_count": null,
   "metadata": {},
   "outputs": [],
   "source": [
    "target_sr = arcpy.SpatialReference(2223)\n",
    "project('AZ22_fc', target_sr, 'sun_cloud_bridge_all')"
   ]
  },
  {
   "cell_type": "markdown",
   "metadata": {
    "collapsed": false,
    "pycharm": {
     "name": "#%% md\n"
    }
   },
   "source": [
    "Align the bridge to Sun Cloud road network.\n",
    "- Snap bridges to the Sun Cloud road network for scoring purpose.\n"
   ]
  },
  {
   "cell_type": "markdown",
   "metadata": {
    "collapsed": false,
    "pycharm": {
     "name": "#%% md\n"
    }
   },
   "source": [
    "Snap to SC routes w/ 20 meters search distance."
   ]
  },
  {
   "cell_type": "code",
   "execution_count": null,
   "metadata": {},
   "outputs": [],
   "source": [
    "from arcgis.gis import GIS\n",
    "from arcgis.features import FeatureLayer\n",
    "gis = GIS('pro')\n",
    "\n",
    "# save hosted feature layer to db\n",
    "def save_fl(db, url, outname):\n",
    "    fl = FeatureLayer(url)\n",
    "    featureset = fl.query()\n",
    "    featureset.save(db, outname)"
   ]
  },
  {
   "cell_type": "code",
   "execution_count": null,
   "metadata": {},
   "outputs": [],
   "source": [
    "route_url = 'https://services6.arcgis.com/clPWQMwZfdWn4MQZ/arcgis/rest/services/Sun_Cloud_Routes/FeatureServer/92'\n",
    "out_name = 'sun_cloud_routes'\n",
    "save_fl(db, route_url, out_name)"
   ]
  },
  {
   "cell_type": "code",
   "execution_count": null,
   "metadata": {},
   "outputs": [],
   "source": [
    "# backup bridge before snapping\n",
    "fc = 'sun_cloud_bridge_all'\n",
    "arcpy.ExportFeatures_conversion(fc, '{}_backup'.format(fc))"
   ]
  },
  {
   "cell_type": "code",
   "execution_count": null,
   "metadata": {
    "collapsed": false,
    "pycharm": {
     "name": "#%%\n"
    }
   },
   "outputs": [],
   "source": [
    "road_network = \"sun_cloud_routes\" # name of the route layer\n",
    "snap_config=[road_network, \"Edge\", \"25 Meter\"]\n",
    "arcpy.edit.Snap(fc, [snap_config])"
   ]
  },
  {
   "cell_type": "markdown",
   "metadata": {},
   "source": [
    "Add type field and attribute culvert or bridge"
   ]
  },
  {
   "cell_type": "code",
   "execution_count": null,
   "metadata": {},
   "outputs": [],
   "source": [
    "arcpy.AddField_management(fc, 'type', 'TEXT')"
   ]
  },
  {
   "cell_type": "code",
   "execution_count": null,
   "metadata": {},
   "outputs": [],
   "source": [
    "# Calculate the total fields.\n",
    "sql = \"CULVERT_COND_062 = 'N'\"\n",
    "selected = arcpy.SelectLayerByAttribute_management(fc, 'NEW_SELECTION', sql)\n",
    "\n",
    "print(arcpy.GetCount_management(selected)[0])\n",
    "arcpy.management.CalculateField(\n",
    "    in_table =selected,\n",
    "    field=\"type\",\n",
    "    expression=\"'Bridge'\",\n",
    "    expression_type=\"PYTHON3\",\n",
    "    code_block=\"\",\n",
    "    field_type=\"TEXT\",\n",
    "    enforce_domains=\"NO_ENFORCE_DOMAINS\"\n",
    ")\n",
    "\n",
    "\n",
    "sql = \"CULVERT_COND_062 <> 'N'\"\n",
    "selected = arcpy.SelectLayerByAttribute_management(fc, 'NEW_SELECTION', sql)\n",
    "\n",
    "print(arcpy.GetCount_management(selected)[0])\n",
    "arcpy.management.CalculateField(\n",
    "    in_table =selected,\n",
    "    field=\"type\",\n",
    "    expression=\"'Culvert'\",\n",
    "    expression_type=\"PYTHON3\",\n",
    "    code_block=\"\",\n",
    "    field_type=\"TEXT\",\n",
    "    enforce_domains=\"NO_ENFORCE_DOMAINS\"\n",
    ")"
   ]
  },
  {
   "cell_type": "markdown",
   "metadata": {},
   "source": [
    "Decode ownner/maintenance responsibility\n",
    "\n",
    "MAINTENANCE_021\n",
    "OWNER_022"
   ]
  },
  {
   "cell_type": "code",
   "execution_count": null,
   "metadata": {},
   "outputs": [],
   "source": [
    "code_desc = {\n",
    "1 :'State Highway Agency',\n",
    "2 :'County Highway Agency',\n",
    "3 :'Town or Township Highway Agency',\n",
    "4 :'City or Municipal Highway Agency',\n",
    "11:'State Park, Forest, or Reservation Agency',\n",
    "12:'Local Park, Forest, or Reservation Agency',\n",
    "21:'Other State Agencies',\n",
    "25:'Other Local Agencies',\n",
    "26:'Private (other than railroad)',\n",
    "27:'Railroad 31 State Toll Authority',\n",
    "32:'Local Toll Authority',\n",
    "60:'Other Federal Agencies (not listed below)',\n",
    "61:'Indian Tribal Government',\n",
    "62:'Bureau of Indian Affairs',\n",
    "63:'Bureau of Fish and Wildlife',\n",
    "64:'U.S. Forest Service',\n",
    "66:'National Park Service',\n",
    "67:'Tennessee Valley Authority',\n",
    "68:'Bureau of Land Management',\n",
    "69:'Bureau of Reclamation',\n",
    "70:'Corps of Engineers (Civil)',\n",
    "71:'Corps of Engineers (Military)',\n",
    "72:'Air Force',\n",
    "73:'Navy/Marines',\n",
    "74:'Army',\n",
    "75:'NASA',\n",
    "76:'Metropolitan Washington Airports Service',\n",
    "80:'Unknown',\n",
    "99:'Miscoded data'}\n",
    "\n",
    "custom_code = \"\"\"\n",
    "def get_desc(val):\n",
    "    return code_desc[val]\n",
    "\"\"\""
   ]
  },
  {
   "cell_type": "code",
   "execution_count": null,
   "metadata": {},
   "outputs": [],
   "source": [
    "# copy over values to the temp field\n",
    "fc = 'sun_cloud_bridge_all'\n",
    "fields = [['_MAINTENANCE_021','TEXT'],['_OWNER_022','TEXT']]\n",
    "for f in fields:\n",
    "    _f = f[0]\n",
    "    print(_f[1:])\n",
    "    arcpy.management.CalculateField(\n",
    "        in_table=fc,\n",
    "        field=_f,\n",
    "        expression=\"get_desc(!{}!)\".format(_f[1:]),\n",
    "        expression_type=\"PYTHON3\",\n",
    "        code_block= custom_code,\n",
    "        field_type=\"TEXT\"\n",
    "    )"
   ]
  },
  {
   "cell_type": "markdown",
   "metadata": {
    "collapsed": false,
    "pycharm": {
     "name": "#%% md\n"
    }
   },
   "source": [
    "<!-- Calculate minimum structure rating.  (identical to the LOWEST_RATING) -->"
   ]
  },
  {
   "cell_type": "code",
   "execution_count": null,
   "metadata": {
    "collapsed": false,
    "pycharm": {
     "name": "#%%\n"
    }
   },
   "outputs": [],
   "source": [
    "# # lowest bridge condtion\n",
    "\n",
    "# fc = 'sun_cloud_bridge_all'\n",
    "# min_rating = \"min(!DECK_COND_058!,!SUPERSTRUCTURE_COND_059!, !SUBSTRUCTURE_COND_060!, !CULVERT_COND_062!)\"\n",
    "# arcpy.management.CalculateField(\n",
    "#     in_table=fc, \n",
    "#     field=\"val_bser\", \n",
    "#     expression=min_rating,\n",
    "#     expression_type=\"PYTHON3\",\n",
    "#     field_type='LONG')\n",
    "# field_names = [f.name for f in arcpy.ListFields(fc)]"
   ]
  },
  {
   "cell_type": "code",
   "execution_count": null,
   "metadata": {},
   "outputs": [],
   "source": [
    "# check the current field names\n",
    "field_names = [f.name for f in arcpy.ListFields(fc)]\n",
    "field_names"
   ]
  },
  {
   "cell_type": "code",
   "execution_count": null,
   "metadata": {
    "collapsed": false,
    "pycharm": {
     "name": "#%%\n"
    }
   },
   "outputs": [],
   "source": [
    "bridge = 'sun_cloud_bridge_all'    \n",
    "current_fields = [f.name for f in arcpy.ListFields(bridge) if f.required == False]\n",
    "# print(current_fields)\n",
    "\n",
    "target_fields = {\n",
    "\t'structure_number_008': \"Structure Number\",\n",
    "\t'_maintenance_021': \"Maintenance Responsibility\",\n",
    "\t'_owner_022': \"Owner\",\n",
    "\t'structure_len_mt_049': \"Structure Length\",\n",
    "\t'deck_width_mt_052': \"Deck Width\",\n",
    "\t'deck_cond_058': \"Deck Condition Rating\",\n",
    "\t'superstructure_cond_059': \"Superstructure Condition Rating\",\n",
    "\t'substructure_cond_060': \"Substructure Condition Rating\",\n",
    "\t'culvert_cond_062': \"Culvert Condition Rating\",\n",
    "\t'structural_eval_067': \"Structural Evaluation Rating\",\n",
    "\t'deck_geometry_eval_068': \"Deck Geometry Evaluation Rating\",\n",
    "    'bridge_condition':\"Bridge Condition\",\n",
    "    'lowest_rating':\"Lowest Rating\",\n",
    "\t'type':\"Type\"\n",
    "}\n",
    "\n",
    "# delete unused fields\n",
    "delete_fields = [field for field in current_fields if not field.lower() in target_fields.keys()]\n",
    "print(delete_fields)\n",
    "arcpy.management.DeleteField(bridge, delete_fields)\n"
   ]
  },
  {
   "cell_type": "code",
   "execution_count": null,
   "metadata": {},
   "outputs": [],
   "source": [
    "field_names = [f.name for f in arcpy.ListFields(fc)]\n",
    "field_names"
   ]
  },
  {
   "cell_type": "markdown",
   "metadata": {},
   "source": [
    "Covert text fields to numeric, where applicable.  This involves replacing value 'N' to None."
   ]
  },
  {
   "cell_type": "code",
   "execution_count": null,
   "metadata": {},
   "outputs": [],
   "source": [
    "number_fields = [\n",
    "    'DECK_COND_058',\n",
    "    'SUPERSTRUCTURE_COND_059',\n",
    "    'SUBSTRUCTURE_COND_060',\n",
    "    'CULVERT_COND_062',\n",
    "    'STRUCTURAL_EVAL_067',\n",
    "    'DECK_GEOMETRY_EVAL_068'\n",
    "    ]"
   ]
  },
  {
   "cell_type": "code",
   "execution_count": null,
   "metadata": {},
   "outputs": [],
   "source": [
    "custom_code=\"\"\"\n",
    "def attribute(val):\n",
    "    if val.isnumeric() == True:\n",
    "        return val\n",
    "\"\"\"\n",
    "for f in number_fields:\n",
    "    temp = '_{}'.format(f)\n",
    "    print (temp)\n",
    "    arcpy.AddField_management(fc, temp, 'LONG')\n",
    "    arcpy.management.CalculateField(\n",
    "    in_table=fc,\n",
    "    field=temp,\n",
    "    expression=\"attribute(!{}!)\".format(f),\n",
    "    expression_type=\"PYTHON3\",\n",
    "    code_block= custom_code,\n",
    "    enforce_domains=\"NO_ENFORCE_DOMAINS\"\n",
    ")\n",
    "\n"
   ]
  },
  {
   "cell_type": "code",
   "execution_count": null,
   "metadata": {},
   "outputs": [],
   "source": [
    "for f in number_fields:\n",
    "    arcpy.management.DeleteField(fc, f)"
   ]
  },
  {
   "cell_type": "markdown",
   "metadata": {},
   "source": [
    "Change field names to lower case."
   ]
  },
  {
   "cell_type": "code",
   "execution_count": null,
   "metadata": {},
   "outputs": [],
   "source": [
    "current_fields = [f.name for f in arcpy.ListFields(bridge) if f.required == False]\n",
    "\n",
    "for f in current_fields:\n",
    "    if f[0]!='_':\n",
    "        print(f)\n",
    "        arcpy.AlterField_management(fc, f, '_{}'.format(f))\n",
    "\n",
    "\n",
    "current_fields = [f.name for f in arcpy.ListFields(bridge) if f.required == False]\n",
    "current_fields"
   ]
  },
  {
   "cell_type": "code",
   "execution_count": null,
   "metadata": {},
   "outputs": [],
   "source": [
    "target_fields = {\n",
    "\t'_structure_number_008': \"Structure Number\",\n",
    "\t'_maintenance_021': \"Maintenance Responsibility\",\n",
    "\t'_owner_022': \"Owner\",\n",
    "\t'_structure_len_mt_049': \"Structure Length\",\n",
    "\t'_deck_width_mt_052': \"Deck Width\",\n",
    "\t'_deck_cond_058': \"Deck Condition Rating\",\n",
    "\t'_superstructure_cond_059': \"Superstructure Condition Rating\",\n",
    "\t'_substructure_cond_060': \"Substructure Condition Rating\",\n",
    "\t'_culvert_cond_062': \"Culvert Condition Rating\",\n",
    "\t'_structural_eval_067': \"Structural Evaluation Rating\",\n",
    "\t'_deck_geometry_eval_068': \"Deck Geometry Evaluation Rating\",\n",
    "    '_bridge_condition':\"Bridge Condition\",\n",
    "    '_lowest_rating':\"Lowest Rating\",\n",
    "\t'_type':\"Structure Type\"\n",
    "}\n",
    "\n",
    "for item in target_fields:\n",
    "    new = (item[1:])\n",
    "    alias = (target_fields[item])\n",
    "    arcpy.management.AlterField(fc, item, new, alias)"
   ]
  }
 ],
 "metadata": {
  "kernelspec": {
   "display_name": "ArcGISPro",
   "language": "Python",
   "name": "python3"
  },
  "language_info": {
   "codemirror_mode": {
    "name": "ipython",
    "version": 3
   },
   "file_extension": ".py",
   "mimetype": "text/x-python",
   "name": "python",
   "nbconvert_exporter": "python",
   "pygments_lexer": "ipython3",
   "version": "3.9.16"
  },
  "vscode": {
   "interpreter": {
    "hash": "ce21b655b4d6c9e397d5ad93d5666c623f49909f6d0cc2f72076dafcf1b3ecfb"
   }
  }
 },
 "nbformat": 4,
 "nbformat_minor": 2
}
