{
 "cells": [
  {
   "cell_type": "code",
   "execution_count": 1,
   "metadata": {},
   "outputs": [],
   "source": [
    "import arcpy\n",
    "import os"
   ]
  },
  {
   "cell_type": "code",
   "execution_count": 2,
   "metadata": {},
   "outputs": [],
   "source": [
    "arcpy.env.workspace\n",
    "arcpy.env.overwriteOutput = True "
   ]
  },
  {
   "cell_type": "markdown",
   "metadata": {},
   "source": [
    "## Add the Sun Cloud Boundary/Counties ('SunCloud')"
   ]
  },
  {
   "cell_type": "code",
   "execution_count": 3,
   "metadata": {
    "scrolled": true
   },
   "outputs": [
    {
     "data": {
      "text/html": [
       "<div class='gpresult'><h2>Messages</h2><div id='messages' data-messages='[\"Start Time: Monday, January 16, 2023 2:23:10 PM\",\"Succeeded at Monday, January 16, 2023 2:23:11 PM (Elapsed Time: 0.90 seconds)\"]' data-show='true'><div id = 'default' /></div></div>"
      ],
      "text/plain": [
       "<Result 'C:\\\\Users\\\\YousefDana\\\\Documents\\\\git\\\\sun_cloud\\\\layers\\\\Junctions\\\\SunCloud.shp'>"
      ]
     },
     "execution_count": 3,
     "metadata": {},
     "output_type": "execute_result"
    }
   ],
   "source": [
    "inFeatures = 'https://services3.arcgis.com/gjVvdAtTsjMYfRZ8/arcgis/rest/services/Sun_Cloud_Counties/FeatureServer/6'\n",
    "outLocation = r'C:\\Users\\YousefDana\\Documents\\git\\sun_cloud\\layers\\Junctions'\n",
    "outFeatureClass = \"SunCloud\"\n",
    "\n",
    "arcpy.FeatureClassToFeatureClass_conversion(inFeatures, outLocation, \n",
    "                                            outFeatureClass)"
   ]
  },
  {
   "cell_type": "markdown",
   "metadata": {},
   "source": [
    "## Add Routes ('sun_cloud_routes')"
   ]
  },
  {
   "cell_type": "code",
   "execution_count": 6,
   "metadata": {},
   "outputs": [
    {
     "data": {
      "text/html": [
       "<div class='gpresult'><h2>Messages</h2><div id='messages' data-messages='[\"Start Time: Monday, January 16, 2023 2:26:31 PM\",\"Succeeded at Monday, January 16, 2023 2:26:41 PM (Elapsed Time: 9.18 seconds)\"]' data-show='true'><div id = 'default' /></div></div>"
      ],
      "text/plain": [
       "<Result 'C:\\\\Users\\\\YousefDana\\\\Documents\\\\git\\\\sun_cloud\\\\layers\\\\Junctions\\\\sun_cloud_routes.shp'>"
      ]
     },
     "execution_count": 6,
     "metadata": {},
     "output_type": "execute_result"
    }
   ],
   "source": [
    "inFeatures = 'https://services6.arcgis.com/clPWQMwZfdWn4MQZ/arcgis/rest/services/Sun_Cloud_Routes/FeatureServer/6'\n",
    "outLocation = r'C:\\Users\\YousefDana\\Documents\\git\\sun_cloud\\layers\\Junctions'\n",
    "outFeatureClass = 'sun_cloud_routes'\n",
    "\n",
    "arcpy.FeatureClassToFeatureClass_conversion(inFeatures, outLocation, \n",
    "                                            outFeatureClass)"
   ]
  },
  {
   "cell_type": "markdown",
   "metadata": {},
   "source": [
    "## Add Junctions ('Junctions')"
   ]
  },
  {
   "cell_type": "code",
   "execution_count": 16,
   "metadata": {},
   "outputs": [
    {
     "data": {
      "text/html": [
       "<div class='gpresult'><h2>Messages</h2><div id='messages' data-messages='[\"Start Time: Tuesday, January 17, 2023 2:10:18 PM\",\"Succeeded at Tuesday, January 17, 2023 2:13:51 PM (Elapsed Time: 3 minutes 33 seconds)\"]' data-show='true'><div id = 'default' /></div></div>"
      ],
      "text/plain": [
       "<Result 'C:\\\\Users\\\\YousefDana\\\\Documents\\\\git\\\\sun_cloud\\\\layers\\\\Junctions\\\\Junctions_orig.shp'>"
      ]
     },
     "execution_count": 16,
     "metadata": {},
     "output_type": "execute_result"
    }
   ],
   "source": [
    "inFeatures = 'https://services6.arcgis.com/clPWQMwZfdWn4MQZ/arcgis/rest/services/Arizona_Highway_Performance_Monitoring_System_2020_Data_/FeatureServer/0'\n",
    "outLocation = r'C:\\Users\\YousefDana\\Documents\\git\\sun_cloud\\layers\\Junctions'\n",
    "outFeatureClass = \"Junctions_orig\"\n",
    "\n",
    "arcpy.FeatureClassToFeatureClass_conversion(inFeatures, outLocation, \n",
    "                                            outFeatureClass)"
   ]
  },
  {
   "cell_type": "markdown",
   "metadata": {},
   "source": [
    "## Add Segments Layer ('Major_Intersections')"
   ]
  },
  {
   "cell_type": "code",
   "execution_count": 29,
   "metadata": {},
   "outputs": [
    {
     "name": "stdout",
     "output_type": "stream",
     "text": [
      "0\n"
     ]
    },
    {
     "data": {
      "text/html": [
       "<div class='gpresult'><h2>Messages</h2><div id='messages' data-messages='[\"Start Time: Monday, January 16, 2023 4:01:38 PM\",\"WARNING 000117: Warning empty output generated.\",\"Succeeded at Monday, January 16, 2023 4:01:40 PM (Elapsed Time: 1.25 seconds)\"]' data-show='true'><div id = 'default' /></div></div>"
      ],
      "text/plain": [
       "<Result 'C:\\\\Users\\\\YousefDana\\\\Documents\\\\git\\\\sun_cloud\\\\layers\\\\Safety\\\\Safety.gdb\\\\major_intersec_single'>"
      ]
     },
     "execution_count": 29,
     "metadata": {},
     "output_type": "execute_result"
    }
   ],
   "source": [
    "# Find major junctions depending on intersection of major routes\n",
    "arcpy.conversion.ExportFeatures(\"sun_cloud_routes\", \"sun_cloud_routes_backup\")\n",
    "route_raw = 'sun_cloud_routes'\n",
    "sql = \"\"\"functional >= 1 And functional <= 7 Or functional >= 11 And functional <= 17\"\"\"\n",
    "selected = arcpy.SelectLayerByAttribute_management(route_raw, \"NEW_SELECTION\", sql, \"INVERT\")\n",
    "count = int(arcpy.GetCount_management(selected)[0])\n",
    "print (count)\n",
    "\n",
    "if count > 0:\n",
    "    arcpy.DeleteFeatures_management(selected)\n",
    "    \n",
    "# Find the real intersections. \n",
    "# Reference: unsplit the original route to find the real intersections \n",
    "# (https://support.esri.com/en/technical-article/000025044)\n",
    "arcpy.management.UnsplitLine(route_raw, \n",
    "                             r\"C:\\Users\\YousefDana\\Documents\\git\\sun_cloud\\layers\\Safety\\Safety.gdb\\unsplit_route\", \n",
    "                             None, None, '')\n",
    "# Run the Intersect tool to create points at interaction\n",
    "arcpy.analysis.Intersect(\"unsplit_route\", \"major_intersection\", \"ALL\", None, \"POINT\")\n",
    "arcpy.management.MultipartToSinglepart('major_intersection', 'Major_Intersections')\n"
   ]
  },
  {
   "cell_type": "markdown",
   "metadata": {},
   "source": [
    "## Clip Junctions by Sun Cloud Boundary ('Junctions_SunCloud_Clip')"
   ]
  },
  {
   "cell_type": "code",
   "execution_count": 16,
   "metadata": {},
   "outputs": [
    {
     "data": {
      "text/html": [
       "<div class='gpresult'><h2>Messages</h2><div id='messages' data-messages='[\"Start Time: Monday, January 16, 2023 2:41:14 PM\",\"Analyzing input features...\",\"Dissolving clip features...\",\"Clipping input features...\",\"Succeeded at Monday, January 16, 2023 2:41:22 PM (Elapsed Time: 7.98 seconds)\"]' data-show='true'><div id = 'default' /></div></div>"
      ],
      "text/plain": [
       "<Result 'C:\\\\Users\\\\YousefDana\\\\Documents\\\\git\\\\sun_cloud\\\\layers\\\\Junctions\\\\Junctions.gdb\\\\Junctions_SunCloud_Clip'>"
      ]
     },
     "execution_count": 16,
     "metadata": {},
     "output_type": "execute_result"
    }
   ],
   "source": [
    "arcpy.analysis.Clip(\"Junctions\", \n",
    "                    \"SunCloud\", \n",
    "                    r\"C:\\Users\\YousefDana\\Documents\\git\\sun_cloud\\layers\\Junctions\\Junctions.gdb\\Junctions_SunCloud_Clip\", \n",
    "                    None)\n"
   ]
  },
  {
   "cell_type": "code",
   "execution_count": 1,
   "metadata": {},
   "outputs": [],
   "source": [
    "## Filter Junctions"
   ]
  },
  {
   "cell_type": "code",
   "execution_count": 11,
   "metadata": {
    "scrolled": true
   },
   "outputs": [
    {
     "data": {
      "text/html": [
       "<div class='gpresult'><h2>Messages</h2><div id='messages' data-messages='[\"Start Time: Tuesday, January 17, 2023 2:06:32 PM\",\"Succeeded at Tuesday, January 17, 2023 2:06:35 PM (Elapsed Time: 3.00 seconds)\"]' data-show='true'><div id = 'default' /></div></div>"
      ],
      "text/plain": [
       "<Result 'C:\\\\Users\\\\YousefDana\\\\Documents\\\\git\\\\sun_cloud\\\\layers\\\\Junctions\\\\Junctions.gdb\\\\Junctions_SunCloud_Select'>"
      ]
     },
     "execution_count": 11,
     "metadata": {},
     "output_type": "execute_result"
    }
   ],
   "source": [
    "# Select Layer by Attribute and Narrow Down to Desired Junctions\n",
    "arcpy.management.SelectLayerByAttribute(\"Junctions_SunCloud_Clip\", \n",
    "                                        \"NEW_SELECTION\", \n",
    "                                        \"JunctionGe IN (0, 1, 2, 3, 4, 5) And JunctionsS = 'J' And (TrafficCon IN (4, 5, 6, 7) Or (TrafficCon IN (92, 94) And Signalizat < 5))\", \n",
    "                                        None)\n",
    "\n",
    "# Export the Selected Features to a New Feature Class ('Junctions_SunCloud_Select')\n",
    "arcpy.conversion.FeatureClassToFeatureClass(\"Junctions_SunCloud_Clip\", \n",
    "                                            r\"C:\\Users\\YousefDana\\Documents\\git\\sun_cloud\\layers\\Junctions\\Junctions.gdb\", \n",
    "                                            \"Junctions_SunCloud_Select\", \n",
    "                                            '', \n",
    "                                            'FromDate \"FromDate\" true true false 8 Date 0 0,First,#,Junctions_SunCloud,FromDate,-1,-1;ToDate \"ToDate\" true true false 8 Date 0 0,First,#,Junctions_SunCloud,ToDate,-1,-1;RouteID \"RouteID\" true true false 32 Text 0 0,First,#,Junctions_SunCloud,RouteID,0,32;Measure \"Measure\" true true false 8 Double 0 0,First,#,Junctions_SunCloud,Measure,-1,-1;MasterJunc \"MasterJunc\" true true false 38 Text 0 0,First,#,Junctions_SunCloud,MasterJunc,0,38;NumberOfLe \"NumberOfLe\" true true false 4 Long 0 0,First,#,Junctions_SunCloud,NumberOfLe,-1,-1;JunctionGe \"JunctionGe\" true true false 4 Long 0 0,First,#,Junctions_SunCloud,JunctionGe,-1,-1;JunctionsS \"JunctionsS\" true true false 2 Text 0 0,First,#,Junctions_SunCloud,JunctionsS,0,2;TrafficCon \"TrafficCon\" true true false 4 Long 0 0,First,#,Junctions_SunCloud,TrafficCon,-1,-1;TurnCode \"TurnCode\" true true false 10 Text 0 0,First,#,Junctions_SunCloud,TurnCode,0,10;Detection \"Detection\" true true false 4 Long 0 0,First,#,Junctions_SunCloud,Detection,-1,-1;Signalizat \"Signalizat\" true true false 4 Long 0 0,First,#,Junctions_SunCloud,Signalizat,-1,-1;RailCrossi \"RailCrossi\" true true false 7 Text 0 0,First,#,Junctions_SunCloud,RailCrossi,0,7;SchoolZone \"SchoolZone\" true true false 4 Long 0 0,First,#,Junctions_SunCloud,SchoolZone,-1,-1;BicycleFac \"BicycleFac\" true true false 4 Long 0 0,First,#,Junctions_SunCloud,BicycleFac,-1,-1;Crosswalk \"Crosswalk\" true true false 4 Long 0 0,First,#,Junctions_SunCloud,Crosswalk,-1,-1;PctGreenTi \"PctGreenTi\" true true false 4 Long 0 0,First,#,Junctions_SunCloud,PctGreenTi,-1,-1;PctGreen_1 \"PctGreen_1\" true true false 4 Long 0 0,First,#,Junctions_SunCloud,PctGreen_1,-1,-1;SourceID \"SourceID\" true true false 4 Long 0 0,First,#,Junctions_SunCloud,SourceID,-1,-1;JunctionMa \"JunctionMa\" true true false 4 Long 0 0,First,#,Junctions_SunCloud,JunctionMa,-1,-1;JunctionTy \"JunctionTy\" true true false 4 Long 0 0,First,#,Junctions_SunCloud,JunctionTy,-1,-1;OffsetInte \"OffsetInte\" true true false 1 Text 0 0,First,#,Junctions_SunCloud,OffsetInte,0,1;OffsetIn_1 \"OffsetIn_1\" true true false 8 Double 0 0,First,#,Junctions_SunCloud,OffsetIn_1,-1,-1;InServiceD \"InServiceD\" true true false 8 Date 0 0,First,#,Junctions_SunCloud,InServiceD,-1,-1', \n",
    "                                            '')"
   ]
  },
  {
   "cell_type": "markdown",
   "metadata": {},
   "source": [
    "## Intersect Junctions_SunCloud_Select with Routes ('Sun_Cloud_Junctions')"
   ]
  },
  {
   "cell_type": "code",
   "execution_count": 12,
   "metadata": {},
   "outputs": [
    {
     "data": {
      "text/html": [
       "<div class='gpresult'><h2>Messages</h2><div id='messages' data-messages='[\"Start Time: Tuesday, January 17, 2023 2:06:39 PM\",\"Intersecting with layer Junctions_SunCloud_Select...\",\"Succeeded at Tuesday, January 17, 2023 2:06:44 PM (Elapsed Time: 5.28 seconds)\"]' data-show='true'><div id = 'default' /></div></div>"
      ],
      "text/plain": [
       "<Result 'C:\\\\Users\\\\YousefDana\\\\Documents\\\\git\\\\sun_cloud\\\\layers\\\\Junctions\\\\Junctions.gdb\\\\Sun_Cloud_Junctions'>"
      ]
     },
     "execution_count": 12,
     "metadata": {},
     "output_type": "execute_result"
    }
   ],
   "source": [
    "arcpy.analysis.PairwiseIntersect(\"Junctions_SunCloud_Select;sun_cloud_routes\", \n",
    "                                 r\"C:\\Users\\YousefDana\\Documents\\git\\sun_cloud\\layers\\Junctions\\Junctions.gdb\\Sun_Cloud_Junctions\", \n",
    "                                 \"ALL\", \n",
    "                                 None, \n",
    "                                 \"POINT\")"
   ]
  },
  {
   "cell_type": "markdown",
   "metadata": {},
   "source": [
    "## Delete Identical Features by shape"
   ]
  },
  {
   "cell_type": "code",
   "execution_count": 13,
   "metadata": {},
   "outputs": [
    {
     "data": {
      "text/html": [
       "<div class='gpresult'><h2>Messages</h2><div id='messages' data-messages='[\"Start Time: Tuesday, January 17, 2023 2:06:47 PM\",\"33538 duplicate(s) from 14222 group(s) deleted.\",\"Succeeded at Tuesday, January 17, 2023 2:06:53 PM (Elapsed Time: 5.51 seconds)\"]' data-show='true'><div id = 'default' /></div></div>"
      ],
      "text/plain": [
       "<Result 'Sun_Cloud_Junctions'>"
      ]
     },
     "execution_count": 13,
     "metadata": {},
     "output_type": "execute_result"
    }
   ],
   "source": [
    "arcpy.management.DeleteIdentical(\"Sun_Cloud_Junctions\", \"Shape\", None, 0)"
   ]
  },
  {
   "cell_type": "markdown",
   "metadata": {},
   "source": [
    "## Select by Location"
   ]
  },
  {
   "cell_type": "code",
   "execution_count": 14,
   "metadata": {},
   "outputs": [
    {
     "data": {
      "text/html": [
       "<div class='gpresult'><h2>Messages</h2><div id='messages' data-messages='[\"Start Time: Tuesday, January 17, 2023 2:06:59 PM\",\"Succeeded at Tuesday, January 17, 2023 2:06:59 PM (Elapsed Time: 0.29 seconds)\"]' data-show='true'><div id = 'default' /></div></div>"
      ],
      "text/plain": [
       "<Result 'Sun_Cloud_Junctions'>"
      ]
     },
     "execution_count": 14,
     "metadata": {},
     "output_type": "execute_result"
    }
   ],
   "source": [
    "arcpy.management.SelectLayerByLocation(\"Sun_Cloud_Junctions\", \n",
    "                                       \"INTERSECT\", \n",
    "                                       \"major_intersections\", \n",
    "                                       \"50 Feet\", \n",
    "                                       \"NEW_SELECTION\", \n",
    "                                       \"NOT_INVERT\")"
   ]
  },
  {
   "cell_type": "markdown",
   "metadata": {},
   "source": [
    "## Export Selection to New Feature Class (Sun_Cloud_Major_Junctions)"
   ]
  },
  {
   "cell_type": "code",
   "execution_count": 15,
   "metadata": {},
   "outputs": [
    {
     "data": {
      "text/html": [
       "<div class='gpresult'><h2>Messages</h2><div id='messages' data-messages='[\"Start Time: Tuesday, January 17, 2023 2:07:10 PM\",\"Succeeded at Tuesday, January 17, 2023 2:07:11 PM (Elapsed Time: 1.52 seconds)\"]' data-show='true'><div id = 'default' /></div></div>"
      ],
      "text/plain": [
       "<Result 'C:\\\\Users\\\\YousefDana\\\\Documents\\\\git\\\\sun_cloud\\\\layers\\\\Junctions\\\\Junctions.gdb\\\\Sun_Cloud_Major_Junctions'>"
      ]
     },
     "execution_count": 15,
     "metadata": {},
     "output_type": "execute_result"
    }
   ],
   "source": [
    "arcpy.conversion.FeatureClassToFeatureClass(\"Sun_Cloud_Junctions\", \n",
    "                                            r\"C:\\Users\\YousefDana\\Documents\\git\\sun_cloud\\layers\\Junctions\\Junctions.gdb\", \n",
    "                                            \"Sun_Cloud_Major_Junctions\", \n",
    "                                            '', \n",
    "                                            'FID_Junctions_SunCloud_Select \"FID_Junctions_SunCloud_Select\" true true false 4 Long 0 0,First,#,Sun_Cloud_Junctions,FID_Junctions_SunCloud_Select,-1,-1;FromDate \"FromDate\" true true false 8 Date 0 0,First,#,Sun_Cloud_Junctions,FromDate,-1,-1;ToDate \"ToDate\" true true false 8 Date 0 0,First,#,Sun_Cloud_Junctions,ToDate,-1,-1;RouteID \"RouteID\" true true false 32 Text 0 0,First,#,Sun_Cloud_Junctions,RouteID,0,32;Measure \"Measure\" true true false 8 Double 0 0,First,#,Sun_Cloud_Junctions,Measure,-1,-1;MasterJunc \"MasterJunc\" true true false 38 Text 0 0,First,#,Sun_Cloud_Junctions,MasterJunc,0,38;NumberOfLe \"NumberOfLe\" true true false 4 Long 0 0,First,#,Sun_Cloud_Junctions,NumberOfLe,-1,-1;JunctionGe \"JunctionGe\" true true false 4 Long 0 0,First,#,Sun_Cloud_Junctions,JunctionGe,-1,-1;JunctionsS \"JunctionsS\" true true false 2 Text 0 0,First,#,Sun_Cloud_Junctions,JunctionsS,0,2;TrafficCon \"TrafficCon\" true true false 4 Long 0 0,First,#,Sun_Cloud_Junctions,TrafficCon,-1,-1;TurnCode \"TurnCode\" true true false 10 Text 0 0,First,#,Sun_Cloud_Junctions,TurnCode,0,10;Detection \"Detection\" true true false 4 Long 0 0,First,#,Sun_Cloud_Junctions,Detection,-1,-1;Signalizat \"Signalizat\" true true false 4 Long 0 0,First,#,Sun_Cloud_Junctions,Signalizat,-1,-1;RailCrossi \"RailCrossi\" true true false 7 Text 0 0,First,#,Sun_Cloud_Junctions,RailCrossi,0,7;SchoolZone \"SchoolZone\" true true false 4 Long 0 0,First,#,Sun_Cloud_Junctions,SchoolZone,-1,-1;BicycleFac \"BicycleFac\" true true false 4 Long 0 0,First,#,Sun_Cloud_Junctions,BicycleFac,-1,-1;Crosswalk \"Crosswalk\" true true false 4 Long 0 0,First,#,Sun_Cloud_Junctions,Crosswalk,-1,-1;PctGreenTi \"PctGreenTi\" true true false 4 Long 0 0,First,#,Sun_Cloud_Junctions,PctGreenTi,-1,-1;PctGreen_1 \"PctGreen_1\" true true false 4 Long 0 0,First,#,Sun_Cloud_Junctions,PctGreen_1,-1,-1;SourceID \"SourceID\" true true false 4 Long 0 0,First,#,Sun_Cloud_Junctions,SourceID,-1,-1;JunctionMa \"JunctionMa\" true true false 4 Long 0 0,First,#,Sun_Cloud_Junctions,JunctionMa,-1,-1;JunctionTy \"JunctionTy\" true true false 4 Long 0 0,First,#,Sun_Cloud_Junctions,JunctionTy,-1,-1;OffsetInte \"OffsetInte\" true true false 1 Text 0 0,First,#,Sun_Cloud_Junctions,OffsetInte,0,1;OffsetIn_1 \"OffsetIn_1\" true true false 8 Double 0 0,First,#,Sun_Cloud_Junctions,OffsetIn_1,-1,-1;InServiceD \"InServiceD\" true true false 8 Date 0 0,First,#,Sun_Cloud_Junctions,InServiceD,-1,-1;FID_sun_cloud_routes \"FID_sun_cloud_routes\" true true false 4 Long 0 0,First,#,Sun_Cloud_Junctions,FID_sun_cloud_routes,-1,-1;route_id \"route_id\" true true false 32 Text 0 0,First,#,Sun_Cloud_Junctions,route_id,0,32;from_measu \"from_measu\" true true false 8 Double 0 0,First,#,Sun_Cloud_Junctions,from_measu,-1,-1;to_measure \"to_measure\" true true false 8 Double 0 0,First,#,Sun_Cloud_Junctions,to_measure,-1,-1;functional \"functional\" true true false 4 Long 0 0,First,#,Sun_Cloud_Junctions,functional,-1,-1;facility_t \"facility_t\" true true false 4 Long 0 0,First,#,Sun_Cloud_Junctions,facility_t,-1,-1;Shape__Len \"Shape__Len\" true true false 8 Double 0 0,First,#,Sun_Cloud_Junctions,Shape__Len,-1,-1', \n",
    "                                            '')"
   ]
  },
  {
   "cell_type": "markdown",
   "metadata": {},
   "source": [
    "## Rename Feature Layer Fields"
   ]
  },
  {
   "cell_type": "code",
   "execution_count": 32,
   "metadata": {},
   "outputs": [],
   "source": [
    "layer = 'Sun_Cloud_Major_Junctions'\n",
    "system_fields = ['OBJECTID', 'Shape']\n",
    "current_fields = [f.name for f in arcpy.ListFields(layer) if not f.name in system_fields]\n",
    "target_fields = [('FromDate', 'from_date', 'From Date'),\n",
    "                 ('ToDate', 'to_date', 'To Date'),\n",
    "                 ('RouteID', 'route_identification', 'Route Identification'),\n",
    "                 ('Measure', 'measure', 'Measure'),\n",
    "                 ('MasterJunc', 'master_junction_id', 'Master Junction ID'),\n",
    "                 ('NumberOfLe', 'number_of_legs', 'Number of Legs'),\n",
    "                 ('JunctionGe', 'junction_geometry', 'Junction Geometry'),\n",
    "                 ('JunctionsS', 'junctions_symbol', 'Junctions Symbol'),\n",
    "                 ('TrafficCon', 'traffic_control', 'Traffic Control'),\n",
    "                 ('TurnCode', 'turn_code', 'Turn Code'),\n",
    "                 ('Detection', 'detection', 'Detection'),\n",
    "                 ('Signalizat', 'signalization', 'Signalization'),\n",
    "                 ('RailCrossi', 'rail_crossing', 'Rail Crossing'),\n",
    "                 ('SchoolZone', 'school_zone', 'School Zone'),\n",
    "                 ('BicycleFac', 'bicycle_facility', 'Bicycle Facility'),\n",
    "                 ('Crosswalk', 'crosswalk', 'Crosswalk'),\n",
    "                 ('PctGreenTi', 'percent_green_time_on_road', 'Percent Green Time On Road'),\n",
    "                 ('PctGreen_1', 'percent_green_time_source', 'Percent Green Time Source'),\n",
    "                 ('JunctionMa', 'junction_maint_by', 'Junction Maintained By'),\n",
    "                 ('JunctionTy', 'junction_type', 'Junction Type'),\n",
    "                 ('OffsetInte', 'offset_intersection', 'Offset Intersection'),\n",
    "                 ('OffsetIn_1', 'offset_intersection_distance', 'Offset Intersection Distance'),\n",
    "                 ('InServiceD', 'in_service_date', 'In Service Date')]\n",
    "\n",
    "delete_fields = [field for field in current_fields if not field in [a for a, b, c in target_fields]]\n",
    "# delete unused fields\n",
    "arcpy.management.DeleteField(layer, delete_fields)\n",
    "for current_name, new_name, alias in target_fields:\n",
    "    arcpy.management.AlterField(layer, current_name, new_name, alias)"
   ]
  },
  {
   "cell_type": "code",
   "execution_count": null,
   "metadata": {},
   "outputs": [],
   "source": []
  }
 ],
 "metadata": {
  "kernelspec": {
   "display_name": "ArcGISPro",
   "language": "Python",
   "name": "python3"
  },
  "language_info": {
   "file_extension": ".py",
   "name": "python",
   "version": "3"
  }
 },
 "nbformat": 4,
 "nbformat_minor": 2
}
