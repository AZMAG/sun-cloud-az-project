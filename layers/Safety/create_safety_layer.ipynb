{
 "cells": [
  {
   "cell_type": "markdown",
   "metadata": {},
   "source": [
    "# SunCloud Safety Layer"
   ]
  },
  {
   "cell_type": "markdown",
   "metadata": {},
   "source": [
    "SunCloud Safety Layer\n",
    "\n",
    "Prepared by: High Street Consulting Group for AZ MAG SunCloud\n",
    "\n",
    "Contact: Yousef Dana, PE - dana@highstreetconsulting.com\n",
    "\n",
    "Dates: 2022 - 2023\n",
    "\n",
    "Purpose: This script creates junction and segment safety layers for the Sun Corridor area, initially for the SunCloud project. \n",
    "    You can find direct links to the published 2021 layers below:\n",
    "    \n",
    "    Junctions: https://azgeo.maps.arcgis.com/home/item.html?id=b7ab2303e3bd4e58a1e0a8964b07a951\n",
    "    Segments: https://azgeo.maps.arcgis.com/home/item.html?id=fdb09b5629514b6fadea59c86b764045\n",
    "        \n",
    "Notes:\n",
    "    An internet connection is required to access external web data.\n",
    "    If running within ArcGIS Pro, depending on your PC's processing power it may give an error that a lock cannot aquire, please just re-run the chunk."
   ]
  },
  {
   "cell_type": "markdown",
   "metadata": {},
   "source": [
    "# Variables"
   ]
  },
  {
   "cell_type": "code",
   "execution_count": null,
   "metadata": {},
   "outputs": [],
   "source": [
    "# Please adjust the values within these parameters as needed:\n",
    "\n",
    "# Define start and end years (Typically there is a 5-year analysis)\n",
    "start_year = 2018\n",
    "end_year = 2022\n",
    "\n"
   ]
  },
  {
   "cell_type": "markdown",
   "metadata": {
    "heading_collapsed": true
   },
   "source": [
    "## Setup"
   ]
  },
  {
   "cell_type": "code",
   "execution_count": null,
   "metadata": {
    "hidden": true
   },
   "outputs": [],
   "source": [
    "import arcpy\n",
    "import os\n",
    "import pandas as pd\n",
    "import math\n",
    "import re\n",
    "\n",
    "arcpy.env.workspace = None\n",
    "\n",
    "# Setup arcpy environment\n",
    "current_working_directory = os.getcwd()  # Get the current working directory\n",
    "\n",
    "if arcpy.env.workspace:  # Check if workspace is not None\n",
    "    base_path = '\\\\'.join(arcpy.env.workspace.split('\\\\')[:-1])\n",
    "else:\n",
    "    print(\"Workspace was not set. Setting it now.\")\n",
    "    base_path = current_working_directory  # Initialize workspace to the current working directory\n",
    "    arcpy.env.workspace = base_path\n",
    "\n",
    "db = os.path.join(base_path, \"safety_layers.gdb\")\n",
    "arcpy.env.workspace = db\n",
    "arcpy.env.overwriteOutput = True\n",
    "arcpy.env.addOutputsToMap = True\n",
    "\n",
    "# Print the current base path directory\n",
    "print(f\"Base path and workspace directory: {base_path}\")  # Debug\n",
    "\n",
    "# Import the GIS class in gis module\n",
    "from arcgis.gis import GIS\n",
    "gis = GIS(\"pro\")\n",
    "print(\"Logged in as \" + str(gis.properties.user.username) + \" to \" + gis.properties.portalName + \" through the portal: \" + gis.properties.urlKey)\n",
    "\n",
    "# Check if logged into the correct portal\n",
    "expected_portal = \"azgeo\"\n",
    "if gis.properties.urlKey != expected_portal:\n",
    "    print(f\"WARNING: You are logged into the wrong portal. Please switch to the AZGeo Data Hub at https://azgeo.maps.arcgis.com/\")\n",
    "else:\n",
    "    print(\"Successfully initiated.\")\n"
   ]
  },
  {
   "cell_type": "markdown",
   "metadata": {},
   "source": [
    "## Code"
   ]
  },
  {
   "cell_type": "markdown",
   "metadata": {
    "heading_collapsed": true
   },
   "source": [
    "### Load Data"
   ]
  },
  {
   "cell_type": "code",
   "execution_count": null,
   "metadata": {
    "hidden": true
   },
   "outputs": [],
   "source": [
    "## Combine all crashes\n",
    "\n",
    "# Read and combine incident-crash data for the specified range of years\n",
    "crashes = pd.DataFrame()\n",
    "\n",
    "for year in range(start_year, end_year + 1):\n",
    "    year_file_path = os.path.join(base_path, \"data\", \"crash\", str(year), f\"Incident_{year}.csv\")\n",
    "    year_data = pd.read_csv(year_file_path)\n",
    "    crashes = pd.concat([crashes, year_data])\n",
    "\n",
    "# Write to csv\n",
    "crashes.to_csv(os.path.join(base_path, \"data\", \"crash\", \"crashes.csv\"), index=False)\n",
    "\n",
    "# Calculate the number of years including start year\n",
    "years_combined = end_year - start_year + 1\n",
    "\n",
    "# Print the message\n",
    "print(f\"Successfully combined {years_combined} years of crash data\")\n"
   ]
  },
  {
   "cell_type": "code",
   "execution_count": null,
   "metadata": {
    "hidden": true
   },
   "outputs": [],
   "source": [
    "# Load crash data into spatial points layer in the database using XY to Point\n",
    "prj_4326 = arcpy.SpatialReference(4326)\n",
    "\n",
    "in_table = os.path.join(base_path, \"data\", \"crash\", \"crashes.csv\")\n",
    "out_table = os.path.join(\"safety_layers.gdb\", \"crashes\")\n",
    "\n",
    "arcpy.management.XYTableToPoint(in_table, \n",
    "                                out_table, \n",
    "                                \"Longitude\", \n",
    "                                \"Latitude\", \n",
    "                                None, \n",
    "                                prj_4326)"
   ]
  },
  {
   "cell_type": "code",
   "execution_count": null,
   "metadata": {
    "hidden": true
   },
   "outputs": [],
   "source": [
    "## Combine non-motorized serious injury crashes\n",
    "\n",
    "# Read and combine non-motorized serious injury person-crash data for the specified range of years\n",
    "person = pd.DataFrame()\n",
    "\n",
    "for year in range(start_year, end_year + 1):\n",
    "    year_file_path = os.path.join(base_path, \"data\", \"crash\", str(year), f\"Person_{year}.csv\")\n",
    "    year_data = pd.read_csv(year_file_path)\n",
    "    person = pd.concat([person, year_data])\n",
    "\n",
    "# Write person data to csv\n",
    "person_output_path = os.path.join(base_path, \"data\", \"crash\", \"person.csv\")\n",
    "person.to_csv(person_output_path, index=False)\n",
    "\n",
    "# Filtering based on 'PersonType' and 'InjuryStatus'\n",
    "ped_injury_person = person[(person['PersonType'].isin([2, 3])) & (person['InjuryStatus'] == 4)]\n",
    "\n",
    "# Creating a new DataFrame 'ped_injury_crashes' with unique 'IncidentID' and its count\n",
    "ped_injury_crashes = pd.DataFrame(ped_injury_person['IncidentID'].value_counts()).reset_index()\n",
    "\n",
    "# Renaming the columns appropriately\n",
    "ped_injury_crashes.columns = ['IncidentID', 'non_motorized_serious_injuries']\n",
    "\n",
    "# Write ped_injury_crashes data to csv\n",
    "ped_injury_crashes_output_path = os.path.join(base_path, \"data\", \"crash\", \"ped_injury_crashes.csv\")\n",
    "ped_injury_crashes.to_csv(ped_injury_crashes_output_path, index=False)"
   ]
  },
  {
   "cell_type": "code",
   "execution_count": null,
   "metadata": {
    "hidden": true
   },
   "outputs": [],
   "source": [
    "# Import the CSV file as a table\n",
    "ped_injury_crashes = os.path.join(base_path, \"data\", \"crash\", \"ped_injury_crashes.csv\")\n",
    "\n",
    "arcpy.TableToTable_conversion(ped_injury_crashes, \n",
    "                              arcpy.env.workspace, \n",
    "                              \"ped_injury_crashes\")\n",
    "\n",
    "# Join crashes and non-motorized serious injuries\n",
    "arcpy.JoinField_management(\"crashes\", \"IncidentID\", \n",
    "                           \"ped_injury_crashes\", \"IncidentID\", \n",
    "                           \"non_motorized_serious_injuries\")\n"
   ]
  },
  {
   "cell_type": "code",
   "execution_count": null,
   "metadata": {
    "hidden": true
   },
   "outputs": [],
   "source": [
    "# This takes about 1 hour to read/load each layer into the database. ATIS is the longest.\n",
    "\n",
    "# Load non-crash data into a feature layers in the database\n",
    "from arcgis.features import FeatureLayer\n",
    "\n",
    "# County Boundary\n",
    "url_fl =  \"https://services6.arcgis.com/clPWQMwZfdWn4MQZ/arcgis/rest/services/counties/FeatureServer/0\"\n",
    "fl = FeatureLayer(url_fl)\n",
    "featureset = fl.query()\n",
    "featureset.save(db, \"counties\")\n",
    "\n",
    "# AADT 2019\n",
    "url_fl =  \"https://services6.arcgis.com/clPWQMwZfdWn4MQZ/arcgis/rest/services/AADT_2020_gdb/FeatureServer/0\"\n",
    "fl = FeatureLayer(url_fl)\n",
    "featureset = fl.query()\n",
    "featureset.save(db, \"aadt\")\n",
    "\n",
    "# Urban Areas\n",
    "url_fl =  \"https://services.arcgis.com/P3ePLMYs2RVChkJx/ArcGIS/rest/services/USA_Urban_Areas/FeatureServer/3\"\n",
    "fl = FeatureLayer(url_fl)\n",
    "featureset = fl.query()\n",
    "featureset.save(db, \"urban_areas\")\n",
    "\n",
    "# Median layer for Divided/Undivided attributes\n",
    "url_fl =  \"https://services1.arcgis.com/XAiBIVuto7zeZj1B/arcgis/rest/services/ATIS_prod_gdb/FeatureServer/33\"\n",
    "fl = FeatureLayer(url_fl)\n",
    "featureset = fl.query()\n",
    "featureset.save(db, \"median\")\n",
    "\n",
    "# ATIS 2021\n",
    "url_fl =  \"https://services6.arcgis.com/clPWQMwZfdWn4MQZ/arcgis/rest/services/AZ_All_Roads_Network_2021/FeatureServer/0\"\n",
    "fl = FeatureLayer(url_fl)\n",
    "featureset = fl.query()\n",
    "featureset.save(db, \"atis\")\n",
    "\n",
    "# HPMS Through Lanes\n",
    "url_fl =  \"https://services6.arcgis.com/clPWQMwZfdWn4MQZ/arcgis/rest/services/Arizona_Highway_Performance_Monitoring_System_2020_Data_/FeatureServer/41\"\n",
    "fl = FeatureLayer(url_fl)\n",
    "featureset = fl.query()\n",
    "featureset.save(db, \"through_lanes\")  \n"
   ]
  },
  {
   "cell_type": "code",
   "execution_count": null,
   "metadata": {
    "hidden": true
   },
   "outputs": [],
   "source": [
    "# Load segmented routes and major junction layers created by High Street\n",
    "\n",
    "# https://azgeo.maps.arcgis.com/home/item.html?id=9a948ae2bcb84925bfdc64e90128f715\n",
    "# Segments\n",
    "url_fl =  \"https://services6.arcgis.com/clPWQMwZfdWn4MQZ/arcgis/rest/services/Sun_Cloud_Segmented_Routes/FeatureServer/0\"\n",
    "fl = FeatureLayer(url_fl)\n",
    "featureset = fl.query()\n",
    "featureset.save(db, \"segments\")\n",
    "\n",
    "# https://azgeo.maps.arcgis.com/home/item.html?id=4b093a019ea3467e874a382be442255c\n",
    "# Junctions\n",
    "url_fl =  \"https://services6.arcgis.com/clPWQMwZfdWn4MQZ/arcgis/rest/services/Sun_Cloud_Major_Junctions_DEV/FeatureServer/0\"\n",
    "fl = FeatureLayer(url_fl)\n",
    "featureset = fl.query()\n",
    "featureset.save(db, \"junctions\")"
   ]
  },
  {
   "cell_type": "code",
   "execution_count": null,
   "metadata": {
    "hidden": true
   },
   "outputs": [],
   "source": [
    "# Join HPMS to segments to get Number of Lanes\n",
    "arcpy.analysis.SpatialJoin(\"segments\", \"through_lanes\", r\"safety_layers.gdb\\segments_0\", \"JOIN_ONE_TO_ONE\", \"KEEP_ALL\", 'route_id \"Route ID\" true true false 32 Text 0 0,First,#,segments,route_id,0,32;functional_classification_code \"Functional Classification Code\" true true false 2 Short 0 0,First,#,segments,functional_classification_code,-1,-1;functional_classification \"Functional Classification\" true true false 255 Text 0 0,First,#,segments,functional_classification,0,255;Shape_Length \"Shape_Length\" false true true 8 Double 0 0,First,#,segments,Shape_Length,-1,-1;NumberOfLanes \"NumberOfLanes\" true true false 8 Double 0 0,First,#,through_lanes,NumberOfLanes,-1,-1', \"LARGEST_OVERLAP\",  \"150 Feet\", '')"
   ]
  },
  {
   "cell_type": "markdown",
   "metadata": {
    "heading_collapsed": true
   },
   "source": [
    "### Clip to Boundary"
   ]
  },
  {
   "cell_type": "code",
   "execution_count": null,
   "metadata": {
    "hidden": true
   },
   "outputs": [],
   "source": [
    "# Filter counties to just suncloud area:\n",
    "input_layer = \"counties\"\n",
    "output_layer = \"counties_suncloud\"\n",
    "query = \"NAME = 'MARICOPA' OR NAME = 'PIMA' OR NAME = 'PINAL' OR NAME = 'COCHISE' OR NAME = 'SANTA CRUZ'\"\n",
    "\n",
    "# Select features based on the SQL query and copy\n",
    "arcpy.SelectLayerByAttribute_management(input_layer, \"NEW_SELECTION\", query)\n",
    "arcpy.CopyFeatures_management(input_layer, output_layer)\n",
    "\n",
    "# Clear selection if necessary\n",
    "arcpy.SelectLayerByAttribute_management(input_layer, \"CLEAR_SELECTION\")"
   ]
  },
  {
   "cell_type": "code",
   "execution_count": null,
   "metadata": {
    "hidden": true
   },
   "outputs": [],
   "source": [
    "# Clip Crashes to the Boundary\n",
    "# Not needed for other data as they have been clipped prior to this script\n",
    "\n",
    "points = r\"safety_layers.gdb\\crashes\"\n",
    "polygon = r\"safety_layers.gdb\\counties_suncloud\"\n",
    "\n",
    "# Clip crashes to the selected (filtered) counties\n",
    "arcpy.analysis.Clip(points, polygon, \n",
    "                    r\"safety_layers.gdb\\clipped_crashes\", None)\n"
   ]
  },
  {
   "cell_type": "markdown",
   "metadata": {},
   "source": [
    "### Safety Calculations"
   ]
  },
  {
   "cell_type": "markdown",
   "metadata": {
    "heading_collapsed": true
   },
   "source": [
    "#### Crash Frequency  "
   ]
  },
  {
   "cell_type": "code",
   "execution_count": null,
   "metadata": {
    "hidden": true
   },
   "outputs": [],
   "source": [
    "## Join crashes to Junctions and Segments\n",
    "\n",
    "# Query to only crashes that occured with 150 feet of a junction.\n",
    "field_mappings = arcpy.FieldMappings()\n",
    "field_mappings.addTable(\"clipped_crashes\")\n",
    "field_mappings.addTable(\"junctions\")\n",
    "\n",
    "arcpy.analysis.SpatialJoin(\"clipped_crashes\", \"junctions\",\n",
    "                           r\"safety_layers.gdb\\crashes_joined\",\n",
    "                           \"JOIN_ONE_TO_ONE\",\n",
    "                           \"KEEP_ALL\",\n",
    "                           field_mappings,\n",
    "                           \"WITHIN_A_DISTANCE\",\n",
    "                           \"150 FeetInt\",\n",
    "                           '')\n",
    "\n",
    "\n",
    "arcpy.management.MakeQueryTable(\"crashes_joined\", \"junction_crashes\", \n",
    "                                \"USE_KEY_FIELDS\", \n",
    "                                None, \n",
    "                                None, \n",
    "                                \"crashes_joined.MasterJunc IS NOT NULL\")\n",
    "\n",
    "arcpy.management.MakeQueryTable(\"crashes_joined\", \"segment_crashes\", \n",
    "                                \"USE_KEY_FIELDS\", \n",
    "                                None, \n",
    "                                None, \n",
    "                                \"crashes_joined.MasterJunc IS NULL\")\n"
   ]
  },
  {
   "cell_type": "code",
   "execution_count": null,
   "metadata": {
    "hidden": true
   },
   "outputs": [],
   "source": [
    "# Crashes to Junctions\n",
    "# For crashes WITH junctions within 150 feet. \n",
    "# Count the total crashes, sum the number of fatalities, injuries, and non-motorized fatalities+injuries.\n",
    "arcpy.analysis.SpatialJoin(\"junctions\", \"junction_crashes\", \n",
    "                           r\"safety_layers.gdb\\junctions_1\", \n",
    "                           \"JOIN_ONE_TO_ONE\", \"KEEP_ALL\", \n",
    "                           'FID_Junctions_SunCloud_Select \"FID_Junctions_SunCloud_Select\" true true false 4 Long 0 0,First,#,junctions,FID_Junctions_SunCloud_Select,-1,-1;FromDate \"FromDate\" true true false 8 Date 0 0,First,#,junctions,FromDate,-1,-1;ToDate \"ToDate\" true true false 8 Date 0 0,First,#,junctions,ToDate,-1,-1;RouteID \"RouteID\" true true false 32 Text 0 0,First,#,junctions,RouteID,0,32;Measure \"Measure\" true true false 8 Double 0 0,First,#,junctions,Measure,-1,-1;MasterJunc \"MasterJunc\" true true false 38 Text 0 0,First,#,junctions,MasterJunc,0,38;NumberOfLe \"NumberOfLe\" true true false 4 Long 0 0,First,#,junctions,NumberOfLe,-1,-1;JunctionGe \"JunctionGe\" true true false 4 Long 0 0,First,#,junctions,JunctionGe,-1,-1;JunctionsS \"JunctionsS\" true true false 2 Text 0 0,First,#,junctions,JunctionsS,0,2;TrafficCon \"TrafficCon\" true true false 4 Long 0 0,First,#,junctions,TrafficCon,-1,-1;TurnCode \"TurnCode\" true true false 10 Text 0 0,First,#,junctions,TurnCode,0,10;Detection \"Detection\" true true false 4 Long 0 0,First,#,junctions,Detection,-1,-1;Signalizat \"Signalizat\" true true false 4 Long 0 0,First,#,junctions,Signalizat,-1,-1;RailCrossi \"RailCrossi\" true true false 7 Text 0 0,First,#,junctions,RailCrossi,0,7;SchoolZone \"SchoolZone\" true true false 4 Long 0 0,First,#,junctions,SchoolZone,-1,-1;BicycleFac \"BicycleFac\" true true false 4 Long 0 0,First,#,junctions,BicycleFac,-1,-1;Crosswalk \"Crosswalk\" true true false 4 Long 0 0,First,#,junctions,Crosswalk,-1,-1;PctGreenTi \"PctGreenTi\" true true false 4 Long 0 0,First,#,junctions,PctGreenTi,-1,-1;PctGreen_1 \"PctGreen_1\" true true false 4 Long 0 0,First,#,junctions,PctGreen_1,-1,-1;SourceID \"SourceID\" true true false 4 Long 0 0,First,#,junctions,SourceID,-1,-1;JunctionMa \"JunctionMa\" true true false 4 Long 0 0,First,#,junctions,JunctionMa,-1,-1;JunctionTy \"JunctionTy\" true true false 4 Long 0 0,First,#,junctions,JunctionTy,-1,-1;OffsetInte \"OffsetInte\" true true false 1 Text 0 0,First,#,junctions,OffsetInte,0,1;OffsetIn_1 \"OffsetIn_1\" true true false 8 Double 0 0,First,#,junctions,OffsetIn_1,-1,-1;InServiceD \"InServiceD\" true true false 8 Date 0 0,First,#,junctions,InServiceD,-1,-1;FID_sun_cloud_routes \"FID_sun_cloud_routes\" true true false 4 Long 0 0,First,#,junctions,FID_sun_cloud_routes,-1,-1;route_id \"route_id\" true true false 32 Text 0 0,First,#,junctions,route_id,0,32;from_measu \"from_measu\" true true false 8 Double 0 0,First,#,junctions,from_measu,-1,-1;to_measure \"to_measure\" true true false 8 Double 0 0,First,#,junctions,to_measure,-1,-1;functional \"functional\" true true false 4 Long 0 0,First,#,junctions,functional,-1,-1;facility_t \"facility_t\" true true false 4 Long 0 0,First,#,junctions,facility_t,-1,-1;crashes \"crashes\" true true false 255 Text 0 0,Count,#,junction_crashes,TotalUnits,-1,-1;injury_crashes \"injury_crashes\" true true false 255 Double 0 0,Sum,#,junction_crashes,TotalInjuries,-1,-1;fatal_crashes \"fatal_crashes\" true true false 255 Double 0 0,Sum,#,junction_crashes,TotalFatalities,-1,-1;fatal_injury_crashes \"fatal_injury_crashes\" true true false 255 Double 0 0,Sum,#,junction_crashes,TotalInjuries,-1,-1,junction_crashes,TotalFatalities,-1,-1;non_motorized_fatal_injury \"non_motorized_fatal_injury\" true true false 255 Double 0 0,Sum,#,junction_crashes,non_motorized_serious_injuries,-1,-1,junction_crashes,TotalNonMotoristsFatalities,-1,-1', \n",
    "                           \"WITHIN_A_DISTANCE\", \"150 Feet\", '')\n",
    "\n",
    "# Crashes to Segments\n",
    "\n",
    "# Make a copy\n",
    "arcpy.conversion.FeatureClassToFeatureClass(\"segment_crashes\", r\"safety_layers.gdb\", \"segment_crashes_1\", '', 'Join_Count \"Join_Count\" true true false 4 Long 0 0,First,#,segment_crashes,Join_Count,-1,-1;TARGET_FID \"TARGET_FID\" true true false 4 Long 0 0,First,#,segment_crashes,TARGET_FID,-1,-1;IncidentID \"IncidentID\" true true false 4 Long 0 0,First,#,segment_crashes,IncidentID,-1,-1;Microfilm \"Microfilm\" true true false 8000 Text 0 0,First,#,segment_crashes,Microfilm,0,8000;ADOTReceivedDate \"ADOTReceivedDate\" true true false 8000 Text 0 0,First,#,segment_crashes,ADOTReceivedDate,0,8000;Status \"Status\" true true false 4 Long 0 0,First,#,segment_crashes,Status,-1,-1;DataConv2008Flag \"DataConv2008Flag\" true true false 8000 Text 0 0,First,#,segment_crashes,DataConv2008Flag,0,8000;IncidentDate \"IncidentDate\" true true false 8000 Text 0 0,First,#,segment_crashes,IncidentDate,0,8000;IncidentDateTime \"IncidentDateTime\" true true false 8000 Text 0 0,First,#,segment_crashes,IncidentDateTime,0,8000;IncidentYear \"IncidentYear\" true true false 4 Long 0 0,First,#,segment_crashes,IncidentYear,-1,-1;IncidentMonth \"IncidentMonth\" true true false 4 Long 0 0,First,#,segment_crashes,IncidentMonth,-1,-1;IncidentDayOfWeek \"IncidentDayOfWeek\" true true false 4 Long 0 0,First,#,segment_crashes,IncidentDayOfWeek,-1,-1;IncidentHour \"IncidentHour\" true true false 4 Long 0 0,First,#,segment_crashes,IncidentHour,-1,-1;OfficerNcic \"OfficerNcic\" true true false 4 Long 0 0,First,#,segment_crashes,OfficerNcic,-1,-1;OfficerId \"OfficerId\" true true false 8000 Text 0 0,First,#,segment_crashes,OfficerId,0,8000;FileNumber \"FileNumber\" true true false 8000 Text 0 0,First,#,segment_crashes,FileNumber,0,8000;ExtendedNcic \"ExtendedNcic\" true true false 4 Long 0 0,First,#,segment_crashes,ExtendedNcic,-1,-1;DamageOverLimitFlag \"DamageOverLimitFlag\" true true false 8000 Text 0 0,First,#,segment_crashes,DamageOverLimitFlag,0,8000;PhotosTakenFlag \"PhotosTakenFlag\" true true false 8000 Text 0 0,First,#,segment_crashes,PhotosTakenFlag,0,8000;PhotographerName \"PhotographerName\" true true false 8000 Text 0 0,First,#,segment_crashes,PhotographerName,0,8000;PhotographerID \"PhotographerID\" true true false 8000 Text 0 0,First,#,segment_crashes,PhotographerID,0,8000;PhotographerAgency \"PhotographerAgency\" true true false 8000 Text 0 0,First,#,segment_crashes,PhotographerAgency,0,8000;InvestigatedAtSceneFlag \"InvestigatedAtSceneFlag\" true true false 8000 Text 0 0,First,#,segment_crashes,InvestigatedAtSceneFlag,0,8000;DateTimeInvestigated \"DateTimeInvestigated\" true true false 8000 Text 0 0,First,#,segment_crashes,DateTimeInvestigated,0,8000;CollisionManner \"CollisionManner\" true true false 4 Long 0 0,First,#,segment_crashes,CollisionManner,-1,-1;LightCondition \"LightCondition\" true true false 4 Long 0 0,First,#,segment_crashes,LightCondition,-1,-1;FirstHarmfulEvent \"FirstHarmfulEvent\" true true false 4 Long 0 0,First,#,segment_crashes,FirstHarmfulEvent,-1,-1;FirstHarmfulLocation \"FirstHarmfulLocation\" true true false 8000 Text 0 0,First,#,segment_crashes,FirstHarmfulLocation,0,8000;TotalUnits \"TotalUnits\" true true false 4 Long 0 0,First,#,segment_crashes,TotalUnits,-1,-1;TotalMotorists \"TotalMotorists\" true true false 4 Long 0 0,First,#,segment_crashes,TotalMotorists,-1,-1;TotalNonMotorists \"TotalNonMotorists\" true true false 4 Long 0 0,First,#,segment_crashes,TotalNonMotorists,-1,-1;TotalInjuries \"TotalInjuries\" true true false 4 Long 0 0,First,#,segment_crashes,TotalInjuries,-1,-1;TotalFatalities \"TotalFatalities\" true true false 4 Long 0 0,First,#,segment_crashes,TotalFatalities,-1,-1;TotalMotorists1 \"TotalMotorists1\" true true false 4 Long 0 0,First,#,segment_crashes,TotalMotorists1,-1,-1;TotalNonMotorists1 \"TotalNonMotorists1\" true true false 4 Long 0 0,First,#,segment_crashes,TotalNonMotorists1,-1,-1;TotalMotoristsFatalities \"TotalMotoristsFatalities\" true true false 4 Long 0 0,First,#,segment_crashes,TotalMotoristsFatalities,-1,-1;TotalNonMotoristsFatalities \"TotalNonMotoristsFatalities\" true true false 4 Long 0 0,First,#,segment_crashes,TotalNonMotoristsFatalities,-1,-1;InjurySeverity \"InjurySeverity\" true true false 4 Long 0 0,First,#,segment_crashes,InjurySeverity,-1,-1;MedicalTransportFlag \"MedicalTransportFlag\" true true false 8000 Text 0 0,First,#,segment_crashes,MedicalTransportFlag,0,8000;FatalAccidentFlag \"FatalAccidentFlag\" true true false 4 Long 0 0,First,#,segment_crashes,FatalAccidentFlag,-1,-1;TowAwayFlag \"TowAwayFlag\" true true false 4 Long 0 0,First,#,segment_crashes,TowAwayFlag,-1,-1;NscReportable \"NscReportable\" true true false 8000 Text 0 0,First,#,segment_crashes,NscReportable,0,8000;SchoolBusRelatedFlag \"SchoolBusRelatedFlag\" true true false 4 Long 0 0,First,#,segment_crashes,SchoolBusRelatedFlag,-1,-1;WorkZoneRelatedFlag \"WorkZoneRelatedFlag\" true true false 4 Long 0 0,First,#,segment_crashes,WorkZoneRelatedFlag,-1,-1;WorkersPresentFlag \"WorkersPresentFlag\" true true false 4 Long 0 0,First,#,segment_crashes,WorkersPresentFlag,-1,-1;AlcoholInvolvementFlag \"AlcoholInvolvementFlag\" true true false 4 Long 0 0,First,#,segment_crashes,AlcoholInvolvementFlag,-1,-1;DrugInvolvementFlag \"DrugInvolvementFlag\" true true false 4 Long 0 0,First,#,segment_crashes,DrugInvolvementFlag,-1,-1;HazardousFlag \"HazardousFlag\" true true false 8000 Text 0 0,First,#,segment_crashes,HazardousFlag,0,8000;HitAndRunFlag \"HitAndRunFlag\" true true false 4 Long 0 0,First,#,segment_crashes,HitAndRunFlag,-1,-1;RouteName \"RouteName\" true true false 8000 Text 0 0,First,#,segment_crashes,RouteName,0,8000;CrossingFeatureName \"CrossingFeatureName\" true true false 8000 Text 0 0,First,#,segment_crashes,CrossingFeatureName,0,8000;Offset \"Offset\" true true false 8 Double 0 0,First,#,segment_crashes,Offset,-1,-1;OffsetMeasuredFlag \"OffsetMeasuredFlag\" true true false 4 Long 0 0,First,#,segment_crashes,OffsetMeasuredFlag,-1,-1;OffsetUnit \"OffsetUnit\" true true false 4 Long 0 0,First,#,segment_crashes,OffsetUnit,-1,-1;MPNum \"MPNum\" true true false 4 Long 0 0,First,#,segment_crashes,MPNum,-1,-1;MPOffset \"MPOffset\" true true false 8 Double 0 0,First,#,segment_crashes,MPOffset,-1,-1;CityId \"CityId\" true true false 4 Long 0 0,First,#,segment_crashes,CityId,-1,-1;CountyId \"CountyId\" true true false 4 Long 0 0,First,#,segment_crashes,CountyId,-1,-1;StateId \"StateId\" true true false 4 Long 0 0,First,#,segment_crashes,StateId,-1,-1;StateCode \"StateCode\" true true false 8000 Text 0 0,First,#,segment_crashes,StateCode,0,8000;CountryCode \"CountryCode\" true true false 8000 Text 0 0,First,#,segment_crashes,CountryCode,0,8000;Latitude \"Latitude\" true true false 8 Double 0 0,First,#,segment_crashes,Latitude,-1,-1;Longitude \"Longitude\" true true false 8 Double 0 0,First,#,segment_crashes,Longitude,-1,-1;ValidLocationFlag \"ValidLocationFlag\" true true false 4 Long 0 0,First,#,segment_crashes,ValidLocationFlag,-1,-1;LocationToolVersion \"LocationToolVersion\" true true false 8000 Text 0 0,First,#,segment_crashes,LocationToolVersion,0,8000;HESIntersectionFlag \"HESIntersectionFlag\" true true false 8000 Text 0 0,First,#,segment_crashes,HESIntersectionFlag,0,8000;IntersectionFlag \"IntersectionFlag\" true true false 4 Long 0 0,First,#,segment_crashes,IntersectionFlag,-1,-1;IntersectionRouteID \"IntersectionRouteID\" true true false 8000 Text 0 0,First,#,segment_crashes,IntersectionRouteID,0,8000;IntersectionATISCode \"IntersectionATISCode\" true true false 8000 Text 0 0,First,#,segment_crashes,IntersectionATISCode,0,8000;TrafficWayType \"TrafficWayType\" true true false 4 Long 0 0,First,#,segment_crashes,TrafficWayType,-1,-1;IntersectionType \"IntersectionType\" true true false 4 Long 0 0,First,#,segment_crashes,IntersectionType,-1,-1;JunctionRelation \"JunctionRelation\" true true false 4 Long 0 0,First,#,segment_crashes,JunctionRelation,-1,-1;Weather \"Weather\" true true false 4 Long 0 0,First,#,segment_crashes,Weather,-1,-1;PropertyDamageOwnerCode \"PropertyDamageOwnerCode\" true true false 8 Double 0 0,First,#,segment_crashes,PropertyDamageOwnerCode,-1,-1;PropertyDamageDescCode \"PropertyDamageDescCode\" true true false 8 Double 0 0,First,#,segment_crashes,PropertyDamageDescCode,-1,-1;OffsetDirection \"OffsetDirection\" true true false 4 Long 0 0,First,#,segment_crashes,OffsetDirection,-1,-1;SecondaryCrashFlag \"SecondaryCrashFlag\" true true false 4 Long 0 0,First,#,segment_crashes,SecondaryCrashFlag,-1,-1;GeocodeOnRoad \"GeocodeOnRoad\" true true false 8000 Text 0 0,First,#,segment_crashes,GeocodeOnRoad,0,8000;GeocodeCrossingFeatureName \"GeocodeCrossingFeatureName\" true true false 8000 Text 0 0,First,#,segment_crashes,GeocodeCrossingFeatureName,0,8000;GeocodeOffsetInMiles \"GeocodeOffsetInMiles\" true true false 8 Double 0 0,First,#,segment_crashes,GeocodeOffsetInMiles,-1,-1;X \"X\" true true false 8 Double 0 0,First,#,segment_crashes,X,-1,-1;Y \"Y\" true true false 8 Double 0 0,First,#,segment_crashes,Y,-1,-1;GeocodeOnRoadRouteId \"GeocodeOnRoadRouteId\" true true false 8000 Text 0 0,First,#,segment_crashes,GeocodeOnRoadRouteId,0,8000;CrossingFeature \"CrossingFeature\" true true false 8000 Text 0 0,First,#,segment_crashes,CrossingFeature,0,8000;non_motorized_serious_injuries \"non_motorized_serious_injuries\" true true false 4 Long 0 0,First,#,segment_crashes,non_motorized_serious_injuries,-1,-1;FID_Junctions_SunCloud_Select \"FID_Junctions_SunCloud_Select\" true true false 4 Long 0 0,First,#,segment_crashes,FID_Junctions_SunCloud_Select,-1,-1;FromDate \"FromDate\" true true false 8 Date 0 0,First,#,segment_crashes,FromDate,-1,-1;ToDate \"ToDate\" true true false 8 Date 0 0,First,#,segment_crashes,ToDate,-1,-1;RouteID \"RouteID\" true true false 32 Text 0 0,First,#,segment_crashes,RouteID,0,32;Measure \"Measure\" true true false 8 Double 0 0,First,#,segment_crashes,Measure,-1,-1;MasterJunc \"MasterJunc\" true true false 38 Text 0 0,First,#,segment_crashes,MasterJunc,0,38;NumberOfLe \"NumberOfLe\" true true false 4 Long 0 0,First,#,segment_crashes,NumberOfLe,-1,-1;JunctionGe \"JunctionGe\" true true false 4 Long 0 0,First,#,segment_crashes,JunctionGe,-1,-1;JunctionsS \"JunctionsS\" true true false 2 Text 0 0,First,#,segment_crashes,JunctionsS,0,2;TrafficCon \"TrafficCon\" true true false 4 Long 0 0,First,#,segment_crashes,TrafficCon,-1,-1;TurnCode \"TurnCode\" true true false 10 Text 0 0,First,#,segment_crashes,TurnCode,0,10;Detection \"Detection\" true true false 4 Long 0 0,First,#,segment_crashes,Detection,-1,-1;Signalizat \"Signalizat\" true true false 4 Long 0 0,First,#,segment_crashes,Signalizat,-1,-1;RailCrossi \"RailCrossi\" true true false 7 Text 0 0,First,#,segment_crashes,RailCrossi,0,7;SchoolZone \"SchoolZone\" true true false 4 Long 0 0,First,#,segment_crashes,SchoolZone,-1,-1;BicycleFac \"BicycleFac\" true true false 4 Long 0 0,First,#,segment_crashes,BicycleFac,-1,-1;Crosswalk \"Crosswalk\" true true false 4 Long 0 0,First,#,segment_crashes,Crosswalk,-1,-1;PctGreenTi \"PctGreenTi\" true true false 4 Long 0 0,First,#,segment_crashes,PctGreenTi,-1,-1;PctGreen_1 \"PctGreen_1\" true true false 4 Long 0 0,First,#,segment_crashes,PctGreen_1,-1,-1;SourceID \"SourceID\" true true false 4 Long 0 0,First,#,segment_crashes,SourceID,-1,-1;JunctionMa \"JunctionMa\" true true false 4 Long 0 0,First,#,segment_crashes,JunctionMa,-1,-1;JunctionTy \"JunctionTy\" true true false 4 Long 0 0,First,#,segment_crashes,JunctionTy,-1,-1;OffsetInte \"OffsetInte\" true true false 1 Text 0 0,First,#,segment_crashes,OffsetInte,0,1;OffsetIn_1 \"OffsetIn_1\" true true false 8 Double 0 0,First,#,segment_crashes,OffsetIn_1,-1,-1;InServiceD \"InServiceD\" true true false 8 Date 0 0,First,#,segment_crashes,InServiceD,-1,-1;FID_sun_cloud_routes \"FID_sun_cloud_routes\" true true false 4 Long 0 0,First,#,segment_crashes,FID_sun_cloud_routes,-1,-1;route_id \"route_id\" true true false 32 Text 0 0,First,#,segment_crashes,route_id,0,32;from_measu \"from_measu\" true true false 8 Double 0 0,First,#,segment_crashes,from_measu,-1,-1;to_measure \"to_measure\" true true false 8 Double 0 0,First,#,segment_crashes,to_measure,-1,-1;functional \"functional\" true true false 4 Long 0 0,First,#,segment_crashes,functional,-1,-1;facility_t \"facility_t\" true true false 4 Long 0 0,First,#,segment_crashes,facility_t,-1,-1;Shape__Len \"Shape__Len\" true true false 8 Double 0 0,First,#,segment_crashes,Shape__Len,-1,-1', '')\n"
   ]
  },
  {
   "cell_type": "code",
   "execution_count": null,
   "metadata": {
    "hidden": true
   },
   "outputs": [],
   "source": [
    "# Snap crashes to segments within 150 feet by edge\n",
    "arcpy.edit.Snap(\"segment_crashes_1\", \"segments EDGE '150 Feet'\")\n",
    "\n",
    "# For crashes WITHOUT junctions within 150 feet. \n",
    "# Count the total crashes, sum the number of fatalities, injuries, and non-motorized fatalities+injuries.\n",
    "arcpy.analysis.SpatialJoin(\"segments_0\", \"segment_crashes_1\", \n",
    "                           r\"safety_layers.gdb\\segments_1\", \n",
    "                           \"JOIN_ONE_TO_ONE\", \"KEEP_ALL\", \n",
    "                           'route_id \"Route ID\" true true false 32 Text 0 0,First,#,segments,route_id,0,32;functional_classification_code \"Functional Classification Code\" true true false 2 Short 0 0,First,#,segments,functional_classification_code,-1,-1;functional_classification \"Functional Classification\" true true false 255 Text 0 0,First,#,segments,functional_classification,0,255;Shape_Length \"Shape_Length\" false true true 8 Double 0 0,First,#,segments,Shape_Length,-1,-1;crashes \"crashes\" true true false 255 Double 0 0,Count,#,segment_crashes,TotalUnits,-1,-1;injury_crashes \"injury_crashes\" true true false 255 Double 0 0,Sum,#,segment_crashes,TotalInjuries,-1,-1;fatal_crashes \"fatal_crashes\" true true false 255 Double 0 0,Sum,#,segment_crashes,TotalFatalities,-1,-1;fatal_injury_crashes \"fatal_injury_crashes\" true true false 255 Double 0 0,Sum,#,segment_crashes,TotalFatalities,-1,-1,segment_crashes,TotalInjuries,-1,-1;non_motorized_fatal_injury_crashes \"non_motorized_fatal_injury_crashes\" true true false 255 Double 0 0,Sum,#,segment_crashes,non_motorized_serious_injuries,-1,-1,segment_crashes,TotalNonMotoristsFatalities,-1,-1', \n",
    "                           \"INTERSECT\", None, '')"
   ]
  },
  {
   "cell_type": "code",
   "execution_count": null,
   "metadata": {
    "hidden": true
   },
   "outputs": [],
   "source": [
    "# Impaired Crashes\n",
    "\n",
    "# Set the query expression\n",
    "query_expression = \"AlcoholInvolvementFlag = 1 OR DrugInvolvementFlag = 1\"\n",
    "\n",
    "# Select features that satisfy the query expression in segment and junction crashes\n",
    "segment_crashes_selected = arcpy.Select_analysis(\"segment_crashes_1\", \"segment_crashes_selected\", query_expression)\n",
    "junction_crashes_selected = arcpy.Select_analysis(\"junction_crashes\", \"junction_crashes_selected\", query_expression)\n",
    "\n",
    "\n",
    "# Spatial join to get impaired crashes\n",
    "arcpy.analysis.SpatialJoin(\"segments_1\", \"segment_crashes_selected\", r\"safety_layers.gdb\\segments_2\", \"JOIN_ONE_TO_ONE\", \"KEEP_ALL\", 'Join_Count \"Join_Count\" true true false 4 Long 0 0,First,#,segments_1,Join_Count,-1,-1;TARGET_FID \"TARGET_FID\" true true false 4 Long 0 0,First,#,segments_1,TARGET_FID,-1,-1;route_id \"Route ID\" true true false 32 Text 0 0,First,#,segments_1,route_id,0,32;functional_classification_code \"Functional Classification Code\" true true false 2 Short 0 0,First,#,segments_1,functional_classification_code,-1,-1;functional_classification \"Functional Classification\" true true false 255 Text 0 0,First,#,segments_1,functional_classification,0,255;crashes \"crashes\" true true false 8 Double 0 0,First,#,segments_1,crashes,-1,-1;injury_crashes \"injury_crashes\" true true false 8 Double 0 0,First,#,segments_1,injury_crashes,-1,-1;fatal_crashes \"fatal_crashes\" true true false 8 Double 0 0,First,#,segments_1,fatal_crashes,-1,-1;fatal_injury_crashes \"fatal_injury_crashes\" true true false 8 Double 0 0,First,#,segments_1,fatal_injury_crashes,-1,-1;non_motorized_fatal_injury_crashes \"non_motorized_fatal_injury_crashes\" true true false 8 Double 0 0,First,#,segments_1,non_motorized_fatal_injury_crashes,-1,-1;impaired_driving_crashes \"impaired_driving_crashes\" true true false 255 Double 0 0,Count,#,segment_crashes_selected,TotalUnits,-1,-1', \"WITHIN_A_DISTANCE\", \"150 Feet\", '')\n",
    "\n",
    "arcpy.analysis.SpatialJoin(\"junctions_1\", \"junction_crashes_selected\", r\"safety_layers.gdb\\junctions_2\", \"JOIN_ONE_TO_ONE\", \"KEEP_ALL\", 'Join_Count \"Join_Count\" true true false 4 Long 0 0,First,#,junctions_1,Join_Count,-1,-1;TARGET_FID \"TARGET_FID\" true true false 4 Long 0 0,First,#,junctions_1,TARGET_FID,-1,-1;FID_Junctions_SunCloud_Select \"FID_Junctions_SunCloud_Select\" true true false 4 Long 0 0,First,#,junctions_1,FID_Junctions_SunCloud_Select,-1,-1;FromDate \"FromDate\" true true false 8 Date 0 0,First,#,junctions_1,FromDate,-1,-1;ToDate \"ToDate\" true true false 8 Date 0 0,First,#,junctions_1,ToDate,-1,-1;RouteID \"RouteID\" true true false 32 Text 0 0,First,#,junctions_1,RouteID,0,32;Measure \"Measure\" true true false 8 Double 0 0,First,#,junctions_1,Measure,-1,-1;MasterJunc \"MasterJunc\" true true false 38 Text 0 0,First,#,junctions_1,MasterJunc,0,38;NumberOfLe \"NumberOfLe\" true true false 4 Long 0 0,First,#,junctions_1,NumberOfLe,-1,-1;JunctionGe \"JunctionGe\" true true false 4 Long 0 0,First,#,junctions_1,JunctionGe,-1,-1;JunctionsS \"JunctionsS\" true true false 2 Text 0 0,First,#,junctions_1,JunctionsS,0,2;TrafficCon \"TrafficCon\" true true false 4 Long 0 0,First,#,junctions_1,TrafficCon,-1,-1;TurnCode \"TurnCode\" true true false 10 Text 0 0,First,#,junctions_1,TurnCode,0,10;Detection \"Detection\" true true false 4 Long 0 0,First,#,junctions_1,Detection,-1,-1;Signalizat \"Signalizat\" true true false 4 Long 0 0,First,#,junctions_1,Signalizat,-1,-1;RailCrossi \"RailCrossi\" true true false 7 Text 0 0,First,#,junctions_1,RailCrossi,0,7;SchoolZone \"SchoolZone\" true true false 4 Long 0 0,First,#,junctions_1,SchoolZone,-1,-1;BicycleFac \"BicycleFac\" true true false 4 Long 0 0,First,#,junctions_1,BicycleFac,-1,-1;Crosswalk \"Crosswalk\" true true false 4 Long 0 0,First,#,junctions_1,Crosswalk,-1,-1;PctGreenTi \"PctGreenTi\" true true false 4 Long 0 0,First,#,junctions_1,PctGreenTi,-1,-1;PctGreen_1 \"PctGreen_1\" true true false 4 Long 0 0,First,#,junctions_1,PctGreen_1,-1,-1;SourceID \"SourceID\" true true false 4 Long 0 0,First,#,junctions_1,SourceID,-1,-1;JunctionMa \"JunctionMa\" true true false 4 Long 0 0,First,#,junctions_1,JunctionMa,-1,-1;JunctionTy \"JunctionTy\" true true false 4 Long 0 0,First,#,junctions_1,JunctionTy,-1,-1;OffsetInte \"OffsetInte\" true true false 1 Text 0 0,First,#,junctions_1,OffsetInte,0,1;OffsetIn_1 \"OffsetIn_1\" true true false 8 Double 0 0,First,#,junctions_1,OffsetIn_1,-1,-1;InServiceD \"InServiceD\" true true false 8 Date 0 0,First,#,junctions_1,InServiceD,-1,-1;FID_sun_cloud_routes \"FID_sun_cloud_routes\" true true false 4 Long 0 0,First,#,junctions_1,FID_sun_cloud_routes,-1,-1;route_id \"route_id\" true true false 32 Text 0 0,First,#,junctions_1,route_id,0,32;from_measu \"from_measu\" true true false 8 Double 0 0,First,#,junctions_1,from_measu,-1,-1;to_measure \"to_measure\" true true false 8 Double 0 0,First,#,junctions_1,to_measure,-1,-1;functional \"functional\" true true false 4 Long 0 0,First,#,junctions_1,functional,-1,-1;facility_t \"facility_t\" true true false 4 Long 0 0,First,#,junctions_1,facility_t,-1,-1;crashes \"crashes\" true true false 255 Text 0 0,First,#,junctions_1,crashes,0,255;injury_crashes \"injury_crashes\" true true false 8 Double 0 0,First,#,junctions_1,injury_crashes,-1,-1;fatal_crashes \"fatal_crashes\" true true false 8 Double 0 0,First,#,junctions_1,fatal_crashes,-1,-1;fatal_injury_crashes \"fatal_injury_crashes\" true true false 8 Double 0 0,First,#,junctions_1,fatal_injury_crashes,-1,-1;non_motorized_fatal_injury \"non_motorized_fatal_injury\" true true false 8 Double 0 0,First,#,junctions_1,non_motorized_fatal_injury,-1,-1;impaired_driving_crashes \"impaired_driving_crashes\" true true false 255 Double 0 0,Count,#,junction_crashes_selected,TotalUnits,-1,-1', \"WITHIN_A_DISTANCE\", \"150 Feet\", '')\n"
   ]
  },
  {
   "cell_type": "markdown",
   "metadata": {
    "heading_collapsed": true
   },
   "source": [
    "#### Crash Rates"
   ]
  },
  {
   "cell_type": "markdown",
   "metadata": {
    "hidden": true
   },
   "source": [
    "Junction and Segment Crash Rates Calculation: https://safety.fhwa.dot.gov/local_rural/training/fhwasa1210/s3.cfm"
   ]
  },
  {
   "cell_type": "code",
   "execution_count": null,
   "metadata": {
    "hidden": true
   },
   "outputs": [],
   "source": [
    "# Calculate length of segments\n",
    "arcpy.management.CalculateGeometryAttributes(\"segments_2\", \n",
    "                                             \"Length_Miles LENGTH_GEODESIC\", \n",
    "                                             \"MILES_INT\", \n",
    "                                             '', \n",
    "                                             None, \n",
    "                                             \"SAME_AS_INPUT\")"
   ]
  },
  {
   "cell_type": "code",
   "execution_count": null,
   "metadata": {
    "hidden": true
   },
   "outputs": [],
   "source": [
    "# Calculate VMT and MVM for Segments\n",
    "# Join AADT values to segment layer\n",
    "# This is buffered 200 feet for instances where there is a dual carriage\n",
    "arcpy.analysis.SpatialJoin(\"segments_2\", \"aadt\", r\"safety_layers.gdb\\segments_3\", \"JOIN_ONE_TO_ONE\", \"KEEP_ALL\", 'Join_Count \"Join_Count\" true true false 4 Long 0 0,First,#,segments_2,Join_Count,-1,-1;TARGET_FID \"TARGET_FID\" true true false 4 Long 0 0,First,#,segments_2,TARGET_FID,-1,-1;Join_Count_1 \"Join_Count\" true true false 4 Long 0 0,First,#,segments_2,Join_Count_1,-1,-1;TARGET_FID_1 \"TARGET_FID\" true true false 4 Long 0 0,First,#,segments_2,TARGET_FID_1,-1,-1;route_id \"Route ID\" true true false 32 Text 0 0,First,#,segments_2,route_id,0,32;functional_classification_code \"Functional Classification Code\" true true false 2 Short 0 0,First,#,segments_2,functional_classification_code,-1,-1;functional_classification \"Functional Classification\" true true false 255 Text 0 0,First,#,segments_2,functional_classification,0,255;crashes \"crashes\" true true false 8 Double 0 0,First,#,segments_2,crashes,-1,-1;injury_crashes \"injury_crashes\" true true false 8 Double 0 0,First,#,segments_2,injury_crashes,-1,-1;fatal_crashes \"fatal_crashes\" true true false 8 Double 0 0,First,#,segments_2,fatal_crashes,-1,-1;fatal_injury_crashes \"fatal_injury_crashes\" true true false 8 Double 0 0,First,#,segments_2,fatal_injury_crashes,-1,-1;non_motorized_fatal_injury_crashes \"non_motorized_fatal_injury_crashes\" true true false 8 Double 0 0,First,#,segments_2,non_motorized_fatal_injury_crashes,-1,-1;impaired_driving_crashes \"impaired_driving_crashes\" true true false 8 Double 0 0,First,#,segments_2,impaired_driving_crashes,-1,-1;Shape_Length \"Shape_Length\" false true true 8 Double 0 0,First,#,segments_2,Shape_Length,-1,-1;Length_Miles \"Length_Miles\" true true false 8 Double 0 0,First,#,segments_2,Length_Miles,-1,-1;FromDate \"FromDate\" true true false 8 Date 0 0,First,#,aadt,FromDate,-1,-1;ToDate \"ToDate\" true true false 8 Date 0 0,First,#,aadt,ToDate,-1,-1;RouteId \"RouteId\" true true false 32 Text 0 0,First,#,aadt,RouteId,0,32;FromMeasure \"FromMeasure\" true true false 8 Double 0 0,First,#,aadt,FromMeasure,-1,-1;ToMeasure \"ToMeasure\" true true false 8 Double 0 0,First,#,aadt,ToMeasure,-1,-1;AADT \"AADT\" true true false 4 Long 0 0,First,#,aadt,AADT,-1,-1;InServiceDate \"InServiceDate\" true true false 8 Date 0 0,First,#,aadt,InServiceDate,-1,-1;Shape_Length_1 \"Shape_Length\" false true true 8 Double 0 0,First,#,aadt,Shape_Length,-1,-1', \"LARGEST_OVERLAP\", \"200 Feet\", '')\n",
    "arcpy.management.CalculateField(\"segments_3\", \"VMT\", \"!AADT! * !Length_Miles!\", \"PYTHON3\", '', \"DOUBLE\", \"NO_ENFORCE_DOMAINS\")\n",
    "\n",
    "arcpy.management.CalculateField(\"segments_3\", \"MVM\", \"(!VMT! * 365 * 5) / 1000000\", \"PYTHON3\", '', \"DOUBLE\", \"NO_ENFORCE_DOMAINS\")\n"
   ]
  },
  {
   "cell_type": "markdown",
   "metadata": {
    "hidden": true
   },
   "source": [
    "Calculate TEV and MEV for Junctions"
   ]
  },
  {
   "cell_type": "code",
   "execution_count": null,
   "metadata": {
    "hidden": true
   },
   "outputs": [],
   "source": [
    "# Calculate TEV and MEV for Junctions\n",
    "\n",
    "# Join AADT values to junction layer\n",
    "## Average number of vehicles entering intersection can be calculated by adding AADTs for all of the intersection legs, \n",
    "## and then dividing that by 4. This assumes that directional split of the roadway for the average day is 50/50 per approach.\n",
    "arcpy.analysis.SpatialJoin(\"junctions_2\", \"aadt\", r\"safety_layers.gdb\\junctions_3\", \"JOIN_ONE_TO_ONE\", \"KEEP_ALL\", 'Join_Count \"Join_Count\" true true false 4 Long 0 0,First,#,junctions_2,Join_Count,-1,-1;TARGET_FID \"TARGET_FID\" true true false 4 Long 0 0,First,#,junctions_2,TARGET_FID,-1,-1;Join_Count_1 \"Join_Count\" true true false 4 Long 0 0,First,#,junctions_2,Join_Count_1,-1,-1;TARGET_FID_1 \"TARGET_FID\" true true false 4 Long 0 0,First,#,junctions_2,TARGET_FID_1,-1,-1;FID_Junctions_SunCloud_Select \"FID_Junctions_SunCloud_Select\" true true false 4 Long 0 0,First,#,junctions_2,FID_Junctions_SunCloud_Select,-1,-1;FromDate \"FromDate\" true true false 8 Date 0 0,First,#,junctions_2,FromDate,-1,-1;ToDate \"ToDate\" true true false 8 Date 0 0,First,#,junctions_2,ToDate,-1,-1;RouteID \"RouteID\" true true false 32 Text 0 0,First,#,junctions_2,RouteID,0,32;Measure \"Measure\" true true false 8 Double 0 0,First,#,junctions_2,Measure,-1,-1;MasterJunc \"MasterJunc\" true true false 38 Text 0 0,First,#,junctions_2,MasterJunc,0,38;NumberOfLe \"NumberOfLe\" true true false 4 Long 0 0,First,#,junctions_2,NumberOfLe,-1,-1;JunctionGe \"JunctionGe\" true true false 4 Long 0 0,First,#,junctions_2,JunctionGe,-1,-1;JunctionsS \"JunctionsS\" true true false 2 Text 0 0,First,#,junctions_2,JunctionsS,0,2;TrafficCon \"TrafficCon\" true true false 4 Long 0 0,First,#,junctions_2,TrafficCon,-1,-1;TurnCode \"TurnCode\" true true false 10 Text 0 0,First,#,junctions_2,TurnCode,0,10;Detection \"Detection\" true true false 4 Long 0 0,First,#,junctions_2,Detection,-1,-1;Signalizat \"Signalizat\" true true false 4 Long 0 0,First,#,junctions_2,Signalizat,-1,-1;RailCrossi \"RailCrossi\" true true false 7 Text 0 0,First,#,junctions_2,RailCrossi,0,7;SchoolZone \"SchoolZone\" true true false 4 Long 0 0,First,#,junctions_2,SchoolZone,-1,-1;BicycleFac \"BicycleFac\" true true false 4 Long 0 0,First,#,junctions_2,BicycleFac,-1,-1;Crosswalk \"Crosswalk\" true true false 4 Long 0 0,First,#,junctions_2,Crosswalk,-1,-1;PctGreenTi \"PctGreenTi\" true true false 4 Long 0 0,First,#,junctions_2,PctGreenTi,-1,-1;PctGreen_1 \"PctGreen_1\" true true false 4 Long 0 0,First,#,junctions_2,PctGreen_1,-1,-1;SourceID \"SourceID\" true true false 4 Long 0 0,First,#,junctions_2,SourceID,-1,-1;JunctionMa \"JunctionMa\" true true false 4 Long 0 0,First,#,junctions_2,JunctionMa,-1,-1;JunctionTy \"JunctionTy\" true true false 4 Long 0 0,First,#,junctions_2,JunctionTy,-1,-1;OffsetInte \"OffsetInte\" true true false 1 Text 0 0,First,#,junctions_2,OffsetInte,0,1;OffsetIn_1 \"OffsetIn_1\" true true false 8 Double 0 0,First,#,junctions_2,OffsetIn_1,-1,-1;InServiceD \"InServiceD\" true true false 8 Date 0 0,First,#,junctions_2,InServiceD,-1,-1;FID_sun_cloud_routes \"FID_sun_cloud_routes\" true true false 4 Long 0 0,First,#,junctions_2,FID_sun_cloud_routes,-1,-1;route_id \"route_id\" true true false 32 Text 0 0,First,#,junctions_2,route_id,0,32;from_measu \"from_measu\" true true false 8 Double 0 0,First,#,junctions_2,from_measu,-1,-1;to_measure \"to_measure\" true true false 8 Double 0 0,First,#,junctions_2,to_measure,-1,-1;functional \"functional\" true true false 4 Long 0 0,First,#,junctions_2,functional,-1,-1;facility_t \"facility_t\" true true false 4 Long 0 0,First,#,junctions_2,facility_t,-1,-1;crashes \"crashes\" true true false 255 Text 0 0,First,#,junctions_2,crashes,0,255;injury_crashes \"injury_crashes\" true true false 8 Double 0 0,First,#,junctions_2,injury_crashes,-1,-1;fatal_crashes \"fatal_crashes\" true true false 8 Double 0 0,First,#,junctions_2,fatal_crashes,-1,-1;fatal_injury_crashes \"fatal_injury_crashes\" true true false 8 Double 0 0,First,#,junctions_2,fatal_injury_crashes,-1,-1;non_motorized_fatal_injury \"non_motorized_fatal_injury\" true true false 8 Double 0 0,First,#,junctions_2,non_motorized_fatal_injury,-1,-1;impaired_driving_crashes \"impaired_driving_crashes\" true true false 8 Double 0 0,First,#,junctions_2,impaired_driving_crashes,-1,-1;AADT \"AADT\" true true false 255 Double 0 0,Sum,#,aadt,AADT,-1,-1;aadt_major \"aadt_major\" true true false 255 Double 0 0,Max,#,aadt,AADT,-1,-1;aadt_minor \"aadt_minor\" true true false 255 Double 0 0,Min,#,aadt,AADT,-1,-1', \"WITHIN_A_DISTANCE\", \"150 Feet\", '')\n",
    "\n",
    "arcpy.management.CalculateField(\"junctions_3\", \n",
    "                                \"TEV\", \n",
    "                                \"!AADT! / 4\", \n",
    "                                \"PYTHON3\", \n",
    "                                '', \n",
    "                                \"DOUBLE\", \n",
    "                                \"NO_ENFORCE_DOMAINS\")\n",
    "\n",
    "arcpy.management.CalculateField(\"junctions_3\", \n",
    "                                \"MEV\", \n",
    "                                \"(!TEV! * 365 * 5) / 1000000\", \n",
    "                                \"PYTHON3\", \n",
    "                                '', \n",
    "                                \"DOUBLE\", \n",
    "                                \"NO_ENFORCE_DOMAINS\")"
   ]
  },
  {
   "cell_type": "code",
   "execution_count": null,
   "metadata": {
    "hidden": true
   },
   "outputs": [],
   "source": [
    "# Junctions Crash Rate\n",
    "# Injury Rate\n",
    "arcpy.management.CalculateField(\"junctions_3\", \n",
    "                                \"injury_rate\", \n",
    "                                \"!injury_crashes! / !MEV!\", \n",
    "                                \"PYTHON3\", \n",
    "                                '', \n",
    "                                \"DOUBLE\", \n",
    "                                \"NO_ENFORCE_DOMAINS\")\n",
    "\n",
    "# Fatal Injury Rate\n",
    "arcpy.management.CalculateField(\"junctions_3\", \n",
    "                                \"fatal_injury_rate\", \n",
    "                                \"!fatal_injury_crashes! / !MEV!\", \n",
    "                                \"PYTHON3\", \n",
    "                                '', \n",
    "                                \"DOUBLE\", \n",
    "                                \"NO_ENFORCE_DOMAINS\")\n"
   ]
  },
  {
   "cell_type": "code",
   "execution_count": null,
   "metadata": {
    "hidden": true
   },
   "outputs": [],
   "source": [
    "# Segment Crash Rate\n",
    "# Injury Rate\n",
    "arcpy.management.CalculateField(\"segments_3\", \n",
    "                                \"injury_rate\", \n",
    "                                \"0 if !MVM! == 0 else !injury_crashes! / !MVM!\", \n",
    "                                \"PYTHON3\", \n",
    "                                '', \n",
    "                                \"DOUBLE\", \n",
    "                                \"NO_ENFORCE_DOMAINS\")\n",
    "\n",
    "\n",
    "# Fatal Injury Rate\n",
    "arcpy.management.CalculateField(\"segments_3\", \n",
    "                                \"fatal_injuy_rate\", \n",
    "                                \"0 if !MVM! == 0 else !fatal_injury_crashes! / !MVM!\", \n",
    "                                \"PYTHON3\", \n",
    "                                '', \n",
    "                                \"DOUBLE\", \n",
    "                                \"NO_ENFORCE_DOMAINS\")\n"
   ]
  },
  {
   "cell_type": "markdown",
   "metadata": {
    "heading_collapsed": true
   },
   "source": [
    "#### Predictive Crashes Calculation"
   ]
  },
  {
   "cell_type": "code",
   "execution_count": null,
   "metadata": {
    "hidden": true
   },
   "outputs": [],
   "source": [
    "# Spatially join urban area info to segment layer\n",
    "\n",
    "# Perform the spatial join\n",
    "arcpy.analysis.SpatialJoin(\"segments_3\", \"urban_areas\", r\"safety_layers.gdb\\segments_4\", \"JOIN_ONE_TO_ONE\", \"KEEP_ALL\", 'Join_Count \"Join_Count\" true true false 4 Long 0 0,First,#,segments_3,Join_Count,-1,-1;TARGET_FID \"TARGET_FID\" true true false 4 Long 0 0,First,#,segments_3,TARGET_FID,-1,-1;Join_Count_1 \"Join_Count\" true true false 4 Long 0 0,First,#,segments_3,Join_Count_1,-1,-1;TARGET_FID_1 \"TARGET_FID\" true true false 4 Long 0 0,First,#,segments_3,TARGET_FID_1,-1,-1;Join_Count_12 \"Join_Count\" true true false 4 Long 0 0,First,#,segments_3,Join_Count_12,-1,-1;TARGET_FID_12 \"TARGET_FID\" true true false 4 Long 0 0,First,#,segments_3,TARGET_FID_12,-1,-1;route_id \"Route ID\" true true false 32 Text 0 0,First,#,segments_3,route_id,0,32;functional_classification_code \"Functional Classification Code\" true true false 2 Short 0 0,First,#,segments_3,functional_classification_code,-1,-1;functional_classification \"Functional Classification\" true true false 255 Text 0 0,First,#,segments_3,functional_classification,0,255;crashes \"crashes\" true true false 8 Double 0 0,First,#,segments_3,crashes,-1,-1;injury_crashes \"injury_crashes\" true true false 8 Double 0 0,First,#,segments_3,injury_crashes,-1,-1;fatal_crashes \"fatal_crashes\" true true false 8 Double 0 0,First,#,segments_3,fatal_crashes,-1,-1;fatal_injury_crashes \"fatal_injury_crashes\" true true false 8 Double 0 0,First,#,segments_3,fatal_injury_crashes,-1,-1;non_motorized_fatal_injury_crashes \"non_motorized_fatal_injury_crashes\" true true false 8 Double 0 0,First,#,segments_3,non_motorized_fatal_injury_crashes,-1,-1;impaired_driving_crashes \"impaired_driving_crashes\" true true false 8 Double 0 0,First,#,segments_3,impaired_driving_crashes,-1,-1;Length_Miles \"Length_Miles\" true true false 8 Double 0 0,First,#,segments_3,Length_Miles,-1,-1;FromDate \"FromDate\" true true false 8 Date 0 0,First,#,segments_3,FromDate,-1,-1;ToDate \"ToDate\" true true false 8 Date 0 0,First,#,segments_3,ToDate,-1,-1;RouteId \"RouteId\" true true false 32 Text 0 0,First,#,segments_3,RouteId,0,32;FromMeasure \"FromMeasure\" true true false 8 Double 0 0,First,#,segments_3,FromMeasure,-1,-1;ToMeasure \"ToMeasure\" true true false 8 Double 0 0,First,#,segments_3,ToMeasure,-1,-1;AADT \"AADT\" true true false 4 Long 0 0,First,#,segments_3,AADT,-1,-1;InServiceDate \"InServiceDate\" true true false 8 Date 0 0,First,#,segments_3,InServiceDate,-1,-1;Shape_Length_1 \"Shape_Length\" true true false 8 Double 0 0,First,#,segments_3,Shape_Length_1,-1,-1;Shape_Length \"Shape_Length\" false true true 8 Double 0 0,First,#,segments_3,Shape_Length,-1,-1;VMT \"VMT\" true true false 8 Double 0 0,First,#,segments_3,VMT,-1,-1;MVM \"MVM\" true true false 8 Double 0 0,First,#,segments_3,MVM,-1,-1;injury_rate \"injury_rate\" true true false 8 Double 0 0,First,#,segments_3,injury_rate,-1,-1;fatal_injuy_rate \"fatal_injuy_rate\" true true false 8 Double 0 0,First,#,segments_3,fatal_injuy_rate,-1,-1;UA_ID \"URBAN AREA ID\" true true false 5 Text 0 0,First,#,urban_areas,UA_ID,0,5;NAME \"NAME\" true true false 60 Text 0 0,First,#,urban_areas,NAME,0,60;LSAD \"LEGAL/STATISTICAL AREA CODE (LSAD)\" true true false 2 Text 0 0,First,#,urban_areas,LSAD,0,2;LSAD_DESC \"LSAD DESCRIPTION\" true true false 15 Text 0 0,First,#,urban_areas,LSAD_DESC,0,15;POP2010 \"POP2010\" true true false 4 Long 0 0,First,#,urban_areas,POP2010,-1,-1;POP10_SQMI \"POP10_SQMI\" true true false 8 Double 0 0,First,#,urban_areas,POP10_SQMI,-1,-1;HSE_UNITS \"HOUSING UNITS\" true true false 4 Long 0 0,First,#,urban_areas,HSE_UNITS,-1,-1;SQMI \"SQMI\" true true false 8 Double 0 0,First,#,urban_areas,SQMI,-1,-1;Shape_Length_12 \"Shape_Length\" false true true 8 Double 0 0,First,#,urban_areas,Shape_Length,-1,-1;Shape_Area \"Shape_Area\" false true true 8 Double 0 0,First,#,urban_areas,Shape_Area,-1,-1', \"WITHIN\", None, '')\n"
   ]
  },
  {
   "cell_type": "code",
   "execution_count": null,
   "metadata": {
    "hidden": true
   },
   "outputs": [],
   "source": [
    "arcpy.management.CalculateField(\"segments_4\", \"in_urban_area\", \"urban_area(!POP2010!)\", \"PYTHON3\", \"\"\"def urban_area(pop):\n",
    "    if pop >= 0:\n",
    "        return 1\n",
    "    else:\n",
    "        return 0\"\"\", \"DOUBLE\", \"NO_ENFORCE_DOMAINS\")"
   ]
  },
  {
   "cell_type": "code",
   "execution_count": null,
   "metadata": {
    "hidden": true
   },
   "outputs": [],
   "source": [
    "# Join ATIS layer to get divided/undivided attributes\n",
    "arcpy.analysis.SpatialJoin(\"segments_4\", \"atis\", r\"safety_final.gdb\\segments_5\", \"JOIN_ONE_TO_ONE\", \"KEEP_ALL\", 'Join_Count \"Join_Count\" true true false 4 Long 0 0,First,#,segments_4,Join_Count,-1,-1;TARGET_FID \"TARGET_FID\" true true false 4 Long 0 0,First,#,segments_4,TARGET_FID,-1,-1;Join_Count_1 \"Join_Count\" true true false 4 Long 0 0,First,#,segments_4,Join_Count_1,-1,-1;TARGET_FID_1 \"TARGET_FID\" true true false 4 Long 0 0,First,#,segments_4,TARGET_FID_1,-1,-1;Join_Count_12 \"Join_Count\" true true false 4 Long 0 0,First,#,segments_4,Join_Count_12,-1,-1;TARGET_FID_12 \"TARGET_FID\" true true false 4 Long 0 0,First,#,segments_4,TARGET_FID_12,-1,-1;Join_Count_12_13 \"Join_Count\" true true false 4 Long 0 0,First,#,segments_4,Join_Count_12_13,-1,-1;TARGET_FID_12_13 \"TARGET_FID\" true true false 4 Long 0 0,First,#,segments_4,TARGET_FID_12_13,-1,-1;route_id \"Route ID\" true true false 32 Text 0 0,First,#,segments_4,route_id,0,32;functional_classification_code \"Functional Classification Code\" true true false 2 Short 0 0,First,#,segments_4,functional_classification_code,-1,-1;functional_classification \"Functional Classification\" true true false 255 Text 0 0,First,#,segments_4,functional_classification,0,255;crashes \"crashes\" true true false 8 Double 0 0,First,#,segments_4,crashes,-1,-1;injury_crashes \"injury_crashes\" true true false 8 Double 0 0,First,#,segments_4,injury_crashes,-1,-1;fatal_crashes \"fatal_crashes\" true true false 8 Double 0 0,First,#,segments_4,fatal_crashes,-1,-1;fatal_injury_crashes \"fatal_injury_crashes\" true true false 8 Double 0 0,First,#,segments_4,fatal_injury_crashes,-1,-1;non_motorized_fatal_injury_crashes \"non_motorized_fatal_injury_crashes\" true true false 8 Double 0 0,First,#,segments_4,non_motorized_fatal_injury_crashes,-1,-1;impaired_driving_crashes \"impaired_driving_crashes\" true true false 8 Double 0 0,First,#,segments_4,impaired_driving_crashes,-1,-1;Length_Miles \"Length_Miles\" true true false 8 Double 0 0,First,#,segments_4,Length_Miles,-1,-1;FromDate \"FromDate\" true true false 8 Date 0 0,First,#,segments_4,FromDate,-1,-1;ToDate \"ToDate\" true true false 8 Date 0 0,First,#,segments_4,ToDate,-1,-1;RouteId \"RouteId\" true true false 32 Text 0 0,First,#,segments_4,RouteId,0,32;FromMeasure \"FromMeasure\" true true false 8 Double 0 0,First,#,segments_4,FromMeasure,-1,-1;ToMeasure \"ToMeasure\" true true false 8 Double 0 0,First,#,segments_4,ToMeasure,-1,-1;AADT \"AADT\" true true false 4 Long 0 0,First,#,segments_4,AADT,-1,-1;InServiceDate \"InServiceDate\" true true false 8 Date 0 0,First,#,segments_4,InServiceDate,-1,-1;Shape_Length_1 \"Shape_Length\" true true false 8 Double 0 0,First,#,segments_4,Shape_Length_1,-1,-1;VMT \"VMT\" true true false 8 Double 0 0,First,#,segments_4,VMT,-1,-1;MVM \"MVM\" true true false 8 Double 0 0,First,#,segments_4,MVM,-1,-1;injury_rate \"injury_rate\" true true false 8 Double 0 0,First,#,segments_4,injury_rate,-1,-1;fatal_injuy_rate \"fatal_injuy_rate\" true true false 8 Double 0 0,First,#,segments_4,fatal_injuy_rate,-1,-1;UA_ID \"URBAN AREA ID\" true true false 5 Text 0 0,First,#,segments_4,UA_ID,0,5;NAME \"NAME\" true true false 60 Text 0 0,First,#,segments_4,NAME,0,60;LSAD \"LEGAL/STATISTICAL AREA CODE (LSAD)\" true true false 2 Text 0 0,First,#,segments_4,LSAD,0,2;LSAD_DESC \"LSAD DESCRIPTION\" true true false 15 Text 0 0,First,#,segments_4,LSAD_DESC,0,15;POP2010 \"POP2010\" true true false 4 Long 0 0,First,#,segments_4,POP2010,-1,-1;POP10_SQMI \"POP10_SQMI\" true true false 8 Double 0 0,First,#,segments_4,POP10_SQMI,-1,-1;HSE_UNITS \"HOUSING UNITS\" true true false 4 Long 0 0,First,#,segments_4,HSE_UNITS,-1,-1;SQMI \"SQMI\" true true false 8 Double 0 0,First,#,segments_4,SQMI,-1,-1;Shape_Length_12 \"Shape_Length\" true true false 8 Double 0 0,First,#,segments_4,Shape_Length_12,-1,-1;Shape_Length \"Shape_Length\" false true true 8 Double 0 0,First,#,segments_4,Shape_Length,-1,-1;in_urban_area \"in_urban_area\" true true false 8 Double 0 0,First,#,segments_4,in_urban_area,-1,-1;RouteIsDivided \"Route Is Divided\" true true false 2 Short 0 0,First,#,atis,RouteIsDivided,-1,-1', \"LARGEST_OVERLAP\", None, '')\n",
    "\n",
    "# Fill in missing median data\n",
    "arcpy.analysis.SpatialJoin(\"segments_5\", \"median\", r\"safety_layers.gdb\\segments_6\", \"JOIN_ONE_TO_ONE\", \"KEEP_ALL\", 'Join_Count \"Join_Count\" true true false 4 Long 0 0,First,#,segments_5,Join_Count,-1,-1;TARGET_FID \"TARGET_FID\" true true false 4 Long 0 0,First,#,segments_5,TARGET_FID,-1,-1;Join_Count_1 \"Join_Count\" true true false 4 Long 0 0,First,#,segments_5,Join_Count_1,-1,-1;TARGET_FID_1 \"TARGET_FID\" true true false 4 Long 0 0,First,#,segments_5,TARGET_FID_1,-1,-1;Join_Count_12 \"Join_Count\" true true false 4 Long 0 0,First,#,segments_5,Join_Count_12,-1,-1;TARGET_FID_12 \"TARGET_FID\" true true false 4 Long 0 0,First,#,segments_5,TARGET_FID_12,-1,-1;Join_Count_12_13 \"Join_Count\" true true false 4 Long 0 0,First,#,segments_5,Join_Count_12_13,-1,-1;TARGET_FID_12_13 \"TARGET_FID\" true true false 4 Long 0 0,First,#,segments_5,TARGET_FID_12_13,-1,-1;Join_Count_12_13_14 \"Join_Count\" true true false 4 Long 0 0,First,#,segments_5,Join_Count_12_13_14,-1,-1;TARGET_FID_12_13_14 \"TARGET_FID\" true true false 4 Long 0 0,First,#,segments_5,TARGET_FID_12_13_14,-1,-1;route_id \"Route ID\" true true false 32 Text 0 0,First,#,segments_5,route_id,0,32;functional_classification_code \"Functional Classification Code\" true true false 2 Short 0 0,First,#,segments_5,functional_classification_code,-1,-1;functional_classification \"Functional Classification\" true true false 255 Text 0 0,First,#,segments_5,functional_classification,0,255;crashes \"crashes\" true true false 8 Double 0 0,First,#,segments_5,crashes,-1,-1;injury_crashes \"injury_crashes\" true true false 8 Double 0 0,First,#,segments_5,injury_crashes,-1,-1;fatal_crashes \"fatal_crashes\" true true false 8 Double 0 0,First,#,segments_5,fatal_crashes,-1,-1;fatal_injury_crashes \"fatal_injury_crashes\" true true false 8 Double 0 0,First,#,segments_5,fatal_injury_crashes,-1,-1;non_motorized_fatal_injury_crashes \"non_motorized_fatal_injury_crashes\" true true false 8 Double 0 0,First,#,segments_5,non_motorized_fatal_injury_crashes,-1,-1;impaired_driving_crashes \"impaired_driving_crashes\" true true false 8 Double 0 0,First,#,segments_5,impaired_driving_crashes,-1,-1;Length_Miles \"Length_Miles\" true true false 8 Double 0 0,First,#,segments_5,Length_Miles,-1,-1;FromDate \"FromDate\" true true false 8 Date 0 0,First,#,segments_5,FromDate,-1,-1;ToDate \"ToDate\" true true false 8 Date 0 0,First,#,segments_5,ToDate,-1,-1;RouteId \"RouteId\" true true false 32 Text 0 0,First,#,segments_5,RouteId,0,32;FromMeasure \"FromMeasure\" true true false 8 Double 0 0,First,#,segments_5,FromMeasure,-1,-1;ToMeasure \"ToMeasure\" true true false 8 Double 0 0,First,#,segments_5,ToMeasure,-1,-1;AADT \"AADT\" true true false 4 Long 0 0,First,#,segments_5,AADT,-1,-1;InServiceDate \"InServiceDate\" true true false 8 Date 0 0,First,#,segments_5,InServiceDate,-1,-1;Shape_Length_1 \"Shape_Length\" true true false 8 Double 0 0,First,#,segments_5,Shape_Length_1,-1,-1;VMT \"VMT\" true true false 8 Double 0 0,First,#,segments_5,VMT,-1,-1;MVM \"MVM\" true true false 8 Double 0 0,First,#,segments_5,MVM,-1,-1;injury_rate \"injury_rate\" true true false 8 Double 0 0,First,#,segments_5,injury_rate,-1,-1;fatal_injuy_rate \"fatal_injuy_rate\" true true false 8 Double 0 0,First,#,segments_5,fatal_injuy_rate,-1,-1;UA_ID \"URBAN AREA ID\" true true false 5 Text 0 0,First,#,segments_5,UA_ID,0,5;NAME \"NAME\" true true false 60 Text 0 0,First,#,segments_5,NAME,0,60;LSAD \"LEGAL/STATISTICAL AREA CODE (LSAD)\" true true false 2 Text 0 0,First,#,segments_5,LSAD,0,2;LSAD_DESC \"LSAD DESCRIPTION\" true true false 15 Text 0 0,First,#,segments_5,LSAD_DESC,0,15;POP2010 \"POP2010\" true true false 4 Long 0 0,First,#,segments_5,POP2010,-1,-1;POP10_SQMI \"POP10_SQMI\" true true false 8 Double 0 0,First,#,segments_5,POP10_SQMI,-1,-1;HSE_UNITS \"HOUSING UNITS\" true true false 4 Long 0 0,First,#,segments_5,HSE_UNITS,-1,-1;SQMI \"SQMI\" true true false 8 Double 0 0,First,#,segments_5,SQMI,-1,-1;Shape_Length_12 \"Shape_Length\" true true false 8 Double 0 0,First,#,segments_5,Shape_Length_12,-1,-1;in_urban_area \"in_urban_area\" true true false 8 Double 0 0,First,#,segments_5,in_urban_area,-1,-1;RouteIsDivided \"Route Is Divided\" true true false 2 Short 0 0,First,#,segments_5,RouteIsDivided,-1,-1;Shape_Length \"Shape_Length\" false true true 8 Double 0 0,First,#,segments_5,Shape_Length,-1,-1;FromDate_1 \"FromDate\" true true false 200 Text 0 0,First,#,median,FromDate,0,200;ToDate_1 \"ToDate\" true true false 200 Text 0 0,First,#,median,ToDate,0,200;RouteId_1 \"RouteId\" true true false 200 Text 0 0,First,#,median,RouteId,0,200;FromMeasure_1 \"FromMeasure\" true true false 200 Text 0 0,First,#,median,FromMeasure,0,200;ToMeasure_1 \"ToMeasure\" true true false 200 Text 0 0,First,#,median,ToMeasure,0,200;MedianWidthFt \"MedianWidthFt\" true true false 200 Text 0 0,First,#,median,MedianWidthFt,0,200;MedianType \"MedianType\" true true false 200 Text 0 0,First,#,median,MedianType,0,200;NumberOfLanes \"NumberOfLanes\" true true false 200 Text 0 0,First,#,median,NumberOfLanes,0,200;BeginWidthFt \"BeginWidthFt\" true true false 200 Text 0 0,First,#,median,BeginWidthFt,0,200;EndWidthFt \"EndWidthFt\" true true false 200 Text 0 0,First,#,median,EndWidthFt,0,200;OTTYear \"OTTYear\" true true false 200 Text 0 0,First,#,median,OTTYear,0,200;AuxLaneType \"AuxLaneType\" true true false 200 Text 0 0,First,#,median,AuxLaneType,0,200;AuxLaneTypeForSymbol \"AuxLaneTypeForSymbol\" true true false 200 Text 0 0,First,#,median,AuxLaneTypeForSymbol,0,200;InServiceDate_1 \"InServiceDate\" true true false 200 Text 0 0,First,#,median,InServiceDate,0,200;OutServiceDate \"OutServiceDate\" true true false 200 Text 0 0,First,#,median,OutServiceDate,0,200;SourceYear \"SourceYear\" true true false 200 Text 0 0,First,#,median,SourceYear,0,200;GlobalID \"GlobalID\" false false true 38 GlobalID 0 0,First,#,median,GlobalID,-1,-1;Shape_Length_12_13 \"Shape_Length\" false true true 8 Double 0 0,First,#,median,Shape_Length,-1,-1', \"LARGEST_OVERLAP\", None, '')\n",
    "\n",
    "# Filter to just divided/undivided null and median not null\n",
    "arcpy.management.CalculateField(\"segments_6\", \"divided\", \n",
    "    \"choose_spf(!divided!, !MedianType!, !RouteIsDivided!)\", \"PYTHON3\", \"\"\"\n",
    "def choose_spf(divided, median_type, route_is_divided):\n",
    "    if median_type == \"Curbed - raised\" or median_type == \"Positive barrier - rigid\" or route_is_divided == 1:\n",
    "        return 1\n",
    "    else:\n",
    "        return 0\n",
    "\"\"\", \"DOUBLE\")\n",
    "\n",
    "# Join HPMS to segments to get Number of Lanes\n",
    "arcpy.analysis.SpatialJoin(\"segments_6\", \"through_lanes\", r\"safety_layers.gdb\\segments_7\", \"JOIN_ONE_TO_ONE\", \"KEEP_ALL\", 'Join_Count \"Join_Count\" true true false 4 Long 0 0,First,#,segments_6,Join_Count,-1,-1;TARGET_FID \"TARGET_FID\" true true false 4 Long 0 0,First,#,segments_6,TARGET_FID,-1,-1;Join_Count_1 \"Join_Count\" true true false 4 Long 0 0,First,#,segments_6,Join_Count_1,-1,-1;TARGET_FID_1 \"TARGET_FID\" true true false 4 Long 0 0,First,#,segments_6,TARGET_FID_1,-1,-1;Join_Count_12 \"Join_Count\" true true false 4 Long 0 0,First,#,segments_6,Join_Count_12,-1,-1;TARGET_FID_12 \"TARGET_FID\" true true false 4 Long 0 0,First,#,segments_6,TARGET_FID_12,-1,-1;Join_Count_12_13 \"Join_Count\" true true false 4 Long 0 0,First,#,segments_6,Join_Count_12_13,-1,-1;TARGET_FID_12_13 \"TARGET_FID\" true true false 4 Long 0 0,First,#,segments_6,TARGET_FID_12_13,-1,-1;Join_Count_12_13_14 \"Join_Count\" true true false 4 Long 0 0,First,#,segments_6,Join_Count_12_13_14,-1,-1;TARGET_FID_12_13_14 \"TARGET_FID\" true true false 4 Long 0 0,First,#,segments_6,TARGET_FID_12_13_14,-1,-1;Join_Count_12_13_14_15 \"Join_Count\" true true false 4 Long 0 0,First,#,segments_6,Join_Count_12_13_14_15,-1,-1;TARGET_FID_12_13_14_15 \"TARGET_FID\" true true false 4 Long 0 0,First,#,segments_6,TARGET_FID_12_13_14_15,-1,-1;route_id \"Route ID\" true true false 32 Text 0 0,First,#,segments_6,route_id,0,32;functional_classification_code \"Functional Classification Code\" true true false 2 Short 0 0,First,#,segments_6,functional_classification_code,-1,-1;functional_classification \"Functional Classification\" true true false 255 Text 0 0,First,#,segments_6,functional_classification,0,255;crashes \"crashes\" true true false 8 Double 0 0,First,#,segments_6,crashes,-1,-1;injury_crashes \"injury_crashes\" true true false 8 Double 0 0,First,#,segments_6,injury_crashes,-1,-1;fatal_crashes \"fatal_crashes\" true true false 8 Double 0 0,First,#,segments_6,fatal_crashes,-1,-1;fatal_injury_crashes \"fatal_injury_crashes\" true true false 8 Double 0 0,First,#,segments_6,fatal_injury_crashes,-1,-1;non_motorized_fatal_injury_crashes \"non_motorized_fatal_injury_crashes\" true true false 8 Double 0 0,First,#,segments_6,non_motorized_fatal_injury_crashes,-1,-1;impaired_driving_crashes \"impaired_driving_crashes\" true true false 8 Double 0 0,First,#,segments_6,impaired_driving_crashes,-1,-1;Length_Miles \"Length_Miles\" true true false 8 Double 0 0,First,#,segments_6,Length_Miles,-1,-1;FromDate \"FromDate\" true true false 8 Date 0 0,First,#,segments_6,FromDate,-1,-1;ToDate \"ToDate\" true true false 8 Date 0 0,First,#,segments_6,ToDate,-1,-1;RouteId \"RouteId\" true true false 32 Text 0 0,First,#,segments_6,RouteId,0,32;FromMeasure \"FromMeasure\" true true false 8 Double 0 0,First,#,segments_6,FromMeasure,-1,-1;ToMeasure \"ToMeasure\" true true false 8 Double 0 0,First,#,segments_6,ToMeasure,-1,-1;AADT \"AADT\" true true false 4 Long 0 0,First,#,segments_6,AADT,-1,-1;InServiceDate \"InServiceDate\" true true false 8 Date 0 0,First,#,segments_6,InServiceDate,-1,-1;Shape_Length_1 \"Shape_Length\" true true false 8 Double 0 0,First,#,segments_6,Shape_Length_1,-1,-1;VMT \"VMT\" true true false 8 Double 0 0,First,#,segments_6,VMT,-1,-1;MVM \"MVM\" true true false 8 Double 0 0,First,#,segments_6,MVM,-1,-1;injury_rate \"injury_rate\" true true false 8 Double 0 0,First,#,segments_6,injury_rate,-1,-1;fatal_injuy_rate \"fatal_injuy_rate\" true true false 8 Double 0 0,First,#,segments_6,fatal_injuy_rate,-1,-1;UA_ID \"URBAN AREA ID\" true true false 5 Text 0 0,First,#,segments_6,UA_ID,0,5;NAME \"NAME\" true true false 60 Text 0 0,First,#,segments_6,NAME,0,60;LSAD \"LEGAL/STATISTICAL AREA CODE (LSAD)\" true true false 2 Text 0 0,First,#,segments_6,LSAD,0,2;LSAD_DESC \"LSAD DESCRIPTION\" true true false 15 Text 0 0,First,#,segments_6,LSAD_DESC,0,15;POP2010 \"POP2010\" true true false 4 Long 0 0,First,#,segments_6,POP2010,-1,-1;POP10_SQMI \"POP10_SQMI\" true true false 8 Double 0 0,First,#,segments_6,POP10_SQMI,-1,-1;HSE_UNITS \"HOUSING UNITS\" true true false 4 Long 0 0,First,#,segments_6,HSE_UNITS,-1,-1;SQMI \"SQMI\" true true false 8 Double 0 0,First,#,segments_6,SQMI,-1,-1;Shape_Length_12 \"Shape_Length\" true true false 8 Double 0 0,First,#,segments_6,Shape_Length_12,-1,-1;in_urban_area \"in_urban_area\" true true false 8 Double 0 0,First,#,segments_6,in_urban_area,-1,-1;RouteIsDivided \"Route Is Divided\" true true false 2 Short 0 0,First,#,segments_6,RouteIsDivided,-1,-1;FromDate_1 \"FromDate\" true true false 200 Text 0 0,First,#,segments_6,FromDate_1,0,200;ToDate_1 \"ToDate\" true true false 200 Text 0 0,First,#,segments_6,ToDate_1,0,200;RouteId_1 \"RouteId\" true true false 200 Text 0 0,First,#,segments_6,RouteId_1,0,200;FromMeasure_1 \"FromMeasure\" true true false 200 Text 0 0,First,#,segments_6,FromMeasure_1,0,200;ToMeasure_1 \"ToMeasure\" true true false 200 Text 0 0,First,#,segments_6,ToMeasure_1,0,200;MedianWidthFt \"MedianWidthFt\" true true false 200 Text 0 0,First,#,segments_6,MedianWidthFt,0,200;MedianType \"MedianType\" true true false 200 Text 0 0,First,#,segments_6,MedianType,0,200;NumberOfLanes \"NumberOfLanes\" true true false 200 Text 0 0,First,#,through_lanes,NumberOfLanes,-1,-1;BeginWidthFt \"BeginWidthFt\" true true false 200 Text 0 0,First,#,segments_6,BeginWidthFt,0,200;EndWidthFt \"EndWidthFt\" true true false 200 Text 0 0,First,#,segments_6,EndWidthFt,0,200;OTTYear \"OTTYear\" true true false 200 Text 0 0,First,#,segments_6,OTTYear,0,200;AuxLaneType \"AuxLaneType\" true true false 200 Text 0 0,First,#,segments_6,AuxLaneType,0,200;AuxLaneTypeForSymbol \"AuxLaneTypeForSymbol\" true true false 200 Text 0 0,First,#,segments_6,AuxLaneTypeForSymbol,0,200;InServiceDate_1 \"InServiceDate\" true true false 200 Text 0 0,First,#,segments_6,InServiceDate_1,0,200;OutServiceDate \"OutServiceDate\" true true false 200 Text 0 0,First,#,segments_6,OutServiceDate,0,200;SourceYear \"SourceYear\" true true false 200 Text 0 0,First,#,segments_6,SourceYear,0,200;Shape_Length_12_13 \"Shape_Length\" true true false 8 Double 0 0,First,#,segments_6,Shape_Length_12_13,-1,-1;Shape_Length \"Shape_Length\" false true true 8 Double 0 0,First,#,segments_6,Shape_Length,-1,-1;divided \"divided\" true true false 8 Double 0 0,First,#,segments_6,divided,-1,-1', \"LARGEST_OVERLAP\", \"150 Feet\", '')"
   ]
  },
  {
   "cell_type": "code",
   "execution_count": null,
   "metadata": {
    "hidden": true
   },
   "outputs": [],
   "source": [
    "# Change to double\n",
    "arcpy.management.CalculateField(\"segments_7\", \"num_lanes\", \"!NumberOfLanes!\", \"PYTHON3\", '', \"DOUBLE\", \"NO_ENFORCE_DOMAINS\")\n"
   ]
  },
  {
   "cell_type": "code",
   "execution_count": null,
   "metadata": {
    "hidden": true
   },
   "outputs": [],
   "source": [
    "# Get number of entering lanes by summing number of lanes for each intersecting segment\n",
    "arcpy.analysis.SpatialJoin(\"junctions_3\", \"segments_7\", r\"safety_layers.gdb\\junctions_4\", \"JOIN_ONE_TO_ONE\", \"KEEP_ALL\", 'Join_Count \"Join_Count\" true true false 4 Long 0 0,First,#,junctions_3,Join_Count,-1,-1;TARGET_FID \"TARGET_FID\" true true false 4 Long 0 0,First,#,junctions_3,TARGET_FID,-1,-1;Join_Count_1 \"Join_Count\" true true false 4 Long 0 0,First,#,junctions_3,Join_Count_1,-1,-1;TARGET_FID_1 \"TARGET_FID\" true true false 4 Long 0 0,First,#,junctions_3,TARGET_FID_1,-1,-1;Join_Count_12 \"Join_Count\" true true false 4 Long 0 0,First,#,junctions_3,Join_Count_12,-1,-1;TARGET_FID_12 \"TARGET_FID\" true true false 4 Long 0 0,First,#,junctions_3,TARGET_FID_12,-1,-1;FID_Junctions_SunCloud_Select \"FID_Junctions_SunCloud_Select\" true true false 4 Long 0 0,First,#,junctions_3,FID_Junctions_SunCloud_Select,-1,-1;FromDate \"FromDate\" true true false 8 Date 0 0,First,#,junctions_3,FromDate,-1,-1;ToDate \"ToDate\" true true false 8 Date 0 0,First,#,junctions_3,ToDate,-1,-1;RouteID \"RouteID\" true true false 32 Text 0 0,First,#,junctions_3,RouteID,0,32;Measure \"Measure\" true true false 8 Double 0 0,First,#,junctions_3,Measure,-1,-1;MasterJunc \"MasterJunc\" true true false 38 Text 0 0,First,#,junctions_3,MasterJunc,0,38;NumberOfLe \"NumberOfLe\" true true false 4 Long 0 0,First,#,junctions_3,NumberOfLe,-1,-1;JunctionGe \"JunctionGe\" true true false 4 Long 0 0,First,#,junctions_3,JunctionGe,-1,-1;JunctionsS \"JunctionsS\" true true false 2 Text 0 0,First,#,junctions_3,JunctionsS,0,2;TrafficCon \"TrafficCon\" true true false 4 Long 0 0,First,#,junctions_3,TrafficCon,-1,-1;TurnCode \"TurnCode\" true true false 10 Text 0 0,First,#,junctions_3,TurnCode,0,10;Detection \"Detection\" true true false 4 Long 0 0,First,#,junctions_3,Detection,-1,-1;Signalizat \"Signalizat\" true true false 4 Long 0 0,First,#,junctions_3,Signalizat,-1,-1;RailCrossi \"RailCrossi\" true true false 7 Text 0 0,First,#,junctions_3,RailCrossi,0,7;SchoolZone \"SchoolZone\" true true false 4 Long 0 0,First,#,junctions_3,SchoolZone,-1,-1;BicycleFac \"BicycleFac\" true true false 4 Long 0 0,First,#,junctions_3,BicycleFac,-1,-1;Crosswalk \"Crosswalk\" true true false 4 Long 0 0,First,#,junctions_3,Crosswalk,-1,-1;PctGreenTi \"PctGreenTi\" true true false 4 Long 0 0,First,#,junctions_3,PctGreenTi,-1,-1;PctGreen_1 \"PctGreen_1\" true true false 4 Long 0 0,First,#,junctions_3,PctGreen_1,-1,-1;SourceID \"SourceID\" true true false 4 Long 0 0,First,#,junctions_3,SourceID,-1,-1;JunctionMa \"JunctionMa\" true true false 4 Long 0 0,First,#,junctions_3,JunctionMa,-1,-1;JunctionTy \"JunctionTy\" true true false 4 Long 0 0,First,#,junctions_3,JunctionTy,-1,-1;OffsetInte \"OffsetInte\" true true false 1 Text 0 0,First,#,junctions_3,OffsetInte,0,1;OffsetIn_1 \"OffsetIn_1\" true true false 8 Double 0 0,First,#,junctions_3,OffsetIn_1,-1,-1;InServiceD \"InServiceD\" true true false 8 Date 0 0,First,#,junctions_3,InServiceD,-1,-1;FID_sun_cloud_routes \"FID_sun_cloud_routes\" true true false 4 Long 0 0,First,#,junctions_3,FID_sun_cloud_routes,-1,-1;route_id \"route_id\" true true false 32 Text 0 0,First,#,junctions_3,route_id,0,32;from_measu \"from_measu\" true true false 8 Double 0 0,First,#,junctions_3,from_measu,-1,-1;to_measure \"to_measure\" true true false 8 Double 0 0,First,#,junctions_3,to_measure,-1,-1;functional \"functional\" true true false 4 Long 0 0,First,#,junctions_3,functional,-1,-1;facility_t \"facility_t\" true true false 4 Long 0 0,First,#,junctions_3,facility_t,-1,-1;crashes \"crashes\" true true false 255 Text 0 0,First,#,junctions_3,crashes,0,255;injury_crashes \"injury_crashes\" true true false 8 Double 0 0,First,#,junctions_3,injury_crashes,-1,-1;fatal_crashes \"fatal_crashes\" true true false 8 Double 0 0,First,#,junctions_3,fatal_crashes,-1,-1;fatal_injury_crashes \"fatal_injury_crashes\" true true false 8 Double 0 0,First,#,junctions_3,fatal_injury_crashes,-1,-1;non_motorized_fatal_injury \"non_motorized_fatal_injury\" true true false 8 Double 0 0,First,#,junctions_3,non_motorized_fatal_injury,-1,-1;impaired_driving_crashes \"impaired_driving_crashes\" true true false 8 Double 0 0,First,#,junctions_3,impaired_driving_crashes,-1,-1;AADT \"AADT\" true true false 8 Double 0 0,First,#,junctions_3,AADT,-1,-1;aadt_major \"aadt_major\" true true false 8 Double 0 0,First,#,junctions_3,aadt_major,-1,-1;aadt_minor \"aadt_minor\" true true false 8 Double 0 0,First,#,junctions_3,aadt_minor,-1,-1;TEV \"TEV\" true true false 8 Double 0 0,First,#,junctions_3,TEV,-1,-1;MEV \"MEV\" true true false 8 Double 0 0,First,#,junctions_3,MEV,-1,-1;injury_rate \"injury_rate\" true true false 8 Double 0 0,First,#,junctions_3,injury_rate,-1,-1;fatal_injury_rate \"fatal_injury_rate\" true true false 8 Double 0 0,First,#,junctions_3,fatal_injury_rate,-1,-1;lanes_entering \"lanes_entering\" true true false 255 Double 0 0,Sum,#,segments_6,num_lanes,-1,-1', \"INTERSECT\", \"150 Feet\", '')\n"
   ]
  },
  {
   "cell_type": "code",
   "execution_count": null,
   "metadata": {
    "hidden": true
   },
   "outputs": [],
   "source": [
    "# QAQC \n",
    "# Create a data frame of counts of each filter type for SPFs to check if there are segment or junction outliers\n",
    "\n",
    "# Set the input layer\n",
    "junctions_safety = \"junctions_4\"\n",
    "segments_safety = \"segments_7\"\n",
    "\n",
    "# Convert the input layer to a NumPy array\n",
    "junctions_array = arcpy.da.TableToNumPyArray(junctions_safety, [\"TrafficCon\", \"NumberOfLe\", \"lanes_entering\"])\n",
    "segments_array = arcpy.da.TableToNumPyArray(segments_safety, [\"num_lanes\", \"divided\", \"in_urban_area\"])\n",
    "\n",
    "# Convert the NumPy array to a Pandas dataframe\n",
    "junctions_df = pd.DataFrame(junctions_array)\n",
    "segments_df = pd.DataFrame(segments_array)\n",
    "\n",
    "# Group the dataframe by the values and count the number of rows in each group\n",
    "junction_counts = junctions_df.groupby([\"TrafficCon\", \"NumberOfLe\", \"lanes_entering\"]).size()\n",
    "segments_counts = segments_df.groupby([\"num_lanes\", \"divided\", \"in_urban_area\"]).size()\n",
    "\n",
    "# Print the resulting dataframe\n",
    "print(junction_counts)\n",
    "print(segments_counts)"
   ]
  },
  {
   "cell_type": "code",
   "execution_count": null,
   "metadata": {
    "hidden": true
   },
   "outputs": [],
   "source": [
    "# QAQC\n",
    "# Find the number of null values applicable to the SPFs for each layer\n",
    "\n",
    "# Count the number of null values for each column in the dataframe\n",
    "junctions_null_counts = junctions_df.isna().sum()\n",
    "segments_null_counts = segments_df.isna().sum()\n",
    "\n",
    "# Print the null counts\n",
    "print(\"Null counts in junctions:\")\n",
    "print(junctions_null_counts)\n",
    "\n",
    "print(\"Null counts in segments:\")\n",
    "print(segments_null_counts)\n"
   ]
  },
  {
   "cell_type": "code",
   "execution_count": null,
   "metadata": {
    "hidden": true
   },
   "outputs": [],
   "source": [
    "# QAQC\n",
    "# Count the number of zero values for each column in the dataframe\n",
    "junctions_zero_counts = (junctions_df == 0).sum()\n",
    "segments_zero_counts = (segments_df == 0).sum()\n",
    "\n",
    "# Print the zero counts\n",
    "print(\"Zero counts in junctions:\")\n",
    "print(junctions_zero_counts)\n",
    "\n",
    "print(\"Zero counts in segments:\")\n",
    "print(segments_zero_counts)"
   ]
  },
  {
   "cell_type": "code",
   "execution_count": null,
   "metadata": {
    "hidden": true
   },
   "outputs": [],
   "source": [
    "# Get county info\n",
    "arcpy.analysis.SpatialJoin(\"segments_7\", \"counties_suncloud\", r\"safety_layers.gdb\\segments_8\", \"JOIN_ONE_TO_ONE\", \"KEEP_ALL\", 'Join_Count \"Join_Count\" true true false 4 Long 0 0,First,#,segments_7,Join_Count,-1,-1;TARGET_FID \"TARGET_FID\" true true false 4 Long 0 0,First,#,segments_7,TARGET_FID,-1,-1;Join_Count_1 \"Join_Count\" true true false 4 Long 0 0,First,#,segments_7,Join_Count_1,-1,-1;TARGET_FID_1 \"TARGET_FID\" true true false 4 Long 0 0,First,#,segments_7,TARGET_FID_1,-1,-1;Join_Count_12 \"Join_Count\" true true false 4 Long 0 0,First,#,segments_7,Join_Count_12,-1,-1;TARGET_FID_12 \"TARGET_FID\" true true false 4 Long 0 0,First,#,segments_7,TARGET_FID_12,-1,-1;Join_Count_12_13 \"Join_Count\" true true false 4 Long 0 0,First,#,segments_7,Join_Count_12_13,-1,-1;TARGET_FID_12_13 \"TARGET_FID\" true true false 4 Long 0 0,First,#,segments_7,TARGET_FID_12_13,-1,-1;Join_Count_12_13_14 \"Join_Count\" true true false 4 Long 0 0,First,#,segments_7,Join_Count_12_13_14,-1,-1;TARGET_FID_12_13_14 \"TARGET_FID\" true true false 4 Long 0 0,First,#,segments_7,TARGET_FID_12_13_14,-1,-1;Join_Count_12_13_14_15 \"Join_Count\" true true false 4 Long 0 0,First,#,segments_7,Join_Count_12_13_14_15,-1,-1;TARGET_FID_12_13_14_15 \"TARGET_FID\" true true false 4 Long 0 0,First,#,segments_7,TARGET_FID_12_13_14_15,-1,-1;Join_Count_12_13_14_15_16 \"Join_Count\" true true false 4 Long 0 0,First,#,segments_7,Join_Count_12_13_14_15_16,-1,-1;TARGET_FID_12_13_14_15_16 \"TARGET_FID\" true true false 4 Long 0 0,First,#,segments_7,TARGET_FID_12_13_14_15_16,-1,-1;route_id \"Route ID\" true true false 32 Text 0 0,First,#,segments_7,route_id,0,32;functional_classification_code \"Functional Classification Code\" true true false 2 Short 0 0,First,#,segments_7,functional_classification_code,-1,-1;functional_classification \"Functional Classification\" true true false 255 Text 0 0,First,#,segments_7,functional_classification,0,255;crashes \"crashes\" true true false 8 Double 0 0,First,#,segments_7,crashes,-1,-1;injury_crashes \"injury_crashes\" true true false 8 Double 0 0,First,#,segments_7,injury_crashes,-1,-1;fatal_crashes \"fatal_crashes\" true true false 8 Double 0 0,First,#,segments_7,fatal_crashes,-1,-1;fatal_injury_crashes \"fatal_injury_crashes\" true true false 8 Double 0 0,First,#,segments_7,fatal_injury_crashes,-1,-1;non_motorized_fatal_injury_crashes \"non_motorized_fatal_injury_crashes\" true true false 8 Double 0 0,First,#,segments_7,non_motorized_fatal_injury_crashes,-1,-1;impaired_driving_crashes \"impaired_driving_crashes\" true true false 8 Double 0 0,First,#,segments_7,impaired_driving_crashes,-1,-1;Length_Miles \"Length_Miles\" true true false 8 Double 0 0,First,#,segments_7,Length_Miles,-1,-1;FromDate \"FromDate\" true true false 8 Date 0 0,First,#,segments_7,FromDate,-1,-1;ToDate \"ToDate\" true true false 8 Date 0 0,First,#,segments_7,ToDate,-1,-1;RouteId \"RouteId\" true true false 32 Text 0 0,First,#,segments_7,RouteId,0,32;FromMeasure \"FromMeasure\" true true false 8 Double 0 0,First,#,segments_7,FromMeasure,-1,-1;ToMeasure \"ToMeasure\" true true false 8 Double 0 0,First,#,segments_7,ToMeasure,-1,-1;AADT \"AADT\" true true false 4 Long 0 0,First,#,segments_7,AADT,-1,-1;InServiceDate \"InServiceDate\" true true false 8 Date 0 0,First,#,segments_7,InServiceDate,-1,-1;Shape_Length_1 \"Shape_Length\" true true false 8 Double 0 0,First,#,segments_7,Shape_Length_1,-1,-1;VMT \"VMT\" true true false 8 Double 0 0,First,#,segments_7,VMT,-1,-1;MVM \"MVM\" true true false 8 Double 0 0,First,#,segments_7,MVM,-1,-1;injury_rate \"injury_rate\" true true false 8 Double 0 0,First,#,segments_7,injury_rate,-1,-1;fatal_injuy_rate \"fatal_injuy_rate\" true true false 8 Double 0 0,First,#,segments_7,fatal_injuy_rate,-1,-1;UA_ID \"URBAN AREA ID\" true true false 5 Text 0 0,First,#,segments_7,UA_ID,0,5;NAME \"NAME\" true true false 60 Text 0 0,First,#,segments_7,NAME,0,60;LSAD \"LEGAL/STATISTICAL AREA CODE (LSAD)\" true true false 2 Text 0 0,First,#,segments_7,LSAD,0,2;LSAD_DESC \"LSAD DESCRIPTION\" true true false 15 Text 0 0,First,#,segments_7,LSAD_DESC,0,15;POP2010 \"POP2010\" true true false 4 Long 0 0,First,#,segments_7,POP2010,-1,-1;POP10_SQMI \"POP10_SQMI\" true true false 8 Double 0 0,First,#,segments_7,POP10_SQMI,-1,-1;HSE_UNITS \"HOUSING UNITS\" true true false 4 Long 0 0,First,#,segments_7,HSE_UNITS,-1,-1;SQMI \"SQMI\" true true false 8 Double 0 0,First,#,segments_7,SQMI,-1,-1;Shape_Length_12 \"Shape_Length\" true true false 8 Double 0 0,First,#,segments_7,Shape_Length_12,-1,-1;in_urban_area \"in_urban_area\" true true false 8 Double 0 0,First,#,segments_7,in_urban_area,-1,-1;RouteIsDivided \"Route Is Divided\" true true false 2 Short 0 0,First,#,segments_7,RouteIsDivided,-1,-1;FromDate_1 \"FromDate\" true true false 200 Text 0 0,First,#,segments_7,FromDate_1,0,200;ToDate_1 \"ToDate\" true true false 200 Text 0 0,First,#,segments_7,ToDate_1,0,200;RouteId_1 \"RouteId\" true true false 200 Text 0 0,First,#,segments_7,RouteId_1,0,200;FromMeasure_1 \"FromMeasure\" true true false 200 Text 0 0,First,#,segments_7,FromMeasure_1,0,200;ToMeasure_1 \"ToMeasure\" true true false 200 Text 0 0,First,#,segments_7,ToMeasure_1,0,200;MedianWidthFt \"MedianWidthFt\" true true false 200 Text 0 0,First,#,segments_7,MedianWidthFt,0,200;MedianType \"MedianType\" true true false 200 Text 0 0,First,#,segments_7,MedianType,0,200;NumberOfLanes \"NumberOfLanes\" true true false 200 Text 0 0,First,#,segments_7,NumberOfLanes,0,200;BeginWidthFt \"BeginWidthFt\" true true false 200 Text 0 0,First,#,segments_7,BeginWidthFt,0,200;EndWidthFt \"EndWidthFt\" true true false 200 Text 0 0,First,#,segments_7,EndWidthFt,0,200;OTTYear \"OTTYear\" true true false 200 Text 0 0,First,#,segments_7,OTTYear,0,200;AuxLaneType \"AuxLaneType\" true true false 200 Text 0 0,First,#,segments_7,AuxLaneType,0,200;AuxLaneTypeForSymbol \"AuxLaneTypeForSymbol\" true true false 200 Text 0 0,First,#,segments_7,AuxLaneTypeForSymbol,0,200;InServiceDate_1 \"InServiceDate\" true true false 200 Text 0 0,First,#,segments_7,InServiceDate_1,0,200;OutServiceDate \"OutServiceDate\" true true false 200 Text 0 0,First,#,segments_7,OutServiceDate,0,200;SourceYear \"SourceYear\" true true false 200 Text 0 0,First,#,segments_7,SourceYear,0,200;Shape_Length_12_13 \"Shape_Length\" true true false 8 Double 0 0,First,#,segments_7,Shape_Length_12_13,-1,-1;divided \"divided\" true true false 8 Double 0 0,First,#,segments_7,divided,-1,-1;Shape_Length \"Shape_Length\" false true true 8 Double 0 0,First,#,segments_7,Shape_Length,-1,-1;num_lanes \"num_lanes\" true true false 8 Double 0 0,First,#,segments_7,num_lanes,-1,-1;Area_Acres \"Area_Acres\" true true false 8 Double 0 0,First,#,counties_suncloud,Area_Acres,-1,-1;NAME_1 \"NAME\" true true false 10 Text 0 0,First,#,counties_suncloud,NAME,0,10;CODE \"CODE\" true true false 2 Short 0 0,First,#,counties_suncloud,CODE,-1,-1;Peri_Mile \"Peri_Mile\" true true false 8 Double 0 0,First,#,counties_suncloud,Peri_Mile,-1,-1;Area_Miles \"Area_Miles\" true true false 8 Double 0 0,First,#,counties_suncloud,Area_Miles,-1,-1;Per_Mile \"Per_Mile\" true true false 8 Double 0 0,First,#,counties_suncloud,Per_Mile,-1,-1;Shape_Leng \"Shape_Leng\" true true false 8 Double 0 0,First,#,counties_suncloud,Shape_Leng,-1,-1;Shape_Length_12_13_14 \"Shape_Length\" false true true 8 Double 0 0,First,#,counties_suncloud,Shape_Length,-1,-1;Shape_Area \"Shape_Area\" false true true 8 Double 0 0,First,#,counties_suncloud,Shape_Area,-1,-1', \"WITHIN\", None, '')\n",
    "arcpy.analysis.SpatialJoin(\"junctions_4\", \"counties_suncloud\", r\"safety_layers.gdb\\junctions_5\", \"JOIN_ONE_TO_ONE\", \"KEEP_ALL\", 'Join_Count \"Join_Count\" true true false 4 Long 0 0,First,#,junctions_4,Join_Count,-1,-1;TARGET_FID \"TARGET_FID\" true true false 4 Long 0 0,First,#,junctions_4,TARGET_FID,-1,-1;Join_Count_1 \"Join_Count\" true true false 4 Long 0 0,First,#,junctions_4,Join_Count_1,-1,-1;TARGET_FID_1 \"TARGET_FID\" true true false 4 Long 0 0,First,#,junctions_4,TARGET_FID_1,-1,-1;Join_Count_12 \"Join_Count\" true true false 4 Long 0 0,First,#,junctions_4,Join_Count_12,-1,-1;TARGET_FID_12 \"TARGET_FID\" true true false 4 Long 0 0,First,#,junctions_4,TARGET_FID_12,-1,-1;Join_Count_12_13 \"Join_Count\" true true false 4 Long 0 0,First,#,junctions_4,Join_Count_12_13,-1,-1;TARGET_FID_12_13 \"TARGET_FID\" true true false 4 Long 0 0,First,#,junctions_4,TARGET_FID_12_13,-1,-1;FID_Junctions_SunCloud_Select \"FID_Junctions_SunCloud_Select\" true true false 4 Long 0 0,First,#,junctions_4,FID_Junctions_SunCloud_Select,-1,-1;FromDate \"FromDate\" true true false 8 Date 0 0,First,#,junctions_4,FromDate,-1,-1;ToDate \"ToDate\" true true false 8 Date 0 0,First,#,junctions_4,ToDate,-1,-1;RouteID \"RouteID\" true true false 32 Text 0 0,First,#,junctions_4,RouteID,0,32;Measure \"Measure\" true true false 8 Double 0 0,First,#,junctions_4,Measure,-1,-1;MasterJunc \"MasterJunc\" true true false 38 Text 0 0,First,#,junctions_4,MasterJunc,0,38;NumberOfLe \"NumberOfLe\" true true false 4 Long 0 0,First,#,junctions_4,NumberOfLe,-1,-1;JunctionGe \"JunctionGe\" true true false 4 Long 0 0,First,#,junctions_4,JunctionGe,-1,-1;JunctionsS \"JunctionsS\" true true false 2 Text 0 0,First,#,junctions_4,JunctionsS,0,2;TrafficCon \"TrafficCon\" true true false 4 Long 0 0,First,#,junctions_4,TrafficCon,-1,-1;TurnCode \"TurnCode\" true true false 10 Text 0 0,First,#,junctions_4,TurnCode,0,10;Detection \"Detection\" true true false 4 Long 0 0,First,#,junctions_4,Detection,-1,-1;Signalizat \"Signalizat\" true true false 4 Long 0 0,First,#,junctions_4,Signalizat,-1,-1;RailCrossi \"RailCrossi\" true true false 7 Text 0 0,First,#,junctions_4,RailCrossi,0,7;SchoolZone \"SchoolZone\" true true false 4 Long 0 0,First,#,junctions_4,SchoolZone,-1,-1;BicycleFac \"BicycleFac\" true true false 4 Long 0 0,First,#,junctions_4,BicycleFac,-1,-1;Crosswalk \"Crosswalk\" true true false 4 Long 0 0,First,#,junctions_4,Crosswalk,-1,-1;PctGreenTi \"PctGreenTi\" true true false 4 Long 0 0,First,#,junctions_4,PctGreenTi,-1,-1;PctGreen_1 \"PctGreen_1\" true true false 4 Long 0 0,First,#,junctions_4,PctGreen_1,-1,-1;SourceID \"SourceID\" true true false 4 Long 0 0,First,#,junctions_4,SourceID,-1,-1;JunctionMa \"JunctionMa\" true true false 4 Long 0 0,First,#,junctions_4,JunctionMa,-1,-1;JunctionTy \"JunctionTy\" true true false 4 Long 0 0,First,#,junctions_4,JunctionTy,-1,-1;OffsetInte \"OffsetInte\" true true false 1 Text 0 0,First,#,junctions_4,OffsetInte,0,1;OffsetIn_1 \"OffsetIn_1\" true true false 8 Double 0 0,First,#,junctions_4,OffsetIn_1,-1,-1;InServiceD \"InServiceD\" true true false 8 Date 0 0,First,#,junctions_4,InServiceD,-1,-1;FID_sun_cloud_routes \"FID_sun_cloud_routes\" true true false 4 Long 0 0,First,#,junctions_4,FID_sun_cloud_routes,-1,-1;route_id \"route_id\" true true false 32 Text 0 0,First,#,junctions_4,route_id,0,32;from_measu \"from_measu\" true true false 8 Double 0 0,First,#,junctions_4,from_measu,-1,-1;to_measure \"to_measure\" true true false 8 Double 0 0,First,#,junctions_4,to_measure,-1,-1;functional \"functional\" true true false 4 Long 0 0,First,#,junctions_4,functional,-1,-1;facility_t \"facility_t\" true true false 4 Long 0 0,First,#,junctions_4,facility_t,-1,-1;crashes \"crashes\" true true false 255 Text 0 0,First,#,junctions_4,crashes,0,255;injury_crashes \"injury_crashes\" true true false 8 Double 0 0,First,#,junctions_4,injury_crashes,-1,-1;fatal_crashes \"fatal_crashes\" true true false 8 Double 0 0,First,#,junctions_4,fatal_crashes,-1,-1;fatal_injury_crashes \"fatal_injury_crashes\" true true false 8 Double 0 0,First,#,junctions_4,fatal_injury_crashes,-1,-1;non_motorized_fatal_injury \"non_motorized_fatal_injury\" true true false 8 Double 0 0,First,#,junctions_4,non_motorized_fatal_injury,-1,-1;impaired_driving_crashes \"impaired_driving_crashes\" true true false 8 Double 0 0,First,#,junctions_4,impaired_driving_crashes,-1,-1;AADT \"AADT\" true true false 8 Double 0 0,First,#,junctions_4,AADT,-1,-1;aadt_major \"aadt_major\" true true false 8 Double 0 0,First,#,junctions_4,aadt_major,-1,-1;aadt_minor \"aadt_minor\" true true false 8 Double 0 0,First,#,junctions_4,aadt_minor,-1,-1;TEV \"TEV\" true true false 8 Double 0 0,First,#,junctions_4,TEV,-1,-1;MEV \"MEV\" true true false 8 Double 0 0,First,#,junctions_4,MEV,-1,-1;injury_rate \"injury_rate\" true true false 8 Double 0 0,First,#,junctions_4,injury_rate,-1,-1;fatal_injury_rate \"fatal_injury_rate\" true true false 8 Double 0 0,First,#,junctions_4,fatal_injury_rate,-1,-1;lanes_entering \"lanes_entering\" true true false 8 Double 0 0,First,#,junctions_4,lanes_entering,-1,-1;Area_Acres \"Area_Acres\" true true false 8 Double 0 0,First,#,counties_suncloud,Area_Acres,-1,-1;NAME \"NAME\" true true false 10 Text 0 0,First,#,counties_suncloud,NAME,0,10;CODE \"CODE\" true true false 2 Short 0 0,First,#,counties_suncloud,CODE,-1,-1;Peri_Mile \"Peri_Mile\" true true false 8 Double 0 0,First,#,counties_suncloud,Peri_Mile,-1,-1;Area_Miles \"Area_Miles\" true true false 8 Double 0 0,First,#,counties_suncloud,Area_Miles,-1,-1;Per_Mile \"Per_Mile\" true true false 8 Double 0 0,First,#,counties_suncloud,Per_Mile,-1,-1;Shape_Leng \"Shape_Leng\" true true false 8 Double 0 0,First,#,counties_suncloud,Shape_Leng,-1,-1;Shape_Length \"Shape_Length\" false true true 8 Double 0 0,First,#,counties_suncloud,Shape_Length,-1,-1;Shape_Area \"Shape_Area\" false true true 8 Double 0 0,First,#,counties_suncloud,Shape_Area,-1,-1', \"WITHIN\", None, '')\n"
   ]
  },
  {
   "cell_type": "code",
   "execution_count": null,
   "metadata": {
    "hidden": true
   },
   "outputs": [],
   "source": [
    "# To double\n",
    "arcpy.management.CalculateField(\"segments_8\", \"aadt\", \"!AADT!\", \"PYTHON3\", '', \"DOUBLE\", \"NO_ENFORCE_DOMAINS\")\n",
    "arcpy.management.CalculateField(\"segments_8\", \"is_divided\", \"!divided!\", \"PYTHON3\", '', \"DOUBLE\", \"NO_ENFORCE_DOMAINS\")\n"
   ]
  },
  {
   "cell_type": "code",
   "execution_count": null,
   "metadata": {
    "hidden": true
   },
   "outputs": [],
   "source": [
    "# Assign spf ID numbers per segment\n",
    "\n",
    "# Read the CSV file into a DataFrame\n",
    "csv_path = \"data/spfs/spf_segments.csv\"\n",
    "df = pd.read_csv(os.path.join(base_path, csv_path))\n",
    "\n",
    "# Path to your feature class \n",
    "feature_class_path = \"segments_8\"  # Replace with your actual path\n",
    "\n",
    "# Check if a field exists in a feature class or table\n",
    "def field_exists(table, field):\n",
    "    return field in [f.name for f in arcpy.ListFields(table)]\n",
    "\n",
    "# Create the new field 'spf_id' if it doesn't already exist\n",
    "if not field_exists(feature_class_path, 'spf_id'):\n",
    "    arcpy.AddField_management(feature_class_path, \"spf_id\", \"TEXT\")\n",
    "\n",
    "# Loop through each feature in the feature class\n",
    "with arcpy.da.UpdateCursor(feature_class_path, ['num_lanes', 'is_divided', 'in_urban_area', 'spf_id']) as cursor:\n",
    "    for row in cursor:\n",
    "        lanes = row[0]\n",
    "        divided = row[1]\n",
    "        urban = row[2]\n",
    "\n",
    "        # Iterate through the conditions in the CSV\n",
    "        for index, csv_row in df.iterrows():\n",
    "            num_lanes_cond = csv_row['num_lanes_cond'].replace(\"num_lanes\", str(lanes))\n",
    "            is_divided_cond = csv_row['is_divided_cond'].replace(\"is_divided\", str(divided))\n",
    "            is_urban_cond = csv_row['is_urban_cond'].replace(\"in_urban_area\", str(urban))\n",
    "            \n",
    "            if eval(num_lanes_cond) and eval(is_divided_cond) and eval(is_urban_cond):\n",
    "                row[3] = csv_row['spf_id']\n",
    "                break\n",
    "\n",
    "        # Update the feature\n",
    "        cursor.updateRow(row)\n",
    "\n",
    "print(\"Successfully populated the spf_id attribute based on conditions.\")\n",
    "\n"
   ]
  },
  {
   "cell_type": "code",
   "execution_count": null,
   "metadata": {
    "hidden": true
   },
   "outputs": [],
   "source": [
    "# Calculate predicted crashes for segments (AUTOMATED)\n",
    "\n",
    "# Read the CSV file into a DataFrame\n",
    "csv_path = \"data/spfs/spf_segments.csv\"\n",
    "df = pd.read_csv(os.path.join(base_path, csv_path))\n",
    "\n",
    "# Path to your feature class\n",
    "feature_class_path = \"segments_8\"  # Replace with your actual path\n",
    "\n",
    "# Add new fields if they don't exist\n",
    "fields_to_add = ['predicted_crashes_SPF', 'overdispersion_parameter']\n",
    "for field in fields_to_add:\n",
    "    if field not in [f.name for f in arcpy.ListFields(feature_class_path)]:\n",
    "        arcpy.AddField_management(feature_class_path, field, \"DOUBLE\")\n",
    "\n",
    "# Loop through each feature in the feature class\n",
    "with arcpy.da.UpdateCursor(feature_class_path, ['spf_id', 'aadt', 'Length_Miles', 'predicted_crashes_SPF', 'overdispersion_parameter']) as cursor:\n",
    "    for row in cursor:\n",
    "        spf_id = str(row[0])  # Ensure spf_id is a string\n",
    "        \n",
    "        # Skip if spf_id is 'no_spf_defined'\n",
    "        if spf_id == 'no_spf_defined':\n",
    "            continue\n",
    "        \n",
    "        aadt = row[1]\n",
    "        length = row[2]\n",
    "        \n",
    "        # Fetch the corresponding equation and overdispersion for the current spf_id\n",
    "        filtered_df = df[df['spf_id'].astype(str) == spf_id]\n",
    "        \n",
    "        if not filtered_df.empty:\n",
    "            spf_equation = filtered_df['spf'].iloc[0]\n",
    "            overdispersion = filtered_df['overdispersion'].iloc[0]\n",
    "            row[4] = overdispersion  # Populate overdispersion_parameter\n",
    "            \n",
    "            # Use the equation to calculate 'predicted_crashes_SPF'\n",
    "            if aadt is not None and length is not None and aadt > 0 and length > 0:\n",
    "                equation_to_eval = spf_equation.replace(\"aadt\", str(aadt)).replace(\"length\", str(length))\n",
    "                row[3] = eval(equation_to_eval)\n",
    "            else:\n",
    "                print(f\"Skipped row due to invalid values or None: spf_id={spf_id}, aadt={aadt}, length={length}\")\n",
    "                \n",
    "            # Update the feature\n",
    "            cursor.updateRow(row)\n",
    "        else:\n",
    "            print(f\"No equation found for spf_id: {spf_id}\")\n",
    "\n",
    "print(\"Successfully calculated and updated attributes.\")\n",
    "\n"
   ]
  },
  {
   "cell_type": "code",
   "execution_count": null,
   "metadata": {
    "hidden": true
   },
   "outputs": [],
   "source": [
    "# Overdisperson parameter to double\n",
    "arcpy.management.CalculateField(\"segments_8\", \n",
    "                                \"overdispersionparameter\", \n",
    "                                \"!overdispersion_parameter!\", \n",
    "                                \"PYTHON3\", '', \"DOUBLE\", \"NO_ENFORCE_DOMAINS\")\n",
    "\n",
    "arcpy.management.CalculateField(\"segments_8\", \n",
    "                                \"predicted_crashes_SPF_value\", \n",
    "                                \"!predicted_crashes_SPF!\", \n",
    "                                \"PYTHON3\", '', \"DOUBLE\", \"NO_ENFORCE_DOMAINS\")"
   ]
  },
  {
   "cell_type": "code",
   "execution_count": null,
   "metadata": {
    "hidden": true
   },
   "outputs": [],
   "source": [
    "# To double\n",
    "arcpy.management.CalculateField(\"junctions_5\", \"traffic_con\", \"!TrafficCon!\", \"PYTHON3\", '', \"DOUBLE\", \"NO_ENFORCE_DOMAINS\")\n",
    "arcpy.management.CalculateField(\"junctions_5\", \"num_legs\", \"!NumberOfLe!\", \"PYTHON3\", '', \"DOUBLE\", \"NO_ENFORCE_DOMAINS\")\n"
   ]
  },
  {
   "cell_type": "code",
   "execution_count": null,
   "metadata": {
    "hidden": true
   },
   "outputs": [],
   "source": [
    "# Identify SPFs for Junctions\n",
    "\n",
    "# Input feature class and CSV path\n",
    "feature_class_path = \"junctions_5\"\n",
    "csv_path = \"data/spfs/spf_junctions.csv\"\n",
    "\n",
    "# Load the SPF data from CSV into a DataFrame\n",
    "df = pd.read_csv(os.path.join(base_path, csv_path))\n",
    "\n",
    "# Create new field for SPF ID if it doesn't exist\n",
    "fields = [f.name for f in arcpy.ListFields(feature_class_path)]\n",
    "if 'spf_id' not in fields:\n",
    "    arcpy.AddField_management(feature_class_path, 'spf_id', 'TEXT', field_length=10)\n",
    "\n",
    "# Define the field names\n",
    "fields = ['traffic_con', 'num_legs', 'spf_id']\n",
    "\n",
    "# Update the feature class with the SPF IDs based on conditions\n",
    "with arcpy.da.UpdateCursor(feature_class, fields) as cursor:\n",
    "    for row in cursor:\n",
    "        traffic_con = row[0]\n",
    "        num_legs = row[1]\n",
    "        spf_id = None\n",
    "\n",
    "        # Iterate over each SPF condition in the DataFrame\n",
    "        for index, row_df in df.iterrows():\n",
    "            traffic_con_cond_expr = row_df['traffic_con_cond']\n",
    "            num_legs_cond_expr = row_df['num_legs_cond']\n",
    "\n",
    "            # Check if either expression is a float (meaning it's nan) or contains 'nan' and skip evaluation if so\n",
    "            if isinstance(traffic_con_cond_expr, float) or isinstance(num_legs_cond_expr, float) or 'nan' in str(traffic_con_cond_expr) or 'nan' in str(num_legs_cond_expr):\n",
    "                print(f\"Skipping evaluation due to 'nan' or missing value: {traffic_con_cond_expr} or {num_legs_cond_expr}\")\n",
    "                continue\n",
    "\n",
    "            try:\n",
    "                traffic_con_cond = eval(traffic_con_cond_expr)\n",
    "                num_legs_cond = eval(num_legs_cond_expr)\n",
    "            except SyntaxError:\n",
    "                print(f\"Error evaluating: {traffic_con_cond_expr} or {num_legs_cond_expr}\")\n",
    "                continue\n",
    "\n",
    "            # Check if conditions match, and if so, set the spf_id\n",
    "            if traffic_con_cond and num_legs_cond:\n",
    "                spf_id = row_df['spf_id']\n",
    "                break\n",
    "\n",
    "\n",
    "        # Update the SPF ID value in the feature class\n",
    "        if spf_id is not None:\n",
    "            row[-1] = spf_id\n",
    "            cursor.updateRow(row)\n",
    "\n",
    "print(\"Finished identifying SPF IDs for junctions!\")\n",
    "\n"
   ]
  },
  {
   "cell_type": "code",
   "execution_count": null,
   "metadata": {
    "hidden": true
   },
   "outputs": [],
   "source": [
    "# Change aadt_major and aadt_minor names to account for eval calculation\n",
    "\n",
    "# Path to your feature class\n",
    "feature_class = \"junctions_5\"\n",
    "\n",
    "# Rename 'aadt_major' to 'major_aadt'\n",
    "arcpy.AlterField_management(feature_class, 'aadt_major', 'major_aadt', 'major_aadt')\n",
    "\n",
    "# Rename 'aadt_minor' to 'minor_aadt'\n",
    "arcpy.AlterField_management(feature_class, 'aadt_minor', 'minor_aadt', 'minor_aadt')\n"
   ]
  },
  {
   "cell_type": "code",
   "execution_count": null,
   "metadata": {
    "hidden": true
   },
   "outputs": [],
   "source": [
    "# Calculate predicted crashes for junctions (AUTOMATED)\n",
    "\n",
    "# Read the CSV file into a DataFrame\n",
    "csv_path = \"data/spfs/spf_junctions.csv\"\n",
    "df = pd.read_csv(os.path.join(base_path, csv_path))\n",
    "\n",
    "# Path to your feature class\n",
    "feature_class_path = \"junctions_5\"  # Replace with your actual path\n",
    "\n",
    "# Add new fields if they don't exist\n",
    "fields_to_add = ['predicted_crashes_SPF', 'overdispersion_parameter']\n",
    "for field in fields_to_add:\n",
    "    if field not in [f.name for f in arcpy.ListFields(feature_class_path)]:\n",
    "        arcpy.AddField_management(feature_class_path, field, \"DOUBLE\")\n",
    "        \n",
    "no_equation = 0\n",
    "updated = 0\n",
    "invalid_values = 0\n",
    "\n",
    "# Loop through each feature in the feature class\n",
    "with arcpy.da.UpdateCursor(feature_class_path, ['spf_id', 'aadt', 'major_aadt', 'minor_aadt', 'lanes_entering', 'predicted_crashes_SPF', 'overdispersion_parameter']) as cursor:\n",
    "    for row in cursor:\n",
    "        spf_id = str(row[0])  # Ensure spf_id is a string\n",
    "        \n",
    "        # Skip if spf_id is 'no_spf_defined'\n",
    "        if spf_id == 'no_spf_defined':\n",
    "            continue\n",
    "        \n",
    "        # Get values for aadt, aadt_major, aadt_minor, and lanes_entering\n",
    "        aadt = row[1]\n",
    "        major_aadt = row[2]\n",
    "        minor_aadt = row[3]\n",
    "        lanes_entering = row[4]\n",
    "\n",
    "        # Fetch the corresponding equation and overdispersion for the current spf_id\n",
    "        filtered_df = df[df['spf_id'].astype(str) == spf_id]\n",
    "        \n",
    "        if not filtered_df.empty:\n",
    "            spf_equation = filtered_df['spf'].iloc[0]\n",
    "            overdispersion = filtered_df['overdispersion'].iloc[0]\n",
    "            row[6] = overdispersion  # Populate overdispersion_parameter\n",
    "            \n",
    "            # Use the equation to calculate 'predicted_crashes_SPF'\n",
    "            if all([value is not None and value > 0 for value in [aadt, major_aadt, minor_aadt, lanes_entering]]):\n",
    "                equation_to_eval = spf_equation.replace(\"major_aadt\", str(major_aadt)).replace(\"minor_aadt\", str(minor_aadt)).replace(\"aadt\", str(aadt)).replace(\"lanes_entering\", str(lanes_entering))\n",
    "\n",
    "                try:\n",
    "                    row[5] = eval(equation_to_eval)\n",
    "                except SyntaxError:\n",
    "                    print(f\"Error evaluating equation for spf_id={spf_id}: {equation_to_eval}\")\n",
    "                    continue\n",
    "                \n",
    "            else:\n",
    "                invalid_values = invalid_values + 1\n",
    "                print(f\"Skipped row due to invalid values or None: spf_id={spf_id}, aadt={aadt}, major_aadt={major_aadt}, minor_aadt={minor_aadt}, lanes_entering={lanes_entering}\")\n",
    "            \n",
    "            # Update the feature\n",
    "            updated = updated + 1\n",
    "            cursor.updateRow(row)\n",
    "        else:\n",
    "            no_equation = no_equation + 1\n",
    "            #print(f\"No equation found for spf_id: {spf_id}\")\n",
    "print(\"\")\n",
    "print(\"Completed\")\n",
    "print(f\"No equation found for {no_equation} junctions\")\n",
    "print(f\"Skipped calculation due to invalid values for {invalid_values} junctions\")\n",
    "print(f\"Successfully calculated {updated} junctions\")\n"
   ]
  },
  {
   "cell_type": "markdown",
   "metadata": {
    "heading_collapsed": true
   },
   "source": [
    "#### Predicted Crashes Calibration"
   ]
  },
  {
   "cell_type": "code",
   "execution_count": null,
   "metadata": {
    "hidden": true
   },
   "outputs": [],
   "source": [
    "# In these steps we are calculating a common SPF for segments and junctions to find the relationship of KABC vs KABCO.\n",
    "\n",
    "# Calculate the PAG SPF for calibration\n",
    "\n",
    "# Segment Relationship Calibration\n",
    "# Comparing PAG SPF vs ADOT SPF\n",
    "arcpy.management.CalculateField(\"segments_8\", \n",
    "                                \"predicted_crashes_PAG\", \n",
    "                                \"math.exp(-4.45) * !aadt!**0.56 * !length_miles!\", # PAG SPF for Rural Multi-Lane Divided (sc03)\n",
    "                                \"PYTHON3\", '', \"DOUBLE\", \"NO_ENFORCE_DOMAINS\")\n",
    "\n",
    "# Change back aadt_major and aadt_minor names\n",
    "feature_class = \"junctions_5\"\n",
    "arcpy.AlterField_management(feature_class, 'major_aadt', 'aadt_major', 'aadt_major')\n",
    "arcpy.AlterField_management(feature_class, 'minor_aadt', 'aadt_minor', 'aadt_minor')\n",
    "\n",
    "# Junction Relationship Calibration\n",
    "# Comparing PAG SPF vs HSM Predefined\n",
    "arcpy.management.CalculateField(\"junctions_5\", \n",
    "                                \"predicted_crashes_predefined\", \n",
    "                                \"math.exp(-11.02) * !aadt_major!**1.02 * !aadt_minor!**0.24\", # Predefined SPF for 4-leg signalized (sc10)\n",
    "                                \"PYTHON3\", '', \"DOUBLE\", \"NO_ENFORCE_DOMAINS\")\n"
   ]
  },
  {
   "cell_type": "code",
   "execution_count": null,
   "metadata": {
    "hidden": true
   },
   "outputs": [],
   "source": [
    "# Find the difference between a KABCO and KABC SPF\n",
    "\n",
    "# Segment Calibration using PAG SPFs\n",
    "arcpy.management.CalculateField(\"segments_8\", \n",
    "                                \"diff\", \n",
    "                                \"None if !predicted_crashes_SPF_value! == 0 else !predicted_crashes_PAG! / !predicted_crashes_SPF_value!\", \n",
    "                                \"PYTHON3\", '', \"DOUBLE\", \"NO_ENFORCE_DOMAINS\")\n",
    "\n",
    "# Junction Calibration using predefined\n",
    "arcpy.management.CalculateField(\"junctions_5\", \n",
    "                                \"diff\", \n",
    "                                \"None if !predicted_crashes_SPF! == 0 else !predicted_crashes_predefined! / !predicted_crashes_SPF!\", \n",
    "                                \"PYTHON3\", '', \"DOUBLE\", \"NO_ENFORCE_DOMAINS\")\n"
   ]
  },
  {
   "cell_type": "code",
   "execution_count": null,
   "metadata": {
    "hidden": true
   },
   "outputs": [],
   "source": [
    "# Query to kabco spfs and set a calibration factor of the mean diff for diff <= 1\n",
    "\n",
    "# Load the CSV files into DataFrames\n",
    "df_segments = pd.read_csv(\"data/spfs/spf_segments.csv\")\n",
    "df_junctions = pd.read_csv(\"data/spfs/spf_junctions.csv\")\n",
    "\n",
    "# Identify SPF IDs for KABCO type from the segments and junctions DataFrames\n",
    "spf_ids_segments = df_segments[df_segments['type'] == 'kabco']['spf_id'].tolist()\n",
    "spf_ids_junctions = df_junctions[df_junctions['type'] == 'kabco']['spf_id'].tolist()\n",
    "\n",
    "# Initialize empty dictionaries to hold mean_values\n",
    "mean_values_segments = {}\n",
    "mean_values_junctions = {}\n",
    "\n",
    "segments_layer = \"segments_8\"\n",
    "junctions_layer = \"junctions_5\"\n",
    "\n",
    "# Query and calculate mean for segments feature layer\n",
    "for spf_id in spf_ids_segments:\n",
    "    query_segments = f\"spf_id = '{spf_id}'\"\n",
    "    arcpy.SelectLayerByAttribute_management(segments_layer, \"NEW_SELECTION\", query_segments)\n",
    "    diff_values = [row[0] for row in arcpy.da.SearchCursor(segments_layer, \"diff\") if row[0] is not None and row[0] <= 1]\n",
    "    mean_diff = sum(diff_values) / len(diff_values) if len(diff_values) > 0 else 1\n",
    "    mean_values_segments[spf_id] = mean_diff\n",
    "\n",
    "# Query and calculate mean for junctions feature layer\n",
    "for spf_id in spf_ids_junctions:\n",
    "    query_junctions = f\"spf_id = '{spf_id}'\"\n",
    "    arcpy.SelectLayerByAttribute_management(junctions_layer, \"NEW_SELECTION\", query_junctions)\n",
    "    diff_values = [row[0] for row in arcpy.da.SearchCursor(junctions_layer, \"diff\") if row[0] is not None and row[0] <= 1]\n",
    "    mean_diff = sum(diff_values) / len(diff_values) if len(diff_values) > 0 else 1\n",
    "    mean_values_junctions[spf_id] = mean_diff\n",
    "\n",
    "# Create a list of all unique SPF IDs\n",
    "all_spf_ids = list(set(df_segments['spf_id'].tolist() + df_junctions['spf_id'].tolist()))\n",
    "\n",
    "# Initialize a dictionary to hold the calibration values for each SPF ID\n",
    "calibration_values = {}\n",
    "\n",
    "for spf_id in all_spf_ids:\n",
    "    if spf_id in mean_values_segments.keys():\n",
    "        calibration_values[spf_id] = mean_values_segments[spf_id]\n",
    "    elif spf_id in mean_values_junctions.keys():\n",
    "        calibration_values[spf_id] = mean_values_junctions[spf_id]\n",
    "    else:\n",
    "        calibration_values[spf_id] = 1\n",
    "\n",
    "# Now you can update your CSV files with these calibration_values.\n",
    "df_segments['kabc_calibration'] = df_segments['spf_id'].apply(lambda x: calibration_values.get(x, 1))\n",
    "df_segments.to_csv('data/spfs/spf_segments.csv', index=False)\n",
    "\n",
    "df_junctions['kabc_calibration'] = df_junctions['spf_id'].apply(lambda x: calibration_values.get(x, 1))\n",
    "df_junctions.to_csv('data/spfs/spf_junctions.csv', index=False)\n"
   ]
  },
  {
   "cell_type": "code",
   "execution_count": null,
   "metadata": {
    "hidden": true
   },
   "outputs": [],
   "source": [
    "# Assign averaged calibration to each segment or junction\n",
    "\n",
    "# Clear selection from original calibration efforts\n",
    "arcpy.management.SelectLayerByAttribute(\"segments_8\", \"CLEAR_SELECTION\", '', None)\n",
    "arcpy.management.SelectLayerByAttribute(\"junctions_5\", \"CLEAR_SELECTION\", '', None)\n",
    "\n",
    "# Convert calibration_values dictionary to a string representation\n",
    "calibration_values_str = str(calibration_values)\n",
    "\n",
    "# Field Calculation Function for segments_8 layer\n",
    "arcpy.management.CalculateField(\"segments_8\", \"kabc_calibration\", \n",
    "    \"determine_value(!spf_id!, !NAME_1!)\", \"PYTHON3\", f\"\"\"\n",
    "calibration_values = {calibration_values_str}\n",
    "def determine_value(spf_id, county):\n",
    "    if county == 'PIMA':\n",
    "        return 1\n",
    "    else:\n",
    "        return calibration_values.get(spf_id, 1)\n",
    "\"\"\", \"DOUBLE\")\n",
    "\n",
    "# Field Calculation Function for junctions_5 layer\n",
    "arcpy.management.CalculateField(\"junctions_5\", \"kabc_calibration\", \n",
    "    \"determine_value(!spf_id!, !NAME!)\", \"PYTHON3\", f\"\"\"\n",
    "calibration_values = {calibration_values_str}\n",
    "def determine_value(spf_id, county):\n",
    "    if county == 'PIMA':\n",
    "        return 1\n",
    "    else:\n",
    "        return calibration_values.get(spf_id, 1)\n",
    "\"\"\", \"DOUBLE\")\n"
   ]
  },
  {
   "cell_type": "code",
   "execution_count": null,
   "metadata": {
    "hidden": true
   },
   "outputs": [],
   "source": [
    "# Multiply calibration by original SPF value to get KABC crashes\n",
    "\n",
    "# Predicted calibration calculation\n",
    "arcpy.management.CalculateField(\"segments_8\", \"predicted_kabc_crashes\", \n",
    "                                \"!predicted_crashes_SPF_value!*!kabc_calibration!\", \n",
    "                                \"PYTHON3\", '', \"DOUBLE\", \"NO_ENFORCE_DOMAINS\")\n",
    "\n",
    "arcpy.management.CalculateField(\"junctions_5\", \"predicted_kabc_crashes\", \n",
    "                                \"!predicted_crashes_predefined!*!kabc_calibration!\", \n",
    "                                \"PYTHON3\", '', \"DOUBLE\", \"NO_ENFORCE_DOMAINS\")"
   ]
  },
  {
   "cell_type": "markdown",
   "metadata": {
    "heading_collapsed": true
   },
   "source": [
    "#### Expected, Excess, and LOSS Calculation"
   ]
  },
  {
   "cell_type": "code",
   "execution_count": null,
   "metadata": {
    "hidden": true
   },
   "outputs": [],
   "source": [
    "# EB Weight\n",
    "arcpy.management.CalculateField(\"segments_8\", \"EBweight_kabc\", \n",
    "    \"1 / (1 + (!predicted_kabc_crashes! * 5) / !overdispersionparameter!)\", \"PYTHON3\", '', \"DOUBLE\", \"NO_ENFORCE_DOMAINS\")\n",
    "\n",
    "arcpy.management.CalculateField(\"junctions_5\", \"EBweight_kabc\", \n",
    "    \"1 / (1 + (!predicted_kabc_crashes! * 5) / !overdispersion_parameter!)\", \"PYTHON3\", '', \"DOUBLE\", \"NO_ENFORCE_DOMAINS\")"
   ]
  },
  {
   "cell_type": "code",
   "execution_count": null,
   "metadata": {
    "hidden": true
   },
   "outputs": [],
   "source": [
    "# Expected Yearly Average Severe Crashes\n",
    "arcpy.management.CalculateField(\"segments_8\", \"expected_kabc_crashes\", \n",
    "    \"!EBweight_kabc! * !predicted_kabc_crashes! + (1 - !EBweight_kabc!) * (!fatal_injury_crashes! / 5)\", \"PYTHON3\", '', \"DOUBLE\", \"NO_ENFORCE_DOMAINS\")\n",
    "\n",
    "arcpy.management.CalculateField(\"junctions_5\", \"expected_kabc_crashes\", \n",
    "    \"!EBweight_kabc! * !predicted_kabc_crashes! + (1 - !EBweight_kabc!) * (!fatal_injury_crashes! / 5)\", \"PYTHON3\", '', \"DOUBLE\", \"NO_ENFORCE_DOMAINS\")"
   ]
  },
  {
   "cell_type": "code",
   "execution_count": null,
   "metadata": {
    "hidden": true
   },
   "outputs": [],
   "source": [
    "# Excess Expected Severe Crashes\n",
    "arcpy.management.CalculateField(\"segments_8\", \"excess_expected_kabc_crashes\", \n",
    "    \"!expected_kabc_crashes! - !predicted_kabc_crashes!\", \"PYTHON3\", '', \"DOUBLE\", \"NO_ENFORCE_DOMAINS\")\n",
    "\n",
    "arcpy.management.CalculateField(\"junctions_5\", \"excess_expected_kabc_crashes\", \n",
    "    \"!expected_kabc_crashes! - !predicted_kabc_crashes!\", \"PYTHON3\", '', \"DOUBLE\", \"NO_ENFORCE_DOMAINS\")"
   ]
  },
  {
   "cell_type": "code",
   "execution_count": null,
   "metadata": {
    "hidden": true
   },
   "outputs": [],
   "source": [
    "# LOSS Value\n",
    "segments_expression = \"\"\"\n",
    "def calculate_loss(fatal_injury_crashes, expected_kabc_crashes):\n",
    "    if expected_kabc_crashes != 0:\n",
    "        return (fatal_injury_crashes / 5) / expected_kabc_crashes\n",
    "    else:\n",
    "        return 0\n",
    "\"\"\"\n",
    "\n",
    "junctions_expression = \"\"\"\n",
    "def calculate_loss(fatal_injury_crashes, expected_kabc_crashes):\n",
    "    if expected_kabc_crashes != 0:\n",
    "        return (fatal_injury_crashes / 5) / expected_kabc_crashes\n",
    "    else:\n",
    "        return 0\n",
    "\"\"\"\n",
    "\n",
    "arcpy.management.CalculateField(\"segments_8\", \"LOSS_value\", \"calculate_loss(!fatal_injury_crashes!, !expected_kabc_crashes!)\", \"PYTHON3\", segments_expression, \"DOUBLE\", \"NO_ENFORCE_DOMAINS\")\n",
    "\n",
    "arcpy.management.CalculateField(\"junctions_5\", \"LOSS_value\", \"calculate_loss(!fatal_injury_crashes!, !expected_kabc_crashes!)\", \"PYTHON3\", junctions_expression, \"DOUBLE\", \"NO_ENFORCE_DOMAINS\")\n",
    "\n"
   ]
  },
  {
   "cell_type": "code",
   "execution_count": null,
   "metadata": {
    "hidden": true
   },
   "outputs": [],
   "source": [
    "# Find the LOSS categories (part 1)\n",
    "# Level of Service Safety (LOSS) is categorized in 4 levels. \n",
    "# LOSS I - Indicates low potential for crash reduction.\n",
    "# LOSS II - Indicates low to moderate potential for crash reduction.\n",
    "# LOSS III - Indicates moderate to high potential for crash reduction; and\n",
    "# LOSS IV - Indicates high potential for crash reduction.\n",
    "\n",
    "# In order to determine the categorization amount. \n",
    "# It's 1.5 times the standard deviation. \n",
    "# For example. If the standard deviation is 16, then:\n",
    "# LOSS I is <-24\n",
    "# LOSS II is -24 to <= 1\n",
    "# LOSS III is >1 to <24\n",
    "# LOSS IV is >= 24\n",
    "\n",
    "# Finding standard deviation * 1.5\n",
    "\n",
    "# Find the standard deviation function\n",
    "def calculate_std_dev(table, field):\n",
    "    values = [row[0] for row in arcpy.da.SearchCursor(table, [field]) if row[0] is not None]\n",
    "    if len(values) == 0:\n",
    "        return 0  # Return 0 or other default value if no valid records\n",
    "    mean_value = sum(values) / len(values)\n",
    "    variance = sum([((x - mean_value) ** 2) for x in values]) / len(values)\n",
    "    std_dev = math.sqrt(variance)\n",
    "    return std_dev\n",
    "\n",
    "\n",
    "# Calculate standard deviation for 'LOSS_value' in segments and junctions\n",
    "std_dev_segments = calculate_std_dev(\"segments_8\", \"LOSS_value\")\n",
    "std_dev_junctions = calculate_std_dev(\"junctions_5\", \"LOSS_value\")\n",
    "\n",
    "# Dynamic threshold\n",
    "threshold_value_segments = 1.5 * std_dev_segments\n",
    "threshold_value_junctions = 1.5 * std_dev_junctions"
   ]
  },
  {
   "cell_type": "code",
   "execution_count": null,
   "metadata": {
    "hidden": true
   },
   "outputs": [],
   "source": [
    "# Find the LOSS categories (part 2)\n",
    "\n",
    "# Assign categories based on dynamic threshold calculated in previous step\n",
    "\n",
    "# For Segments\n",
    "arcpy.management.CalculateField(\"segments_8\", \"level_of_safety_service_kabc\", \n",
    "    \"choose_spf(!LOSS_value!, {})\".format(threshold_value_segments), \"PYTHON3\", \"\"\"\n",
    "def choose_spf(LOSS_value, threshold):\n",
    "    if LOSS_value <= -threshold:\n",
    "        return \"LOSS I\"\n",
    "    elif LOSS_value > -threshold and LOSS_value <= 1:\n",
    "        return \"LOSS II\"\n",
    "    elif LOSS_value > 1 and LOSS_value < threshold:\n",
    "        return \"LOSS III\"\n",
    "    elif LOSS_value >= threshold:\n",
    "        return \"LOSS IV\"\n",
    "    else:\n",
    "        return \"Error\"\n",
    "\"\"\")\n",
    "\n",
    "# For Junctions\n",
    "arcpy.management.CalculateField(\"junctions_5\", \"level_of_safety_service_kabc\", \n",
    "    \"choose_spf(!LOSS_value!, {})\".format(threshold_value_junctions), \"PYTHON3\", \"\"\"\n",
    "def choose_spf(LOSS_value, threshold):\n",
    "    if LOSS_value <= -threshold:\n",
    "        return \"LOSS I\"\n",
    "    elif LOSS_value > -threshold and LOSS_value <= 1:\n",
    "        return \"LOSS II\"\n",
    "    elif LOSS_value > 1 and LOSS_value < threshold:\n",
    "        return \"LOSS III\"\n",
    "    elif LOSS_value >= threshold:\n",
    "        return \"LOSS IV\"\n",
    "    else:\n",
    "        return \"Error\"\n",
    "\"\"\")\n"
   ]
  },
  {
   "cell_type": "markdown",
   "metadata": {
    "heading_collapsed": true
   },
   "source": [
    "### Clean up"
   ]
  },
  {
   "cell_type": "code",
   "execution_count": null,
   "metadata": {
    "hidden": true
   },
   "outputs": [],
   "source": [
    "# Copy to new feature layer\n",
    "arcpy.conversion.FeatureClassToFeatureClass(\"segments_8\", r\"safety_layers.gdb\", \"safety_segments\", '', 'Join_Count \"Join_Count\" true true false 4 Long 0 0,First,#,segments_8,Join_Count,-1,-1;TARGET_FID \"TARGET_FID\" true true false 4 Long 0 0,First,#,segments_8,TARGET_FID,-1,-1;Join_Count_1 \"Join_Count\" true true false 4 Long 0 0,First,#,segments_8,Join_Count_1,-1,-1;TARGET_FID_1 \"TARGET_FID\" true true false 4 Long 0 0,First,#,segments_8,TARGET_FID_1,-1,-1;Join_Count_12 \"Join_Count\" true true false 4 Long 0 0,First,#,segments_8,Join_Count_12,-1,-1;TARGET_FID_12 \"TARGET_FID\" true true false 4 Long 0 0,First,#,segments_8,TARGET_FID_12,-1,-1;Join_Count_12_13 \"Join_Count\" true true false 4 Long 0 0,First,#,segments_8,Join_Count_12_13,-1,-1;TARGET_FID_12_13 \"TARGET_FID\" true true false 4 Long 0 0,First,#,segments_8,TARGET_FID_12_13,-1,-1;Join_Count_12_13_14 \"Join_Count\" true true false 4 Long 0 0,First,#,segments_8,Join_Count_12_13_14,-1,-1;TARGET_FID_12_13_14 \"TARGET_FID\" true true false 4 Long 0 0,First,#,segments_8,TARGET_FID_12_13_14,-1,-1;Join_Count_12_13_14_15 \"Join_Count\" true true false 4 Long 0 0,First,#,segments_8,Join_Count_12_13_14_15,-1,-1;TARGET_FID_12_13_14_15 \"TARGET_FID\" true true false 4 Long 0 0,First,#,segments_8,TARGET_FID_12_13_14_15,-1,-1;Join_Count_12_13_14_15_16 \"Join_Count\" true true false 4 Long 0 0,First,#,segments_8,Join_Count_12_13_14_15_16,-1,-1;TARGET_FID_12_13_14_15_16 \"TARGET_FID\" true true false 4 Long 0 0,First,#,segments_8,TARGET_FID_12_13_14_15_16,-1,-1;route_id \"Route ID\" true true false 32 Text 0 0,First,#,segments_8,route_id,0,32;functional_classification_code \"Functional Classification Code\" true true false 2 Short 0 0,First,#,segments_8,functional_classification_code,-1,-1;functional_classification \"Functional Classification\" true true false 255 Text 0 0,First,#,segments_8,functional_classification,0,255;crashes \"crashes\" true true false 8 Double 0 0,First,#,segments_8,crashes,-1,-1;injury_crashes \"injury_crashes\" true true false 8 Double 0 0,First,#,segments_8,injury_crashes,-1,-1;fatal_crashes \"fatal_crashes\" true true false 8 Double 0 0,First,#,segments_8,fatal_crashes,-1,-1;fatal_injury_crashes \"fatal_injury_crashes\" true true false 8 Double 0 0,First,#,segments_8,fatal_injury_crashes,-1,-1;non_motorized_fatal_injury_crashes \"non_motorized_fatal_injury_crashes\" true true false 8 Double 0 0,First,#,segments_8,non_motorized_fatal_injury_crashes,-1,-1;impaired_driving_crashes \"impaired_driving_crashes\" true true false 8 Double 0 0,First,#,segments_8,impaired_driving_crashes,-1,-1;Length_Miles \"Length_Miles\" true true false 8 Double 0 0,First,#,segments_8,Length_Miles,-1,-1;FromDate \"FromDate\" true true false 8 Date 0 0,First,#,segments_8,FromDate,-1,-1;ToDate \"ToDate\" true true false 8 Date 0 0,First,#,segments_8,ToDate,-1,-1;RouteId \"RouteId\" true true false 32 Text 0 0,First,#,segments_8,RouteId,0,32;FromMeasure \"FromMeasure\" true true false 8 Double 0 0,First,#,segments_8,FromMeasure,-1,-1;ToMeasure \"ToMeasure\" true true false 8 Double 0 0,First,#,segments_8,ToMeasure,-1,-1;AADT \"AADT\" true true false 4 Long 0 0,First,#,segments_8,AADT,-1,-1;InServiceDate \"InServiceDate\" true true false 8 Date 0 0,First,#,segments_8,InServiceDate,-1,-1;Shape_Length_1 \"Shape_Length\" true true false 8 Double 0 0,First,#,segments_8,Shape_Length_1,-1,-1;VMT \"VMT\" true true false 8 Double 0 0,First,#,segments_8,VMT,-1,-1;MVM \"MVM\" true true false 8 Double 0 0,First,#,segments_8,MVM,-1,-1;injury_rate \"injury_rate\" true true false 8 Double 0 0,First,#,segments_8,injury_rate,-1,-1;fatal_injuy_rate \"fatal_injuy_rate\" true true false 8 Double 0 0,First,#,segments_8,fatal_injuy_rate,-1,-1;UA_ID \"URBAN AREA ID\" true true false 5 Text 0 0,First,#,segments_8,UA_ID,0,5;NAME \"NAME\" true true false 60 Text 0 0,First,#,segments_8,NAME,0,60;LSAD \"LEGAL/STATISTICAL AREA CODE (LSAD)\" true true false 2 Text 0 0,First,#,segments_8,LSAD,0,2;LSAD_DESC \"LSAD DESCRIPTION\" true true false 15 Text 0 0,First,#,segments_8,LSAD_DESC,0,15;POP2010 \"POP2010\" true true false 4 Long 0 0,First,#,segments_8,POP2010,-1,-1;POP10_SQMI \"POP10_SQMI\" true true false 8 Double 0 0,First,#,segments_8,POP10_SQMI,-1,-1;HSE_UNITS \"HOUSING UNITS\" true true false 4 Long 0 0,First,#,segments_8,HSE_UNITS,-1,-1;SQMI \"SQMI\" true true false 8 Double 0 0,First,#,segments_8,SQMI,-1,-1;Shape_Length_12 \"Shape_Length\" true true false 8 Double 0 0,First,#,segments_8,Shape_Length_12,-1,-1;in_urban_area \"in_urban_area\" true true false 8 Double 0 0,First,#,segments_8,in_urban_area,-1,-1;RouteIsDivided \"Route Is Divided\" true true false 2 Short 0 0,First,#,segments_8,RouteIsDivided,-1,-1;FromDate_1 \"FromDate\" true true false 200 Text 0 0,First,#,segments_8,FromDate_1,0,200;ToDate_1 \"ToDate\" true true false 200 Text 0 0,First,#,segments_8,ToDate_1,0,200;RouteId_1 \"RouteId\" true true false 200 Text 0 0,First,#,segments_8,RouteId_1,0,200;FromMeasure_1 \"FromMeasure\" true true false 200 Text 0 0,First,#,segments_8,FromMeasure_1,0,200;ToMeasure_1 \"ToMeasure\" true true false 200 Text 0 0,First,#,segments_8,ToMeasure_1,0,200;MedianWidthFt \"MedianWidthFt\" true true false 200 Text 0 0,First,#,segments_8,MedianWidthFt,0,200;MedianType \"MedianType\" true true false 200 Text 0 0,First,#,segments_8,MedianType,0,200;NumberOfLanes \"NumberOfLanes\" true true false 200 Text 0 0,First,#,segments_8,NumberOfLanes,0,200;BeginWidthFt \"BeginWidthFt\" true true false 200 Text 0 0,First,#,segments_8,BeginWidthFt,0,200;EndWidthFt \"EndWidthFt\" true true false 200 Text 0 0,First,#,segments_8,EndWidthFt,0,200;OTTYear \"OTTYear\" true true false 200 Text 0 0,First,#,segments_8,OTTYear,0,200;AuxLaneType \"AuxLaneType\" true true false 200 Text 0 0,First,#,segments_8,AuxLaneType,0,200;AuxLaneTypeForSymbol \"AuxLaneTypeForSymbol\" true true false 200 Text 0 0,First,#,segments_8,AuxLaneTypeForSymbol,0,200;InServiceDate_1 \"InServiceDate\" true true false 200 Text 0 0,First,#,segments_8,InServiceDate_1,0,200;OutServiceDate \"OutServiceDate\" true true false 200 Text 0 0,First,#,segments_8,OutServiceDate,0,200;SourceYear \"SourceYear\" true true false 200 Text 0 0,First,#,segments_8,SourceYear,0,200;Shape_Length_12_13 \"Shape_Length\" true true false 8 Double 0 0,First,#,segments_8,Shape_Length_12_13,-1,-1;divided \"divided\" true true false 512 Text 0 0,First,#,segments_8,divided,0,512;num_lanes \"num_lanes\" true true false 8 Double 0 0,First,#,segments_8,num_lanes,-1,-1;predicted_crashes_SPF \"predicted_crashes_SPF\" true true false 512 Text 0 0,First,#,segments_8,predicted_crashes_SPF,0,512;COUNTYFP \"COUNTYFP\" true true false 3 Text 0 0,First,#,segments_8,COUNTYFP,0,3;Shape_Length \"Shape_Length\" false true true 8 Double 0 0,First,#,segments_8,Shape_Length,-1,-1;is_divided \"is_divided\" true true false 8 Double 0 0,First,#,segments_8,is_divided,-1,-1;overdispersion_parameter \"overdispersion_parameter\" true true false 512 Text 0 0,First,#,segments_8,overdispersion_parameter,0,512;spf_id \"spf_id\" true true false 512 Text 0 0,First,#,segments_8,spf_id,0,512;overdispersionparameter \"overdispersionparameter\" true true false 8 Double 0 0,First,#,segments_8,overdispersionparameter,-1,-1;predicted_crashes_PAG \"predicted_crashes_PAG\" true true false 8 Double 0 0,First,#,segments_8,predicted_crashes_PAG,-1,-1;diff \"diff\" true true false 8 Double 0 0,First,#,segments_8,diff,-1,-1;predicted_crashed_SPF_value \"predicted_crashed_SPF_value\" true true false 8 Double 0 0,First,#,segments_8,predicted_crashed_SPF_value,-1,-1;predicted_crashes_SPF_value \"predicted_crashes_SPF_value\" true true false 8 Double 0 0,First,#,segments_8,predicted_crashes_SPF_value,-1,-1;severe_calibration \"severe_calibration\" true true false 8 Double 0 0,First,#,segments_8,severe_calibration,-1,-1;severe_cal \"severe_cal\" true true false 8 Double 0 0,First,#,segments_8,severe_cal,-1,-1;predicted_crashes \"predicted_crashes\" true true false 8 Double 0 0,First,#,segments_8,predicted_crashes,-1,-1;predicted_kabc_crashes \"predicted_kabc_crashes\" true true false 8 Double 0 0,First,#,segments_8,predicted_kabc_crashes,-1,-1;EBweight_kabc \"EBweight_kabc\" true true false 8 Double 0 0,First,#,segments_8,EBweight_kabc,-1,-1;expected_kabc_crashes \"expected_kabc_crashes\" true true false 8 Double 0 0,First,#,segments_8,expected_kabc_crashes,-1,-1;excess_expected_kabc_crashes \"excess_expected_kabc_crashes\" true true false 8 Double 0 0,First,#,segments_8,excess_expected_kabc_crashes,-1,-1;LOSS_value \"LOSS_value\" true true false 8 Double 0 0,First,#,segments_8,LOSS_value,-1,-1;level_of_safety_service_kabc \"level_of_safety_service_kabc\" true true false 512 Text 0 0,First,#,segments_8,level_of_safety_service_kabc,0,512', '')\n",
    "arcpy.conversion.FeatureClassToFeatureClass(\"junctions_5\", r\"safety_layers.gdb\", \"safety_junctions\", '', 'Join_Count \"Join_Count\" true true false 4 Long 0 0,First,#,junctions_5,Join_Count,-1,-1;TARGET_FID \"TARGET_FID\" true true false 4 Long 0 0,First,#,junctions_5,TARGET_FID,-1,-1;Join_Count_1 \"Join_Count\" true true false 4 Long 0 0,First,#,junctions_5,Join_Count_1,-1,-1;TARGET_FID_1 \"TARGET_FID\" true true false 4 Long 0 0,First,#,junctions_5,TARGET_FID_1,-1,-1;Join_Count_12 \"Join_Count\" true true false 4 Long 0 0,First,#,junctions_5,Join_Count_12,-1,-1;TARGET_FID_12 \"TARGET_FID\" true true false 4 Long 0 0,First,#,junctions_5,TARGET_FID_12,-1,-1;Join_Count_12_13 \"Join_Count\" true true false 4 Long 0 0,First,#,junctions_5,Join_Count_12_13,-1,-1;TARGET_FID_12_13 \"TARGET_FID\" true true false 4 Long 0 0,First,#,junctions_5,TARGET_FID_12_13,-1,-1;Join_Count_12_13_14 \"Join_Count\" true true false 4 Long 0 0,First,#,junctions_5,Join_Count_12_13_14,-1,-1;TARGET_FID_12_13_14 \"TARGET_FID\" true true false 4 Long 0 0,First,#,junctions_5,TARGET_FID_12_13_14,-1,-1;FID_Junctions_SunCloud_Select \"FID_Junctions_SunCloud_Select\" true true false 4 Long 0 0,First,#,junctions_5,FID_Junctions_SunCloud_Select,-1,-1;FromDate \"FromDate\" true true false 8 Date 0 0,First,#,junctions_5,FromDate,-1,-1;ToDate \"ToDate\" true true false 8 Date 0 0,First,#,junctions_5,ToDate,-1,-1;RouteID \"RouteID\" true true false 32 Text 0 0,First,#,junctions_5,RouteID,0,32;Measure \"Measure\" true true false 8 Double 0 0,First,#,junctions_5,Measure,-1,-1;MasterJunc \"MasterJunc\" true true false 38 Text 0 0,First,#,junctions_5,MasterJunc,0,38;NumberOfLe \"NumberOfLe\" true true false 4 Long 0 0,First,#,junctions_5,NumberOfLe,-1,-1;JunctionGe \"JunctionGe\" true true false 4 Long 0 0,First,#,junctions_5,JunctionGe,-1,-1;JunctionsS \"JunctionsS\" true true false 2 Text 0 0,First,#,junctions_5,JunctionsS,0,2;TrafficCon \"TrafficCon\" true true false 4 Long 0 0,First,#,junctions_5,TrafficCon,-1,-1;TurnCode \"TurnCode\" true true false 10 Text 0 0,First,#,junctions_5,TurnCode,0,10;Detection \"Detection\" true true false 4 Long 0 0,First,#,junctions_5,Detection,-1,-1;Signalizat \"Signalizat\" true true false 4 Long 0 0,First,#,junctions_5,Signalizat,-1,-1;RailCrossi \"RailCrossi\" true true false 7 Text 0 0,First,#,junctions_5,RailCrossi,0,7;SchoolZone \"SchoolZone\" true true false 4 Long 0 0,First,#,junctions_5,SchoolZone,-1,-1;BicycleFac \"BicycleFac\" true true false 4 Long 0 0,First,#,junctions_5,BicycleFac,-1,-1;Crosswalk \"Crosswalk\" true true false 4 Long 0 0,First,#,junctions_5,Crosswalk,-1,-1;PctGreenTi \"PctGreenTi\" true true false 4 Long 0 0,First,#,junctions_5,PctGreenTi,-1,-1;PctGreen_1 \"PctGreen_1\" true true false 4 Long 0 0,First,#,junctions_5,PctGreen_1,-1,-1;SourceID \"SourceID\" true true false 4 Long 0 0,First,#,junctions_5,SourceID,-1,-1;JunctionMa \"JunctionMa\" true true false 4 Long 0 0,First,#,junctions_5,JunctionMa,-1,-1;JunctionTy \"JunctionTy\" true true false 4 Long 0 0,First,#,junctions_5,JunctionTy,-1,-1;OffsetInte \"OffsetInte\" true true false 1 Text 0 0,First,#,junctions_5,OffsetInte,0,1;OffsetIn_1 \"OffsetIn_1\" true true false 8 Double 0 0,First,#,junctions_5,OffsetIn_1,-1,-1;InServiceD \"InServiceD\" true true false 8 Date 0 0,First,#,junctions_5,InServiceD,-1,-1;FID_sun_cloud_routes \"FID_sun_cloud_routes\" true true false 4 Long 0 0,First,#,junctions_5,FID_sun_cloud_routes,-1,-1;route_id \"route_id\" true true false 32 Text 0 0,First,#,junctions_5,route_id,0,32;from_measu \"from_measu\" true true false 8 Double 0 0,First,#,junctions_5,from_measu,-1,-1;to_measure \"to_measure\" true true false 8 Double 0 0,First,#,junctions_5,to_measure,-1,-1;functional \"functional\" true true false 4 Long 0 0,First,#,junctions_5,functional,-1,-1;facility_t \"facility_t\" true true false 4 Long 0 0,First,#,junctions_5,facility_t,-1,-1;crashes \"crashes\" true true false 255 Text 0 0,First,#,junctions_5,crashes,0,255;injury_crashes \"injury_crashes\" true true false 8 Double 0 0,First,#,junctions_5,injury_crashes,-1,-1;fatal_crashes \"fatal_crashes\" true true false 8 Double 0 0,First,#,junctions_5,fatal_crashes,-1,-1;fatal_injury_crashes \"fatal_injury_crashes\" true true false 8 Double 0 0,First,#,junctions_5,fatal_injury_crashes,-1,-1;non_motorized_fatal_injury \"non_motorized_fatal_injury\" true true false 8 Double 0 0,First,#,junctions_5,non_motorized_fatal_injury,-1,-1;impaired_driving_crashes \"impaired_driving_crashes\" true true false 8 Double 0 0,First,#,junctions_5,impaired_driving_crashes,-1,-1;AADT \"AADT\" true true false 8 Double 0 0,First,#,junctions_5,AADT,-1,-1;aadt_major \"aadt_major\" true true false 8 Double 0 0,First,#,junctions_5,aadt_major,-1,-1;aadt_minor \"aadt_minor\" true true false 8 Double 0 0,First,#,junctions_5,aadt_minor,-1,-1;TEV \"TEV\" true true false 8 Double 0 0,First,#,junctions_5,TEV,-1,-1;MEV \"MEV\" true true false 8 Double 0 0,First,#,junctions_5,MEV,-1,-1;injury_rate \"injury_rate\" true true false 8 Double 0 0,First,#,junctions_5,injury_rate,-1,-1;fatal_injury_rate \"fatal_injury_rate\" true true false 8 Double 0 0,First,#,junctions_5,fatal_injury_rate,-1,-1;lanes_entering \"lanes_entering\" true true false 8 Double 0 0,First,#,junctions_5,lanes_entering,-1,-1;Area_Acres \"Area_Acres\" true true false 8 Double 0 0,First,#,junctions_5,Area_Acres,-1,-1;NAME \"NAME\" true true false 10 Text 0 0,First,#,junctions_5,NAME,0,10;CODE \"CODE\" true true false 2 Short 0 0,First,#,junctions_5,CODE,-1,-1;Peri_Mile \"Peri_Mile\" true true false 8 Double 0 0,First,#,junctions_5,Peri_Mile,-1,-1;Area_Miles \"Area_Miles\" true true false 8 Double 0 0,First,#,junctions_5,Area_Miles,-1,-1;Per_Mile \"Per_Mile\" true true false 8 Double 0 0,First,#,junctions_5,Per_Mile,-1,-1;Shape_Leng \"Shape_Leng\" true true false 8 Double 0 0,First,#,junctions_5,Shape_Leng,-1,-1;traffic_con \"traffic_con\" true true false 8 Double 0 0,First,#,junctions_5,traffic_con,-1,-1;num_legs \"num_legs\" true true false 8 Double 0 0,First,#,junctions_5,num_legs,-1,-1;predicted_crashes_SPF \"predicted_crashes_SPF\" true true false 8 Double 0 0,First,#,junctions_5,predicted_crashes_SPF,-1,-1;overdispersion_parameter \"overdispersion_parameter\" true true false 8 Double 0 0,First,#,junctions_5,overdispersion_parameter,-1,-1;spf_id \"spf_id\" true true false 512 Text 0 0,First,#,junctions_5,spf_id,0,512;predicted_crashes_predefined \"predicted_crashes_predefined\" true true false 8 Double 0 0,First,#,junctions_5,predicted_crashes_predefined,-1,-1;diff \"diff\" true true false 8 Double 0 0,First,#,junctions_5,diff,-1,-1;severe_calibration \"severe_calibration\" true true false 8 Double 0 0,First,#,junctions_5,severe_calibration,-1,-1;predicted_kabc_crashes \"predicted_kabc_crashes\" true true false 8 Double 0 0,First,#,junctions_5,predicted_kabc_crashes,-1,-1;EBweight_kabc \"EBweight_kabc\" true true false 8 Double 0 0,First,#,junctions_5,EBweight_kabc,-1,-1;expected_kabc_crashes \"expected_kabc_crashes\" true true false 8 Double 0 0,First,#,junctions_5,expected_kabc_crashes,-1,-1;excess_expected_kabc_crashes \"excess_expected_kabc_crashes\" true true false 8 Double 0 0,First,#,junctions_5,excess_expected_kabc_crashes,-1,-1;LOSS_value \"LOSS_value\" true true false 8 Double 0 0,First,#,junctions_5,LOSS_value,-1,-1;level_of_safety_service_kabc \"level_of_safety_service_kabc\" true true false 512 Text 0 0,First,#,junctions_5,level_of_safety_service_kabc,0,512', '')\n",
    "\n",
    "# Delete duplicate junctions\n",
    "arcpy.management.DeleteIdentical(\"safety_junctions\", \"Shape;MasterJunc\", \"150 Feet\", 0)\n"
   ]
  },
  {
   "cell_type": "code",
   "execution_count": null,
   "metadata": {
    "hidden": true
   },
   "outputs": [],
   "source": [
    "# Remove un-used attributes and rename\n",
    "\n",
    "working_layer = 'safety_segments'\n",
    "\n",
    "system_fields = [arcpy.Describe(working_layer).OIDFieldName, 'Shape', 'geom', 'Shape_Length']\n",
    "current_fields = [f.name for f in arcpy.ListFields(working_layer) if not f.name in system_fields]\n",
    "\n",
    "# Define tuples of CurrentFieldName, target_field_name, Alias\n",
    "target_fields = [\n",
    "    (\"OBJECTID\", \"OBJECTID\", \"Object ID\"),\n",
    "    (\"crashes\", \"crashes\", \"Total number of all crashes\"),\n",
    "    (\"impaired_driving_crashes\", \"impaired_driving_crashes\", \"Number of impaired driving crashes\"),\n",
    "    (\"injury_crashes\", \"injury_crashes\", \"Number of injuries\"),\n",
    "    (\"injury_rate\", \"injury_rate\", \"Rate of injuries per million entering vehicles\"),\n",
    "    (\"fatal_injury_crashes\", \"fatal_injury_crashes\", \"Number of fatalities\"),\n",
    "    (\"fatal_injuy_rate\", \"fatal_injury_rate\", \"Rate of fatalities per million entering vehicles\"),\n",
    "    (\"non_motorized_fatal_injury_crashes\", \"non_motorized_fatal_injury\", \"Number of non-motorized fatalities and serious injuries\"),\n",
    "    (\"level_of_safety_service_kabc\", \"level_of_safety_service_kabc\", \"Level of Safety Service for only KABC crashes\"),\n",
    "    (\"spf_id\", \"spf_id\", \"Safety Performance Function ID\"),\n",
    "    (\"predicted_kabc_crashes\", \"predicted_kabc_crashes\", \"SPF-based Predicted Number of KABC Crashes\"),\n",
    "    (\"expected_kabc_crashes\", \"expected_kabc_crashes\", \"Expected Number of KABC Crashes\"),\n",
    "    (\"excess_expected_kabc_crashes\", \"excess_expected_kabc_crashes\", \"Excess Expected Number of KABC Crashes\"),\n",
    "    (\"level_of_safety_service_kabc\", \"level_of_safety_service_kabc\", \"LOSS for KABC Crashes\"),\n",
    "    (\"NAME\", \"county\", \"County\")\n",
    "]\n",
    "\n",
    "# delete unused fields\n",
    "delete_fields = [field for field in current_fields if not field in [a for a, b, c in target_fields]]\n",
    "if delete_fields:\n",
    "    arcpy.management.DeleteField(working_layer, delete_fields)\n",
    "    \n",
    "for current, new, alias in target_fields:\n",
    "    # arcgis can't change capitalization ... a hacky workaround\n",
    "    if new != current and new.lower() == current.lower():\n",
    "        arcpy.management.AlterField(working_layer, current, current + \"1\")\n",
    "        current = current + \"1\"\n",
    "    arcpy.management.AlterField(working_layer, current, new, alias)"
   ]
  },
  {
   "cell_type": "code",
   "execution_count": null,
   "metadata": {
    "hidden": true
   },
   "outputs": [],
   "source": [
    "# Remove un-used attributes and rename\n",
    "\n",
    "working_layer = 'safety_junctions'\n",
    "\n",
    "system_fields = [arcpy.Describe(working_layer).OIDFieldName, 'Shape', 'geom', 'Shape_Length']\n",
    "current_fields = [f.name for f in arcpy.ListFields(working_layer) if not f.name in system_fields]\n",
    "\n",
    "# Define tuples of CurrentFieldName, target_field_name, Alias\n",
    "target_fields = [\n",
    "    (\"OBJECTID\", \"OBJECTID\", \"Object ID\"),\n",
    "    (\"crashes\", \"crashes\", \"Total number of all crashes\"),\n",
    "    (\"impaired_driving_crashes\", \"impaired_driving_crashes\", \"Number of impaired driving crashes\"),\n",
    "    (\"injury_crashes\", \"injury_crashes\", \"Number of injuries\"),\n",
    "    (\"injury_rate\", \"injury_rate\", \"Rate of injuries per million entering vehicles\"),\n",
    "    (\"fatal_injury_crashes\", \"fatal_injury_crashes\", \"Number of fatalities\"),\n",
    "    (\"fatal_injury_rate\", \"fatal_injury_rate\", \"Rate of fatalities per million entering vehicles\"),\n",
    "    (\"non_motorized_fatal_injury\", \"non_motorized_fatal_injury\", \"Number of non-motorized fatalities and serious injuries\"),\n",
    "    (\"level_of_safety_service_kabc\", \"level_of_safety_service_kabc\", \"Level of Safety Service for only KABC crashes\"),\n",
    "    (\"spf_id\", \"spf_id\", \"Safety Performance Function ID\"),\n",
    "    (\"predicted_kabc_crashes\", \"predicted_kabc_crashes\", \"SPF-based Predicted Number of KABC Crashes\"),\n",
    "    (\"expected_kabc_crashes\", \"expected_kabc_crashes\", \"Expected Number of KABC Crashes\"),\n",
    "    (\"excess_expected_kabc_crashes\", \"excess_expected_kabc_crashes\", \"Excess Expected Number of KABC Crashes\"),\n",
    "    (\"level_of_safety_service_kabc\", \"level_of_safety_service_kabc\", \"LOSS for KABC Crashes\"),\n",
    "    (\"NAME\", \"county\", \"County\")\n",
    "]\n",
    "\n",
    "# delete unused fields\n",
    "delete_fields = [field for field in current_fields if not field in [a for a, b, c in target_fields]]\n",
    "if delete_fields:\n",
    "    arcpy.management.DeleteField(working_layer, delete_fields)\n",
    "    \n",
    "for current, new, alias in target_fields:\n",
    "    # arcgis can't change capitalization ... a hacky workaround\n",
    "    if new != current and new.lower() == current.lower():\n",
    "        arcpy.management.AlterField(working_layer, current, current + \"1\")\n",
    "        current = current + \"1\"\n",
    "    arcpy.management.AlterField(working_layer, current, new, alias)\n",
    "    "
   ]
  },
  {
   "cell_type": "code",
   "execution_count": null,
   "metadata": {
    "hidden": true
   },
   "outputs": [],
   "source": [
    "print(\"----- END OF SCRIPT -----\")"
   ]
  },
  {
   "cell_type": "markdown",
   "metadata": {
    "hidden": true
   },
   "source": [
    "END OF SCRIPT"
   ]
  }
 ],
 "metadata": {
  "kernelspec": {
   "display_name": "ArcGISPro",
   "language": "Python",
   "name": "python3"
  },
  "language_info": {
   "file_extension": ".py",
   "name": "python",
   "version": "3"
  },
  "vscode": {
   "interpreter": {
    "hash": "895e0aaa54b0af8cab0fa1b815b51df1f8db712976d62955092b9fcdc2079776"
   }
  }
 },
 "nbformat": 4,
 "nbformat_minor": 2
}
