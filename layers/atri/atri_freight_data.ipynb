{
 "cells": [
  {
   "cell_type": "markdown",
   "metadata": {},
   "source": [
    "# Move the freight trips data from AZDOT to the Sun Cloud TDM network. "
   ]
  },
  {
   "cell_type": "markdown",
   "metadata": {},
   "source": [
    "Define workspace and data."
   ]
  },
  {
   "cell_type": "code",
   "execution_count": null,
   "metadata": {},
   "outputs": [],
   "source": [
    "import arcpy\n",
    "arcpy.env.overwriteOutput = True\n",
    "\n",
    "# authentication to access secured data\n",
    "from arcgis.gis import GIS\n",
    "from arcgis.features import FeatureLayer\n",
    "gis = GIS('pro')\n",
    "target_sr = arcpy.SpatialReference(2223)\n",
    "db = arcpy.env.workspace = r\".\\data\\atri_freight.gdb\"\n",
    "arcpy.Describe(db)\n",
    "\n"
   ]
  },
  {
   "cell_type": "markdown",
   "metadata": {},
   "source": [
    "Project the data."
   ]
  },
  {
   "cell_type": "code",
   "execution_count": null,
   "metadata": {},
   "outputs": [],
   "source": [
    "# project in_data to match the target spatial reference\n",
    "def project(in_data, target_sr, out_name):\n",
    "\n",
    "\n",
    "    in_sr = arcpy.Describe(in_data).spatialReference\n",
    "\n",
    "    tr = arcpy.ListTransformations (in_sr, target_sr)\n",
    "    datum_conversion = ''\n",
    "    if(len(tr)>0):\n",
    "        datum_conversion = arcpy.ListTransformations (in_sr, target_sr)[0]\n",
    "\n",
    "    arcpy.Project_management(\n",
    "        in_dataset = in_data, \n",
    "        out_dataset = out_name,\n",
    "        out_coor_system = target_sr,\n",
    "        transform_method = datum_conversion)"
   ]
  },
  {
   "cell_type": "markdown",
   "metadata": {},
   "source": [
    "Project the data."
   ]
  },
  {
   "cell_type": "code",
   "execution_count": null,
   "metadata": {},
   "outputs": [],
   "source": [
    "source = 'SunCloudBaseYearNetworkWithoutAttrV2_wATRI202204vol'\n",
    "project(source, target_sr, 'source_project')\n",
    "\n",
    "destination = 'SunCloudBaseandFutureVolumesCapacityV3'\n",
    "project(destination, target_sr, 'destination_project')"
   ]
  },
  {
   "cell_type": "markdown",
   "metadata": {},
   "source": [
    "Spatial join: share a line segment. "
   ]
  },
  {
   "cell_type": "code",
   "execution_count": null,
   "metadata": {},
   "outputs": [],
   "source": [
    "joined = arcpy.management.AddSpatialJoin(\n",
    "    target_features=\"destination_project\",\n",
    "    join_features=\"source_project\",\n",
    "    join_operation=\"JOIN_ONE_TO_ONE\",\n",
    "    join_type=\"KEEP_ALL\",\n",
    "    field_mapping=r'SUNCLOUD_I \"SUNCLOUD_I\" true true false 16 Text 0 0,First,#,C:\\Development\\sun_cloud\\layers\\atri\\data\\atri_freight.gdb\\source_project,SUNCLOUD_I,0,16;count \"count\" true true false 4 Long 0 0,First,#,C:\\Development\\sun_cloud\\layers\\atri\\data\\atri_freight.gdb\\source_project,count,-1,-1',\n",
    "    match_option=\"SHARE_A_LINE_SEGMENT_WITH\",\n",
    "    search_radius=None,\n",
    "    distance_field_name=\"\"\n",
    ")"
   ]
  },
  {
   "cell_type": "code",
   "execution_count": null,
   "metadata": {},
   "outputs": [],
   "source": [
    "arcpy.ExportFeatures_conversion(joined, 'atri_freight')"
   ]
  },
  {
   "cell_type": "markdown",
   "metadata": {},
   "source": [
    "Delete where count data is not available."
   ]
  },
  {
   "cell_type": "code",
   "execution_count": null,
   "metadata": {},
   "outputs": [],
   "source": [
    "selected = arcpy.management.SelectLayerByAttribute(\n",
    "    in_layer_or_view=\"atri_freight\",\n",
    "    selection_type=\"NEW_SELECTION\",\n",
    "    where_clause=\"count IS NULL\",\n",
    "    invert_where_clause=None\n",
    ")\n",
    "\n",
    "print(arcpy.GetCount_management(selected)[0])"
   ]
  },
  {
   "cell_type": "code",
   "execution_count": null,
   "metadata": {},
   "outputs": [],
   "source": [
    "arcpy.DeleteFeatures_management(selected)"
   ]
  },
  {
   "cell_type": "markdown",
   "metadata": {},
   "source": [
    "Standardize field name."
   ]
  },
  {
   "cell_type": "code",
   "execution_count": null,
   "metadata": {},
   "outputs": [],
   "source": [
    "target_fields = [\n",
    "    ('count', 'freight_trips', 'Freight Trips (ATRI)'),\n",
    "\n",
    "]\n",
    "for current, new, alias in target_fields:\n",
    "    arcpy.management.AlterField(\"atri_freight\", current, new, alias)"
   ]
  },
  {
   "cell_type": "markdown",
   "metadata": {},
   "source": [
    "Delete non-key fields."
   ]
  },
  {
   "cell_type": "code",
   "execution_count": null,
   "metadata": {},
   "outputs": [],
   "source": [
    "fc = 'atri_freight'\n",
    "keep = ['freight_trips']\n",
    "f_names = [f.name for f in arcpy.ListFields(fc) if f.required == False and f.name not in keep]\n",
    "f_names\n",
    "\n",
    "arcpy.DeleteField_management(fc, f_names)"
   ]
  },
  {
   "cell_type": "code",
   "execution_count": 23,
   "metadata": {},
   "outputs": [
    {
     "data": {
      "text/html": [
       "<div class='gpresult'><h2>Messages</h2><div id='messages' data-messages='[\"Start Time: Friday, April 28, 2023 5:04:17 PM\",\"Succeeded at Friday, April 28, 2023 5:06:16 PM (Elapsed Time: 1 minutes 59 seconds)\"]' data-show='true'><div id = 'default' /></div></div>"
      ],
      "text/plain": [
       "<Result '.\\\\data\\\\atri_freight.gdb\\\\atri_freight'>"
      ]
     },
     "execution_count": 23,
     "metadata": {},
     "output_type": "execute_result"
    }
   ],
   "source": [
    "arcpy.management.DeleteField(fc, f_names)"
   ]
  }
 ],
 "metadata": {
  "kernelspec": {
   "display_name": "Python 3.9.16 ('arcgispro-py3-clone-dev')",
   "language": "python",
   "name": "python3"
  },
  "language_info": {
   "codemirror_mode": {
    "name": "ipython",
    "version": 3
   },
   "file_extension": ".py",
   "mimetype": "text/x-python",
   "name": "python",
   "nbconvert_exporter": "python",
   "pygments_lexer": "ipython3",
   "version": "3.9.16"
  },
  "orig_nbformat": 4,
  "vscode": {
   "interpreter": {
    "hash": "a4c764ea2bf24b1e69818dfba780d2c08c53d1474b8e32af3000e5573643d123"
   }
  }
 },
 "nbformat": 4,
 "nbformat_minor": 2
}
