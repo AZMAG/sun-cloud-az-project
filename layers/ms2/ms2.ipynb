{
 "cells": [
  {
   "cell_type": "markdown",
   "metadata": {},
   "source": [
    "### Convert the MS2 data to feature layer for Sun Cloud area.\n",
    "MS2 stations shapefile and counts Excel files obtained from Sage Donaldson and Lucas Murray at AZDOT. "
   ]
  },
  {
   "cell_type": "code",
   "execution_count": null,
   "metadata": {},
   "outputs": [],
   "source": [
    "# define workspace\n",
    "import arcpy\n",
    "import os\n",
    "db = arcpy.env.workspace = './data/sun_cloud_ms2_revision.gdb'\n",
    "arcpy.Describe(db)\n",
    "\n",
    "data_dir = '.\\data'\n",
    "full_data_path = os.path.abspath(data_dir)\n",
    "full_data_path"
   ]
  },
  {
   "cell_type": "markdown",
   "metadata": {},
   "source": [
    "Custom functions. "
   ]
  },
  {
   "cell_type": "code",
   "execution_count": null,
   "metadata": {},
   "outputs": [],
   "source": [
    "from arcgis.gis import GIS\n",
    "gis = GIS('pro')\n",
    "from arcgis.features import FeatureLayer\n",
    "\n",
    "# save feature layer to db\n",
    "def save_fl(db, url, outname):\n",
    "    fl = FeatureLayer(url)\n",
    "    featureset = fl.query()\n",
    "    featureset.save(db, outname)\n",
    "\n",
    "# project in_data to match the target_data\n",
    "\n",
    "def project(in_data, target_data, out_name):\n",
    "    #TODO: do not hardcode this\n",
    "    target_data = 'PM3_For_HPMS_2_ExportFeature'\n",
    "\n",
    "    in_sr = arcpy.Describe(in_data).spatialReference\n",
    "    target_sr = arcpy.Describe(target_data).spatialReference\n",
    "   \n",
    "    if len(arcpy.ListTransformations (in_sr, target_sr))>0:\n",
    "        datum_conversion = arcpy.ListTransformations (in_sr, target_sr)[0]\n",
    "    else: \n",
    "        datum_conversion = ''\n",
    "    arcpy.Project_management(\n",
    "        in_dataset = in_data, \n",
    "        out_dataset = out_name,\n",
    "        out_coor_system = target_sr,\n",
    "        transform_method = datum_conversion)\n",
    "\n",
    "def unique_values(table , field):\n",
    "    with arcpy.da.SearchCursor(table, [field]) as cursor:\n",
    "        return sorted({row[0] for row in cursor})\n",
    "\n",
    "\n",
    "def get_average(lst):\n",
    "    return sum(lst) / len(lst)"
   ]
  },
  {
   "cell_type": "markdown",
   "metadata": {},
   "source": [
    "Import the source spreadsheet to file geodatabase (this cell will run for a few minutes!)"
   ]
  },
  {
   "cell_type": "code",
   "execution_count": null,
   "metadata": {},
   "outputs": [],
   "source": [
    "# import source spreadsheet to file geodatabase\n",
    "import re\n",
    "import pandas as pd\n",
    "\n",
    "# import excel files to file geodatabase\n",
    "data_dir = '.\\data'\n",
    "full_data_path = os.path.abspath(data_dir)\n",
    "\n",
    "for file in os.listdir(data_dir):\n",
    "    if(file.lower().endswith('.xlsx')):\n",
    "        excel_file = os.path.join(full_data_path, file)\n",
    "        out_name = re.sub(r'[^a-zA-Z0-9]', '', os.path.splitext(file)[0])\n",
    "        new_name = os.path.join(full_data_path, out_name +'.xlsx')\n",
    "        print(new_name)\n",
    "        # rename the excel files\n",
    "        os.rename(excel_file, new_name)\n",
    "\n",
    "        # use full file path\n",
    "        new_file = os.path.join(full_data_path, new_name)\n",
    "        out_tb = os.path.join(os.path.abspath(db), out_name)\n",
    "        print(new_file, out_tb)\n",
    "\n",
    "        arcpy.conversion.ExcelToTable(new_file, out_tb)\n",
    "\n",
    "                    "
   ]
  },
  {
   "cell_type": "markdown",
   "metadata": {},
   "source": [
    "Merge the tables into a single table."
   ]
  },
  {
   "cell_type": "code",
   "execution_count": null,
   "metadata": {},
   "outputs": [],
   "source": [
    "tbs = arcpy.ListTables()\n",
    "merged_name = 'ms2_merge_all'\n",
    "arcpy.management.Merge(tbs, merged_name)\n"
   ]
  },
  {
   "cell_type": "code",
   "execution_count": null,
   "metadata": {},
   "outputs": [],
   "source": [
    "# save county layer locally\n",
    "fc='sc_boundary'\n",
    "sc_county_url = 'https://services6.arcgis.com/clPWQMwZfdWn4MQZ/ArcGIS/rest/services/Sun_Cloud_Jurisdictional_Boundaries/FeatureServer/5'\n",
    "if arcpy.Exists(fc)==False:\n",
    "    save_fl(db, sc_county_url, fc)\n"
   ]
  },
  {
   "cell_type": "markdown",
   "metadata": {},
   "source": [
    "Clip the station layer to Sun Cloud boundary. "
   ]
  },
  {
   "cell_type": "code",
   "execution_count": null,
   "metadata": {},
   "outputs": [],
   "source": [
    "arcpy.analysis.Clip('MS2_Stations', 'sc_boundary', 'ms_stations_clip')"
   ]
  },
  {
   "cell_type": "code",
   "execution_count": null,
   "metadata": {},
   "outputs": [],
   "source": [
    "# save the routes layer locally\n",
    "routes_url = 'https://services6.arcgis.com/clPWQMwZfdWn4MQZ/arcgis/rest/services/Sun_Cloud_Routes/FeatureServer/92'\n",
    "save_fl(db, routes_url, 'sc_routes')"
   ]
  },
  {
   "cell_type": "markdown",
   "metadata": {},
   "source": [
    "Snap the station to the sun cloud routes. "
   ]
  },
  {
   "cell_type": "code",
   "execution_count": null,
   "metadata": {},
   "outputs": [],
   "source": [
    "\n",
    "arcpy.edit.Snap(\"ms_stations_clip\", \"sc_routes EDGE '60 Meters'\")\n",
    "\n",
    "# TODO: Visually check the snapping result in the map."
   ]
  },
  {
   "cell_type": "markdown",
   "metadata": {},
   "source": [
    "Delete the stations that did not snap."
   ]
  },
  {
   "cell_type": "code",
   "execution_count": null,
   "metadata": {},
   "outputs": [],
   "source": [
    "selected = arcpy.management.SelectLayerByLocation(\n",
    "    in_layer=\"ms_stations_clip\",\n",
    "    overlap_type=\"INTERSECT\",\n",
    "    select_features=\"sc_routes\",\n",
    "    search_distance=None,\n",
    "    selection_type=\"NEW_SELECTION\",\n",
    "    invert_spatial_relationship=\"INVERT\"\n",
    ")\n",
    "count = arcpy.GetCount_management(selected)[0]\n",
    "print(count)\n",
    "\n",
    "if int(count)>0:\n",
    "    arcpy.DeleteFeatures_management(selected)"
   ]
  },
  {
   "cell_type": "code",
   "execution_count": null,
   "metadata": {},
   "outputs": [],
   "source": [
    "! pip install fuzzywuzzy\n",
    "# ! pip install python-Levenshtein"
   ]
  },
  {
   "cell_type": "markdown",
   "metadata": {},
   "source": [
    "Add a field to note snap validation result."
   ]
  },
  {
   "cell_type": "code",
   "execution_count": null,
   "metadata": {},
   "outputs": [],
   "source": [
    "fc = 'ms_stations_clip' \n",
    "arcpy.AddField_management(fc, 'flag_num', 'LONG')"
   ]
  },
  {
   "cell_type": "markdown",
   "metadata": {},
   "source": [
    "Compare the On(road) and RouteID value to the segment route_id.  Get max value of partial match value. (~9,000 rows)"
   ]
  },
  {
   "cell_type": "code",
   "execution_count": null,
   "metadata": {},
   "outputs": [],
   "source": [
    "from fuzzywuzzy import fuzz\n",
    "\n",
    "route_layer = 'sc_routes'\n",
    "# fields in source and destination layers\n",
    "fields = ['SHAPE@', 'RouteID', 'flag_num', 'OID@', 'On']\n",
    "segment_name_field = 'route_id'\n",
    "# create a memory layer\n",
    "arcpy.Delete_management('point_lyr')\n",
    "arcpy.management.MakeFeatureLayer('ms_stations_clip', 'point_lyr')\n",
    "\n",
    "\n",
    "with arcpy.da.UpdateCursor('point_lyr', fields) as cursor:\n",
    "    for row in cursor:\n",
    "        print('oid', row[3])\n",
    "        name_in_pt = row[1]\n",
    "        on_in_pt = row[4]\n",
    "        print(name_in_pt)\n",
    "        arcpy.Delete_management('line_lyr')\n",
    "        arcpy.management.MakeFeatureLayer(route_layer, 'line_lyr')\n",
    "        selected = arcpy.management.SelectLayerByLocation(\n",
    "            in_layer='line_lyr',\n",
    "            overlap_type='INTERSECT', \n",
    "            select_features=row[0], \n",
    "            selection_type='NEW_SELECTION')\n",
    "        \n",
    "        if (int(arcpy.GetCount_management(selected)[0])>0):\n",
    "            road_name = list(r[0] for r in arcpy.da.SearchCursor(selected, segment_name_field))[0]\n",
    "            candidates = []\n",
    "            score = fuzz.partial_ratio(name_in_pt.upper().strip(), road_name.upper().strip())\n",
    "            candidates.append(score)\n",
    "            print(score)\n",
    "            score2 = fuzz.partial_ratio(on_in_pt.upper().strip(), road_name.upper().strip())\n",
    "            candidates.append(score2)\n",
    "            print(candidates)\n",
    "            row[2]= max(candidates)\n",
    "            cursor.updateRow(row) "
   ]
  },
  {
   "cell_type": "markdown",
   "metadata": {},
   "source": [
    "Review in the map flag_num < 90.  determine threshold for deletion. "
   ]
  },
  {
   "cell_type": "markdown",
   "metadata": {},
   "source": [
    "Review the fuzzy string match result in the map.  Determine determine the score for deletion."
   ]
  },
  {
   "cell_type": "code",
   "execution_count": null,
   "metadata": {},
   "outputs": [],
   "source": [
    "# delete invalid snapped points\n",
    "selected = arcpy.management.SelectLayerByAttribute('ms_stations_clip', 'NEW_SELECTION', 'flag_num < 80 or flag_num is null')\n",
    "count = int(arcpy.GetCount_management(selected)[0])\n",
    "print(count)\n",
    "if(count>0):\n",
    "    arcpy.DeleteFeatures_management(selected)\n"
   ]
  },
  {
   "cell_type": "markdown",
   "metadata": {},
   "source": [
    "Delete identical. (34,5050 -> 9,404)"
   ]
  },
  {
   "cell_type": "code",
   "execution_count": null,
   "metadata": {},
   "outputs": [],
   "source": [
    "arcpy.management.DeleteIdentical(\n",
    "    in_dataset=\"ms_stations_clip\",\n",
    "    fields=\"LocalId\",\n",
    "    xy_tolerance=None,\n",
    "    z_tolerance=0\n",
    ")"
   ]
  },
  {
   "cell_type": "markdown",
   "metadata": {},
   "source": [
    "### TODO: manually review scores 80-89. move points if necessary. "
   ]
  },
  {
   "cell_type": "markdown",
   "metadata": {},
   "source": [
    "Pare down the volume count data. \n",
    "- If no match is found in the station.\n",
    "- Weekend counts."
   ]
  },
  {
   "cell_type": "markdown",
   "metadata": {},
   "source": [
    "Get LocalIDs in the station layer. "
   ]
  },
  {
   "cell_type": "code",
   "execution_count": null,
   "metadata": {},
   "outputs": [],
   "source": [
    "ids = unique_values('ms_stations_clip', 'LocalId')\n",
    "# _list = ','.join(str(e) for e in ids)\n",
    "_list = tuple(ids)\n",
    "_list\n"
   ]
  },
  {
   "cell_type": "code",
   "execution_count": null,
   "metadata": {},
   "outputs": [],
   "source": [
    "# from the merged table, delete rows if ID is not in the unique ID list (i.e. no matching station)\n",
    "sql = 'Location_ID not in {0}'.format(_list)\n",
    "# print(sql)\n",
    "selected = arcpy.SelectLayerByAttribute_management('ms2_merge_all', 'NEW_SELECTION', sql)\n",
    "count = int(arcpy.GetCount_management(selected)[0])\n",
    "print(count)\n",
    "if(count>0):\n",
    "    arcpy.DeleteRows_management(selected)"
   ]
  },
  {
   "cell_type": "markdown",
   "metadata": {},
   "source": [
    "Add fields to the station layer."
   ]
  },
  {
   "cell_type": "code",
   "execution_count": null,
   "metadata": {},
   "outputs": [],
   "source": [
    "# add fields 2010 through 2022\n",
    "year_fields = []\n",
    "i = 2010\n",
    "while i < 2023:\n",
    "    name = 'y_{}'.format(i)\n",
    "    year_fields.append(name)\n",
    "    arcpy.management.AddField('ms_stations_clip', name, 'DOUBLE')\n",
    "    i+=1\n",
    "year_fields"
   ]
  },
  {
   "cell_type": "code",
   "execution_count": null,
   "metadata": {},
   "outputs": [],
   "source": [
    "# add field for weekened eval\n",
    "tb = 'ms2_merge_all'\n",
    "arcpy.management.AddField(tb, 'is_weekend', 'TEXT')"
   ]
  },
  {
   "cell_type": "markdown",
   "metadata": {},
   "source": [
    "Custom functions for identifying weekend dates."
   ]
  },
  {
   "cell_type": "code",
   "execution_count": null,
   "metadata": {},
   "outputs": [],
   "source": [
    "from datetime import date\n",
    "\n",
    "\n",
    "def is_weekend(_date):\n",
    "    week_num = _date.weekday()\n",
    "    if week_num < 5:\n",
    "        return False\n",
    "    else:  # 5 Sat, 6 Sun\n",
    "        return True\n",
    "\n",
    "\n",
    "def weekend_eval(table, start_date):\n",
    "    \"\"\"\n",
    "    Assess if either date falls on a weekend day. If yes, update the attribute\n",
    "    :param table: input table\n",
    "    :param start_date: start date field name\n",
    "    :param end_date: end date field name\n",
    "    :return: None\n",
    "    \"\"\"\n",
    "    fields = [start_date, 'is_weekend']\n",
    "    with arcpy.da.UpdateCursor(table, fields) as cursor:\n",
    "        for row in cursor:\n",
    "            start = is_weekend(row[0])\n",
    "            # end = is_weekend(row[1])\n",
    "            if start:\n",
    "                row[1] = 'yes'\n",
    "            cursor.updateRow(row)\n",
    "    # del row, cursor\n"
   ]
  },
  {
   "cell_type": "code",
   "execution_count": null,
   "metadata": {},
   "outputs": [],
   "source": [
    "date_field = 'Volume_Count_Start_Date'\n",
    "weekend_eval('ms2_merge_all', date_field)"
   ]
  },
  {
   "cell_type": "markdown",
   "metadata": {},
   "source": [
    "Delete the weekend counts from the merged table."
   ]
  },
  {
   "cell_type": "code",
   "execution_count": null,
   "metadata": {},
   "outputs": [],
   "source": [
    "# delete weekend records\n",
    "tb = 'ms2_merge_all'\n",
    "selected = arcpy.SelectLayerByAttribute_management(tb, 'NEW_SELECTION', \"is_weekend = 'yes'\")\n",
    "cnt = int(arcpy.GetCount_management(selected).getOutput(0))\n",
    "print(cnt)\n",
    "if cnt > 0:\n",
    "    arcpy.AddMessage('Deleting {} rows ...'.format(cnt))\n",
    "    arcpy.DeleteRows_management(selected)\n",
    "    "
   ]
  },
  {
   "cell_type": "markdown",
   "metadata": {},
   "source": [
    "Calculate average count for each year from the merged table."
   ]
  },
  {
   "cell_type": "code",
   "execution_count": null,
   "metadata": {},
   "outputs": [],
   "source": [
    "# delete ramp stations. \n",
    "selected = arcpy.management.SelectLayerByAttribute(\n",
    "    in_layer_or_view=\"ms_stations_clip\",\n",
    "    selection_type=\"NEW_SELECTION\",\n",
    "    where_clause=\"Dir = 'RAMP'\",\n",
    "    invert_where_clause=None\n",
    ")\n",
    "\n",
    "arcpy.DeleteFeatures_management(selected)"
   ]
  },
  {
   "cell_type": "code",
   "execution_count": null,
   "metadata": {},
   "outputs": [],
   "source": [
    "# get unique id list\n",
    "ids = unique_values('ms_stations_clip', 'LocalId')\n",
    "print(ids)\n",
    "total_length = len(list(set(ids)))\n",
    "print(total_length)"
   ]
  },
  {
   "cell_type": "markdown",
   "metadata": {},
   "source": [
    "(~ 150 minutes)"
   ]
  },
  {
   "cell_type": "code",
   "execution_count": null,
   "metadata": {},
   "outputs": [],
   "source": [
    "arcpy.Delete_management('fc_layer')\n",
    "fc = 'ms_stations_clip'\n",
    "arcpy.MakeFeatureLayer_management(fc, 'fc_layer')\n",
    "\n",
    "arcpy.Delete_management('tb_view')\n",
    "tb = 'ms2_merge_all'\n",
    "arcpy.MakeTableView_management(tb, 'tb_view')\n",
    "i = 1\n",
    "for id in ids:\n",
    "    print('{0}/{1}'.format(i, total_length))\n",
    "    sql = \"Location_ID = '{}'\".format(id)\n",
    "    print(sql)\n",
    "    dates = [row[0] for row in arcpy.da.SearchCursor(\n",
    "        in_table='tb_view', \n",
    "        field_names='Volume_Count_Start_Date',\n",
    "        where_clause=sql\n",
    "        )]\n",
    "    years = [item.year for item in dates]\n",
    "    unique_years = (list(set(years)))\n",
    "    \n",
    "    # for each year valus with counts, get average. \n",
    "    unique_years = sorted(unique_years)\n",
    "    print(unique_years)\n",
    "    for y in unique_years:\n",
    "        date_sql = sql + \"and Volume_Count_Start_Date BETWEEN date '{0}-01-01' AND date '{0}-12-31'\".format(y)\n",
    "        # print(date_sql)\n",
    "        values = [row[0] for row in arcpy.da.SearchCursor(\n",
    "        in_table='tb_view', \n",
    "        field_names='Volume_Count_Total',\n",
    "        where_clause=date_sql\n",
    "        )]\n",
    "        if(len(values)>0):\n",
    "            avg = get_average(values)\n",
    "            year_field = 'y_{}'.format(y)\n",
    "            _query=\"LocalId = '{}'\".format(id)\n",
    "\n",
    "            with arcpy.da.UpdateCursor('fc_layer', [year_field], _query ) as cursor:\n",
    "                for row in cursor:\n",
    "                    print(avg)\n",
    "                    row[0] = round(avg)\n",
    "                    cursor.updateRow(row)\n",
    "        i=i+1\n"
   ]
  },
  {
   "cell_type": "markdown",
   "metadata": {},
   "source": [
    "Join the count and station and export. "
   ]
  },
  {
   "cell_type": "code",
   "execution_count": null,
   "metadata": {},
   "outputs": [],
   "source": [
    "# join the station to table and export\n",
    "joined = arcpy.management.AddJoin(\"ms_stations_clip\", \"LocalId\", \"ms2_merge_all\", \"Location_ID\", \"KEEP_COMMON\", \"INDEX_JOIN_FIELDS\")\n",
    "arcpy.conversion.ExportFeatures(joined, \"sun_cloud_ms2\")"
   ]
  },
  {
   "cell_type": "markdown",
   "metadata": {},
   "source": [
    "Standardize the field names."
   ]
  },
  {
   "cell_type": "code",
   "execution_count": null,
   "metadata": {},
   "outputs": [],
   "source": [
    "# # standadize field names\n",
    "# fields = arcpy.ListFields('sun_cloud_ms2')\n",
    "# req_fields = [field.name for field in fields if field.required is True]\n",
    "# req_fields"
   ]
  },
  {
   "cell_type": "code",
   "execution_count": null,
   "metadata": {},
   "outputs": [],
   "source": [
    "fields = arcpy.ListFields('ms_stations_clip')\n",
    "req_fields = [field.name for field in fields if field.required is True]\n",
    "req_fields"
   ]
  },
  {
   "cell_type": "code",
   "execution_count": null,
   "metadata": {},
   "outputs": [],
   "source": [
    "keep_fields = ['LocalId', 'On', 'From_','To', 'Dir','LatestCnt','LatestDate','Agency','RouteID',  \n",
    " 'y_2010',\n",
    " 'y_2011',\n",
    " 'y_2012',\n",
    " 'y_2013',\n",
    " 'y_2014',\n",
    " 'y_2015',\n",
    " 'y_2016',\n",
    " 'y_2017',\n",
    " 'y_2018',\n",
    " 'y_2019',\n",
    " 'y_2020',\n",
    " 'y_2021',\n",
    " 'y_2022',\n",
    " ]"
   ]
  },
  {
   "cell_type": "code",
   "execution_count": null,
   "metadata": {},
   "outputs": [],
   "source": [
    "final_fields = keep_fields + req_fields\n",
    "for f in fields:\n",
    "    if f.name not in final_fields:\n",
    "        print(f.name)\n",
    "        arcpy.management.DeleteField ('ms_stations_clip', f.name)"
   ]
  },
  {
   "cell_type": "code",
   "execution_count": null,
   "metadata": {},
   "outputs": [],
   "source": [
    "field_dict = [  {'name':'LocalId', 'new_name':'local_id', 'alias':'Local ID'}, \n",
    "                {'name':'On','new_name':'on_road','alias':'On'},\n",
    "                {'name':'From_', 'new_name':'from_road', 'alias':'From Road'}, \n",
    "                {'name':'To', 'new_name':'to_road', 'alias':'To Road'}, \n",
    "                {'name':'_dir', 'new_name':'dir', 'alias':'Dir'}, \n",
    "                {'name':'LatestCnt', 'new_name':'latest_estimate', 'alias':'Latest Estimate'}, \n",
    "                {'name':'LatestDate', 'new_name':'latest_estimate_date', 'alias':'Latest Estimate Date'}, \n",
    "                {'name':'Agency', 'new_name':'agency', 'alias':'Agency'}, \n",
    "                {'name':'RouteID', 'new_name':'route_id', 'alias':'Route ID'}\n",
    "                ]\n",
    "for item in field_dict:\n",
    "    # print(item.get('name'))\n",
    "    old_name = item.get('name')\n",
    "    new_name = item.get('new_name')\n",
    "    alias = item.get('alias')\n",
    "    if old_name.lower() == new_name:\n",
    "        new_name = '_{}'.format(new_name)\n",
    "    print(old_name, new_name)\n",
    "\n",
    "\n",
    "    arcpy.management.AlterField(in_table='ms_stations_clip', \n",
    "                                field=old_name, \n",
    "                                new_field_name = new_name,\n",
    "                                new_field_alias = alias)"
   ]
  },
  {
   "cell_type": "code",
   "execution_count": null,
   "metadata": {},
   "outputs": [],
   "source": [
    "field_dict = [  {'name':'_dir', 'new_name':'dir', 'alias':'Dir'}, \n",
    "                {'name':'latest_count', 'new_name':'latest_estimate', 'alias':'Latest Estimate'}, \n",
    "                {'name':'latest_count_Date', 'new_name':'latest_estimate_date', 'alias':'Latest Estimate Date'}\n",
    "                ]\n",
    "for item in field_dict:\n",
    "    # print(item.get('name'))\n",
    "    old_name = item.get('name')\n",
    "    new_name = item.get('new_name')\n",
    "    alias = item.get('alias')\n",
    "\n",
    "\n",
    "    arcpy.management.AlterField(in_table='ms_stations_clip', \n",
    "                                field=old_name, \n",
    "                                new_field_name = new_name,\n",
    "                                new_field_alias = alias)"
   ]
  },
  {
   "cell_type": "markdown",
   "metadata": {},
   "source": [
    "Alter the year field alias"
   ]
  },
  {
   "cell_type": "code",
   "execution_count": null,
   "metadata": {},
   "outputs": [],
   "source": [
    "fields = arcpy.ListFields('ms_stations_clip')\n",
    "\n",
    "for field in fields:\n",
    "    if field.name.startswith('y'):\n",
    "        year = field.name[2:]\n",
    "        alias = '{} Avg Volume Count'.format(year)\n",
    "        print(alias)\n",
    "        arcpy.management.AlterField(in_table='ms_stations_clip', \n",
    "                                field=field.name, \n",
    "                                new_field_alias =alias)                \n"
   ]
  },
  {
   "cell_type": "markdown",
   "metadata": {},
   "source": [
    "Add URL field."
   ]
  },
  {
   "cell_type": "code",
   "execution_count": null,
   "metadata": {},
   "outputs": [],
   "source": [
    "fc = 'ms_stations_clip'\n",
    "\n",
    "arcpy.AddField_management(in_table=fc, field_name='ms2_tcds_url', field_type='TEXT', field_length='1000', field_alias='MS2 TCDS URL')\n",
    "\n",
    "\n",
    "arcpy.management.CalculateField(\n",
    "    in_table=\"ms_stations_clip\",\n",
    "    field=\"ms2_tcds_url\",\n",
    "    expression='\"https://adot-all.public.ms2soft.com/tcds/tsearch.asp?loc=Adot&mod=tcds&local_id=\"+!local_id!',\n",
    "    expression_type=\"PYTHON3\",\n",
    "    code_block=\"\",\n",
    "    field_type=\"TEXT\",\n",
    "    enforce_domains=\"NO_ENFORCE_DOMAINS\"\n",
    ")\n",
    "\n"
   ]
  },
  {
   "cell_type": "markdown",
   "metadata": {},
   "source": [
    "Alter fields."
   ]
  },
  {
   "cell_type": "code",
   "execution_count": null,
   "metadata": {},
   "outputs": [],
   "source": [
    "fields_to_alter = [('latest_count', 'latest_estimate', \"Latest Estimate\"),\n",
    "                   ('latest_count_date', 'latest_estimate_date', \"Latest Estimate Date\")]\n",
    "\n",
    "for old_name, new_name, new_alias in fields_to_alter:\n",
    "   arcpy.management.AlterField(in_table='ms_stations_clip', \n",
    "                                field=old_name, \n",
    "                                new_field_name = new_name,\n",
    "                                new_field_alias = new_alias)"
   ]
  },
  {
   "cell_type": "markdown",
   "metadata": {},
   "source": [
    "Change field type"
   ]
  },
  {
   "cell_type": "code",
   "execution_count": null,
   "metadata": {},
   "outputs": [],
   "source": [
    "arcpy.management.CalculateField(\n",
    "    in_table='ms_stations_clip', \n",
    "    field='temp', \n",
    "    expression='!latest_estimate!', \n",
    "    field_type='LONG')"
   ]
  },
  {
   "cell_type": "code",
   "execution_count": 33,
   "metadata": {},
   "outputs": [
    {
     "data": {
      "text/html": [
       "<div class='gpresult'><h2>Messages</h2><div id='messages' data-messages='[\"Start Time: Monday, May 8, 2023 6:51:46 PM\",\"Succeeded at Monday, May 8, 2023 6:51:47 PM (Elapsed Time: 0.81 seconds)\"]' data-show='true'><div id = 'default' /></div></div>"
      ],
      "text/plain": [
       "<Result './data/sun_cloud_ms2_revision.gdb\\\\ms_stations_clip'>"
      ]
     },
     "execution_count": 33,
     "metadata": {},
     "output_type": "execute_result"
    }
   ],
   "source": [
    "arcpy.DeleteField_management('ms_stations_clip', 'latest_estimate')"
   ]
  },
  {
   "cell_type": "code",
   "execution_count": 34,
   "metadata": {},
   "outputs": [],
   "source": [
    "fields_to_alter = [('temp', 'latest_estimate', 'Latest Estimate')]\n",
    "\n",
    "for old_name, new_name, new_alias in fields_to_alter:\n",
    "   arcpy.management.AlterField(in_table='ms_stations_clip', \n",
    "                                field=old_name, \n",
    "                                new_field_name = new_name,\n",
    "                                new_field_alias = new_alias)"
   ]
  },
  {
   "cell_type": "markdown",
   "metadata": {},
   "source": [
    "Covert the date field."
   ]
  },
  {
   "cell_type": "code",
   "execution_count": 36,
   "metadata": {},
   "outputs": [
    {
     "data": {
      "text/html": [
       "<div class='gpresult'><h2>Messages</h2><div id='messages' data-messages='[\"Start Time: Monday, May 8, 2023 6:54:05 PM\",\"Adding temp to ms_stations_clip...\",\"WARNING 000595: C:\\\\Users\\\\AHJUNG~1\\\\AppData\\\\Local\\\\Temp\\\\ms_stations_clip1.fid contains the full list of records not able to be processed.\",\"WARNING 001156: Failed on input OID 6171, could not write value &#39; &#39; to output field temp\",\"WARNING 001156: Failed on input OID 41545, could not write value &#39; &#39; to output field temp\",\"WARNING 001156: Failed on input OID 44695, could not write value &#39; &#39; to output field temp\",\"WARNING 001156: Failed on input OID 44697, could not write value &#39; &#39; to output field temp\",\"WARNING 001156: Failed on input OID 44698, could not write value &#39; &#39; to output field temp\",\"WARNING 001156: Failed on input OID 44710, could not write value &#39; &#39; to output field temp\",\"WARNING 001156: Failed on input OID 44711, could not write value &#39; &#39; to output field temp\",\"WARNING 001156: Failed on input OID 44712, could not write value &#39; &#39; to output field temp\",\"WARNING 001156: Failed on input OID 44715, could not write value &#39; &#39; to output field temp\",\"WARNING 001156: Failed on input OID 44716, could not write value &#39; &#39; to output field temp\",\"Succeeded at Monday, May 8, 2023 6:54:07 PM (Elapsed Time: 1.84 seconds)\"]' data-show='true'><div id = 'default' /></div></div>"
      ],
      "text/plain": [
       "<Result './data/sun_cloud_ms2_revision.gdb\\\\ms_stations_clip'>"
      ]
     },
     "execution_count": 36,
     "metadata": {},
     "output_type": "execute_result"
    }
   ],
   "source": [
    "arcpy.management.CalculateField(\n",
    "    in_table='ms_stations_clip', \n",
    "    field='temp', \n",
    "    expression='!latest_estimate_date!', \n",
    "    field_type='DATE')\n",
    "\n"
   ]
  },
  {
   "cell_type": "code",
   "execution_count": 38,
   "metadata": {},
   "outputs": [],
   "source": [
    "arcpy.DeleteField_management('ms_stations_clip', 'latest_estimate_date')\n",
    "fields_to_alter = [('temp', 'latest_estimate_date', 'Latest Estimate Date')]\n",
    "for old_name, new_name, new_alias in fields_to_alter:\n",
    "   arcpy.management.AlterField(in_table='ms_stations_clip', \n",
    "                                field=old_name, \n",
    "                                new_field_name = new_name,\n",
    "                                new_field_alias = new_alias)"
   ]
  }
 ],
 "metadata": {
  "kernelspec": {
   "display_name": "Python 3.9.16 ('arcgispro-py3-clone-dev')",
   "language": "python",
   "name": "python3"
  },
  "language_info": {
   "codemirror_mode": {
    "name": "ipython",
    "version": 3
   },
   "file_extension": ".py",
   "mimetype": "text/x-python",
   "name": "python",
   "nbconvert_exporter": "python",
   "pygments_lexer": "ipython3",
   "version": "3.9.16"
  },
  "orig_nbformat": 4,
  "vscode": {
   "interpreter": {
    "hash": "a4c764ea2bf24b1e69818dfba780d2c08c53d1474b8e32af3000e5573643d123"
   }
  }
 },
 "nbformat": 4,
 "nbformat_minor": 2
}
