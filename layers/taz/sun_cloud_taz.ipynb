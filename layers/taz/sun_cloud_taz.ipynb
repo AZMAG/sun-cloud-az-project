{
 "cells": [
  {
   "cell_type": "markdown",
   "metadata": {},
   "source": [
    "# Create Sun Cloud traffic analysis zone layer."
   ]
  },
  {
   "cell_type": "markdown",
   "metadata": {},
   "source": [
    "Define default workspace and data source."
   ]
  },
  {
   "cell_type": "code",
   "execution_count": 2,
   "metadata": {},
   "outputs": [],
   "source": [
    "import arcpy\n",
    "import pandas as pd\n",
    "\n",
    "arcpy.env.overwriteOutput = True\n",
    "df = pd.read_excel(\"./data/data_dictionary.xlsx\")\n",
    "\n",
    "db = arcpy.env.workspace = \"./data/sun_cloud_taz.gdb\"\n",
    "\n",
    "arcpy.Describe(db)\n",
    "orig_data = 'SunCloud_TAZ_2019_2021_2050_Combined'\n",
    "target_sr = arcpy.SpatialReference(2223)"
   ]
  },
  {
   "cell_type": "markdown",
   "metadata": {},
   "source": [
    "Make count fields interger field."
   ]
  },
  {
   "cell_type": "code",
   "execution_count": null,
   "metadata": {},
   "outputs": [],
   "source": [
    "fc='sun_cloud_taz'\n",
    "arcpy.management.CreateFeatureclass(\n",
    "    out_path=db,\n",
    "    out_name= fc,\n",
    "    geometry_type=\"POLYGON\",\n",
    "    template=orig_data,\n",
    "    spatial_reference=target_sr\n",
    ")"
   ]
  },
  {
   "cell_type": "code",
   "execution_count": null,
   "metadata": {},
   "outputs": [],
   "source": [
    "# delete out all number fields\n",
    "fc='sun_cloud_taz'\n",
    "number_fields=[i.name for i in arcpy.ListFields(fc) if i.type=='Double' and i.required == False]\n",
    "number_fields\n",
    "\n",
    "arcpy.DeleteField_management(fc, number_fields)"
   ]
  },
  {
   "cell_type": "code",
   "execution_count": null,
   "metadata": {},
   "outputs": [],
   "source": [
    "for field in number_fields:\n",
    "    arcpy.AddField_management(fc, field, 'LONG')"
   ]
  },
  {
   "cell_type": "code",
   "execution_count": null,
   "metadata": {},
   "outputs": [],
   "source": [
    "# load data\n",
    "arcpy.management.Append(\n",
    "    inputs=\"SunCloud_TAZ_2019_2021_2050_Combined\",\n",
    "    target=\"\\sun_cloud_taz\",\n",
    "    schema_type=\"NO_TEST\"\n",
    ")"
   ]
  },
  {
   "cell_type": "markdown",
   "metadata": {},
   "source": [
    "Convert the field aliases using the data dictionary."
   ]
  },
  {
   "cell_type": "code",
   "execution_count": null,
   "metadata": {},
   "outputs": [],
   "source": [
    "# df = df.reset_index()  # make sure indexes pair with number of rows\n",
    "fc = 'sun_cloud_taz'\n",
    "for index, row in df.iterrows():\n",
    "    name = row['Field Name'].rstrip()\n",
    "    print(name)\n",
    "    alias = (row['Description']).rstrip()\n",
    "    print(alias)\n",
    "    arcpy.management.AlterField(in_table=fc, field=name, new_field_alias=alias)"
   ]
  },
  {
   "cell_type": "code",
   "execution_count": null,
   "metadata": {},
   "outputs": [],
   "source": [
    "fields=[(i.name, i.aliasName) for i in arcpy.ListFields(fc)]\n",
    "fields"
   ]
  },
  {
   "cell_type": "markdown",
   "metadata": {},
   "source": [
    "Convert field name to lower case."
   ]
  },
  {
   "cell_type": "code",
   "execution_count": null,
   "metadata": {},
   "outputs": [],
   "source": [
    "fc='sun_cloud_taz'\n",
    "fields=[i.name for i in arcpy.ListFields(fc) if i.required == False]\n",
    "fields"
   ]
  },
  {
   "cell_type": "code",
   "execution_count": null,
   "metadata": {},
   "outputs": [],
   "source": [
    "for f in fields:\n",
    "    print(f)\n",
    "    arcpy.management.AlterField(in_table=fc, field=f, new_field_name=\"_{}\".format(f))"
   ]
  },
  {
   "cell_type": "code",
   "execution_count": null,
   "metadata": {},
   "outputs": [],
   "source": [
    "fc='sun_cloud_taz'\n",
    "fields=[i.name for i in arcpy.ListFields(fc) if i.required == False]\n",
    "fields"
   ]
  },
  {
   "cell_type": "code",
   "execution_count": null,
   "metadata": {},
   "outputs": [],
   "source": [
    "for f in fields:\n",
    "    if(f[0]=='_'):\n",
    "        new_name = (f[1:]).lower()\n",
    "        print(new_name)\n",
    "        arcpy.management.AlterField(in_table=fc, field=f, new_field_name=new_name)"
   ]
  },
  {
   "cell_type": "code",
   "execution_count": null,
   "metadata": {},
   "outputs": [],
   "source": [
    "fields=[i.name for i in arcpy.ListFields(fc) if i.required == False]\n",
    "fields"
   ]
  },
  {
   "cell_type": "markdown",
   "metadata": {},
   "source": [
    "Add new fields and calculate values. "
   ]
  },
  {
   "cell_type": "code",
   "execution_count": 5,
   "metadata": {},
   "outputs": [],
   "source": [
    "new_fields = [\n",
    "    ('primary_emp_sector_2019', 'Primary Employment Sector (2019)', 'TEXT'),\n",
    "\t('emp_change_2019_2050', 'Employment Change (2019 to 2050)', 'LONG'),\n",
    "    ('hh_change_2019_2050', 'Households Change (2019 to 2050)', 'LONG'),\n",
    "\t('pop_change_2019_2050', 'Population Change (2019 to 2050)', 'LONG'),\n",
    "\t('emp_density_2019', 'Jobs per Square Mile (2019)', 'LONG'),\n",
    "\t('hh_density_2019', 'Households per Square Mile (2019)', 'LONG'),\n",
    "    ('pop_density_2019', 'Population per Square Mile (2019)', 'LONG')]\n",
    "for (field, alias, type) in new_fields:\n",
    "    arcpy.AddField_management(in_table=fc, field_name=field, field_alias=alias, field_type=type)\n"
   ]
  },
  {
   "cell_type": "markdown",
   "metadata": {},
   "source": [
    "Attribute the new fields."
   ]
  },
  {
   "cell_type": "code",
   "execution_count": 6,
   "metadata": {},
   "outputs": [
    {
     "data": {
      "text/html": [
       "<div class='gpresult'><h2>Messages</h2><div id='messages' data-messages='[\"Start Time: Friday, April 21, 2023 2:51:47 PM\",\"Succeeded at Friday, April 21, 2023 2:51:48 PM (Elapsed Time: 1.20 seconds)\"]' data-show='true'><div id = 'default' /></div></div>"
      ],
      "text/plain": [
       "<Result './data/sun_cloud_taz.gdb\\\\sun_cloud_taz'>"
      ]
     },
     "execution_count": 6,
     "metadata": {},
     "output_type": "execute_result"
    }
   ],
   "source": [
    "fc ='sun_cloud_taz'\n",
    "arcpy.management.CalculateField(\n",
    "    in_table=fc,\n",
    "    field='emp_change_2019_2050',\n",
    "    expression=\"int(!totemp_2050! - !totemp_2019!)\",\n",
    "    expression_type=\"PYTHON3\",\n",
    "\n",
    "    enforce_domains=\"NO_ENFORCE_DOMAINS\"\n",
    ")"
   ]
  },
  {
   "cell_type": "code",
   "execution_count": 66,
   "metadata": {},
   "outputs": [
    {
     "data": {
      "text/html": [
       "<div class='gpresult'><h2>Messages</h2><div id='messages' data-messages='[\"Start Time: Friday, April 21, 2023 5:17:45 PM\",\"Succeeded at Friday, April 21, 2023 5:17:45 PM (Elapsed Time: 0.50 seconds)\"]' data-show='true'><div id = 'default' /></div></div>"
      ],
      "text/plain": [
       "<Result './data/sun_cloud_taz.gdb\\\\sun_cloud_taz'>"
      ]
     },
     "execution_count": 66,
     "metadata": {},
     "output_type": "execute_result"
    }
   ],
   "source": [
    "fc ='sun_cloud_taz'\n",
    "arcpy.management.CalculateField(\n",
    "    in_table=fc,\n",
    "    field='hh_change_2019_2050',\n",
    "    expression=\"int(!tothh_2050! - !tothh_2019!)\",\n",
    "    expression_type=\"PYTHON3\",\n",
    "\n",
    "    enforce_domains=\"NO_ENFORCE_DOMAINS\"\n",
    ")"
   ]
  },
  {
   "cell_type": "code",
   "execution_count": 67,
   "metadata": {},
   "outputs": [
    {
     "data": {
      "text/html": [
       "<div class='gpresult'><h2>Messages</h2><div id='messages' data-messages='[\"Start Time: Friday, April 21, 2023 5:17:47 PM\",\"Succeeded at Friday, April 21, 2023 5:17:47 PM (Elapsed Time: 0.53 seconds)\"]' data-show='true'><div id = 'default' /></div></div>"
      ],
      "text/plain": [
       "<Result './data/sun_cloud_taz.gdb\\\\sun_cloud_taz'>"
      ]
     },
     "execution_count": 67,
     "metadata": {},
     "output_type": "execute_result"
    }
   ],
   "source": [
    "arcpy.management.CalculateField(\n",
    "    in_table=fc,\n",
    "    field='pop_change_2019_2050',\n",
    "    expression=\"int(!totpop_2050! - !totpop_2019!)\",\n",
    "    expression_type=\"PYTHON3\",\n",
    "\n",
    "    enforce_domains=\"NO_ENFORCE_DOMAINS\"\n",
    ")"
   ]
  },
  {
   "cell_type": "code",
   "execution_count": 63,
   "metadata": {},
   "outputs": [
    {
     "data": {
      "text/html": [
       "<div class='gpresult'><h2>Messages</h2><div id='messages' data-messages='[\"Start Time: Friday, April 21, 2023 5:08:29 PM\",\"Succeeded at Friday, April 21, 2023 5:08:30 PM (Elapsed Time: 0.64 seconds)\"]' data-show='true'><div id = 'default' /></div></div>"
      ],
      "text/plain": [
       "<Result './data/sun_cloud_taz.gdb\\\\sun_cloud_taz'>"
      ]
     },
     "execution_count": 63,
     "metadata": {},
     "output_type": "execute_result"
    }
   ],
   "source": [
    "# emp density\n",
    "# 27,878,400\n",
    "fc='sun_cloud_taz'\n",
    "arcpy.management.CalculateField(\n",
    "    in_table=fc,\n",
    "    field='emp_density_2019',\n",
    "    expression=\"!totemp_2019!/(!Shape_Area!/27878400)\",\n",
    "    expression_type=\"PYTHON3\",\n",
    "\n",
    "    enforce_domains=\"NO_ENFORCE_DOMAINS\"\n",
    ")\n",
    "\n",
    "arcpy.management.CalculateField(\n",
    "    in_table=fc,\n",
    "    field='pop_density_2019',\n",
    "    expression=\"!totpop_2019!/(!Shape_Area!/27878400)\",\n",
    "    expression_type=\"PYTHON3\",\n",
    "\n",
    "    enforce_domains=\"NO_ENFORCE_DOMAINS\"\n",
    ")\n",
    "\n",
    "arcpy.management.CalculateField(\n",
    "    in_table=fc,\n",
    "    field='hh_density_2019',\n",
    "    expression=\"!tothh_2019!/(!Shape_Area!/27878400)\",\n",
    "    expression_type=\"PYTHON3\",\n",
    ")"
   ]
  },
  {
   "cell_type": "code",
   "execution_count": 61,
   "metadata": {},
   "outputs": [],
   "source": [
    "fields_desc = {\n",
    "'primary_emp_sector_2019':'',\n",
    "'public_emp_2019':'Public sector',\n",
    "'retail_emp_2019':'Retail',\n",
    "'ind_emp_2019':'Industrial',\n",
    "'other_emp_2019':'Other',\n",
    "'nsb_emp_2019':'Non-site based employment',\n",
    "'con_emp_2019':'Construction',\n",
    "'whlsl_emp_2019':'Wholesale',\n",
    "'fire_emp_2019':'Finance, insurance, real-estate',\n",
    "'serv_emp_2019':'Service sector',\n",
    "'hwyret_2019':'Highway retail',\n",
    "'workhome_2019':'Work at home',\n",
    "'ag_emp_2019':'Agricultural',\n",
    "'health_emp_2019':'Healthcare',\n",
    "'leisure_emp_2019':'Leisure',\n",
    "'mining_emp_2019':'Mining',\n",
    "}\n",
    "\n",
    "fields = [item for item in fields_desc]\n",
    "\n",
    "with arcpy.da.UpdateCursor(fc, fields) as cur:\n",
    "    for row in cur:\n",
    "        candidates = list(row[1:])\n",
    "        # print(candidates)\n",
    "        selected = fields[candidates.index(max(candidates))+1]\n",
    "        value = fields_desc[selected]\n",
    "        row[0] = value\n",
    "        cur.updateRow(row)\n"
   ]
  }
 ],
 "metadata": {
  "kernelspec": {
   "display_name": "Python 3.9.16 ('arcgispro-py3-clone-dev')",
   "language": "python",
   "name": "python3"
  },
  "language_info": {
   "codemirror_mode": {
    "name": "ipython",
    "version": 3
   },
   "file_extension": ".py",
   "mimetype": "text/x-python",
   "name": "python",
   "nbconvert_exporter": "python",
   "pygments_lexer": "ipython3",
   "version": "3.9.16"
  },
  "orig_nbformat": 4,
  "vscode": {
   "interpreter": {
    "hash": "a4c764ea2bf24b1e69818dfba780d2c08c53d1474b8e32af3000e5573643d123"
   }
  }
 },
 "nbformat": 4,
 "nbformat_minor": 2
}
