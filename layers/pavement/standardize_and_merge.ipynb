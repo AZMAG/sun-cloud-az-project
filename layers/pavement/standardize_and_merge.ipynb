{
 "cells": [
  {
   "cell_type": "markdown",
   "metadata": {},
   "source": [
    "# Sun Cloud Pavement\n",
    "\n",
    "Join together various pavement condition layers into a single layer with standardized good / fair / poor ratings.\n",
    "\n",
    "Refer to the data layer documentation for crosswalk methodology and sources.\n",
    "\n",
    "The cells below are used to calculated a standardized \"sun_cloud_condition\" good/fair/poor rating for each pavement section. Then, the layers are combined.\n",
    "\n",
    "Sources:\n",
    "\n",
    "* ADOT\n",
    "* MAG (ABNA)\n",
    "* Tucson\n",
    "* Pima County\n",
    "* SC MPO (manual shapefile creation from spreadsheets)\n",
    "* SEAGO"
   ]
  },
  {
   "cell_type": "code",
   "execution_count": null,
   "metadata": {},
   "outputs": [],
   "source": [
    "# Add a copy of Sun Cloud Routes from AZ Geo and then\n",
    "# export to the local working GDB\n",
    "arcpy.conversion.ExportFeatures(\n",
    "    \"Sun Cloud Routes\", \n",
    "    r\"pavement_layer.gdb\\sun_cloud_routes\", \n",
    "    \n",
    ")"
   ]
  },
  {
   "cell_type": "code",
   "execution_count": null,
   "metadata": {},
   "outputs": [],
   "source": []
  },
  {
   "cell_type": "code",
   "execution_count": 1,
   "metadata": {},
   "outputs": [
    {
     "data": {
      "text/html": [
       "<div class='gpresult'><h2>Messages</h2><div id='messages' data-messages='[\"Start Time: Wednesday, February 22, 2023 12:20:45 PM\",\"Adding source to ADOT_pavement_condition...\",\"Succeeded at Wednesday, February 22, 2023 12:20:50 PM (Elapsed Time: 4.79 seconds)\"]' data-show='true'><div id = 'default' /></div></div>"
      ],
      "text/plain": [
       "<Result 'ADOT_pavement_2021'>"
      ]
     },
     "execution_count": 1,
     "metadata": {},
     "output_type": "execute_result"
    }
   ],
   "source": [
    "arcpy.management.CalculateField(\n",
    "    \"ADOT_pavement_2021\", \n",
    "    \"source\", \n",
    "    \"'Arizona DOT (2021)'\", \n",
    "    \"PYTHON3\", '', \"TEXT\"\n",
    ")"
   ]
  },
  {
   "cell_type": "code",
   "execution_count": 2,
   "metadata": {},
   "outputs": [
    {
     "data": {
      "text/html": [
       "<div class='gpresult'><h2>Messages</h2><div id='messages' data-messages='[\"Start Time: Wednesday, February 22, 2023 12:20:51 PM\",\"Succeeded at Wednesday, February 22, 2023 12:20:59 PM (Elapsed Time: 8.10 seconds)\"]' data-show='true'><div id = 'default' /></div></div>"
      ],
      "text/plain": [
       "<Result 'ABNA_pavement_condition'>"
      ]
     },
     "execution_count": 2,
     "metadata": {},
     "output_type": "execute_result"
    }
   ],
   "source": [
    "arcpy.management.CalculateField(\n",
    "    \"ABNA_pavement_condition\", \n",
    "    \"source\", \n",
    "    \"'MAG ABNA (2019)'\", \n",
    "    \"PYTHON3\", '', \"TEXT\"\n",
    ")"
   ]
  },
  {
   "cell_type": "code",
   "execution_count": 3,
   "metadata": {},
   "outputs": [
    {
     "data": {
      "text/html": [
       "<div class='gpresult'><h2>Messages</h2><div id='messages' data-messages='[\"Start Time: Wednesday, February 22, 2023 12:22:16 PM\",\"Adding source to Tucson_pavement_condition...\",\"Succeeded at Wednesday, February 22, 2023 12:22:17 PM (Elapsed Time: 0.59 seconds)\"]' data-show='true'><div id = 'default' /></div></div>"
      ],
      "text/plain": [
       "<Result 'Tucson_pavement_condition'>"
      ]
     },
     "execution_count": 3,
     "metadata": {},
     "output_type": "execute_result"
    }
   ],
   "source": [
    "arcpy.management.CalculateField(\n",
    "    \"Tucson_pavement_condition\", \n",
    "    \"source\", \n",
    "    \"'City of Tucson'\", \n",
    "    \"PYTHON3\", '', \"TEXT\"\n",
    ")"
   ]
  },
  {
   "cell_type": "code",
   "execution_count": 4,
   "metadata": {},
   "outputs": [
    {
     "data": {
      "text/html": [
       "<div class='gpresult'><h2>Messages</h2><div id='messages' data-messages='[\"Start Time: Wednesday, February 22, 2023 12:22:21 PM\",\"Adding source to PIMA_pavement_condition...\",\"Succeeded at Wednesday, February 22, 2023 12:22:21 PM (Elapsed Time: 0.76 seconds)\"]' data-show='true'><div id = 'default' /></div></div>"
      ],
      "text/plain": [
       "<Result 'PIMA_pavement_condition'>"
      ]
     },
     "execution_count": 4,
     "metadata": {},
     "output_type": "execute_result"
    }
   ],
   "source": [
    "arcpy.management.CalculateField(\n",
    "    \"PIMA_pavement_condition\", \n",
    "    \"source\", \n",
    "    \"'Pima County'\", \n",
    "    \"PYTHON3\", '', \"TEXT\"\n",
    ")"
   ]
  },
  {
   "cell_type": "code",
   "execution_count": 5,
   "metadata": {},
   "outputs": [
    {
     "data": {
      "text/html": [
       "<div class='gpresult'><h2>Messages</h2><div id='messages' data-messages='[\"Start Time: Wednesday, February 22, 2023 12:22:42 PM\",\"Adding source to scmpo_roads...\",\"Succeeded at Wednesday, February 22, 2023 12:22:42 PM (Elapsed Time: 0.30 seconds)\"]' data-show='true'><div id = 'default' /></div></div>"
      ],
      "text/plain": [
       "<Result 'scmpo_manual_roads'>"
      ]
     },
     "execution_count": 5,
     "metadata": {},
     "output_type": "execute_result"
    }
   ],
   "source": [
    "arcpy.management.CalculateField(\n",
    "    \"scmpo_manual_roads\", \n",
    "    \"source\", \n",
    "    \"'Sun Corridor MPO (2019)'\", \n",
    "    \"PYTHON3\", '', \"TEXT\"\n",
    ")"
   ]
  },
  {
   "cell_type": "code",
   "execution_count": 6,
   "metadata": {},
   "outputs": [
    {
     "data": {
      "text/html": [
       "<div class='gpresult'><h2>Messages</h2><div id='messages' data-messages='[\"Start Time: Wednesday, February 22, 2023 12:23:10 PM\",\"Adding source to SEAGO_pavement_condition...\",\"Succeeded at Wednesday, February 22, 2023 12:23:12 PM (Elapsed Time: 1.37 seconds)\"]' data-show='true'><div id = 'default' /></div></div>"
      ],
      "text/plain": [
       "<Result 'SEAGO_pavement_condition'>"
      ]
     },
     "execution_count": 6,
     "metadata": {},
     "output_type": "execute_result"
    }
   ],
   "source": [
    "arcpy.management.CalculateField(\n",
    "    \"SEAGO_pavement_condition\", \n",
    "    \"source\", \n",
    "    \"'SEAGO (2022)'\", \n",
    "    \"PYTHON3\", '', \"TEXT\"\n",
    ")"
   ]
  },
  {
   "cell_type": "code",
   "execution_count": null,
   "metadata": {},
   "outputs": [],
   "source": []
  },
  {
   "cell_type": "code",
   "execution_count": null,
   "metadata": {},
   "outputs": [],
   "source": [
    "arcpy.management.CalculateField(\n",
    "    \"ABNA_pavement_condition\", \n",
    "    \"sun_cloud_condition\", \n",
    "    \"eval_pci(!pci!)\", \n",
    "    \"PYTHON3\", \n",
    "\"\"\"def eval_pci(pci):\n",
    "    if pci is None:\n",
    "        return None\n",
    "    elif pci <= 55:\n",
    "        return 'Poor'\n",
    "    elif pci <= 70:\n",
    "        return 'Fair'\n",
    "    elif pci <= 100:\n",
    "        return 'Good'\n",
    "    else:\n",
    "        return 'Unknown'\n",
    "\"\"\", \"TEXT\")"
   ]
  },
  {
   "cell_type": "code",
   "execution_count": 2,
   "metadata": {},
   "outputs": [
    {
     "data": {
      "text/html": [
       "<div class='gpresult'><h2>Messages</h2><div id='messages' data-messages='[\"Start Time: Monday, February 13, 2023 11:55:34 AM\",\"Succeeded at Monday, February 13, 2023 11:55:38 AM (Elapsed Time: 3.65 seconds)\"]' data-show='true'><div id = 'default' /></div></div>"
      ],
      "text/plain": [
       "<Result 'PIMA_pavement_condition'>"
      ]
     },
     "execution_count": 2,
     "metadata": {},
     "output_type": "execute_result"
    }
   ],
   "source": [
    "# Pima County\n",
    "arcpy.management.CalculateField(\n",
    "    \"PIMA_pavement_condition\", \n",
    "    \"sun_cloud_condition\", \n",
    "    \"eval_pci(!DPASER!)\", \n",
    "    \"PYTHON3\", \n",
    "\"\"\"def eval_pci(pci):\n",
    "    if pci is None:\n",
    "        return None\n",
    "    elif pci <= 55:\n",
    "        return 'Poor'\n",
    "    elif pci <= 70:\n",
    "        return 'Fair'\n",
    "    elif pci <= 100:\n",
    "        return 'Good'\n",
    "    else:\n",
    "        return 'Unknown'\n",
    "\"\"\", \"TEXT\")"
   ]
  },
  {
   "cell_type": "code",
   "execution_count": 1,
   "metadata": {},
   "outputs": [
    {
     "data": {
      "text/html": [
       "<div class='gpresult'><h2>Messages</h2><div id='messages' data-messages='[\"Start Time: Monday, February 13, 2023 11:53:25 AM\",\"Succeeded at Monday, February 13, 2023 11:53:28 AM (Elapsed Time: 3.14 seconds)\"]' data-show='true'><div id = 'default' /></div></div>"
      ],
      "text/plain": [
       "<Result 'Tucson_pavement_condition'>"
      ]
     },
     "execution_count": 1,
     "metadata": {},
     "output_type": "execute_result"
    }
   ],
   "source": [
    "# Tucson\n",
    "arcpy.management.CalculateField(\n",
    "    \"Tucson_pavement_condition\", \n",
    "    \"sun_cloud_condition\", \n",
    "    \"eval_oci(!OCI!)\", \n",
    "    \"PYTHON3\", \n",
    "\"\"\"def eval_oci(oci):\n",
    "    if oci is None:\n",
    "        return None\n",
    "    elif oci < 55:\n",
    "        return 'Poor'\n",
    "    elif oci < 70:\n",
    "        return 'Fair'\n",
    "    elif oci <= 100:\n",
    "        return 'Good'\n",
    "    else:\n",
    "        return 'Unknown'\n",
    "\"\"\", \"TEXT\")"
   ]
  },
  {
   "cell_type": "code",
   "execution_count": 3,
   "metadata": {},
   "outputs": [
    {
     "data": {
      "text/html": [
       "<div class='gpresult'><h2>Messages</h2><div id='messages' data-messages='[\"Start Time: Monday, February 13, 2023 11:56:44 AM\",\"Succeeded at Monday, February 13, 2023 11:56:49 AM (Elapsed Time: 4.51 seconds)\"]' data-show='true'><div id = 'default' /></div></div>"
      ],
      "text/plain": [
       "<Result 'SEAGO_pavement_condition'>"
      ]
     },
     "execution_count": 3,
     "metadata": {},
     "output_type": "execute_result"
    }
   ],
   "source": [
    "# SEAGO\n",
    "# based on cutoffs from John Meredith\n",
    "arcpy.management.CalculateField(\n",
    "    \"SEAGO_pavement_condition\", \n",
    "    \"sun_cloud_condition\", \n",
    "    \"eval(!PavemCondi!)\", \n",
    "    \"PYTHON3\", \n",
    "\"\"\"def eval(pct):\n",
    "    if pct is None:\n",
    "        return None\n",
    "    elif pct < .50:\n",
    "        return 'Poor'\n",
    "    elif pct < .60:\n",
    "        return 'Fair'\n",
    "    elif pct <= 1.00:\n",
    "        return 'Good'\n",
    "    else:\n",
    "        return 'Unknown'\n",
    "\"\"\", \"TEXT\")"
   ]
  },
  {
   "cell_type": "code",
   "execution_count": 1,
   "metadata": {},
   "outputs": [
    {
     "data": {
      "text/html": [
       "<div class='gpresult'><h2>Messages</h2><div id='messages' data-messages='[\"Start Time: Wednesday, February 8, 2023 10:50:44 AM\",\"Adding sun_cloud_condition to scmpo_roads...\",\"Succeeded at Wednesday, February 8, 2023 10:50:45 AM (Elapsed Time: 0.28 seconds)\"]' data-show='true'><div id = 'default' /></div></div>"
      ],
      "text/plain": [
       "<Result 'scmpo_manual_roads'>"
      ]
     },
     "execution_count": 1,
     "metadata": {},
     "output_type": "execute_result"
    }
   ],
   "source": [
    "# SCMPO\n",
    "arcpy.management.CalculateField(\n",
    "    \"scmpo_manual_roads\", \n",
    "    \"sun_cloud_condition\", \n",
    "    \"eval_paser(!condition_2019!)\", \n",
    "    \"PYTHON3\", \n",
    "\"\"\"def eval_paser(cond):\n",
    "    if cond is None:\n",
    "        return None\n",
    "    elif cond <= 3:\n",
    "        return 'Poor'\n",
    "    elif cond <= 5:\n",
    "        return 'Fair'\n",
    "    elif cond <= 10:\n",
    "        return 'Good'\n",
    "    else:\n",
    "        return 'Unknown'\n",
    "\"\"\", \"TEXT\")"
   ]
  },
  {
   "cell_type": "markdown",
   "metadata": {},
   "source": [
    "**note, ADOT's data layer includes a good / fair / poor rating based on the FHWA definition. This is used as is.**"
   ]
  },
  {
   "cell_type": "markdown",
   "metadata": {},
   "source": [
    "## Combine and Conflate\n",
    "\n",
    "1. Merge SCMPO, SEAGO, Tucson, PIMA --> Merged\n",
    "2. Unsplit ADOT, ABNA, and Merged\n",
    "3. Join Merged to Sun Cloud Routes\n",
    "4. Combine"
   ]
  },
  {
   "cell_type": "code",
   "execution_count": 8,
   "metadata": {
    "scrolled": true
   },
   "outputs": [
    {
     "data": {
      "text/html": [
       "<div class='gpresult'><h2>Messages</h2><div id='messages' data-messages='[\"Start Time: Wednesday, February 22, 2023 12:30:16 PM\",\"Succeeded at Wednesday, February 22, 2023 12:30:20 PM (Elapsed Time: 3.88 seconds)\"]' data-show='true'><div id = 'default' /></div></div>"
      ],
      "text/plain": [
       "<Result 'Y:\\\\mag\\\\sun_cloud\\\\layers\\\\pavement\\\\pavement_layer.gdb\\\\non_adot_merge'>"
      ]
     },
     "execution_count": 8,
     "metadata": {},
     "output_type": "execute_result"
    }
   ],
   "source": [
    "# merge today layers for conflation to ATIS linework\n",
    "arcpy.management.Merge(\n",
    "    \"ABNA_pavement_condition;Tucson_pavement_condition;SEAGO_pavement_condition;scmpo_manual_roads;PIMA_pavement_condition\", \n",
    "    r\"pavement_layer.gdb\\non_adot_merge\", \n",
    "    'sun_cloud_condition \"sun_cloud_condition\" true true false 512 Text 0 0,First,#,ABNA_pavement_condition,sun_cloud_condition,0,512,Tucson_pavement_condition,sun_cloud_condition,0,512,SEAGO_pavement_condition,sun_cloud_condition,0,512,scmpo_manual_roads,sun_cloud_condition,0,512,PIMA_pavement_condition,sun_cloud_condition,0,512;source \"source\" true true false 512 Text 0 0,First,#,ABNA_pavement_condition,source,0,512,Tucson_pavement_condition,source,0,512,SEAGO_pavement_condition,source,0,512,scmpo_manual_roads,source,0,512,PIMA_pavement_condition,source,0,512', \n",
    "    \"NO_SOURCE_INFO\"\n",
    ")"
   ]
  },
  {
   "cell_type": "code",
   "execution_count": 10,
   "metadata": {},
   "outputs": [
    {
     "data": {
      "text/html": [
       "<div class='gpresult'><h2>Messages</h2><div id='messages' data-messages='[\"Start Time: Wednesday, February 22, 2023 12:35:24 PM\",\"Sorting Attributes...\",\"Dissolving...\",\"WARNING 000635: Skipping feature 4623 because of NULL or EMPTY geometry.\",\"WARNING 000635: Skipping feature 4624 because of NULL or EMPTY geometry.\",\"WARNING 000635: Skipping feature 4625 because of NULL or EMPTY geometry.\",\"WARNING 000635: Skipping feature 4626 because of NULL or EMPTY geometry.\",\"WARNING 000635: Skipping feature 4627 because of NULL or EMPTY geometry.\",\"WARNING 000635: Skipping feature 4628 because of NULL or EMPTY geometry.\",\"WARNING 000635: Skipping feature 4629 because of NULL or EMPTY geometry.\",\"WARNING 000635: Skipping feature 4630 because of NULL or EMPTY geometry.\",\"WARNING 000635: Skipping feature 4631 because of NULL or EMPTY geometry.\",\"WARNING 000635: Skipping feature 4632 because of NULL or EMPTY geometry.\",\"WARNING 000595: C:\\\\Users\\\\markegge\\\\AppData\\\\Local\\\\Temp\\\\ArcGISProTemp6916\\\\non_adot_merge1.fid contains the full list of records not able to be processed.\",\"Succeeded at Wednesday, February 22, 2023 12:35:28 PM (Elapsed Time: 4.12 seconds)\"]' data-show='true'><div id = 'default' /></div></div>"
      ],
      "text/plain": [
       "<Result 'Y:\\\\mag\\\\sun_cloud\\\\layers\\\\pavement\\\\pavement_layer.gdb\\\\others_unsplit'>"
      ]
     },
     "execution_count": 10,
     "metadata": {},
     "output_type": "execute_result"
    }
   ],
   "source": [
    "arcpy.management.UnsplitLine(\n",
    "    \"non_adot_merge\", \n",
    "    \"others_unsplit\", \n",
    "    \"sun_cloud_condition;source\", \n",
    "    None, '')"
   ]
  },
  {
   "cell_type": "code",
   "execution_count": 11,
   "metadata": {
    "scrolled": true
   },
   "outputs": [
    {
     "data": {
      "text/html": [
       "<div class='gpresult'><h2>Messages</h2><div id='messages' data-messages='[\"Start Time: Wednesday, February 22, 2023 12:35:46 PM\",\"Succeeded at Wednesday, February 22, 2023 12:36:05 PM (Elapsed Time: 19.67 seconds)\"]' data-show='true'><div id = 'default' /></div></div>"
      ],
      "text/plain": [
       "<Result 'Y:\\\\mag\\\\sun_cloud\\\\layers\\\\pavement\\\\pavement_layer.gdb\\\\UnsplitLine_GeneratePointsAlongLines'>"
      ]
     },
     "execution_count": 11,
     "metadata": {},
     "output_type": "execute_result"
    }
   ],
   "source": [
    "# break ROUTES where pavement condition splits\n",
    "# 1. create points at the end of pavement condition sections\n",
    "# 2. snap points to ROUTES\n",
    "# 3. break ROUTES at POINTS\n",
    "arcpy.management.GeneratePointsAlongLines(\n",
    "    \"others_unsplit\", \n",
    "    \"UnsplitLine_GeneratePointsAlongLines\", \n",
    "    \"PERCENTAGE\", None, 100, \n",
    "    \"END_POINTS\"\n",
    ")"
   ]
  },
  {
   "cell_type": "code",
   "execution_count": 13,
   "metadata": {},
   "outputs": [
    {
     "data": {
      "text/html": [
       "<div class='gpresult'><h2>Messages</h2><div id='messages' data-messages='[\"Start Time: Wednesday, February 22, 2023 12:36:23 PM\",\"Succeeded at Wednesday, February 22, 2023 12:41:26 PM (Elapsed Time: 5 minutes 2 seconds)\"]' data-show='true'><div id = 'default' /></div></div>"
      ],
      "text/plain": [
       "<Result 'UnsplitLine_GeneratePointsAlongLines'>"
      ]
     },
     "execution_count": 13,
     "metadata": {},
     "output_type": "execute_result"
    }
   ],
   "source": [
    "arcpy.edit.Snap(\n",
    "    \"UnsplitLine_GeneratePointsAlongLines\", \n",
    "    \"sun_cloud_routes EDGE '50 Meters'\"\n",
    ")"
   ]
  },
  {
   "cell_type": "code",
   "execution_count": 14,
   "metadata": {},
   "outputs": [
    {
     "data": {
      "text/html": [
       "<div class='gpresult'><h2>Messages</h2><div id='messages' data-messages='[\"Start Time: Wednesday, February 22, 2023 12:43:56 PM\",\"Succeeded at Wednesday, February 22, 2023 12:44:26 PM (Elapsed Time: 30.25 seconds)\"]' data-show='true'><div id = 'default' /></div></div>"
      ],
      "text/plain": [
       "<Result 'Y:\\\\mag\\\\sun_cloud\\\\layers\\\\pavement\\\\pavement_layer.gdb\\\\routes_split'>"
      ]
     },
     "execution_count": 14,
     "metadata": {},
     "output_type": "execute_result"
    }
   ],
   "source": [
    "arcpy.management.SplitLineAtPoint(\n",
    "    \"sun_cloud_routes\", \n",
    "    \"UnsplitLine_GeneratePointsAlongLines\", \n",
    "    r\"pavement_layer.gdb\\routes_split\", \n",
    "    \"1 Meters\"\n",
    ")"
   ]
  },
  {
   "cell_type": "code",
   "execution_count": 15,
   "metadata": {},
   "outputs": [
    {
     "data": {
      "text/html": [
       "<div class='gpresult'><h2>Messages</h2><div id='messages' data-messages='[\"Start Time: Wednesday, February 22, 2023 12:44:55 PM\",\"Succeeded at Wednesday, February 22, 2023 12:45:00 PM (Elapsed Time: 4.99 seconds)\"]' data-show='true'><div id = 'default' /></div></div>"
      ],
      "text/plain": [
       "<Result 'Y:\\\\mag\\\\sun_cloud\\\\layers\\\\pavement\\\\pavement_layer.gdb\\\\others_unsplit_PairwiseBuffe'>"
      ]
     },
     "execution_count": 15,
     "metadata": {},
     "output_type": "execute_result"
    }
   ],
   "source": [
    "arcpy.analysis.PairwiseBuffer(\n",
    "    \"others_unsplit\", \n",
    "    r\"pavement_layer.gdb\\others_unsplit_PairwiseBuffe\", \n",
    "    \"10 Meters\", \"NONE\", None, \n",
    "    \"PLANAR\", \"0 Feet\"\n",
    ")"
   ]
  },
  {
   "cell_type": "code",
   "execution_count": 17,
   "metadata": {},
   "outputs": [
    {
     "data": {
      "text/html": [
       "<div class='gpresult'><h2>Messages</h2><div id='messages' data-messages='[\"Start Time: Wednesday, February 22, 2023 1:07:32 PM\",\"Temporary data will be created in Y:\\\\mag\\\\sun_cloud\\\\layers\\\\pavement\\\\scratch.gdb\\\\routes_split_AddSpatialJoin_2\",\"Succeeded at Wednesday, February 22, 2023 1:07:41 PM (Elapsed Time: 8.33 seconds)\"]' data-show='true'><div id = 'default' /></div></div>"
      ],
      "text/plain": [
       "<Result 'routes_split'>"
      ]
     },
     "execution_count": 17,
     "metadata": {},
     "output_type": "execute_result"
    }
   ],
   "source": [
    "arcpy.management.AddSpatialJoin(\n",
    "    \"routes_split\", \n",
    "    \"others_unsplit_PairwiseBuffe\", \n",
    "    \"JOIN_ONE_TO_ONE\", \n",
    "    \"KEEP_ALL\"\n",
    ")"
   ]
  },
  {
   "cell_type": "code",
   "execution_count": null,
   "metadata": {},
   "outputs": [],
   "source": [
    "# extract spatial join result\n",
    "arcpy.conversion.ExportFeatures(\"routes_split\", r\"Y:\\mag\\sun_cloud\\layers\\pavement\\pavement_layer.gdb\\routes_split_not_null\", '', \"NOT_USE_ALIAS\", 'route_id \"Route ID\" true true false 32 Text 0 0,First,#,routes_split,routes_split.route_id,0,32;functional_class \"Functional Classification\" true true false 4 Long 0 0,First,#,routes_split,routes_split.functional_class,-1,-1;ORIG_FID \"ORIG_FID\" true true false 4 Long 0 0,First,#,routes_split,routes_split.ORIG_FID,-1,-1;ORIG_SEQ \"ORIG_SEQ\" true true false 4 Long 0 0,First,#,routes_split,routes_split.ORIG_SEQ,-1,-1;Shape_Length \"Shape_Length\" false true true 8 Double 0 0,First,#,routes_split,routes_split.Shape_Length,-1,-1;OBJECTID \"OBJECTID\" false true false 4 Long 0 9,First,#,routes_split,routes_split_AddSpatialJoin_2.OBJECTID,-1,-1;Join_Count \"Join_Count\" true true false 4 Long 0 0,First,#,routes_split,routes_split_AddSpatialJoin_2.Join_Count,-1,-1;TARGET_FID \"TARGET_FID\" true true false 4 Long 0 0,First,#,routes_split,routes_split_AddSpatialJoin_2.TARGET_FID,-1,-1;sun_cloud_condition \"sun_cloud_condition\" true true false 512 Text 0 0,First,#,routes_split,routes_split_AddSpatialJoin_2.sun_cloud_condition,0,512;source \"source\" true true false 512 Text 0 0,First,#,routes_split,routes_split_AddSpatialJoin_2.source,0,512;BUFF_DIST \"BUFF_DIST\" true true false 8 Double 0 0,First,#,routes_split,routes_split_AddSpatialJoin_2.BUFF_DIST,-1,-1;ORIG_FID \"ORIG_FID\" true true false 4 Long 0 0,First,#,routes_split,routes_split_AddSpatialJoin_2.ORIG_FID,-1,-1;Shape_Length \"Shape_Length\" false true true 8 Double 0 0,First,#,routes_split,routes_split_AddSpatialJoin_2.Shape_Length,-1,-1', None)"
   ]
  },
  {
   "cell_type": "code",
   "execution_count": null,
   "metadata": {},
   "outputs": [],
   "source": [
    "# subtract out ADOT roads from others\n",
    "arcpy.analysis.PairwiseErase(\"routes_split_not_null\", \"ADOT_pavement_2021\", r\"Y:\\mag\\sun_cloud\\layers\\pavement\\pavement_layer.gdb\\routes_split_n_PairwiseErase\", None)"
   ]
  },
  {
   "cell_type": "code",
   "execution_count": null,
   "metadata": {},
   "outputs": [],
   "source": [
    "# merge ADOT and others\n",
    "arcpy.management.Merge(\"routes_split_n_PairwiseErase;ADOT_pavement_2021\", r\"Y:\\mag\\sun_cloud\\layers\\pavement\\pavement_layer.gdb\\routes_split_n_Pairwis_Merge\", 'route_id \"Route ID\" true true false 32 Text 0 0,First,#,routes_split_n_PairwiseErase,route_id,0,32,ADOT_pavement_2021,route_id,0,32;sun_cloud_condition \"sun_cloud_condition\" true true false 512 Text 0 0,First,#,routes_split_n_PairwiseErase,sun_cloud_condition,0,512,ADOT_pavement_2021,sun_cloud_condition,0,512;source \"source\" true true false 512 Text 0 0,First,#,routes_split_n_PairwiseErase,source,0,512,ADOT_pavement_2021,source,0,512', \"NO_SOURCE_INFO\")"
   ]
  },
  {
   "cell_type": "code",
   "execution_count": null,
   "metadata": {},
   "outputs": [],
   "source": [
    "# select not null and unsplit\n",
    "arcpy.management.SelectLayerByAttribute(\"routes_split_n_Pairwis_Merge\", \"NEW_SELECTION\", \"sun_cloud_condition IS NOT NULL\", None)\n",
    "arcpy.management.UnsplitLine(\"routes_split_n_Pairwis_Merge\", r\"Y:\\mag\\sun_cloud\\layers\\pavement\\pavement_layer.gdb\\routes_split_n_P_UnsplitLine\", \"route_id;sun_cloud_condition;source\", None, '')"
   ]
  },
  {
   "cell_type": "code",
   "execution_count": null,
   "metadata": {},
   "outputs": [],
   "source": [
    "# omit < 25' long and export\n",
    "arcpy.management.SelectLayerByAttribute(\"routes_split_n_P_UnsplitLine\", \"NEW_SELECTION\", \"Shape_Length > 25\", None)\n",
    "arcpy.conversion.ExportFeatures(\"routes_split_n_P_UnsplitLine\", r\"Y:\\mag\\sun_cloud\\layers\\pavement\\pavement_layer.gdb\\Sun_Cloud_Combined_Pavement\", '', \"NOT_USE_ALIAS\", 'route_id \"Route ID\" true true false 32 Text 0 0,First,#,routes_split_n_P_UnsplitLine,route_id,0,32;sun_cloud_condition \"sun_cloud_condition\" true true false 512 Text 0 0,First,#,routes_split_n_P_UnsplitLine,sun_cloud_condition,0,512;source \"source\" true true false 512 Text 0 0,First,#,routes_split_n_P_UnsplitLine,source,0,512;Shape_Length \"Shape_Length\" false true true 8 Double 0 0,First,#,routes_split_n_P_UnsplitLine,Shape_Length,-1,-1', None)"
   ]
  },
  {
   "cell_type": "code",
   "execution_count": 19,
   "metadata": {},
   "outputs": [
    {
     "name": "stdout",
     "output_type": "stream",
     "text": [
      "route_id, sun_cloud_condition, source\n"
     ]
    }
   ],
   "source": [
    "# KEEP AND RENAME FIELDS\n",
    "working_layer = 'Sun_Cloud_Combined_Pavement'\n",
    "\n",
    "system_fields = [arcpy.Describe(working_layer).OIDFieldName, 'Shape', 'geom', 'Shape_Length']\n",
    "current_fields = [f.name for f in arcpy.ListFields(working_layer) if not f.name in system_fields]\n",
    "\n",
    "print(', '.join(current_fields))\n",
    "\n",
    "# Define tuples of CurrentFieldName, target_field_name, Alias\n",
    "target_fields = [\n",
    "    ('route_id', 'route_id', 'Route ID'),\n",
    "    ('sun_cloud_condition', 'sun_cloud_condition', 'Pavement Condition'),\n",
    "    ('source', 'source', 'Pavement Condition Information Source')\n",
    "]\n",
    "\n",
    "# delete unused fields\n",
    "delete_fields = [field for field in current_fields if not field in [a for a, b, c in target_fields]]\n",
    "if delete_fields:\n",
    "    arcpy.management.DeleteField(working_layer, delete_fields)\n",
    "    \n",
    "for current, new, alias in target_fields:\n",
    "    # arcgis can't change capitalization ... a hacky workaround\n",
    "    if new != current and new.lower() == current.lower():\n",
    "        intermediate = current + \"1\"\n",
    "        arcpy.management.AlterField(working_layer, current, intermediate)\n",
    "        current = intermediate\n",
    "    arcpy.management.AlterField(working_layer, current, new, alias)\n"
   ]
  },
  {
   "cell_type": "code",
   "execution_count": null,
   "metadata": {},
   "outputs": [],
   "source": []
  }
 ],
 "metadata": {
  "kernelspec": {
   "display_name": "ArcGISPro",
   "language": "Python",
   "name": "python3"
  },
  "language_info": {
   "file_extension": ".py",
   "name": "python",
   "version": "3"
  }
 },
 "nbformat": 4,
 "nbformat_minor": 2
}
