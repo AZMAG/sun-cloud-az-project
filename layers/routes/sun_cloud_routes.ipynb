{
 "cells": [
  {
   "cell_type": "markdown",
   "metadata": {},
   "source": [
    "## Create the Sun Cloud Routes Layer\n",
    "\n",
    "The Sun Cloud Routes layer delineates which roadways are included in the Sun Cloud data portal.\n",
    "\n",
    "Select all roads that meet functional class requirements or are part of Kyle's manual review of regionally significant routes.\n",
    "* Arterial or above\n",
    "* Major collectors in ubran areas outside of Phoenix and Tucson\n",
    "\n",
    "Uses the default environment workspace for temp layers.\n",
    "\n",
    "**routes.gdb** contains important imputs into the process and should not be deleted!\n",
    "\n",
    "| Code | Description |\n",
    "| ---- | ----------- |\n",
    "|1|Rural Principal Arterial - Interstate|\n",
    "|2|Rural Principal Arterial - Ohter|\n",
    "|3|Rural Principal Arterial - Other Fwys & Expwys|\n",
    "|6|Rural Minor Arterial|\n",
    "|7|Rural Major Collector|\n",
    "|8|Rural Minor Collector|\n",
    "|9|Rural Local|\n",
    "|11|Urban Principal Arterial - Interstate|\n",
    "|12|Urban Principal Arterial - Other Pwys & Expwys|\n",
    "|14|Urban Principal Arterial - Other|\n",
    "|16|Urban Minor Arterial|\n",
    "|19|Urban Local|\n",
    "|17|Urban Major Collector|\n",
    "|18|Urban Minor Collector|\n",
    "\n",
    "\n",
    "### Jurisdictional Boundaries\n",
    "\n",
    "As needed, download and extract the geographic boundaries layers from\n",
    "\n",
    "City boundaries\n",
    "https://azgeo-open-data-agic.hub.arcgis.com/datasets/azgeo::incorporated-city-boundaries-1/explore?layer=2&location=34.134590%2C-111.945292%2C7.96\n",
    " \n",
    "MPO boundaries\n",
    "https://azgeo-open-data-agic.hub.arcgis.com/datasets/AZMAG::arizona-metropolitan-planning-organizations/explore?location=33.331142%2C-112.462165%2C8.50\n",
    " \n",
    "COG boundaries\n",
    "https://azgeo-open-data-agic.hub.arcgis.com/datasets/AZMAG::arizona-councils-of-government/explore?location=34.135148%2C-111.914470%2C7.95\n",
    " "
   ]
  },
  {
   "cell_type": "code",
   "execution_count": 3,
   "metadata": {},
   "outputs": [],
   "source": [
    "import arcpy\n",
    "import os\n",
    "import re\n",
    "\n",
    "# begin by adding layers below to map and setting the appropriate variable values below\n",
    "\n",
    "# specify layer names\n",
    "\n",
    "# ATIS layers - https://azgeo-open-data-agic.hub.arcgis.com/maps/azgeo::adot-highway-performance-monitoring-system-hpms-2020-data-/about\n",
    "\n",
    "# ATIS Routes - download the AllRoadsNetwork layer from:\n",
    "# https://azgeo-open-data-agic.hub.arcgis.com/datasets/azgeo::adot-highway-performance-monitoring-system-hpms-2020-data-/\n",
    "#atis_routes = 'AllRoadsNetwork'\n",
    "# actually - this layer doesn't get used. the Functional Class is the basis\n",
    "\n",
    "\n",
    "# ATIS FacilityType\n",
    "# https://azgeo-open-data-agic.hub.arcgis.com/datasets/azgeo::adot-highway-performance-monitoring-system-hpms-2020-data-/about?layer=17\n",
    "atis_facility_type = 'FacilityType'\n",
    "\n",
    "# 2010 Census Urban Areas - https://hub.arcgis.com/maps/esri::usa-urban-areas/\n",
    "\n",
    "target_gdb = 'routes.gdb'"
   ]
  },
  {
   "cell_type": "code",
   "execution_count": 4,
   "metadata": {},
   "outputs": [],
   "source": [
    "def select_pattern(feature_layer, field, pattern, select_type = \"NEW SELECTION\"):\n",
    "    matcher = re.compile(pattern)\n",
    "    describe_feature = arcpy.Describe(feature_layer)\n",
    "    \n",
    "    oid_list = []\n",
    "    with arcpy.da.SearchCursor(feature_layer, ['OID@', field]) as sc:\n",
    "        for row in sc:\n",
    "            if matcher.search(row[1]) is not None:\n",
    "                oid_list.append(row[0])\n",
    "    if(len(oid_list)) == 0:\n",
    "        print('No records matched.')\n",
    "        return None\n",
    "    \n",
    "    sql = \"\\\"{}\\\" IN ({})\".format(\n",
    "        describe_feature.OIDFieldName,\n",
    "        \",\".join([\"{}\".format(oid) for oid in oid_list])\n",
    "    )\n",
    "\n",
    "    arcpy.SelectLayerByAttribute_management(\n",
    "        feature_layer,\n",
    "        select_type,\n",
    "        sql\n",
    "    )"
   ]
  },
  {
   "cell_type": "markdown",
   "metadata": {},
   "source": [
    "First, export all online feature layers to a local filegeodatabase for acceptable performance."
   ]
  },
  {
   "cell_type": "code",
   "execution_count": null,
   "metadata": {
    "scrolled": true
   },
   "outputs": [],
   "source": [
    "# ATIS Functional CLass\n",
    "# from https://azgeo-open-data-agic.hub.arcgis.com/datasets/azgeo::adot-functional-classification/about\n",
    "# https://services6.arcgis.com/clPWQMwZfdWn4MQZ/arcgis/rest/services/Functional_Classification_2020_Test/FeatureServer/0/\n",
    "online_fc = 'FunctionalClassification'\n",
    "\n",
    "# IMPORTANT - make sure only \"current\" features get copied!\n",
    "arcpy.management.SelectLayerByAttribute(\n",
    "    online_fc, \n",
    "    \"NEW_SELECTION\", \n",
    "    \"ToDate IS NULL\", \n",
    "    None\n",
    ")"
   ]
  },
  {
   "cell_type": "code",
   "execution_count": null,
   "metadata": {},
   "outputs": [],
   "source": [
    "# copy local\n",
    "arcpy.conversion.ExportFeatures(\n",
    "    online_fc, \n",
    "    \"atis_functional_class\"\n",
    ")"
   ]
  },
  {
   "cell_type": "code",
   "execution_count": null,
   "metadata": {},
   "outputs": [],
   "source": [
    "# Facility Type no longer seems to be on AZ Geo. Using offline copy.\n",
    "arcpy.conversion.ExportFeatures(\n",
    "    r'atis_facilitytype.gdb\\FacilityType', \n",
    "    \"atis_facility_type\"\n",
    ")"
   ]
  },
  {
   "cell_type": "code",
   "execution_count": 12,
   "metadata": {},
   "outputs": [
    {
     "data": {
      "text/html": [
       "<div class='gpresult'><h2>Messages</h2><div id='messages' data-messages='[\"Start Time: Tuesday, January 17, 2023 6:06:47 PM\",\"Succeeded at Tuesday, January 17, 2023 6:06:47 PM (Elapsed Time: 0.09 seconds)\"]' data-show='true'><div id = 'default' /></div></div>"
      ],
      "text/plain": [
       "<Result 'atis_facility_type'>"
      ]
     },
     "execution_count": 12,
     "metadata": {},
     "output_type": "execute_result"
    }
   ],
   "source": [
    "# remove ramps - may want to revisit this someday\n",
    "arcpy.management.SelectLayerByAttribute(\n",
    "    \"atis_facility_type\", \n",
    "    \"NEW_SELECTION\", \n",
    "    \"FacilityType IN (4, 5, 7)\"\n",
    ")"
   ]
  },
  {
   "cell_type": "code",
   "execution_count": 13,
   "metadata": {
    "scrolled": true
   },
   "outputs": [
    {
     "data": {
      "text/html": [
       "<div class='gpresult'><h2>Messages</h2><div id='messages' data-messages='[\"Start Time: Tuesday, January 17, 2023 6:07:07 PM\",\"Succeeded at Tuesday, January 17, 2023 6:07:10 PM (Elapsed Time: 2.80 seconds)\"]' data-show='true'><div id = 'default' /></div></div>"
      ],
      "text/plain": [
       "<Result 'Y:\\\\mag\\\\sun_cloud\\\\layers\\\\routes\\\\routes.gdb\\\\atis_remove_ramps'>"
      ]
     },
     "execution_count": 13,
     "metadata": {},
     "output_type": "execute_result"
    }
   ],
   "source": [
    "arcpy.conversion.ExportFeatures(\n",
    "    \"atis_facility_type\", \n",
    "    r\"routes.gdb\\atis_remove_ramps\"\n",
    ")"
   ]
  },
  {
   "cell_type": "code",
   "execution_count": 72,
   "metadata": {},
   "outputs": [
    {
     "data": {
      "text/html": [
       "<div class='gpresult'><h2>Messages</h2><div id='messages' data-messages='[\"Start Time: Saturday, February 25, 2023 4:01:56 PM\",\"Clipping input features...\",\"Succeeded at Saturday, February 25, 2023 4:02:10 PM (Elapsed Time: 14.50 seconds)\"]' data-show='true'><div id = 'default' /></div></div>"
      ],
      "text/plain": [
       "<Result 'Y:\\\\mag\\\\sun_cloud\\\\layers\\\\routes\\\\sun_cloud_routes.gdb\\\\atis_fclass_clipped'>"
      ]
     },
     "execution_count": 72,
     "metadata": {},
     "output_type": "execute_result"
    }
   ],
   "source": [
    "# clip functional class layer to sun cloud counties\n",
    "arcpy.analysis.PairwiseClip(\n",
    "    \"atis_functional_class\", \n",
    "    r'routes.gdb\\counties', \n",
    "    'atis_fclass_clipped', \n",
    "    None\n",
    ")"
   ]
  },
  {
   "cell_type": "code",
   "execution_count": 73,
   "metadata": {},
   "outputs": [
    {
     "data": {
      "text/html": [
       "<div class='gpresult'><h2>Messages</h2><div id='messages' data-messages='[\"Start Time: Saturday, February 25, 2023 4:02:16 PM\",\"Succeeded at Saturday, February 25, 2023 4:02:30 PM (Elapsed Time: 14.49 seconds)\"]' data-show='true'><div id = 'default' /></div></div>"
      ],
      "text/plain": [
       "<Result 'Y:\\\\mag\\\\sun_cloud\\\\layers\\\\routes\\\\sun_cloud_routes.gdb\\\\func_class_clipped_urban_area'>"
      ]
     },
     "execution_count": 73,
     "metadata": {},
     "output_type": "execute_result"
    }
   ],
   "source": [
    "# spatially join the name of the urban area\n",
    "arcpy.analysis.SpatialJoin(\n",
    "    'atis_fclass_clipped', \n",
    "    r'routes.gdb\\USA_Urban_Areas', \n",
    "    'func_class_clipped_urban_area', \n",
    "    \"JOIN_ONE_TO_ONE\", \n",
    "    \"KEEP_ALL\"\n",
    ")"
   ]
  },
  {
   "cell_type": "code",
   "execution_count": 74,
   "metadata": {},
   "outputs": [
    {
     "data": {
      "text/html": [
       "<div class='gpresult'><h2>Messages</h2><div id='messages' data-messages='[\"Start Time: Saturday, February 25, 2023 4:02:36 PM\",\"Succeeded at Saturday, February 25, 2023 4:02:37 PM (Elapsed Time: 1.18 seconds)\"]' data-show='true'><div id = 'default' /></div></div>"
      ],
      "text/plain": [
       "<Result 'func_class_clipped_urban_area'>"
      ]
     },
     "execution_count": 74,
     "metadata": {},
     "output_type": "execute_result"
    }
   ],
   "source": [
    "# select routes that overlap with Kyle's regionally significant routes\n",
    "arcpy.management.SelectLayerByLocation(\n",
    "    \"func_class_clipped_urban_area\", \n",
    "    \"HAVE_THEIR_CENTER_IN\", \n",
    "    r\"routes.gdb\\regionally_significant_routes\", \n",
    "    \"1 Meters\", \n",
    "    \"NEW_SELECTION\", \n",
    "    \"NOT_INVERT\"\n",
    ")"
   ]
  },
  {
   "cell_type": "code",
   "execution_count": 75,
   "metadata": {},
   "outputs": [
    {
     "data": {
      "text/html": [
       "<div class='gpresult'><h2>Messages</h2><div id='messages' data-messages='[\"Start Time: Saturday, February 25, 2023 4:02:43 PM\",\"Succeeded at Saturday, February 25, 2023 4:02:43 PM (Elapsed Time: 0.07 seconds)\"]' data-show='true'><div id = 'default' /></div></div>"
      ],
      "text/plain": [
       "<Result 'func_class_clipped_urban_area'>"
      ]
     },
     "execution_count": 75,
     "metadata": {},
     "output_type": "execute_result"
    }
   ],
   "source": [
    "# select by functional class\n",
    "arcpy.management.SelectLayerByAttribute(\n",
    "    'func_class_clipped_urban_area', \n",
    "    \"ADD_TO_SELECTION\", \n",
    "\"\"\"\n",
    "FunctionalClass IN (1, 2, 3, 6, 11, 12, 14, 16)\n",
    "OR (\n",
    "  NAME NOT IN ('Tucson, AZ', 'Phoenix--Mesa, AZ', 'Avondale--Goodyear, AZ', 'Buckeye, AZ') \n",
    "  AND FunctionalClass IN (7, 17)\n",
    ")\n",
    "\"\"\"\n",
    ")"
   ]
  },
  {
   "cell_type": "code",
   "execution_count": 76,
   "metadata": {
    "scrolled": true
   },
   "outputs": [
    {
     "data": {
      "text/html": [
       "<div class='gpresult'><h2>Messages</h2><div id='messages' data-messages='[\"Start Time: Saturday, February 25, 2023 4:02:49 PM\",\"Succeeded at Saturday, February 25, 2023 4:02:54 PM (Elapsed Time: 4.82 seconds)\"]' data-show='true'><div id = 'default' /></div></div>"
      ],
      "text/plain": [
       "<Result 'Y:\\\\mag\\\\sun_cloud\\\\layers\\\\routes\\\\sun_cloud_routes.gdb\\\\fc2'>"
      ]
     },
     "execution_count": 76,
     "metadata": {},
     "output_type": "execute_result"
    }
   ],
   "source": [
    "# export selected features\n",
    "arcpy.conversion.ExportFeatures(\n",
    "    'func_class_clipped_urban_area', \n",
    "   \"fc2\"\n",
    ")"
   ]
  },
  {
   "cell_type": "code",
   "execution_count": 77,
   "metadata": {},
   "outputs": [
    {
     "data": {
      "text/html": [
       "<div class='gpresult'><h2>Messages</h2><div id='messages' data-messages='[\"Start Time: Saturday, February 25, 2023 4:02:58 PM\",\"Succeeded at Saturday, February 25, 2023 4:02:58 PM (Elapsed Time: 0.34 seconds)\"]' data-show='true'><div id = 'default' /></div></div>"
      ],
      "text/plain": [
       "<Result 'fc2'>"
      ]
     },
     "execution_count": 77,
     "metadata": {},
     "output_type": "execute_result"
    }
   ],
   "source": [
    "arcpy.management.AddJoin(\n",
    "    \"fc2\", \n",
    "    \"FunctionalClass\", \n",
    "    \"fclass_crosswalk.csv\", \n",
    "    \"atis_code\"\n",
    ")"
   ]
  },
  {
   "cell_type": "markdown",
   "metadata": {},
   "source": [
    "## Remove ramps"
   ]
  },
  {
   "cell_type": "code",
   "execution_count": 78,
   "metadata": {},
   "outputs": [
    {
     "data": {
      "text/html": [
       "<div class='gpresult'><h2>Messages</h2><div id='messages' data-messages='[\"Start Time: Saturday, February 25, 2023 4:03:00 PM\",\"Succeeded at Saturday, February 25, 2023 4:03:03 PM (Elapsed Time: 3.88 seconds)\"]' data-show='true'><div id = 'default' /></div></div>"
      ],
      "text/plain": [
       "<Result 'fc2'>"
      ]
     },
     "execution_count": 78,
     "metadata": {},
     "output_type": "execute_result"
    }
   ],
   "source": [
    "arcpy.management.SelectLayerByLocation(\n",
    "    \"fc2\", \n",
    "    \"SHARE_A_LINE_SEGMENT_WITH\", \n",
    "    r\"routes.gdb\\atis_remove_ramps\",\n",
    "    None, \n",
    "    \"NEW_SELECTION\", \n",
    "    \"INVERT\"\n",
    ")"
   ]
  },
  {
   "cell_type": "markdown",
   "metadata": {},
   "source": [
    "## Copy over all routes then pare down to just what we want for SC"
   ]
  },
  {
   "cell_type": "code",
   "execution_count": 79,
   "metadata": {},
   "outputs": [
    {
     "data": {
      "text/html": [
       "<div class='gpresult'><h2>Messages</h2><div id='messages' data-messages='[\"Start Time: Saturday, February 25, 2023 4:03:05 PM\",\"Succeeded at Saturday, February 25, 2023 4:03:10 PM (Elapsed Time: 5.55 seconds)\"]' data-show='true'><div id = 'default' /></div></div>"
      ],
      "text/plain": [
       "<Result 'Y:\\\\mag\\\\sun_cloud\\\\layers\\\\routes\\\\sun_cloud_routes.gdb\\\\all_routes_no_ramps'>"
      ]
     },
     "execution_count": 79,
     "metadata": {},
     "output_type": "execute_result"
    }
   ],
   "source": [
    "# export selected features\n",
    "arcpy.conversion.ExportFeatures(\n",
    "    'fc2', \n",
    "    \"all_routes_no_ramps\"\n",
    ")"
   ]
  },
  {
   "cell_type": "markdown",
   "metadata": {},
   "source": [
    "### Remove extraneous features (including non-inventory direction routes on arterials"
   ]
  },
  {
   "cell_type": "code",
   "execution_count": 80,
   "metadata": {},
   "outputs": [],
   "source": [
    "# remove all 00 ... 0 routes\n",
    "pattern = '^00.{28}0\\s*$' # Match 00*0\n",
    "select_pattern(\"all_routes_no_ramps\", 'RouteId', pattern)\n",
    "# after selecting, delete..."
   ]
  },
  {
   "cell_type": "code",
   "execution_count": 81,
   "metadata": {},
   "outputs": [
    {
     "data": {
      "text/html": [
       "<div class='gpresult'><h2>Messages</h2><div id='messages' data-messages='[\"Start Time: Saturday, February 25, 2023 4:03:35 PM\",\"Succeeded at Saturday, February 25, 2023 4:03:35 PM (Elapsed Time: 0.49 seconds)\"]' data-show='true'><div id = 'default' /></div></div>"
      ],
      "text/plain": [
       "<Result 'all_routes_no_ramps'>"
      ]
     },
     "execution_count": 81,
     "metadata": {},
     "output_type": "execute_result"
    }
   ],
   "source": [
    "arcpy.management.DeleteFeatures(\"all_routes_no_ramps\")"
   ]
  },
  {
   "cell_type": "code",
   "execution_count": null,
   "metadata": {},
   "outputs": [],
   "source": [
    "# cells below disabled ... have a new way to handle this!"
   ]
  },
  {
   "cell_type": "raw",
   "metadata": {},
   "source": [
    "pattern = '\\s{1,4}0.$' # Match 0 at end\n",
    "select_pattern(\"all_routes_no_ramps\", 'RouteId', pattern)"
   ]
  },
  {
   "cell_type": "raw",
   "metadata": {},
   "source": [
    "layer = \"all_routes_no_ramps\"\n",
    "arcpy.management.SelectLayerByAttribute(\n",
    "    layer, \n",
    "    \"REMOVE_FROM_SELECTION\", \n",
    "    \"FunctionalClass IN (1, 11, 2, 14, 3, 12)\"\n",
    ")\n",
    "# Add Freeways for Removal\n",
    "arcpy.management.SelectLayerByAttribute(layer, \n",
    "\t'REMOVE_FROM_SELECTION', '\"RouteId\" LIKE \\'%U 060%\\'')\n",
    "arcpy.management.SelectLayerByAttribute(layer, \n",
    "\t'REMOVE_FROM_SELECTION', '\"RouteId\" LIKE \\'%S 051%\\'')\n",
    "arcpy.management.SelectLayerByAttribute(layer, \n",
    "\t'REMOVE_FROM_SELECTION', '\"RouteId\" LIKE \\'%S 101%\\'')\n",
    "arcpy.management.SelectLayerByAttribute(layer, \n",
    "\t'REMOVE_FROM_SELECTION', '\"RouteId\" LIKE \\'%S 202%\\'')\n",
    "arcpy.management.SelectLayerByAttribute(layer, \n",
    "\t'REMOVE_FROM_SELECTION', '\"RouteId\" LIKE \\'%S 303%\\'')"
   ]
  },
  {
   "cell_type": "raw",
   "metadata": {},
   "source": [
    "# remove selection of features outside of MAG planning area\n",
    "arcpy.management.SelectLayerByAttribute(\n",
    "    r\"routes.gdb\\counties\", \"NEW_SELECTION\", \n",
    "    \"NAME IN ('Maricopa', 'Pinal')\", \"INVERT\")\n",
    "arcpy.management.SelectLayerByLocation(\n",
    "    \"all_routes_no_ramps\", \n",
    "    \"WITHIN\", \n",
    "    r\"routes.gdb\\counties\", \n",
    "    None, \"REMOVE_FROM_SELECTION\", \"NOT_INVERT\")"
   ]
  },
  {
   "cell_type": "raw",
   "metadata": {},
   "source": [
    "arcpy.management.DeleteFeatures(\"all_routes_no_ramps\")"
   ]
  },
  {
   "cell_type": "code",
   "execution_count": 82,
   "metadata": {},
   "outputs": [],
   "source": [
    "# remove remaining interstate ramps\n",
    "arcpy.management.SelectLayerByAttribute(\n",
    "    \"all_routes_no_ramps\", \n",
    "    \"CLEAR_SELECTION\"\n",
    ")\n",
    "pattern = '\\s{1,4}[ISU]\\s\\d{6}[A-Z]'\n",
    "select_pattern(\"all_routes_no_ramps\", 'RouteId', pattern)"
   ]
  },
  {
   "cell_type": "code",
   "execution_count": 83,
   "metadata": {
    "scrolled": true
   },
   "outputs": [
    {
     "data": {
      "text/html": [
       "<div class='gpresult'><h2>Messages</h2><div id='messages' data-messages='[\"Start Time: Saturday, February 25, 2023 4:03:59 PM\",\"Succeeded at Saturday, February 25, 2023 4:03:59 PM (Elapsed Time: 0.44 seconds)\"]' data-show='true'><div id = 'default' /></div></div>"
      ],
      "text/plain": [
       "<Result 'all_routes_no_ramps'>"
      ]
     },
     "execution_count": 83,
     "metadata": {},
     "output_type": "execute_result"
    }
   ],
   "source": [
    "arcpy.management.DeleteFeatures(\"all_routes_no_ramps\")"
   ]
  },
  {
   "cell_type": "code",
   "execution_count": 84,
   "metadata": {
    "scrolled": true
   },
   "outputs": [
    {
     "data": {
      "text/html": [
       "<div class='gpresult'><h2>Messages</h2><div id='messages' data-messages='[\"Start Time: Saturday, February 25, 2023 4:04:06 PM\",\"Sorting Attributes...\",\"Dissolving...\",\"Succeeded at Saturday, February 25, 2023 4:04:12 PM (Elapsed Time: 5.43 seconds)\"]' data-show='true'><div id = 'default' /></div></div>"
      ],
      "text/plain": [
       "<Result 'Y:\\\\mag\\\\sun_cloud\\\\layers\\\\routes\\\\sun_cloud_routes.gdb\\\\all_routes_dissolve'>"
      ]
     },
     "execution_count": 84,
     "metadata": {},
     "output_type": "execute_result"
    }
   ],
   "source": [
    "arcpy.analysis.PairwiseDissolve(\n",
    "    \"all_routes_no_ramps\", \n",
    "    \"all_routes_dissolve\", \n",
    "    \"RouteId;federal_code\", None, \"MULTI_PART\"\n",
    ")"
   ]
  },
  {
   "cell_type": "code",
   "execution_count": 85,
   "metadata": {
    "scrolled": true
   },
   "outputs": [
    {
     "data": {
      "text/html": [
       "<div class='gpresult'><h2>Messages</h2><div id='messages' data-messages='[\"Start Time: Saturday, February 25, 2023 4:04:24 PM\",\"Succeeded at Saturday, February 25, 2023 4:04:25 PM (Elapsed Time: 0.26 seconds)\"]' data-show='true'><div id = 'default' /></div></div>"
      ],
      "text/plain": [
       "<Result 'all_routes_dissolve'>"
      ]
     },
     "execution_count": 85,
     "metadata": {},
     "output_type": "execute_result"
    }
   ],
   "source": [
    "# finally, remove dangles - run below then delete features\n",
    "arcpy.management.SelectLayerByLocation(\n",
    "    \"all_routes_dissolve\", \n",
    "    \"WITHIN\", \n",
    "    r\"routes.gdb\\dangles\", \n",
    "    None, \"NEW_SELECTION\"\n",
    ")"
   ]
  },
  {
   "cell_type": "code",
   "execution_count": 86,
   "metadata": {
    "scrolled": true
   },
   "outputs": [
    {
     "data": {
      "text/html": [
       "<div class='gpresult'><h2>Messages</h2><div id='messages' data-messages='[\"Start Time: Saturday, February 25, 2023 4:05:24 PM\",\"Succeeded at Saturday, February 25, 2023 4:05:25 PM (Elapsed Time: 0.25 seconds)\"]' data-show='true'><div id = 'default' /></div></div>"
      ],
      "text/plain": [
       "<Result 'all_routes_dissolve'>"
      ]
     },
     "execution_count": 86,
     "metadata": {},
     "output_type": "execute_result"
    }
   ],
   "source": [
    "# delete dangles\n",
    "arcpy.management.DeleteFeatures(\"all_routes_dissolve\")"
   ]
  },
  {
   "cell_type": "markdown",
   "metadata": {},
   "source": [
    "### delete more extraneous routes"
   ]
  },
  {
   "cell_type": "code",
   "execution_count": 87,
   "metadata": {
    "scrolled": true
   },
   "outputs": [
    {
     "data": {
      "text/html": [
       "<div class='gpresult'><h2>Messages</h2><div id='messages' data-messages='[\"Start Time: Saturday, February 25, 2023 4:05:41 PM\",\"WARNING 002540: Selection type ADD_TO_SELECTION is not valid on input with no selection. Use NEW_SELECTION option instead.\",\"Succeeded at Saturday, February 25, 2023 4:05:41 PM (Elapsed Time: 0.08 seconds)\"]' data-show='true'><div id = 'default' /></div></div>"
      ],
      "text/plain": [
       "<Result 'all_routes_dissolve'>"
      ]
     },
     "execution_count": 87,
     "metadata": {},
     "output_type": "execute_result"
    }
   ],
   "source": [
    "arcpy.management.SelectLayerByAttribute(\n",
    "    \"all_routes_dissolve\", \n",
    "    \"ADD_TO_SELECTION\", \n",
    "    \"Shape_Length < 25\", \n",
    "    None\n",
    ")"
   ]
  },
  {
   "cell_type": "code",
   "execution_count": 88,
   "metadata": {
    "scrolled": true
   },
   "outputs": [
    {
     "data": {
      "text/html": [
       "<div class='gpresult'><h2>Messages</h2><div id='messages' data-messages='[\"Start Time: Saturday, February 25, 2023 4:05:43 PM\",\"Succeeded at Saturday, February 25, 2023 4:05:43 PM (Elapsed Time: 0.04 seconds)\"]' data-show='true'><div id = 'default' /></div></div>"
      ],
      "text/plain": [
       "<Result 'all_routes_dissolve'>"
      ]
     },
     "execution_count": 88,
     "metadata": {},
     "output_type": "execute_result"
    }
   ],
   "source": [
    "arcpy.management.SelectLayerByAttribute(\n",
    "    \"all_routes_dissolve\", \n",
    "    \"ADD_TO_SELECTION\", \n",
    "    \"\"\"RouteId LIKE '  I%'\n",
    "AND\n",
    "Shape_Length < 2500\"\"\", \n",
    "    None\n",
    ")"
   ]
  },
  {
   "cell_type": "code",
   "execution_count": 89,
   "metadata": {
    "scrolled": false
   },
   "outputs": [
    {
     "data": {
      "text/html": [
       "<div class='gpresult'><h2>Messages</h2><div id='messages' data-messages='[\"Start Time: Saturday, February 25, 2023 4:05:53 PM\",\"Succeeded at Saturday, February 25, 2023 4:05:53 PM (Elapsed Time: 0.22 seconds)\"]' data-show='true'><div id = 'default' /></div></div>"
      ],
      "text/plain": [
       "<Result 'all_routes_dissolve'>"
      ]
     },
     "execution_count": 89,
     "metadata": {},
     "output_type": "execute_result"
    }
   ],
   "source": [
    "arcpy.management.DeleteFeatures('all_routes_dissolve')"
   ]
  },
  {
   "cell_type": "markdown",
   "metadata": {},
   "source": [
    "### deal with intermittent divided overlaps"
   ]
  },
  {
   "cell_type": "code",
   "execution_count": 90,
   "metadata": {},
   "outputs": [],
   "source": [
    "# deal with routes that are intermittently divided\n",
    "# in the below, we remove the overlapping sections of lines for\n",
    "# the divided sections of intermittently divided routes"
   ]
  },
  {
   "cell_type": "code",
   "execution_count": 91,
   "metadata": {},
   "outputs": [],
   "source": [
    "#pattern = '\\s{1,4}0\\s$' # Match 0 at end\n",
    "pattern = '\\s{1,4}0[\\s123]$'\n",
    "select_pattern(\"all_routes_dissolve\", 'RouteId', pattern)"
   ]
  },
  {
   "cell_type": "code",
   "execution_count": 92,
   "metadata": {},
   "outputs": [
    {
     "data": {
      "text/html": [
       "<div class='gpresult'><h2>Messages</h2><div id='messages' data-messages='[\"Start Time: Saturday, February 25, 2023 4:06:33 PM\",\"Succeeded at Saturday, February 25, 2023 4:06:33 PM (Elapsed Time: 0.04 seconds)\"]' data-show='true'><div id = 'default' /></div></div>"
      ],
      "text/plain": [
       "<Result 'all_routes_dissolve'>"
      ]
     },
     "execution_count": 92,
     "metadata": {},
     "output_type": "execute_result"
    }
   ],
   "source": [
    "arcpy.management.SelectLayerByAttribute(\n",
    "    \"all_routes_dissolve\", \n",
    "    \"ADD_TO_SELECTION\", \n",
    "    \"\"\"RouteId IN (\n",
    "        '  SB008                       03'\n",
    "    )\"\"\"\n",
    ")"
   ]
  },
  {
   "cell_type": "code",
   "execution_count": 93,
   "metadata": {},
   "outputs": [
    {
     "data": {
      "text/html": [
       "<div class='gpresult'><h2>Messages</h2><div id='messages' data-messages='[\"Start Time: Saturday, February 25, 2023 4:06:40 PM\",\"Succeeded at Saturday, February 25, 2023 4:06:42 PM (Elapsed Time: 2.04 seconds)\"]' data-show='true'><div id = 'default' /></div></div>"
      ],
      "text/plain": [
       "<Result 'Y:\\\\mag\\\\sun_cloud\\\\layers\\\\routes\\\\sun_cloud_routes.gdb\\\\routes_ending_in_zero'>"
      ]
     },
     "execution_count": 93,
     "metadata": {},
     "output_type": "execute_result"
    }
   ],
   "source": [
    "arcpy.conversion.ExportFeatures(\n",
    "    \"all_routes_dissolve\",  \n",
    "    \"routes_ending_in_zero\"\n",
    ")"
   ]
  },
  {
   "cell_type": "code",
   "execution_count": 94,
   "metadata": {},
   "outputs": [
    {
     "data": {
      "text/html": [
       "<div class='gpresult'><h2>Messages</h2><div id='messages' data-messages='[\"Start Time: Saturday, February 25, 2023 4:06:55 PM\",\"Succeeded at Saturday, February 25, 2023 4:06:55 PM (Elapsed Time: 0.04 seconds)\"]' data-show='true'><div id = 'default' /></div></div>"
      ],
      "text/plain": [
       "<Result 'all_routes_dissolve'>"
      ]
     },
     "execution_count": 94,
     "metadata": {},
     "output_type": "execute_result"
    }
   ],
   "source": [
    " arcpy.management.SelectLayerByAttribute(\n",
    "     \"all_routes_dissolve\", \n",
    "     \"SWITCH_SELECTION\"\n",
    " )"
   ]
  },
  {
   "cell_type": "code",
   "execution_count": 95,
   "metadata": {},
   "outputs": [
    {
     "data": {
      "text/html": [
       "<div class='gpresult'><h2>Messages</h2><div id='messages' data-messages='[\"Start Time: Saturday, February 25, 2023 4:07:01 PM\",\"Succeeded at Saturday, February 25, 2023 4:07:03 PM (Elapsed Time: 2.76 seconds)\"]' data-show='true'><div id = 'default' /></div></div>"
      ],
      "text/plain": [
       "<Result 'Y:\\\\mag\\\\sun_cloud\\\\layers\\\\routes\\\\sun_cloud_routes.gdb\\\\routes_not_ending_in_zero'>"
      ]
     },
     "execution_count": 95,
     "metadata": {},
     "output_type": "execute_result"
    }
   ],
   "source": [
    "arcpy.conversion.ExportFeatures(\n",
    "    \"all_routes_dissolve\", \n",
    "    \"routes_not_ending_in_zero\" \n",
    ")"
   ]
  },
  {
   "cell_type": "code",
   "execution_count": 96,
   "metadata": {
    "scrolled": true
   },
   "outputs": [
    {
     "data": {
      "text/html": [
       "<div class='gpresult'><h2>Messages</h2><div id='messages' data-messages='[\"Start Time: Saturday, February 25, 2023 4:07:08 PM\",\"Succeeded at Saturday, February 25, 2023 4:07:13 PM (Elapsed Time: 5.22 seconds)\"]' data-show='true'><div id = 'default' /></div></div>"
      ],
      "text/plain": [
       "<Result 'Y:\\\\mag\\\\sun_cloud\\\\layers\\\\routes\\\\sun_cloud_routes.gdb\\\\routes_ending_in_zero_not_overlapping'>"
      ]
     },
     "execution_count": 96,
     "metadata": {},
     "output_type": "execute_result"
    }
   ],
   "source": [
    "arcpy.analysis.PairwiseErase(\n",
    "    \"routes_ending_in_zero\", \n",
    "    \"routes_not_ending_in_zero\", \n",
    "    \"routes_ending_in_zero_not_overlapping\", \n",
    "    None\n",
    ")"
   ]
  },
  {
   "cell_type": "code",
   "execution_count": 109,
   "metadata": {},
   "outputs": [
    {
     "data": {
      "text/html": [
       "<div class='gpresult'><h2>Messages</h2><div id='messages' data-messages='[\"Start Time: Saturday, February 25, 2023 4:14:45 PM\",\"Succeeded at Saturday, February 25, 2023 4:14:47 PM (Elapsed Time: 2.07 seconds)\"]' data-show='true'><div id = 'default' /></div></div>"
      ],
      "text/plain": [
       "<Result 'Y:\\\\mag\\\\sun_cloud\\\\layers\\\\routes\\\\sun_cloud_routes.gdb\\\\routes_non_overlap'>"
      ]
     },
     "execution_count": 109,
     "metadata": {},
     "output_type": "execute_result"
    }
   ],
   "source": [
    "arcpy.management.Merge(\n",
    "    \"routes_not_ending_in_zero;routes_ending_in_zero_not_overlapping\", \n",
    "    \"routes_non_overlap\", \n",
    "    'RouteId \"RouteId\" true true false 32 Text 0 0,First,#,routes_not_ending_in_zero,RouteId,0,32,routes_ending_in_zero_not_overlapping,RouteId,0,32;federal_code \"federal_code\" true true false 4 Long 0 0,First,#,routes_not_ending_in_zero,federal_code,-1,-1,routes_ending_in_zero_not_overlapping,federal_code,-1,-1;Shape_Length \"Shape_Length\" false true true 8 Double 0 0,First,#,routes_not_ending_in_zero,Shape_Length,-1,-1', \n",
    "    \"NO_SOURCE_INFO\"\n",
    ")"
   ]
  },
  {
   "cell_type": "code",
   "execution_count": 110,
   "metadata": {},
   "outputs": [
    {
     "data": {
      "text/html": [
       "<div class='gpresult'><h2>Messages</h2><div id='messages' data-messages='[\"Start Time: Saturday, February 25, 2023 4:14:53 PM\",\"Succeeded at Saturday, February 25, 2023 4:14:53 PM (Elapsed Time: 0.04 seconds)\"]' data-show='true'><div id = 'default' /></div></div>"
      ],
      "text/plain": [
       "<Result 'routes_non_overlap'>"
      ]
     },
     "execution_count": 110,
     "metadata": {},
     "output_type": "execute_result"
    }
   ],
   "source": [
    "arcpy.management.SelectLayerByAttribute(\n",
    "    \"routes_non_overlap\", \n",
    "    \"NEW_SELECTION\", \n",
    "    \"\"\"RouteId IN (\n",
    "    '  SB019                       01',\n",
    "    '00  COTTON              LN    0E',\n",
    "    '  S 087                       0 ',\n",
    "    '  S 087                         ')\"\"\"\n",
    ")\n",
    "\n"
   ]
  },
  {
   "cell_type": "code",
   "execution_count": 111,
   "metadata": {},
   "outputs": [
    {
     "data": {
      "text/html": [
       "<div class='gpresult'><h2>Messages</h2><div id='messages' data-messages='[\"Start Time: Saturday, February 25, 2023 4:14:56 PM\",\"Succeeded at Saturday, February 25, 2023 4:14:56 PM (Elapsed Time: 0.27 seconds)\"]' data-show='true'><div id = 'default' /></div></div>"
      ],
      "text/plain": [
       "<Result 'routes_non_overlap'>"
      ]
     },
     "execution_count": 111,
     "metadata": {},
     "output_type": "execute_result"
    }
   ],
   "source": [
    "arcpy.management.DeleteFeatures(\"routes_non_overlap\")"
   ]
  },
  {
   "cell_type": "code",
   "execution_count": 112,
   "metadata": {
    "scrolled": true
   },
   "outputs": [
    {
     "data": {
      "text/html": [
       "<div class='gpresult'><h2>Messages</h2><div id='messages' data-messages='[\"Start Time: Saturday, February 25, 2023 4:15:00 PM\",\"Succeeded at Saturday, February 25, 2023 4:15:03 PM (Elapsed Time: 2.70 seconds)\"]' data-show='true'><div id = 'default' /></div></div>"
      ],
      "text/plain": [
       "<Result 'Y:\\\\mag\\\\sun_cloud\\\\layers\\\\routes\\\\sun_cloud_routes.gdb\\\\fc3'>"
      ]
     },
     "execution_count": 112,
     "metadata": {},
     "output_type": "execute_result"
    }
   ],
   "source": [
    "arcpy.management.Project(\n",
    "    \"routes_non_overlap\", \n",
    "    \"fc3\", \n",
    "    'PROJCS[\"NAD_1983_StatePlane_Arizona_Central_FIPS_0202_Feet_Intl\",GEOGCS[\"GCS_North_American_1983\",DATUM[\"D_North_American_1983\",SPHEROID[\"GRS_1980\",6378137.0,298.257222101]],PRIMEM[\"Greenwich\",0.0],UNIT[\"Degree\",0.0174532925199433]],PROJECTION[\"Transverse_Mercator\"],PARAMETER[\"False_Easting\",700000.0],PARAMETER[\"False_Northing\",0.0],PARAMETER[\"Central_Meridian\",-111.9166666666667],PARAMETER[\"Scale_Factor\",0.9999],PARAMETER[\"Latitude_Of_Origin\",31.0],UNIT[\"Foot\",0.3048]]',\n",
    "    \"WGS_1984_(ITRF00)_To_NAD_1983\", 'PROJCS[\"WGS_1984_Web_Mercator_Auxiliary_Sphere\",GEOGCS[\"GCS_WGS_1984\",DATUM[\"D_WGS_1984\",SPHEROID[\"WGS_1984\",6378137.0,298.257223563]],PRIMEM[\"Greenwich\",0.0],UNIT[\"Degree\",0.0174532925199433]],PROJECTION[\"Mercator_Auxiliary_Sphere\"],PARAMETER[\"False_Easting\",0.0],PARAMETER[\"False_Northing\",0.0],PARAMETER[\"Central_Meridian\",0.0],PARAMETER[\"Standard_Parallel_1\",0.0],PARAMETER[\"Auxiliary_Sphere_Type\",0.0],UNIT[\"Meter\",1.0]]', \n",
    "    \"NO_PRESERVE_SHAPE\", \n",
    "    None, \n",
    "    \"NO_VERTICAL\"\n",
    ")"
   ]
  },
  {
   "cell_type": "markdown",
   "metadata": {},
   "source": [
    "### dissolve by Route ID and then join functional class back - down to 1350 features"
   ]
  },
  {
   "cell_type": "code",
   "execution_count": 113,
   "metadata": {},
   "outputs": [
    {
     "data": {
      "text/html": [
       "<div class='gpresult'><h2>Messages</h2><div id='messages' data-messages='[\"Start Time: Saturday, February 25, 2023 4:15:05 PM\",\"Sorting Attributes...\",\"Dissolving...\",\"Succeeded at Saturday, February 25, 2023 4:15:07 PM (Elapsed Time: 1.98 seconds)\"]' data-show='true'><div id = 'default' /></div></div>"
      ],
      "text/plain": [
       "<Result 'Y:\\\\mag\\\\sun_cloud\\\\layers\\\\routes\\\\sun_cloud_routes.gdb\\\\sun_cloud_rout_PairwiseDisso'>"
      ]
     },
     "execution_count": 113,
     "metadata": {},
     "output_type": "execute_result"
    }
   ],
   "source": [
    "# dissolve by route id\n",
    "arcpy.analysis.PairwiseDissolve(\n",
    "    \"fc3\", \n",
    "    \"sun_cloud_rout_PairwiseDisso\", \n",
    "    \"RouteId\", None, \"MULTI_PART\", ''\n",
    ")"
   ]
  },
  {
   "cell_type": "code",
   "execution_count": 114,
   "metadata": {},
   "outputs": [
    {
     "data": {
      "text/html": [
       "<div class='gpresult'><h2>Messages</h2><div id='messages' data-messages='[\"Start Time: Saturday, February 25, 2023 4:15:12 PM\",\"Temporary data will be created in Y:\\\\mag\\\\sun_cloud\\\\layers\\\\routes\\\\scratch.gdb\\\\sun_cloud_rout_PairwiseDisso_AddSpatialJoin_15\",\"Succeeded at Saturday, February 25, 2023 4:15:27 PM (Elapsed Time: 15.03 seconds)\"]' data-show='true'><div id = 'default' /></div></div>"
      ],
      "text/plain": [
       "<Result 'sun_cloud_rout_PairwiseDisso'>"
      ]
     },
     "execution_count": 114,
     "metadata": {},
     "output_type": "execute_result"
    }
   ],
   "source": [
    "# join the max functional class back to the dissolved features\n",
    "#arcpy.management.AddSpatialJoin(\n",
    "#    \"sun_cloud_rout_PairwiseDisso\", \n",
    "#    \"fc3\", \n",
    "#    \"JOIN_ONE_TO_ONE\", \n",
    "#    \"KEEP_ALL\", \n",
    "#    r'functional_class \"Functional Classification\" true true false 4 Long 0 0,Min,#,routes.gdb\\sun_cloud_routes,functional_class,-1,-1', \n",
    "#    \"SHARE_A_LINE_SEGMENT_WITH\", None, ''\n",
    "#)\n",
    "arcpy.management.AddSpatialJoin(\n",
    "    \"sun_cloud_rout_PairwiseDisso\", \n",
    "    \"fc3\", \n",
    "    \"JOIN_ONE_TO_ONE\", \n",
    "    \"KEEP_ALL\", \n",
    "    '', \n",
    "    \"SHARE_A_LINE_SEGMENT_WITH\", None, ''\n",
    ")\n"
   ]
  },
  {
   "cell_type": "code",
   "execution_count": 115,
   "metadata": {},
   "outputs": [
    {
     "data": {
      "text/html": [
       "<div class='gpresult'><h2>Messages</h2><div id='messages' data-messages='[\"Start Time: Saturday, February 25, 2023 4:15:30 PM\",\"Succeeded at Saturday, February 25, 2023 4:15:34 PM (Elapsed Time: 4.04 seconds)\"]' data-show='true'><div id = 'default' /></div></div>"
      ],
      "text/plain": [
       "<Result 'Y:\\\\mag\\\\sun_cloud\\\\layers\\\\routes\\\\sun_cloud_routes.gdb\\\\fc4'>"
      ]
     },
     "execution_count": 115,
     "metadata": {},
     "output_type": "execute_result"
    }
   ],
   "source": [
    "# save the result\n",
    "arcpy.conversion.ExportFeatures(\n",
    "    \"sun_cloud_rout_PairwiseDisso\", \n",
    "    \"fc4\", \n",
    "    '', \n",
    "    \"NOT_USE_ALIAS\"\n",
    ")"
   ]
  },
  {
   "cell_type": "code",
   "execution_count": 116,
   "metadata": {},
   "outputs": [
    {
     "data": {
      "text/html": [
       "<div class='gpresult'><h2>Messages</h2><div id='messages' data-messages='[\"Start Time: Saturday, February 25, 2023 4:15:41 PM\",\"Succeeded at Saturday, February 25, 2023 4:15:41 PM (Elapsed Time: 0.10 seconds)\"]' data-show='true'><div id = 'default' /></div></div>"
      ],
      "text/plain": [
       "<Result 'fc4'>"
      ]
     },
     "execution_count": 116,
     "metadata": {},
     "output_type": "execute_result"
    }
   ],
   "source": [
    "# manually fix FC on a few routes - consistent 2\n",
    "arcpy.management.SelectLayerByAttribute(\n",
    "    \"fc4\", \n",
    "    \"NEW_SELECTION\", \n",
    "    \"\"\"RouteId IN (\n",
    "        '  U 060                       0 ',\n",
    "        '  U 060                         ',\n",
    "        '  S 085                       02',\n",
    "        '  S 085                        2',\n",
    "        '07  NORTHERN            PKWY  0 '\n",
    "    )\"\"\"\n",
    ")\n",
    "\n",
    "arcpy.management.CalculateField(\n",
    "    \"fc4\", \"federal_code\", \"2\", \n",
    "    \"PYTHON3\", '', \"TEXT\", \"NO_ENFORCE_DOMAINS\"\n",
    ")\n",
    "\n",
    "arcpy.management.SelectLayerByAttribute(\n",
    "    \"fc4\", \"CLEAR_SELECTION\", '', None\n",
    ")"
   ]
  },
  {
   "cell_type": "code",
   "execution_count": 117,
   "metadata": {
    "scrolled": true
   },
   "outputs": [],
   "source": [
    "# KEEP AND RENAME FIELDS\n",
    "working_layer = \"fc4\"\n",
    "\n",
    "system_fields = [arcpy.Describe(working_layer).OIDFieldName, 'Shape', 'geom', 'Shape_Length']\n",
    "\n",
    "current_fields = [f.name for f in arcpy.ListFields(working_layer) if not f.name in system_fields]\n",
    "\n",
    "\n",
    "# tuples of CurrentFieldName, target_field_name, Alias\n",
    "target_fields = [\n",
    "    ('RouteId', 'route_id', 'Route ID'),\n",
    "    ('federal_code', 'functional_class', 'Functional Classification')\n",
    "]\n",
    "\n",
    "delete_fields = [field for field in current_fields if not field in [a for a, b, c in target_fields]]\n",
    "\n",
    "# delete unused fields\n",
    "if delete_fields:\n",
    "    arcpy.management.DeleteField(working_layer, delete_fields)\n",
    "\n",
    "# add check if we're just changing case ... if so, double rename\n",
    "    \n",
    "for current_name, new_name, alias in target_fields:\n",
    "    # arcgis can't change capitalization ... a hacky workaround\n",
    "    if new_name.lower() == current_name.lower():\n",
    "        intermediate_name = current_name + \"1\"\n",
    "        arcpy.management.AlterField(working_layer, current_name, intermediate_name)\n",
    "        current_name = intermediate_name \n",
    "    arcpy.management.AlterField(working_layer, current_name, new_name, alias)"
   ]
  },
  {
   "cell_type": "code",
   "execution_count": 118,
   "metadata": {},
   "outputs": [
    {
     "data": {
      "text/html": [
       "<div class='gpresult'><h2>Messages</h2><div id='messages' data-messages='[\"Start Time: Saturday, February 25, 2023 4:17:37 PM\",\"Succeeded at Saturday, February 25, 2023 4:17:39 PM (Elapsed Time: 2.50 seconds)\"]' data-show='true'><div id = 'default' /></div></div>"
      ],
      "text/plain": [
       "<Result 'Y:\\\\mag\\\\sun_cloud\\\\layers\\\\routes\\\\routes.gdb\\\\routes'>"
      ]
     },
     "execution_count": 118,
     "metadata": {},
     "output_type": "execute_result"
    }
   ],
   "source": [
    "# add highway 87 back in\n",
    "arcpy.management.Merge(\n",
    "    r\"fc4;routes.gdb\\hwy_87_fix\", \n",
    "    r\"routes.gdb\\routes\", \n",
    "    r'route_id \"Route ID\" true true false 32 Text 0 0,First,#,fc4,route_id,0,32,routes.gdb\\hwy_87_fix,route_id,0,32;functional_class \"Functional Classification\" true true false 4 Long 0 0,First,#,fc4,functional_class,-1,-1,routes.gdb\\hwy_87_fix,functional_class,-1,-1;Shape_Length \"Shape_Length\" false true true 8 Double 0 0,First,#,fc4,Shape_Length,-1,-1,routes.gdb\\hwy_87_fix,Shape_Length,-1,-1', \n",
    "    \"NO_SOURCE_INFO\"\n",
    ")"
   ]
  },
  {
   "cell_type": "markdown",
   "metadata": {},
   "source": [
    "### Join Jurisdiction Boundaries"
   ]
  },
  {
   "cell_type": "code",
   "execution_count": null,
   "metadata": {},
   "outputs": [],
   "source": []
  }
 ],
 "metadata": {
  "kernelspec": {
   "display_name": "ArcGISPro",
   "language": "Python",
   "name": "python3"
  },
  "language_info": {
   "file_extension": ".py",
   "name": "python",
   "version": "3"
  }
 },
 "nbformat": 4,
 "nbformat_minor": 2
}
