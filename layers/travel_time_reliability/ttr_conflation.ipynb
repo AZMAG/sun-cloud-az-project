{
 "cells": [
  {
   "cell_type": "markdown",
   "metadata": {},
   "source": [
    "Conflate travel time reliability data to Sun Cloud routes."
   ]
  },
  {
   "cell_type": "markdown",
   "metadata": {},
   "source": [
    "Define workspace."
   ]
  },
  {
   "cell_type": "code",
   "execution_count": null,
   "metadata": {},
   "outputs": [],
   "source": [
    "import arcpy\n",
    "arcpy.env.overwriteOutput = True\n",
    "\n",
    "# authentication to access secured data\n",
    "from arcgis.gis import GIS\n",
    "from arcgis.features import FeatureLayer\n",
    "\n",
    "gis = GIS('pro')\n",
    "db = arcpy.env.workspace = './data/sun_cloud_ttr_revision2.gdb'\n",
    "source = 'inrix_2022'\n",
    "arcpy.Describe(db)"
   ]
  },
  {
   "cell_type": "markdown",
   "metadata": {},
   "source": [
    "Reusable functions."
   ]
  },
  {
   "cell_type": "code",
   "execution_count": null,
   "metadata": {},
   "outputs": [],
   "source": [
    "# save feature layer to db\n",
    "def save_fl(db, url, outname):\n",
    "    fl = FeatureLayer(url)\n",
    "    featureset = fl.query()\n",
    "    featureset.save(db, outname)\n",
    "\n",
    "# project in_data to to target_sr\n",
    "def project(in_data, target_sr, out_name):\n",
    "\n",
    "\n",
    "    in_sr = arcpy.Describe(in_data).spatialReference\n",
    "\n",
    "    tr = arcpy.ListTransformations (in_sr, target_sr)\n",
    "    datum_conversion = ''\n",
    "    if(len(tr)>0):\n",
    "        datum_conversion = arcpy.ListTransformations (in_sr, target_sr)[0]\n",
    "\n",
    "    arcpy.Project_management(\n",
    "        in_dataset = in_data, \n",
    "        out_dataset = out_name,\n",
    "        out_coor_system = target_sr,\n",
    "        transform_method = datum_conversion)\n",
    "# filter snapped points via fuzzy string match\n",
    "import re\n",
    "def strip_stop_words(x):\n",
    "# remove leading zeros\n",
    "    x =  x.lower()\n",
    "\n",
    "    stop_words = ['avenue', 'ave', \n",
    "            'boulevard', 'blvd', \n",
    "            'drive', 'dr', \n",
    "            'freeway', 'frwy', 'fwy',\n",
    "            'lane', 'ln',\n",
    "            'parkway', 'pkwy',  \n",
    "            'road', 'rd', \n",
    "            'route', 'rte',\n",
    "            'street', 'st', \n",
    "            'trail', 'tr',\n",
    "            'way',\n",
    "\n",
    "            'railroad', 'chn', 'drainage', 'lake', 'siphons', 'track', 'bnsf', \n",
    "            'place', 'pl', \n",
    "            'l', 'n', 's', 'e', 'w', 'irr', 'i', 'us', 'to', '-', 'from',\n",
    "            'sl', 'sr', 'loop', 'lp', 'frtg', \n",
    "            'sb', 'wb', 'eb', 'nb', 'direct', 'hov', 'ramp', 'n-w', 'w-s', 'n-e']\n",
    "            \n",
    "    x = re.split(r'\\'|\\s|;|,|/|-|\\(|\\)', x)\n",
    "    # print(x)\n",
    "    x = [y for y in x if y.lower() not in stop_words]\n",
    "    # clean_list = [n for n in x if n.strip()]\n",
    "    remove_zero = [item.lstrip('0') for item in x]\n",
    "    clean= [n for n in remove_zero if n.strip()]\n",
    "    return(clean)\n",
    "def string_match(str1, str2):\n",
    "    if str1 and str2:\n",
    "        rid = strip_stop_words(str1)\n",
    "        road_name = strip_stop_words(str2)\n",
    "        print(rid, road_name)\n",
    "        if(bool(set(rid) & set(road_name))) :\n",
    "\n",
    "            return \"match\"\n",
    "        else:\n",
    "\n",
    "            return \"non-match\"\n",
    "    else: \n",
    "        return 'undetermined'\n",
    "def delete_if(fc, query):\n",
    "    selected = arcpy.SelectLayerByAttribute_management(fc, 'NEW_SELECTION', query)\n",
    "    count = int(arcpy.GetCount_management(selected)[0])\n",
    "    print(count)\n",
    "    if(count>0):\n",
    "        print(\"deleting {} features\".format(count))\n",
    "        arcpy.DeleteFeatures_management(selected)\n",
    "\n",
    "    "
   ]
  },
  {
   "cell_type": "markdown",
   "metadata": {},
   "source": [
    "### Prepare the data."
   ]
  },
  {
   "cell_type": "markdown",
   "metadata": {},
   "source": [
    "Save the routes locally."
   ]
  },
  {
   "cell_type": "code",
   "execution_count": null,
   "metadata": {},
   "outputs": [],
   "source": [
    "routes_url = 'https://services6.arcgis.com/clPWQMwZfdWn4MQZ/ArcGIS/rest/services/Sun_Cloud_Routes/FeatureServer/92' \n",
    "\n",
    "save_fl(db, routes_url, 'sun_cloud_routes')"
   ]
  },
  {
   "cell_type": "markdown",
   "metadata": {},
   "source": [
    "Project data."
   ]
  },
  {
   "cell_type": "code",
   "execution_count": null,
   "metadata": {},
   "outputs": [],
   "source": [
    "target_sr = arcpy.SpatialReference(2223)\n",
    "project('sun_cloud_routes', target_sr, 'sun_cloud_routes_project')\n",
    "project('inrix_2021', target_sr, 'ttr_project')"
   ]
  },
  {
   "cell_type": "markdown",
   "metadata": {},
   "source": [
    "Delete the source segments with no geometry and no road name. Segements w/ no road name do not coincide with the sun cloud routes. "
   ]
  },
  {
   "cell_type": "code",
   "execution_count": null,
   "metadata": {},
   "outputs": [],
   "source": [
    "sql = \"Shape_Length = 0 or RoadName = ' '\"\n",
    "selection = arcpy.management.SelectLayerByAttribute('ttr_project', 'NEW_SELECTION', sql)\n",
    "\n",
    "cnt = int(arcpy.GetCount_management(selection).getOutput(0))\n",
    "print(cnt)\n",
    "if cnt>0 :\n",
    "    arcpy.DeleteFeatures_management(selection)"
   ]
  },
  {
   "cell_type": "markdown",
   "metadata": {},
   "source": [
    "Create end points from the source layer"
   ]
  },
  {
   "cell_type": "code",
   "execution_count": null,
   "metadata": {},
   "outputs": [],
   "source": [
    "arcpy.management.FeatureVerticesToPoints(\"ttr_project\", \"ttr_end_pts\", \"BOTH_ENDS\")\n",
    "\n",
    "# delete overlapping end points\n",
    "arcpy.management.DeleteIdentical(\"ttr_end_pts\", \"Shape\", None, 0)"
   ]
  },
  {
   "cell_type": "markdown",
   "metadata": {},
   "source": [
    "Snap end points to the routes."
   ]
  },
  {
   "cell_type": "code",
   "execution_count": null,
   "metadata": {},
   "outputs": [],
   "source": [
    "arcpy.edit.Snap(\"ttr_end_pts\", \"sun_cloud_routes_project EDGE '50 Feet'\")"
   ]
  },
  {
   "cell_type": "markdown",
   "metadata": {},
   "source": [
    "Split destination to match the source segments."
   ]
  },
  {
   "cell_type": "code",
   "execution_count": null,
   "metadata": {},
   "outputs": [],
   "source": [
    "fc=\"routes_split\"\n",
    "arcpy.management.SplitLineAtPoint(\"sun_cloud_routes_project\", \"ttr_end_pts\", fc, \"50 Feet\")"
   ]
  },
  {
   "cell_type": "markdown",
   "metadata": {},
   "source": [
    "Add new fields to the routes layer."
   ]
  },
  {
   "cell_type": "code",
   "execution_count": null,
   "metadata": {},
   "outputs": [],
   "source": [
    "# add fields\n",
    "fc=\"routes_split\"\n",
    "fields = [\n",
    "['xd_segment_id', 'TEXT', 'XD Segment ID'],\n",
    "['road_name', 'TEXT', 'Road Name'],\n",
    "['miles', 'DOUBLE', 'Miles'],\n",
    "['free_flow_speed', 'DOUBLE', 'Free Flow Speed'],\n",
    "['average_speed', 'DOUBLE', 'Average Speed'],\n",
    "['peak_lottr', 'DOUBLE', 'Peak Period LOTTR'],\n",
    "['daily_delay', 'DOUBLE', 'Daily Delay (Minutes)'],\n",
    "['peak_tti', 'DOUBLE', 'Peak Period TTI'],\n",
    "['peak_pti', 'DOUBLE', 'Peak Period PTI'],\n",
    "['notes','TEXT']]\n",
    "\n",
    "arcpy.AddFields_management(fc, fields)\n"
   ]
  },
  {
   "cell_type": "markdown",
   "metadata": {},
   "source": [
    "### Conflation - Match ID\n",
    "- For each segment where road_name is null, create a buffer.\n",
    "- Intersect the buffer with the TTR source layer. \n",
    "  - Validate routeId vs. road namend functional class.\n",
    "  - Delete out the bad matches. \n",
    "  - Find the longest match if there are multiple matches for a segment. \n",
    "- Join the routes layer to the longest valid match and attribute the key fields.\n",
    "  \n",
    "Review the result and repeat the process while increasing the buffer distance. "
   ]
  },
  {
   "cell_type": "markdown",
   "metadata": {},
   "source": [
    "Create a buffer if route name is null. "
   ]
  },
  {
   "cell_type": "code",
   "execution_count": null,
   "metadata": {},
   "outputs": [],
   "source": [
    "# buffer distance in meters\n",
    "\n",
    "query_string = \"road_name is null\"\n",
    "dist =  75# feet\n",
    "out_buffer = \"{0}_{1}m\".format('routes_split', dist)\n",
    "\n",
    "arcpy.Delete_management('null_lyr')\n",
    "arcpy.MakeFeatureLayer_management('routes_split', 'null_lyr', query_string)\n",
    "\n",
    "arcpy.analysis.Buffer(\"null_lyr\", out_buffer, \"{} Feet\".format(dist), \"FULL\", \"FLAT\", \"NONE\", None, \"PLANAR\")"
   ]
  },
  {
   "cell_type": "markdown",
   "metadata": {},
   "source": [
    "Intersect the buffer with the source layer."
   ]
  },
  {
   "cell_type": "code",
   "execution_count": null,
   "metadata": {},
   "outputs": [],
   "source": [
    "# create a intersect table\n",
    "intersect = 'intersect'\n",
    "source = 'ttr_project'\n",
    "arcpy.analysis.PairwiseIntersect(\n",
    "    in_features=\"{0};{1}\".format(out_buffer, source),\n",
    "    out_feature_class=intersect,\n",
    "    join_attributes=\"ALL\",\n",
    "    cluster_tolerance=None,\n",
    "    output_type=\"INPUT\"\n",
    ")"
   ]
  },
  {
   "cell_type": "markdown",
   "metadata": {},
   "source": [
    "Add a field to hold string match result. "
   ]
  },
  {
   "cell_type": "code",
   "execution_count": null,
   "metadata": {},
   "outputs": [],
   "source": [
    "arcpy.AddField_management('intersect', 'string_match', 'text')"
   ]
  },
  {
   "cell_type": "markdown",
   "metadata": {},
   "source": [
    "Pare down the the intersect.\n",
    "- Delete intersect segments shorter than 2ft."
   ]
  },
  {
   "cell_type": "code",
   "execution_count": null,
   "metadata": {},
   "outputs": [],
   "source": [
    "selected = arcpy.management.SelectLayerByAttribute(\n",
    "    in_layer_or_view=\"intersect\",\n",
    "    selection_type=\"NEW_SELECTION\",\n",
    "    where_clause=\"Shape_Length < 2\",\n",
    "    invert_where_clause=None\n",
    ")\n",
    "count = int(arcpy.GetCount_management(selected)[0])\n",
    "print(count)\n",
    "\n",
    "if count>0:\n",
    "    arcpy.DeleteFeatures_management(selected)"
   ]
  },
  {
   "cell_type": "markdown",
   "metadata": {},
   "source": [
    "String match -  mark the rows if names don't match."
   ]
  },
  {
   "cell_type": "code",
   "execution_count": null,
   "metadata": {},
   "outputs": [],
   "source": [
    "import collections\n",
    "fc = 'intersect'\n",
    "fields = ['route_id', 'RoadName', 'Shape_Length', 'notes']\n",
    "\n",
    "custom_code = \"\"\"\n",
    "import collections\n",
    "def string_match(f0, f1):\n",
    "    a = (strip_stop_words(f0))\n",
    "    b = (strip_stop_words(f1))\n",
    "    string_match = bool(set(a) & set(b))\n",
    "    if string_match == False:\n",
    "        return \"delete\"\n",
    "    else:\n",
    "        return \"keep\"\n",
    "\"\"\"\n",
    "\n",
    "\n",
    "arcpy.management.CalculateField(\n",
    "    in_table=fc,\n",
    "    field=\"notes\",\n",
    "    expression=\"string_match(!route_id!,!RoadName!)\",\n",
    "    expression_type=\"PYTHON3\",\n",
    "    code_block=custom_code,\n",
    "    field_type=\"TEXT\",\n",
    "    enforce_domains=\"NO_ENFORCE_DOMAINS\"\n",
    ")  \n"
   ]
  },
  {
   "cell_type": "markdown",
   "metadata": {},
   "source": [
    "Note if there are more than one match for SC routes ID."
   ]
  },
  {
   "cell_type": "code",
   "execution_count": null,
   "metadata": {},
   "outputs": [],
   "source": [
    "orig_fids_all = [r[0] for r in arcpy.da.SearchCursor(fc, ['ORIG_FID'])]"
   ]
  },
  {
   "cell_type": "code",
   "execution_count": null,
   "metadata": {},
   "outputs": [],
   "source": [
    "\n",
    "fc = 'intersect'\n",
    "fields = ['route_id', 'RoadName', 'Shape_Length', 'notes']\n",
    "\n",
    "\n",
    "\n",
    "custom_code = \"\"\"\n",
    "\n",
    "def is_unique(field):\n",
    "    if orig_fids_all.count(field) == 1:\n",
    "        return \"unique\"\n",
    "    else:\n",
    "        return \"dupe\"\n",
    "\n",
    "\"\"\"\n",
    "arcpy.management.CalculateField(\n",
    "    in_table=fc,\n",
    "    field=\"is_unique\",\n",
    "    expression=\"is_unique(!ORIG_FID!)\",\n",
    "    expression_type=\"PYTHON3\",\n",
    "    code_block=custom_code,\n",
    "    field_type=\"TEXT\",\n",
    "    enforce_domains=\"NO_ENFORCE_DOMAINS\"\n",
    ")"
   ]
  },
  {
   "cell_type": "markdown",
   "metadata": {},
   "source": [
    "- A single spatial match: keep\n",
    "- Multiple spatial match: keep if string match is true"
   ]
  },
  {
   "cell_type": "code",
   "execution_count": null,
   "metadata": {},
   "outputs": [],
   "source": [
    "delete_if('intersect', \"notes = 'delete' And is_unique = 'dupe'\")"
   ]
  },
  {
   "cell_type": "code",
   "execution_count": null,
   "metadata": {},
   "outputs": [],
   "source": [
    "arcpy.management.DeleteIdentical(\n",
    "    in_dataset=\"intersect\",\n",
    "    fields=\"ORIG_FID;Shape_Length\",\n",
    "    xy_tolerance=None,\n",
    "    z_tolerance=0\n",
    ")"
   ]
  },
  {
   "cell_type": "markdown",
   "metadata": {},
   "source": [
    "Leave the longest segments for each orig oid."
   ]
  },
  {
   "cell_type": "code",
   "execution_count": null,
   "metadata": {},
   "outputs": [],
   "source": [
    "fc='intersect'\n",
    "orig_fids_all = [r[0] for r in arcpy.da.SearchCursor(fc, ['ORIG_FID'])]\n",
    "unique_ids = unique_values('intersect', 'ORIG_FID')\n",
    "dupe_ids = []\n",
    "for id in unique_ids:   \n",
    "    if orig_fids_all.count(id)>1:\n",
    "        dupe_ids.append(id)\n",
    "print(len(dupe_ids))"
   ]
  },
  {
   "cell_type": "code",
   "execution_count": null,
   "metadata": {},
   "outputs": [],
   "source": [
    "fc='intersect'\n",
    "\n",
    "# collect ids of multiple matches\n",
    "orig_fids_all = [r[0] for r in arcpy.da.SearchCursor(fc, ['ORIG_FID'])]\n",
    "unique_ids = unique_values('intersect', 'ORIG_FID')\n",
    "dupe_ids = []\n",
    "for id in unique_ids:   \n",
    "    if orig_fids_all.count(id)>1:\n",
    "        dupe_ids.append(id)\n",
    "print(len(dupe_ids))\n",
    "    \n",
    "# For Each OID, leave the longest segment and delete the rest\n",
    "max_length_pair = {}\n",
    "fields = ['Shape_Length']\n",
    "for oid in dupe_ids:\n",
    "    print('Processing oid = {}'.format(oid))\n",
    "    _query = 'ORIG_FID={}'.format(oid)\n",
    "    arcpy.MakeFeatureLayer_management(intersect, 'intersect_lyr')\n",
    "\n",
    "    # delete segments smaller than the max length\n",
    "    candidates = [row for row in arcpy.da.SearchCursor(\n",
    "            in_table='intersect_lyr', \n",
    "            field_names=['OID@', 'Shape_Length'],\n",
    "            where_clause=_query,\n",
    "            sql_clause=('', 'ORDER BY Shape_Length DESC'))]\n",
    "\n",
    "    # oid of the longest segment \n",
    "    max_oid = (candidates[0][0])\n",
    "    print(max_oid)\n",
    "    _query = 'OBJECTID = {}'.format(max_oid)\n",
    "    # _query = 'ORIG_FID = {} and Shape_Length <{}'.format(oid, max_len)\n",
    "\n",
    "    with arcpy.da.UpdateCursor('intersect', ['notes'], _query) as cur:\n",
    "        for row in cur:\n",
    "            row[0] = 'long'\n",
    "            cur.updateRow(row)"
   ]
  },
  {
   "cell_type": "markdown",
   "metadata": {},
   "source": [
    "Export out the long segments. "
   ]
  },
  {
   "cell_type": "code",
   "execution_count": null,
   "metadata": {},
   "outputs": [],
   "source": [
    "arcpy.conversion.ExportFeatures(\n",
    "    in_features=\"intersect\",\n",
    "    out_features=\"long_intersects\",\n",
    "    where_clause=\"notes='long'\"\n",
    ")"
   ]
  },
  {
   "cell_type": "markdown",
   "metadata": {},
   "source": [
    "Run the identify dupes code and delete the 'dupe'."
   ]
  },
  {
   "cell_type": "markdown",
   "metadata": {},
   "source": [
    "Join the tables and attribute the ID. "
   ]
  },
  {
   "cell_type": "code",
   "execution_count": null,
   "metadata": {},
   "outputs": [],
   "source": [
    "join_tb = 'intersect'\n",
    "\n",
    "joined = arcpy.management.AddJoin(\n",
    "    in_layer_or_view=\"routes_split\",\n",
    "    in_field=\"OBJECTID\",\n",
    "    join_table=\"{}\".format(join_tb),\n",
    "    join_field=\"ORIG_FID\",\n",
    "    join_type=\"KEEP_COMMON\",\n",
    "    index_join_fields=\"INDEX_JOIN_FIELDS\"\n",
    ")\n",
    "\n",
    "arcpy.management.CalculateField(\n",
    "    in_table=joined,\n",
    "    field=\"routes_split.xd_segment_id\",\n",
    "    expression=\"!{}.XDSegID!\".format(join_tb),\n",
    "    expression_type=\"PYTHON3\",\n",
    "    code_block=\"\",\n",
    "    field_type=\"TEXT\",\n",
    "    enforce_domains=\"NO_ENFORCE_DOMAINS\"\n",
    ")"
   ]
  },
  {
   "cell_type": "code",
   "execution_count": null,
   "metadata": {},
   "outputs": [],
   "source": [
    "join_tb = 'long_intersects'\n",
    "\n",
    "joined = arcpy.management.AddJoin(\n",
    "    in_layer_or_view=\"routes_split\",\n",
    "    in_field=\"OBJECTID\",\n",
    "    join_table=\"{}\".format(join_tb),\n",
    "    join_field=\"ORIG_FID\",\n",
    "    join_type=\"KEEP_COMMON\",\n",
    "    index_join_fields=\"INDEX_JOIN_FIELDS\"\n",
    ")\n",
    "\n",
    "arcpy.management.CalculateField(\n",
    "    in_table=joined,\n",
    "    field=\"routes_split.xd_segment_id\",\n",
    "    expression=\"!{}.XDSegID!\".format(join_tb),\n",
    "    expression_type=\"PYTHON3\",\n",
    "    code_block=\"\",\n",
    "    field_type=\"TEXT\",\n",
    "    enforce_domains=\"NO_ENFORCE_DOMAINS\"\n",
    ")"
   ]
  },
  {
   "cell_type": "markdown",
   "metadata": {},
   "source": [
    "In cases where multiple candidates exist for a segment match but name values aren't available, use below method to find the link.\n",
    "\n",
    "- Nullify where xd_segment_id IS NOT NULL And Shape_Length < 50.022172038305\n"
   ]
  },
  {
   "cell_type": "code",
   "execution_count": null,
   "metadata": {},
   "outputs": [],
   "source": [
    "def fill_short(distance, field, fc):\n",
    "    \n",
    "    arcpy.Delete_management('short_lyr')\n",
    "    arcpy.Delete_management('full_lyr')\n",
    "    _query = 'Shape_Length <{0} and {1} is null'.format(distance, field)\n",
    "    print(_query)\n",
    "    arcpy.management.MakeFeatureLayer(fc, 'short_lyr', _query)\n",
    "    print(arcpy.GetCount_management('short_lyr')[0])\n",
    "\n",
    "    arcpy.management.MakeFeatureLayer(fc, 'full_lyr', '{} is not null'.format(field))\n",
    "\n",
    "\n",
    "    fields = ['SHAPE@', 'OID@', 'route_id', field]\n",
    "\n",
    "    with arcpy.da.UpdateCursor('short_lyr', fields) as cursor:\n",
    "        for row in cursor:\n",
    "            geom = row[0]\n",
    "            # select full layer that touches boundary of short layer.\n",
    "            selected = arcpy.SelectLayerByLocation_management('full_lyr', 'BOUNDARY_TOUCHES', geom, '', 'NEW_SELECTION')\n",
    "            sql=\"route_id = '{}'\".format(row[2])\n",
    "            # print(sql)\n",
    "            # subselect where route_id matches. \n",
    "            sub_selection = arcpy.SelectLayerByAttribute_management(selected, 'SUBSET_SELECTION', sql)\n",
    "\n",
    "            sid = [r[0] for r in arcpy.da.SearchCursor(sub_selection, [field])]\n",
    "            # notes = [r[0] for r in arcpy.da.SearchCursor(sub_selection, ['notes'])]\n",
    "            # print(sid)\n",
    "            # if there are multiple segments that meet the condition, just grab the first one.\n",
    "            if len(sid)>0:\n",
    "                print(sid)\n",
    "                row[3]=sid[0]\n",
    "            \n",
    "            cursor.updateRow(row)"
   ]
  },
  {
   "cell_type": "code",
   "execution_count": null,
   "metadata": {},
   "outputs": [],
   "source": [
    "fill_short(50, 'xd_segment_id', 'routes_split')"
   ]
  },
  {
   "cell_type": "markdown",
   "metadata": {},
   "source": [
    "Run the \"Transfer Attributes\" tool (75 search distance).  Attribute the ID where name comparison is not suitable. (13 minutes)"
   ]
  },
  {
   "cell_type": "code",
   "execution_count": null,
   "metadata": {},
   "outputs": [],
   "source": [
    "# takes ~ 15 minute\n",
    "arcpy.edit.TransferAttributes(\n",
    "    source_features=\"ttr_project\",\n",
    "    target_features=\"routes_split\",\n",
    "    transfer_fields=\"XDSegID\",\n",
    "    search_distance=\"75 Feet\",\n",
    "    match_fields=None,\n",
    "    out_match_table=None,\n",
    "    transfer_rule_fields=None\n",
    ")"
   ]
  },
  {
   "cell_type": "code",
   "execution_count": null,
   "metadata": {},
   "outputs": [],
   "source": [
    "# select the new match\n",
    "arcpy.management.SelectLayerByAttribute(\n",
    "    in_layer_or_view=\"routes_split\",\n",
    "    selection_type=\"NEW_SELECTION\",\n",
    "    where_clause=\"xd_segment_id IS NULL And XDSegID_1 IS NOT NULL\",\n",
    "    invert_where_clause=None\n",
    ")"
   ]
  },
  {
   "cell_type": "code",
   "execution_count": null,
   "metadata": {},
   "outputs": [],
   "source": [
    "# transfer the ID\n",
    "arcpy.management.CalculateField(\n",
    "    in_table=\"routes_split\",\n",
    "    field=\"xd_segment_id\",\n",
    "    expression=\"!XDSegID_1!\",\n",
    "    expression_type=\"PYTHON3\",\n",
    "    code_block=\"\",\n",
    "    field_type=\"TEXT\",\n",
    "    enforce_domains=\"NO_ENFORCE_DOMAINS\"\n",
    ")"
   ]
  },
  {
   "cell_type": "markdown",
   "metadata": {},
   "source": [
    "Run fill short again. "
   ]
  },
  {
   "cell_type": "code",
   "execution_count": null,
   "metadata": {},
   "outputs": [],
   "source": [
    "fill_short(50, 'xd_segment_id', 'routes_split')"
   ]
  },
  {
   "cell_type": "markdown",
   "metadata": {},
   "source": [
    "Identify Sun Cloud segments with no source."
   ]
  },
  {
   "cell_type": "code",
   "execution_count": null,
   "metadata": {},
   "outputs": [],
   "source": [
    "arcpy.gapro.CreateBuffers(\n",
    "    input_layer=\"ttr_project\",\n",
    "    out_feature_class=\"ttr_project_75\",\n",
    "    method=\"PLANAR\",\n",
    "    buffer_type=\"DISTANCE\",\n",
    "    buffer_field=None,\n",
    "    buffer_distance=\"200 Feet\",\n",
    "    buffer_expression=None,\n",
    "    dissolve_option=\"NONE\",\n",
    "    dissolve_fields=None,\n",
    "    summary_fields=None,\n",
    "    multipart=None\n",
    ")"
   ]
  },
  {
   "cell_type": "code",
   "execution_count": null,
   "metadata": {},
   "outputs": [],
   "source": [
    "# select segments not within the buffer\n",
    "selected = arcpy.management.SelectLayerByLocation(\n",
    "    in_layer=\"routes_split\",\n",
    "    overlap_type=\"WITHIN\",\n",
    "    select_features=\"ttr_project_75\",\n",
    "    search_distance=None,\n",
    "    selection_type=\"NEW_SELECTION\",\n",
    "    invert_spatial_relationship=\"INVERT\"\n",
    ")"
   ]
  },
  {
   "cell_type": "code",
   "execution_count": null,
   "metadata": {},
   "outputs": [],
   "source": [
    "# sub-select \n",
    "sub_sel = arcpy.management.SelectLayerByAttribute(\n",
    "    in_layer_or_view=selected,\n",
    "    selection_type=\"SUBSET_SELECTION\",\n",
    "    where_clause=\"xd_segment_id IS NULL\",\n",
    "    invert_where_clause=None\n",
    ")"
   ]
  },
  {
   "cell_type": "code",
   "execution_count": null,
   "metadata": {},
   "outputs": [],
   "source": [
    "# attribute as 'no_source'\n",
    "arcpy.management.CalculateField(\n",
    "    in_table=sub_sel,\n",
    "    field=\"xd_segment_id\",\n",
    "    expression=\"'no_source'\",\n",
    "    expression_type=\"PYTHON3\",\n",
    "    code_block=\"\",\n",
    "    field_type=\"TEXT\",\n",
    "    enforce_domains=\"NO_ENFORCE_DOMAINS\"\n",
    ")"
   ]
  },
  {
   "cell_type": "code",
   "execution_count": null,
   "metadata": {},
   "outputs": [],
   "source": [
    "fill_short(202, 'xd_segment_id', 'routes_split')"
   ]
  },
  {
   "cell_type": "markdown",
   "metadata": {},
   "source": [
    "Review the intersections."
   ]
  },
  {
   "cell_type": "code",
   "execution_count": null,
   "metadata": {},
   "outputs": [],
   "source": [
    "route_raw = 'sun_cloud_routes_project'\n",
    "arcpy.management.UnsplitLine(route_raw, \"unsplit_route\")"
   ]
  },
  {
   "cell_type": "code",
   "execution_count": null,
   "metadata": {},
   "outputs": [],
   "source": [
    "arcpy.analysis.Intersect(\"sun_cloud_routes_project\", \"major_intersection\", \"ALL\", None, \"POINT\")"
   ]
  },
  {
   "cell_type": "code",
   "execution_count": null,
   "metadata": {},
   "outputs": [],
   "source": [
    "arcpy.management.MultipartToSinglepart(\"major_intersection\", \"major_intersection_single\")"
   ]
  },
  {
   "cell_type": "markdown",
   "metadata": {},
   "source": [
    "Check the intersections points and verify match link is correct. "
   ]
  },
  {
   "cell_type": "markdown",
   "metadata": {},
   "source": [
    "### Conflation: Transfer key attributes."
   ]
  },
  {
   "cell_type": "markdown",
   "metadata": {},
   "source": [
    "Source data calculations."
   ]
  },
  {
   "cell_type": "code",
   "execution_count": null,
   "metadata": {},
   "outputs": [],
   "source": [
    "# daily_delay = sum (FF_DelayAM, FF_DelayMid, FF_DelayPM)\n",
    "arcpy.management.CalculateField(\n",
    "    in_table=\"ttr_project\",\n",
    "    field=\"daily_delay\",\n",
    "    expression=\"!FF_DelayAM!+!FF_DelayMid!+!FF_DelayPM!\",\n",
    "    expression_type=\"PYTHON3\",\n",
    "    code_block=\"\",\n",
    "    field_type=\"DOUBLE\",\n",
    "    enforce_domains=\"NO_ENFORCE_DOMAINS\"\n",
    ")"
   ]
  },
  {
   "cell_type": "code",
   "execution_count": null,
   "metadata": {},
   "outputs": [],
   "source": [
    "# peak_tti = max(TTI_AM, TTI_MID, TTI_PM)\n",
    "\n",
    "arcpy.management.CalculateField(\n",
    "    in_table=\"ttr_project\",\n",
    "    field=\"peak_tti\",\n",
    "    expression=\"max(!TTI_AM!, !TTI_MID!, !TTI_PM!)\",\n",
    "    expression_type=\"PYTHON3\",\n",
    "    code_block=\"\",\n",
    "    field_type=\"DOUBLE\",\n",
    "    enforce_domains=\"NO_ENFORCE_DOMAINS\"\n",
    ")"
   ]
  },
  {
   "cell_type": "code",
   "execution_count": null,
   "metadata": {},
   "outputs": [],
   "source": [
    "# peak_pti = max(!PTI_AM!, !PTI_MID!, !PTI_PM!)\n",
    "arcpy.management.CalculateField(\n",
    "    in_table=\"ttr_project\",\n",
    "    field=\"peak_pti\",\n",
    "    expression=\"max(!PTI_AM!, !PTI_MID!, !PTI_PM!)\",\n",
    "    expression_type=\"PYTHON3\",\n",
    "    code_block=\"\",\n",
    "    field_type=\"DOUBLE\",\n",
    "    enforce_domains=\"NO_ENFORCE_DOMAINS\"\n",
    ")\n"
   ]
  },
  {
   "cell_type": "markdown",
   "metadata": {},
   "source": [
    "Join by ID and calculcate fields. "
   ]
  },
  {
   "cell_type": "code",
   "execution_count": null,
   "metadata": {},
   "outputs": [],
   "source": [
    "joined = arcpy.management.AddJoin(\n",
    "    in_layer_or_view=\"routes_split\",\n",
    "    in_field=\"xd_segment_id\",\n",
    "    join_table=\"ttr_project\",\n",
    "    join_field=\"XDSegID\",\n",
    "    join_type=\"KEEP_COMMON\",\n",
    "    index_join_fields=\"INDEX_JOIN_FIELDS\"\n",
    ")"
   ]
  },
  {
   "cell_type": "code",
   "execution_count": null,
   "metadata": {},
   "outputs": [],
   "source": [
    "[f.name for f in arcpy.ListFields(joined)]"
   ]
  },
  {
   "cell_type": "code",
   "execution_count": null,
   "metadata": {},
   "outputs": [],
   "source": [
    "key_fields = [('road_name', 'RoadName'),\n",
    "('miles', 'Miles'),\n",
    "('free_flow_speed', 'FF85'),\n",
    "('average_speed', 'SpeedAVG'),\n",
    "('peak_lottr', 'WORST_LOTTR'),\n",
    "('daily_delay', 'daily_delay'),\n",
    "('peak_tti', 'peak_tti'),\n",
    "('peak_pti', 'peak_pti')]"
   ]
  },
  {
   "cell_type": "markdown",
   "metadata": {},
   "source": [
    "Calculate all key values."
   ]
  },
  {
   "cell_type": "code",
   "execution_count": null,
   "metadata": {},
   "outputs": [],
   "source": [
    "# transfer over all the key field values\n",
    "destination = 'routes_split'\n",
    "source = 'ttr_project'\n",
    "for destination_field, source_field in key_fields:\n",
    "    # print(destination_field, source_field)\n",
    "    arcpy.management.CalculateField(\n",
    "    in_table=joined,\n",
    "    field=\"{0}.{1}\".format(destination, destination_field),\n",
    "    expression=\"!{0}.{1}!\".format(source, source_field),\n",
    "    expression_type=\"PYTHON3\")"
   ]
  },
  {
   "cell_type": "markdown",
   "metadata": {},
   "source": [
    "### Clean up."
   ]
  },
  {
   "cell_type": "markdown",
   "metadata": {},
   "source": [
    "Decode the functional class."
   ]
  },
  {
   "cell_type": "code",
   "execution_count": null,
   "metadata": {},
   "outputs": [],
   "source": [
    "alter_fields = [\n",
    "    ('functional_class', 'functional_classification_code', 'Functional Classification Code'),\n",
    "]\n",
    "fc = 'routes_split'\n",
    "for current, new, alias in alter_fields:\n",
    "    arcpy.management.AlterField(\n",
    "        in_table=fc,\n",
    "        field=current, \n",
    "        new_field_name=new, \n",
    "        new_field_alias=alias)"
   ]
  },
  {
   "cell_type": "code",
   "execution_count": null,
   "metadata": {},
   "outputs": [],
   "source": [
    "fc = 'routes_split'\n",
    "fc_dict = {\n",
    "    1 : 'Interstate',\n",
    "    2 : 'Other Freeways and Expressways',\n",
    "    3 : 'Other Principal Arterial',\n",
    "    4 : 'Minor Arterial',\n",
    "    5 : 'Major Collector',\n",
    "    6 : 'Minor Collector',\n",
    "    7:  'Local'}\n",
    "\n",
    "\n",
    "arcpy.CalculateField_management(\n",
    "    in_table=fc,\n",
    "    field=\"functional_classification\",\n",
    "    expression=\"fc_dict.get(!functional_classification_code!)\",\n",
    "    expression_type=\"PYTHON3\",\n",
    "    field_type='TEXT'\n",
    ")"
   ]
  },
  {
   "cell_type": "code",
   "execution_count": null,
   "metadata": {},
   "outputs": [],
   "source": [
    "[f.name for f in arcpy.ListFields(fc)]"
   ]
  },
  {
   "cell_type": "markdown",
   "metadata": {},
   "source": [
    "Delete unused fields."
   ]
  },
  {
   "cell_type": "code",
   "execution_count": null,
   "metadata": {},
   "outputs": [],
   "source": [
    "final_fields = ['route_id',\n",
    " 'functional_classification_code',\n",
    " 'Shape_Length',\n",
    " 'xd_segment_id',\n",
    " 'road_name',\n",
    " 'miles',\n",
    " 'free_flow_speed',\n",
    " 'average_speed',\n",
    " 'peak_lottr',\n",
    " 'daily_delay',\n",
    " 'peak_tti',\n",
    " 'peak_pti',\n",
    " 'functional_classification']\n",
    "req_fields = [f.name for f in arcpy.ListFields(fc) if f.required == True] \n",
    "final_fields = final_fields + req_fields\n",
    "\n",
    "all_fields = [f.name for f in arcpy.ListFields(fc)]\n",
    "delete_fields = (set(final_fields) ^ set(all_fields))\n",
    "delete_fields\n"
   ]
  },
  {
   "cell_type": "code",
   "execution_count": 62,
   "metadata": {},
   "outputs": [
    {
     "name": "stdout",
     "output_type": "stream",
     "text": [
      "XDSegID_1\n",
      "ORIG_SEQ\n",
      "type\n",
      "notes\n",
      "ORIG_FID\n",
      "XDSegID\n"
     ]
    }
   ],
   "source": [
    "for f in delete_fields:\n",
    "    print(f)\n",
    "    arcpy.management.DeleteField(fc, f)"
   ]
  },
  {
   "cell_type": "code",
   "execution_count": null,
   "metadata": {},
   "outputs": [],
   "source": [
    "arcpy.management.UnsplitLine(\"\", \"sun_cloud_travel_time\", \"route_id;functional_class;road_name;miles;free_flow_speed;average_speed;peak_lottr;daily_delay;peak_tti;peak_pti;xd_segment_id\", None, '')"
   ]
  }
 ],
 "metadata": {
  "kernelspec": {
   "display_name": "Python 3.9.16 ('arcgispro-py3-clone-dev')",
   "language": "python",
   "name": "python3"
  },
  "language_info": {
   "codemirror_mode": {
    "name": "ipython",
    "version": 3
   },
   "file_extension": ".py",
   "mimetype": "text/x-python",
   "name": "python",
   "nbconvert_exporter": "python",
   "pygments_lexer": "ipython3",
   "version": "3.9.16"
  },
  "orig_nbformat": 4,
  "vscode": {
   "interpreter": {
    "hash": "a4c764ea2bf24b1e69818dfba780d2c08c53d1474b8e32af3000e5573643d123"
   }
  }
 },
 "nbformat": 4,
 "nbformat_minor": 2
}
