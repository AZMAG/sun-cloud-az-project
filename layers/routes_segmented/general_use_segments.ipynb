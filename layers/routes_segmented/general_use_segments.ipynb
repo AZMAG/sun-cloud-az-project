{
 "cells": [
  {
   "cell_type": "markdown",
   "metadata": {
    "collapsed": false,
    "pycharm": {
     "name": "#%% md\n"
    }
   },
   "source": [
    "# Create segments for general use."
   ]
  },
  {
   "cell_type": "markdown",
   "metadata": {
    "collapsed": false,
    "pycharm": {
     "name": "#%% md\n"
    }
   },
   "source": [
    "Define workspace. "
   ]
  },
  {
   "cell_type": "code",
   "execution_count": 1,
   "metadata": {
    "collapsed": false,
    "pycharm": {
     "name": "#%%\n"
    }
   },
   "outputs": [],
   "source": [
    "# Define workspace\n",
    "import arcpy\n",
    "import os\n",
    "\n",
    "# fgdb in the `data` folder.\n",
    "db = arcpy.env.workspace = r\"C:\\Users\\AhjungKim\\Documents\\ArcGIS\\Projects\\sun_cloud_pro\\general_segments.gdb\"\n",
    "arcpy.env.overwriteOutput = True\n",
    "\n",
    "\n",
    "distance = 5\n"
   ]
  },
  {
   "cell_type": "markdown",
   "metadata": {},
   "source": [
    "Reusable functions."
   ]
  },
  {
   "cell_type": "code",
   "execution_count": 2,
   "metadata": {},
   "outputs": [],
   "source": [
    "from arcgis.gis import GIS\n",
    "gis = GIS('pro')\n",
    "from arcgis.features import FeatureLayer\n",
    "\n",
    "# save feature layer to db\n",
    "def save_fl(db, url, outname):\n",
    "    fl = FeatureLayer(url)\n",
    "    featureset = fl.query()\n",
    "    featureset.save(db, outname)\n",
    "\n",
    "# project in_data to match the target_data\n",
    "\n",
    "def project(in_data, target_data, out_name):\n",
    "    #TODO: do not hardcode this\n",
    "    target_data = 'PM3_For_HPMS_2_ExportFeature'\n",
    "\n",
    "    in_sr = arcpy.Describe(in_data).spatialReference\n",
    "    target_sr = arcpy.Describe(target_data).spatialReference\n",
    "   \n",
    "    if len(arcpy.ListTransformations (in_sr, target_sr))>0:\n",
    "        datum_conversion = arcpy.ListTransformations (in_sr, target_sr)[0]\n",
    "    else: \n",
    "        datum_conversion = ''\n",
    "\n",
    "\n",
    "\n",
    "    arcpy.Project_management(\n",
    "        in_dataset = in_data, \n",
    "        out_dataset = out_name,\n",
    "        out_coor_system = target_sr,\n",
    "        transform_method = datum_conversion)"
   ]
  },
  {
   "cell_type": "markdown",
   "metadata": {
    "collapsed": false,
    "pycharm": {
     "name": "#%% md\n"
    }
   },
   "source": [
    "Save the feature layers locally"
   ]
  },
  {
   "cell_type": "code",
   "execution_count": 3,
   "metadata": {
    "collapsed": false,
    "pycharm": {
     "name": "#%%\n"
    }
   },
   "outputs": [],
   "source": [
    "routes_url = 'https://services6.arcgis.com/clPWQMwZfdWn4MQZ/arcgis/rest/services/Sun_Cloud_Routes/FeatureServer/92' \n",
    "\n",
    "save_fl(db, routes_url, 'sun_cloud_routes')\n"
   ]
  },
  {
   "cell_type": "markdown",
   "metadata": {},
   "source": [
    "Project the data."
   ]
  },
  {
   "cell_type": "code",
   "execution_count": 4,
   "metadata": {},
   "outputs": [],
   "source": [
    "# project in_data to match the target_data\n",
    "\n",
    "def project(in_data, target_sr, out_name):\n",
    "\n",
    "    in_sr = arcpy.Describe(in_data).spatialReference\n",
    "    print(in_sr.name)\n",
    "    tr = arcpy.ListTransformations (in_sr, target_sr)\n",
    "    print(tr)\n",
    "    if(len(tr)>0):\n",
    "        datum_conversion = arcpy.ListTransformations (in_sr, target_sr)[0]\n",
    "\n",
    "        arcpy.Project_management(\n",
    "        in_dataset = in_data, \n",
    "        out_dataset = out_name,\n",
    "        out_coor_system = target_sr,\n",
    "        transform_method = datum_conversion)\n",
    "    else:\n",
    "        arcpy.FeatureClassToFeatureClass_conversion(in_data, db, out_name)"
   ]
  },
  {
   "cell_type": "code",
   "execution_count": 5,
   "metadata": {},
   "outputs": [
    {
     "name": "stdout",
     "output_type": "stream",
     "text": [
      "NAD_1983_StatePlane_Arizona_Central_FIPS_0202_Feet_Intl\n",
      "[]\n"
     ]
    }
   ],
   "source": [
    "in_fc = 'sun_cloud_routes'\n",
    "target_sr = arcpy.SpatialReference(2223)\n",
    "out_fc = 'sun_cloud_routes_project'\n",
    "\n",
    "project(in_fc, target_sr, out_fc)"
   ]
  },
  {
   "cell_type": "markdown",
   "metadata": {
    "collapsed": false,
    "pycharm": {
     "name": "#%% md\n"
    }
   },
   "source": [
    "### Split at major intersection\n",
    "major == functional class is 1-7, 11-17 per Yousef Dana"
   ]
  },
  {
   "cell_type": "markdown",
   "metadata": {
    "collapsed": false,
    "pycharm": {
     "name": "#%% md\n"
    }
   },
   "source": [
    "From the original routes layer (NOT the segmented route), delete non-major routes."
   ]
  },
  {
   "cell_type": "markdown",
   "metadata": {},
   "source": [
    "Create major intersection points. "
   ]
  },
  {
   "cell_type": "code",
   "execution_count": 6,
   "metadata": {},
   "outputs": [
    {
     "name": "stdout",
     "output_type": "stream",
     "text": [
      "0\n"
     ]
    }
   ],
   "source": [
    "# create a backup of sun cloud routes\n",
    "arcpy.conversion.ExportFeatures(\"sun_cloud_routes_project\", \"sun_cloud_routes_project_backup\")\n",
    "route_raw = 'sun_cloud_routes_project'\n",
    "sql = \"\"\"functional_class BETWEEN 1 AND 7 OR functional_class BETWEEN 11 AND 17\"\"\"\n",
    "selected = arcpy.SelectLayerByAttribute_management(route_raw, \"NEW_SELECTION\", sql, \"INVERT\")\n",
    "count = int(arcpy.GetCount_management(selected)[0])\n",
    "print (count)\n",
    "\n",
    "if count > 0:\n",
    "    arcpy.DeleteFeatures_management(selected)"
   ]
  },
  {
   "cell_type": "markdown",
   "metadata": {
    "collapsed": false,
    "pycharm": {
     "name": "#%% md\n"
    }
   },
   "source": [
    "Find the real intersections. \n",
    "Reference: unsplit the original route to find the real intersections (https://support.esri.com/en/technical-article/000025044)"
   ]
  },
  {
   "cell_type": "code",
   "execution_count": 7,
   "metadata": {
    "collapsed": false,
    "pycharm": {
     "name": "#%%\n"
    }
   },
   "outputs": [
    {
     "data": {
      "text/html": [
       "<div class='gpresult'><h2>Messages</h2><div id='messages' data-messages='[\"Start Time: Tuesday, April 18, 2023 4:50:58 PM\",\"Dissolving...\",\"Succeeded at Tuesday, April 18, 2023 4:51:00 PM (Elapsed Time: 1.46 seconds)\"]' data-show='true'><div id = 'default' /></div></div>"
      ],
      "text/plain": [
       "<Result 'C:\\\\Users\\\\AhjungKim\\\\Documents\\\\ArcGIS\\\\Projects\\\\sun_cloud_pro\\\\general_segments.gdb\\\\unsplit_route'>"
      ]
     },
     "execution_count": 7,
     "metadata": {},
     "output_type": "execute_result"
    }
   ],
   "source": [
    "route_raw = 'sun_cloud_routes_project'\n",
    "arcpy.management.UnsplitLine(route_raw, \"unsplit_route\")"
   ]
  },
  {
   "cell_type": "code",
   "execution_count": 8,
   "metadata": {
    "collapsed": false,
    "pycharm": {
     "name": "#%%\n"
    }
   },
   "outputs": [
    {
     "data": {
      "text/html": [
       "<div class='gpresult'><h2>Messages</h2><div id='messages' data-messages='[\"Start Time: Tuesday, April 18, 2023 4:51:00 PM\",\"Reading Features...\",\"Cracking Features...\",\"Assembling Features...\",\"Succeeded at Tuesday, April 18, 2023 4:51:02 PM (Elapsed Time: 2.14 seconds)\"]' data-show='true'><div id = 'default' /></div></div>"
      ],
      "text/plain": [
       "<Result 'C:\\\\Users\\\\AhjungKim\\\\Documents\\\\ArcGIS\\\\Projects\\\\sun_cloud_pro\\\\general_segments.gdb\\\\major_intersection'>"
      ]
     },
     "execution_count": 8,
     "metadata": {},
     "output_type": "execute_result"
    }
   ],
   "source": [
    "# Run the Intersect tool to create points at interaction.  Note that this layer is used to create the Sunc Cloud junciton layer.\n",
    "arcpy.analysis.Intersect(\"sun_cloud_routes_project\", \"major_intersection\", \"ALL\", None, \"POINT\")"
   ]
  },
  {
   "cell_type": "markdown",
   "metadata": {},
   "source": [
    "Covert multipart point to single part."
   ]
  },
  {
   "cell_type": "code",
   "execution_count": 9,
   "metadata": {},
   "outputs": [
    {
     "data": {
      "text/html": [
       "<div class='gpresult'><h2>Messages</h2><div id='messages' data-messages='[\"Start Time: Tuesday, April 18, 2023 4:51:03 PM\",\"Succeeded at Tuesday, April 18, 2023 4:51:04 PM (Elapsed Time: 0.94 seconds)\"]' data-show='true'><div id = 'default' /></div></div>"
      ],
      "text/plain": [
       "<Result 'C:\\\\Users\\\\AhjungKim\\\\Documents\\\\ArcGIS\\\\Projects\\\\sun_cloud_pro\\\\general_segments.gdb\\\\major_intersec_single'>"
      ]
     },
     "execution_count": 9,
     "metadata": {},
     "output_type": "execute_result"
    }
   ],
   "source": [
    "arcpy.management.MultipartToSinglepart(\"major_intersection\", \"major_intersec_single\")"
   ]
  },
  {
   "cell_type": "markdown",
   "metadata": {},
   "source": [
    "Split at major intersection."
   ]
  },
  {
   "cell_type": "code",
   "execution_count": 10,
   "metadata": {
    "collapsed": false,
    "pycharm": {
     "name": "#%%\n"
    }
   },
   "outputs": [
    {
     "data": {
      "text/html": [
       "<div class='gpresult'><h2>Messages</h2><div id='messages' data-messages='[\"Start Time: Tuesday, April 18, 2023 4:51:04 PM\",\"Succeeded at Tuesday, April 18, 2023 4:51:15 PM (Elapsed Time: 11.60 seconds)\"]' data-show='true'><div id = 'default' /></div></div>"
      ],
      "text/plain": [
       "<Result 'C:\\\\Users\\\\AhjungKim\\\\Documents\\\\ArcGIS\\\\Projects\\\\sun_cloud_pro\\\\general_segments.gdb\\\\split_intersection'>"
      ]
     },
     "execution_count": 10,
     "metadata": {},
     "output_type": "execute_result"
    }
   ],
   "source": [
    "# split the segmented layer at the major intersection point\n",
    "inFeatures = 'sun_cloud_routes_project'\n",
    "pointFeatures = 'major_intersec_single'\n",
    "splitresult = 'split_intersection'\n",
    "arcpy.SplitLineAtPoint_management(inFeatures, pointFeatures, splitresult, '1 Meters')"
   ]
  },
  {
   "cell_type": "markdown",
   "metadata": {},
   "source": [
    "### If interstate or freeway is longer than 1 miles, split at one-mile point."
   ]
  },
  {
   "cell_type": "markdown",
   "metadata": {},
   "source": [
    "Add length field (miles)."
   ]
  },
  {
   "cell_type": "code",
   "execution_count": 11,
   "metadata": {},
   "outputs": [
    {
     "name": "stdout",
     "output_type": "stream",
     "text": [
      "C:\\Users\\AhjungKim\\Documents\\ArcGIS\\Projects\\sun_cloud_pro\\general_segments.gdb\\split_intersection\n"
     ]
    }
   ],
   "source": [
    "# add length field in miles\n",
    "in_f = \"split_intersection\"\n",
    "geom_prop = \"Length_Mi LENGTH_GEODESIC\"\n",
    "unit = \"MILES_US\"\n",
    "result = arcpy.management.CalculateGeometryAttributes(in_f, geom_prop, unit)\n",
    "print(result)"
   ]
  },
  {
   "cell_type": "markdown",
   "metadata": {},
   "source": [
    "Create a 10 meter buffer of urban area. "
   ]
  },
  {
   "cell_type": "code",
   "execution_count": 12,
   "metadata": {},
   "outputs": [
    {
     "name": "stdout",
     "output_type": "stream",
     "text": [
      "buffer already exists...\n"
     ]
    }
   ],
   "source": [
    "outname = 'urban_area_Buffer'\n",
    "if arcpy.Exists(outname)== False:\n",
    "    arcpy.analysis.Buffer(\"urban_area\", outname, \"35 Feet\", \"FULL\", \"ROUND\", \"NONE\", None, \"PLANAR\")\n",
    "else:\n",
    "    print ('buffer already exists...')\n",
    "    "
   ]
  },
  {
   "cell_type": "markdown",
   "metadata": {},
   "source": [
    "Select routes that are longer than defined distnace, but not within the buffer. "
   ]
  },
  {
   "cell_type": "code",
   "execution_count": 13,
   "metadata": {},
   "outputs": [
    {
     "name": "stdout",
     "output_type": "stream",
     "text": [
      "Length_Mi >5\n",
      "209\n"
     ]
    }
   ],
   "source": [
    "in_f = 'split_intersection'\n",
    "\n",
    "print(\"Length_Mi >{}\".format(distance))\n",
    "selected = arcpy.SelectLayerByAttribute_management(in_f, \"NEW_SELECTION\", \"Length_Mi >{}\".format(distance))\n",
    "subselect = arcpy.management.SelectLayerByLocation(selected, \"WITHIN\", \"urban_area_Buffer\", None, \"REMOVE_FROM_SELECTION\", \"NOT_INVERT\")\n",
    "\n",
    "arcpy.MakeFeatureLayer_management(subselect, 'select_layer')\n",
    "count = int(arcpy.GetCount_management('select_layer')[0])\n",
    "print(count)\n",
    "\n",
    "if (count>0):\n",
    "    split_points = 'mile_points_{}'.format(distance)\n",
    "    dist = '{} miles'.format(distance)\n",
    "    arcpy.GeneratePointsAlongLines_management(\n",
    "        Input_Features='select_layer', \n",
    "        Output_Feature_Class=split_points, \n",
    "        Point_Placement='DISTANCE',\n",
    "        Distance=dist)\n",
    "    "
   ]
  },
  {
   "cell_type": "markdown",
   "metadata": {},
   "source": [
    "Split at one-mile point."
   ]
  },
  {
   "cell_type": "code",
   "execution_count": 14,
   "metadata": {},
   "outputs": [
    {
     "data": {
      "text/html": [
       "<div class='gpresult'><h2>Messages</h2><div id='messages' data-messages='[\"Start Time: Tuesday, April 18, 2023 4:51:25 PM\",\"Succeeded at Tuesday, April 18, 2023 4:51:26 PM (Elapsed Time: 1.14 seconds)\"]' data-show='true'><div id = 'default' /></div></div>"
      ],
      "text/plain": [
       "<Result 'C:\\\\Users\\\\AhjungKim\\\\Documents\\\\ArcGIS\\\\Projects\\\\sun_cloud_pro\\\\general_segments.gdb\\\\sun_cloud_segmented_route'>"
      ]
     },
     "execution_count": 14,
     "metadata": {},
     "output_type": "execute_result"
    }
   ],
   "source": [
    "# split the segmented layer at the major intersection point\n",
    "inFeatures = 'split_intersection'\n",
    "pointFeatures = split_points\n",
    "splitresult = \"sun_cloud_segmented_route\"\n",
    "searchRadius = \"1 Feet\"\n",
    "\n",
    "\n",
    "arcpy.SplitLineAtPoint_management(inFeatures, pointFeatures, splitresult, searchRadius)"
   ]
  },
  {
   "cell_type": "markdown",
   "metadata": {},
   "source": [
    "Delete short (<250') segments."
   ]
  },
  {
   "cell_type": "code",
   "execution_count": 15,
   "metadata": {},
   "outputs": [
    {
     "name": "stdout",
     "output_type": "stream",
     "text": [
      "17\n"
     ]
    }
   ],
   "source": [
    "# add length field in feet\n",
    "\n",
    "in_f = \"sun_cloud_routes_project\"\n",
    "geom_prop = \"Length_Ft LENGTH\"\n",
    "unit = \"FEET_INT\"\n",
    "result = arcpy.management.CalculateGeometryAttributes(in_f, geom_prop, unit)\n",
    "\n",
    "where = 'Length_Ft < 250'\n",
    "selected = arcpy.SelectLayerByAttribute_management('sun_cloud_routes_project', 'NEW_SELECTION', where)\n",
    "count = int(arcpy.GetCount_management(selected)[0])\n",
    "print(count)\n",
    "if(count>0):\n",
    "    arcpy.DeleteFeatures_management(selected)"
   ]
  },
  {
   "cell_type": "markdown",
   "metadata": {},
   "source": [
    "### Clean up fields."
   ]
  },
  {
   "cell_type": "markdown",
   "metadata": {},
   "source": [
    "Delete fields if not in the original route layer."
   ]
  },
  {
   "cell_type": "code",
   "execution_count": 16,
   "metadata": {},
   "outputs": [
    {
     "data": {
      "text/plain": [
       "['route_id', 'functional_class']"
      ]
     },
     "execution_count": 16,
     "metadata": {},
     "output_type": "execute_result"
    }
   ],
   "source": [
    "# get required fields\n",
    "fields = arcpy.ListFields('sun_cloud_routes')\n",
    "route_fields = [field.name for field in fields if field.required is False]\n",
    "route_fields"
   ]
  },
  {
   "cell_type": "code",
   "execution_count": 17,
   "metadata": {},
   "outputs": [],
   "source": [
    "data = 'sun_cloud_segmented_route'\n",
    "fields = arcpy.ListFields(data)\n",
    "f_names = [field.name for field in fields if field.required is False]\n",
    "\n",
    "# delete one by on due to arcpy bug\n",
    "for f in f_names:\n",
    "    if f not in route_fields:\n",
    "        arcpy.DeleteField_management(data, f)"
   ]
  },
  {
   "cell_type": "markdown",
   "metadata": {},
   "source": [
    "Decode functional class. "
   ]
  },
  {
   "cell_type": "code",
   "execution_count": 19,
   "metadata": {},
   "outputs": [
    {
     "data": {
      "text/html": [
       "<div class='gpresult'><h2>Messages</h2><div id='messages' data-messages='[\"Start Time: Tuesday, April 18, 2023 4:57:21 PM\",\"Adding functional_classification_code to sun_cloud_segmented_route...\",\"Succeeded at Tuesday, April 18, 2023 4:57:21 PM (Elapsed Time: 0.27 seconds)\"]' data-show='true'><div id = 'default' /></div></div>"
      ],
      "text/plain": [
       "<Result 'C:\\\\Users\\\\AhjungKim\\\\Documents\\\\ArcGIS\\\\Projects\\\\sun_cloud_pro\\\\general_segments.gdb\\\\sun_cloud_segmented_route'>"
      ]
     },
     "execution_count": 19,
     "metadata": {},
     "output_type": "execute_result"
    }
   ],
   "source": [
    "fc='sun_cloud_segmented_route'\n",
    "arcpy.AddField_management(fc, 'functional_classification_code', 'SHORT')"
   ]
  },
  {
   "cell_type": "code",
   "execution_count": 21,
   "metadata": {},
   "outputs": [
    {
     "data": {
      "text/html": [
       "<div class='gpresult'><h2>Messages</h2><div id='messages' data-messages='[\"Start Time: Tuesday, April 18, 2023 4:59:42 PM\",\"Succeeded at Tuesday, April 18, 2023 4:59:43 PM (Elapsed Time: 1.10 seconds)\"]' data-show='true'><div id = 'default' /></div></div>"
      ],
      "text/plain": [
       "<Result 'C:\\\\Users\\\\AhjungKim\\\\Documents\\\\ArcGIS\\\\Projects\\\\sun_cloud_pro\\\\general_segments.gdb\\\\sun_cloud_segmented_route'>"
      ]
     },
     "execution_count": 21,
     "metadata": {},
     "output_type": "execute_result"
    }
   ],
   "source": [
    "arcpy.management.CalculateField(\n",
    "    in_table=fc,\n",
    "    field=\"functional_classification_code\",\n",
    "    expression=\"!functional_class!\",\n",
    "    expression_type=\"PYTHON3\",\n",
    "\n",
    "    enforce_domains=\"NO_ENFORCE_DOMAINS\"\n",
    ")"
   ]
  },
  {
   "cell_type": "code",
   "execution_count": 23,
   "metadata": {},
   "outputs": [
    {
     "data": {
      "text/html": [
       "<div class='gpresult'><h2>Messages</h2><div id='messages' data-messages='[\"Start Time: Tuesday, April 18, 2023 5:01:22 PM\",\"Succeeded at Tuesday, April 18, 2023 5:01:24 PM (Elapsed Time: 1.06 seconds)\"]' data-show='true'><div id = 'default' /></div></div>"
      ],
      "text/plain": [
       "<Result 'C:\\\\Users\\\\AhjungKim\\\\Documents\\\\ArcGIS\\\\Projects\\\\sun_cloud_pro\\\\general_segments.gdb\\\\sun_cloud_segmented_route'>"
      ]
     },
     "execution_count": 23,
     "metadata": {},
     "output_type": "execute_result"
    }
   ],
   "source": [
    "arcpy.AddField_management(fc, 'functional_classification', 'TEXT')\n",
    "arcpy.management.CalculateField(\n",
    "    in_table=fc,\n",
    "    field=\"functional_classification\",\n",
    "    expression=\"!functional_class!\",\n",
    "    expression_type=\"PYTHON3\",\n",
    "\n",
    "    enforce_domains=\"NO_ENFORCE_DOMAINS\"\n",
    ")"
   ]
  },
  {
   "cell_type": "code",
   "execution_count": 24,
   "metadata": {},
   "outputs": [
    {
     "data": {
      "text/html": [
       "<div class='gpresult'><h2>Messages</h2><div id='messages' data-messages='[\"Start Time: Tuesday, April 18, 2023 5:02:52 PM\",\"Succeeded at Tuesday, April 18, 2023 5:02:52 PM (Elapsed Time: 0.19 seconds)\"]' data-show='true'><div id = 'default' /></div></div>"
      ],
      "text/plain": [
       "<Result 'C:\\\\Users\\\\AhjungKim\\\\Documents\\\\ArcGIS\\\\Projects\\\\sun_cloud_pro\\\\general_segments.gdb'>"
      ]
     },
     "execution_count": 24,
     "metadata": {},
     "output_type": "execute_result"
    }
   ],
   "source": [
    "arcpy.management.CreateDomain(db, \"functional class\", \n",
    "                              \"functional class\", \"TEXT\", \"CODED\")"
   ]
  },
  {
   "cell_type": "code",
   "execution_count": 27,
   "metadata": {},
   "outputs": [],
   "source": [
    "fc_dict = {\n",
    "    1 : 'Interstate',\n",
    "    2 : 'Other Freeways and Expressways',\n",
    "    3 : 'Other Principal Arterial',\n",
    "    4 : 'Minor Arterial',\n",
    "    5 : 'Major Collector',\n",
    "    6 : 'Minor Collector',\n",
    "    7:  'Local'\n",
    "}"
   ]
  },
  {
   "cell_type": "code",
   "execution_count": 30,
   "metadata": {},
   "outputs": [],
   "source": [
    "for i in fc_dict:\n",
    "    arcpy.AddCodedValueToDomain_management(db, 'functional class', i, fc_dict[i])\n"
   ]
  },
  {
   "cell_type": "code",
   "execution_count": 32,
   "metadata": {},
   "outputs": [
    {
     "data": {
      "text/html": [
       "<div class='gpresult'><h2>Messages</h2><div id='messages' data-messages='[\"Start Time: Tuesday, April 18, 2023 5:09:11 PM\",\"Succeeded at Tuesday, April 18, 2023 5:09:11 PM (Elapsed Time: 0.40 seconds)\"]' data-show='true'><div id = 'default' /></div></div>"
      ],
      "text/plain": [
       "<Result 'C:\\\\Users\\\\AhjungKim\\\\Documents\\\\ArcGIS\\\\Projects\\\\sun_cloud_pro\\\\general_segments.gdb\\\\sun_cloud_segmented_route'>"
      ]
     },
     "execution_count": 32,
     "metadata": {},
     "output_type": "execute_result"
    }
   ],
   "source": [
    "arcpy.management.AssignDomainToField(fc, 'functional_classification', 'functional class')"
   ]
  },
  {
   "cell_type": "code",
   "execution_count": 33,
   "metadata": {},
   "outputs": [
    {
     "data": {
      "text/html": [
       "<div class='gpresult'><h2>Messages</h2><div id='messages' data-messages='[\"Start Time: Tuesday, April 18, 2023 5:14:17 PM\",\"Succeeded at Tuesday, April 18, 2023 5:14:17 PM (Elapsed Time: 0.77 seconds)\"]' data-show='true'><div id = 'default' /></div></div>"
      ],
      "text/plain": [
       "<Result 'C:\\\\Users\\\\AhjungKim\\\\Documents\\\\ArcGIS\\\\Projects\\\\sun_cloud_pro\\\\general_segments.gdb\\\\sun_cloud_segmented_route'>"
      ]
     },
     "execution_count": 33,
     "metadata": {},
     "output_type": "execute_result"
    }
   ],
   "source": [
    "target_fields = [\n",
    "    ('functional_classification', 'functional_classification', 'Functional Classification'),\n",
    "    ('functional_classification_code', 'functional_classification_code', 'Functional Classification_code'),\n",
    "\n",
    "]\n",
    "for current, new, alias in target_fields:\n",
    "    arcpy.management.AlterField(fc, current, new, alias)\n",
    "\n",
    "arcpy.DeleteField_management(fc, 'functional_class')"
   ]
  }
 ],
 "metadata": {
  "kernelspec": {
   "display_name": "ArcGISPro",
   "language": "Python",
   "name": "python3"
  },
  "language_info": {
   "codemirror_mode": {
    "name": "ipython",
    "version": 3
   },
   "file_extension": ".py",
   "mimetype": "text/x-python",
   "name": "python",
   "nbconvert_exporter": "python",
   "pygments_lexer": "ipython3",
   "version": "3.9.16"
  },
  "vscode": {
   "interpreter": {
    "hash": "ce21b655b4d6c9e397d5ad93d5666c623f49909f6d0cc2f72076dafcf1b3ecfb"
   }
  }
 },
 "nbformat": 4,
 "nbformat_minor": 2
}
