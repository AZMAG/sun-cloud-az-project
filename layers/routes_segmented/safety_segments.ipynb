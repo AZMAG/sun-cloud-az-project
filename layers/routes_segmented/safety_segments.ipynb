{
 "cells": [
  {
   "cell_type": "markdown",
   "metadata": {
    "collapsed": false,
    "pycharm": {
     "name": "#%% md\n"
    }
   },
   "source": [
    "# Create safety analysis segments. "
   ]
  },
  {
   "cell_type": "markdown",
   "metadata": {
    "collapsed": false,
    "pycharm": {
     "name": "#%% md\n"
    }
   },
   "source": [
    "Define workspace. "
   ]
  },
  {
   "cell_type": "code",
   "execution_count": 1,
   "metadata": {
    "collapsed": false,
    "pycharm": {
     "name": "#%%\n"
    }
   },
   "outputs": [],
   "source": [
    "# Define workspace\n",
    "import arcpy\n",
    "import os\n",
    "\n",
    "db = arcpy.env.workspace = r\"C:\\Users\\AhjungKim\\Documents\\ArcGIS\\Projects\\sun_cloud_pro\\sc_safety_segments_2.gdb\"\n",
    "arcpy.env.overwriteOutput = True\n"
   ]
  },
  {
   "cell_type": "markdown",
   "metadata": {},
   "source": [
    "Reusable functions."
   ]
  },
  {
   "cell_type": "code",
   "execution_count": 4,
   "metadata": {},
   "outputs": [],
   "source": [
    "from arcgis.gis import GIS\n",
    "gis = GIS('pro')\n",
    "from arcgis.features import FeatureLayer\n",
    "\n",
    "# save feature layer to db\n",
    "def save_fl(db, url, outname):\n",
    "    fl = FeatureLayer(url)\n",
    "    featureset = fl.query()\n",
    "    featureset.save(db, outname)\n",
    "\n",
    "# project in_data to match the target_data\n",
    "\n",
    "def project(in_data, target_data, out_name):\n",
    "\n",
    "    # TODO: fix this later\n",
    "    target_data = r'C:\\Users\\AhjungKim\\Documents\\ArcGIS\\Projects\\sun_cloud_pro\\sc_safety_segments_2.gdb\\dataset\\PM3_For_HPMS_2_ExportFeature'\n",
    "\n",
    "    in_sr = arcpy.Describe(in_data).spatialReference\n",
    "    target_sr = arcpy.Describe(target_data).spatialReference\n",
    "    datum_conversion = arcpy.ListTransformations (in_sr, target_sr)[0]\n",
    "\n",
    "\n",
    "\n",
    "    arcpy.Project_management(\n",
    "        in_dataset = in_data, \n",
    "        out_dataset = 'dataset\\{}'.format(out_name),\n",
    "        out_coor_system = target_sr,\n",
    "        transform_method = datum_conversion)"
   ]
  },
  {
   "cell_type": "markdown",
   "metadata": {
    "collapsed": false,
    "pycharm": {
     "name": "#%% md\n"
    }
   },
   "source": [
    "Save the feature layers locally"
   ]
  },
  {
   "cell_type": "code",
   "execution_count": 3,
   "metadata": {
    "collapsed": false,
    "pycharm": {
     "name": "#%%\n"
    }
   },
   "outputs": [],
   "source": [
    "routes_url = 'https://services6.arcgis.com/clPWQMwZfdWn4MQZ/ArcGIS/rest/services/Sun_Cloud_Routes/FeatureServer/6' \n",
    "\n",
    "save_fl(db, routes_url, 'sun_cloud_routes')\n"
   ]
  },
  {
   "cell_type": "code",
   "execution_count": 5,
   "metadata": {},
   "outputs": [],
   "source": [
    "milepost = 'https://services6.arcgis.com/clPWQMwZfdWn4MQZ/arcgis/rest/services/Arizona_Highway_Performance_Monitoring_System_2020_Data_/FeatureServer/1'\n",
    "save_fl(db, milepost, 'milepost')"
   ]
  },
  {
   "cell_type": "code",
   "execution_count": 6,
   "metadata": {},
   "outputs": [],
   "source": [
    "throughln = 'https://services6.arcgis.com/clPWQMwZfdWn4MQZ/arcgis/rest/services/Arizona_Highway_Performance_Monitoring_System_2020_Data_/FeatureServer/41'\n",
    "save_fl(db, throughln, \"through_ln\")"
   ]
  },
  {
   "cell_type": "code",
   "execution_count": 7,
   "metadata": {},
   "outputs": [],
   "source": [
    "project('through_ln', 'sun_cloud_routes', 'through_ln_project')"
   ]
  },
  {
   "cell_type": "markdown",
   "metadata": {
    "collapsed": false,
    "pycharm": {
     "name": "#%% md\n"
    }
   },
   "source": [
    "### Through Lane data clean up"
   ]
  },
  {
   "cell_type": "code",
   "execution_count": 8,
   "metadata": {
    "collapsed": false,
    "pycharm": {
     "name": "#%%\n"
    }
   },
   "outputs": [
    {
     "name": "stdout",
     "output_type": "stream",
     "text": [
      "38\n"
     ]
    }
   ],
   "source": [
    "# delete nulls and 0s.\n",
    "through_lane = \"through_ln_project\"\n",
    "selected = arcpy.SelectLayerByAttribute_management(through_lane,\n",
    "                                                    \"NEW_SELECTION\", \n",
    "                                                    \"NumberOfLanes IS NULL Or NumberOfLanes = 0\")\n",
    "count = int(arcpy.GetCount_management(selected)[0])\n",
    "print(count)\n",
    "if(count>0):\n",
    "    arcpy.DeleteFeatures_management(selected)\n"
   ]
  },
  {
   "cell_type": "code",
   "execution_count": 9,
   "metadata": {
    "collapsed": false,
    "pycharm": {
     "name": "#%%\n"
    }
   },
   "outputs": [
    {
     "data": {
      "text/html": [
       "<div class='gpresult'><h2>Messages</h2><div id='messages' data-messages='[\"Start Time: Monday, January 16, 2023 4:42:53 PM\",\"Succeeded at Monday, January 16, 2023 4:42:59 PM (Elapsed Time: 6.08 seconds)\"]' data-show='true'><div id = 'default' /></div></div>"
      ],
      "text/plain": [
       "<Result 'C:\\\\Users\\\\AhjungKim\\\\Documents\\\\ArcGIS\\\\Projects\\\\sun_cloud_pro\\\\sc_safety_segments_2.gdb\\\\through_ln_project'>"
      ]
     },
     "execution_count": 9,
     "metadata": {},
     "output_type": "execute_result"
    }
   ],
   "source": [
    "#  round up .5 lane values\n",
    "codeblock = \"\"\"\n",
    "import math\n",
    "def round_up(n):\n",
    "    return math.ceil(n)\"\"\"\n",
    "\n",
    "arcpy.management.CalculateField(through_lane,\n",
    "                                \"NumberOfLanes\",\n",
    "                                \"round_up(!NumberOfLanes!)\",\n",
    "                                \"PYTHON3\",\n",
    "                                codeblock)\n"
   ]
  },
  {
   "cell_type": "code",
   "execution_count": 10,
   "metadata": {
    "collapsed": false,
    "pycharm": {
     "name": "#%%\n"
    }
   },
   "outputs": [
    {
     "name": "stdout",
     "output_type": "stream",
     "text": [
      "C:\\Users\\AhjungKim\\Documents\\ArcGIS\\Projects\\sun_cloud_pro\\sc_safety_segments_2.gdb\\through_ln_project_unsplit\n"
     ]
    }
   ],
   "source": [
    "# unsplit the through lane by route id and number of lanes\n",
    "through_lane = 'through_ln_project'\n",
    "out_fc = r\"{0}\\{1}_unsplit\".format(db, through_lane)\n",
    "print(out_fc)\n",
    "fields = \"RouteId;NumberOfLanes\"\n",
    "result = arcpy.management.UnsplitLine(through_lane, out_fc, fields)\n",
    "if result:\n",
    "    through_lane = out_fc\n"
   ]
  },
  {
   "cell_type": "code",
   "execution_count": 11,
   "metadata": {},
   "outputs": [
    {
     "data": {
      "text/html": [
       "<div class='gpresult'><h2>Messages</h2><div id='messages' data-messages='[\"Start Time: Monday, January 16, 2023 4:43:09 PM\",\"Succeeded at Monday, January 16, 2023 4:43:14 PM (Elapsed Time: 5.25 seconds)\"]' data-show='true'><div id = 'default' /></div></div>"
      ],
      "text/plain": [
       "<Result 'C:\\\\Users\\\\AhjungKim\\\\Documents\\\\ArcGIS\\\\Projects\\\\sun_cloud_pro\\\\sc_safety_segments_2.gdb\\\\through_ln_project_unsplit_pts'>"
      ]
     },
     "execution_count": 11,
     "metadata": {},
     "output_type": "execute_result"
    }
   ],
   "source": [
    "# Feature vertices to points\n",
    "through_lane = 'through_ln_project_unsplit'\n",
    "end_pts = \"{}_pts\".format(through_lane)\n",
    "arcpy.management.FeatureVerticesToPoints(through_lane,\n",
    "                                         end_pts,\n",
    "                                        \"BOTH_ENDS\")"
   ]
  },
  {
   "cell_type": "code",
   "execution_count": 12,
   "metadata": {},
   "outputs": [
    {
     "name": "stdout",
     "output_type": "stream",
     "text": [
      "83885\n"
     ]
    },
    {
     "data": {
      "text/html": [
       "<div class='gpresult'><h2>Messages</h2><div id='messages' data-messages='[\"Start Time: Monday, January 16, 2023 4:43:26 PM\",\"Succeeded at Monday, January 16, 2023 4:43:26 PM (Elapsed Time: 0.01 seconds)\"]' data-show='true'><div id = 'default' /></div></div>"
      ],
      "text/plain": [
       "<Result 'true'>"
      ]
     },
     "execution_count": 12,
     "metadata": {},
     "output_type": "execute_result"
    }
   ],
   "source": [
    "# delete points that do not intersect w/ route network\n",
    "road_network = 'sun_cloud_routes'\n",
    "end_pts = 'through_ln_project_unsplit_pts'\n",
    "\n",
    "result = arcpy.SelectLayerByLocation_management(in_layer = end_pts,\n",
    "                                                overlap_type = \"INTERSECT\",\n",
    "                                                select_features = road_network,\n",
    "                                                search_distance = \"1 Meters\", \n",
    "                                                invert_spatial_relationship='INVERT')\n",
    "count = int(arcpy.GetCount_management(result)[0])\n",
    "print(count)\n",
    "if count>0:\n",
    "    arcpy.DeleteFeatures_management(result)\n",
    "# garbage collection\n",
    "arcpy.management.Delete(result)"
   ]
  },
  {
   "cell_type": "code",
   "execution_count": 13,
   "metadata": {
    "collapsed": false,
    "pycharm": {
     "name": "#%%\n"
    }
   },
   "outputs": [
    {
     "data": {
      "text/html": [
       "<div class='gpresult'><h2>Messages</h2><div id='messages' data-messages='[\"Start Time: Monday, January 16, 2023 4:43:26 PM\",\"Adding temp to through_ln_project_unsplit_pts...\",\"Succeeded at Monday, January 16, 2023 4:43:27 PM (Elapsed Time: 0.34 seconds)\"]' data-show='true'><div id = 'default' /></div></div>"
      ],
      "text/plain": [
       "<Result 'C:\\\\Users\\\\AhjungKim\\\\Documents\\\\ArcGIS\\\\Projects\\\\sun_cloud_pro\\\\sc_safety_segments_2.gdb\\\\through_ln_project_unsplit_pts'>"
      ]
     },
     "execution_count": 13,
     "metadata": {},
     "output_type": "execute_result"
    }
   ],
   "source": [
    "# add fields\n",
    "temp_field = \"temp\"\n",
    "fields=[[temp_field, \"TEXT\"]]\n",
    "arcpy.management.AddFields(\"through_ln_project_unsplit_pts\", fields)"
   ]
  },
  {
   "cell_type": "code",
   "execution_count": 14,
   "metadata": {
    "collapsed": false,
    "pycharm": {
     "name": "#%%\n"
    }
   },
   "outputs": [],
   "source": [
    "# iterate the points and find intersecting through lane\n",
    "# delete if \"number of lanes\" values are the same\n",
    "pts = \"through_ln_project_unsplit_pts\"\n",
    "lines = \"through_ln_project_unsplit\"\n",
    "arcpy.management.MakeFeatureLayer(lines, 'line_lyr')\n",
    "\n",
    "\n",
    "with arcpy.da.UpdateCursor(pts, [\"Shape@\", \"NumberOfLanes\", temp_field], where_clause=\"OBJECTID < 50\") as cursor:\n",
    "    for row in cursor:\n",
    "        me = row[1]\n",
    "        arcpy.management.SelectLayerByLocation ('line_lyr', 'INTERSECT', row[0], \"1 Meter\", \"NEW_SELECTION\")\n",
    "        intersects = list(r[0] for r in arcpy.da.SearchCursor('line_lyr', [\"NumberOFLanes\"]))\n",
    "        unique = list(set(intersects))\n",
    "        if len(unique)==1 and me==unique[0]:\n",
    "            print(\"update\")\n",
    "            row[2]=\"delete\"\n",
    "            cursor.updateRow(row)\n",
    "\n"
   ]
  },
  {
   "cell_type": "code",
   "execution_count": 15,
   "metadata": {
    "collapsed": false,
    "pycharm": {
     "name": "#%%\n"
    }
   },
   "outputs": [
    {
     "name": "stdout",
     "output_type": "stream",
     "text": [
      "0\n"
     ]
    },
    {
     "data": {
      "text/html": [
       "<div class='gpresult'><h2>Messages</h2><div id='messages' data-messages='[\"Start Time: Monday, January 16, 2023 4:43:28 PM\",\"Succeeded at Monday, January 16, 2023 4:43:28 PM (Elapsed Time: 0.01 seconds)\"]' data-show='true'><div id = 'default' /></div></div>"
      ],
      "text/plain": [
       "<Result 'true'>"
      ]
     },
     "execution_count": 15,
     "metadata": {},
     "output_type": "execute_result"
    }
   ],
   "source": [
    "# delete the flagged features\n",
    "result = arcpy.SelectLayerByAttribute_management(pts, \"NEW_SELECTION\", \"temp = 'delete'\")\n",
    "count = int(arcpy.GetCount_management(result)[0])\n",
    "print(count)\n",
    "if count>0:\n",
    "    arcpy.DeleteFeatures_management(result)\n",
    "# garbage collection\n",
    "arcpy.management.Delete(result)"
   ]
  },
  {
   "cell_type": "markdown",
   "metadata": {},
   "source": [
    "Create through lane mid point.  Use this to tranfer over the number of lanes value to the routes."
   ]
  },
  {
   "cell_type": "code",
   "execution_count": 16,
   "metadata": {},
   "outputs": [
    {
     "data": {
      "text/html": [
       "<div class='gpresult'><h2>Messages</h2><div id='messages' data-messages='[\"Start Time: Monday, January 16, 2023 4:43:29 PM\",\"Succeeded at Monday, January 16, 2023 4:43:43 PM (Elapsed Time: 13.90 seconds)\"]' data-show='true'><div id = 'default' /></div></div>"
      ],
      "text/plain": [
       "<Result 'C:\\\\Users\\\\AhjungKim\\\\Documents\\\\ArcGIS\\\\Projects\\\\sun_cloud_pro\\\\sc_safety_segments_2.gdb\\\\throughln_mid'>"
      ]
     },
     "execution_count": 16,
     "metadata": {},
     "output_type": "execute_result"
    }
   ],
   "source": [
    "arcpy.management.GeneratePointsAlongLines(\"through_ln_project_unsplit\", \"throughln_mid\", \"PERCENTAGE\", None, 50, None)"
   ]
  },
  {
   "cell_type": "markdown",
   "metadata": {},
   "source": [
    "### Split when number of lanes change. "
   ]
  },
  {
   "cell_type": "markdown",
   "metadata": {},
   "source": [
    "Split at # of lane changes."
   ]
  },
  {
   "cell_type": "code",
   "execution_count": 17,
   "metadata": {
    "collapsed": false,
    "pycharm": {
     "name": "#%%\n"
    }
   },
   "outputs": [
    {
     "data": {
      "text/html": [
       "<div class='gpresult'><h2>Messages</h2><div id='messages' data-messages='[\"Start Time: Monday, January 16, 2023 4:43:43 PM\",\"Succeeded at Monday, January 16, 2023 4:44:38 PM (Elapsed Time: 54.08 seconds)\"]' data-show='true'><div id = 'default' /></div></div>"
      ],
      "text/plain": [
       "<Result 'C:\\\\Users\\\\AhjungKim\\\\Documents\\\\ArcGIS\\\\Projects\\\\sun_cloud_pro\\\\sc_safety_segments_2.gdb\\\\split_at_lane_change_1'>"
      ]
     },
     "execution_count": 17,
     "metadata": {},
     "output_type": "execute_result"
    }
   ],
   "source": [
    "#  split the road network at points\n",
    "inFeatures = 'sun_cloud_routes'\n",
    "pointFeatures = 'through_ln_project_unsplit_pts'\n",
    "splitresult1 = \"split_at_lane_change_1\".format(pointFeatures)\n",
    "searchRadius = \"1 Meters\"\n",
    "\n",
    "arcpy.SplitLineAtPoint_management(inFeatures, pointFeatures, splitresult1, searchRadius)"
   ]
  },
  {
   "cell_type": "markdown",
   "metadata": {},
   "source": [
    "Transfer over number of lanes."
   ]
  },
  {
   "cell_type": "code",
   "execution_count": 18,
   "metadata": {},
   "outputs": [
    {
     "data": {
      "text/html": [
       "<div class='gpresult'><h2>Messages</h2><div id='messages' data-messages='[\"Start Time: Monday, January 16, 2023 4:44:38 PM\",\"Succeeded at Monday, January 16, 2023 4:45:24 PM (Elapsed Time: 46.42 seconds)\"]' data-show='true'><div id = 'default' /></div></div>"
      ],
      "text/plain": [
       "<Result 'C:\\\\Users\\\\AhjungKim\\\\Documents\\\\ArcGIS\\\\Projects\\\\sun_cloud_pro\\\\sc_safety_segments_2.gdb\\\\split_at_lane_change_1_5'>"
      ]
     },
     "execution_count": 18,
     "metadata": {},
     "output_type": "execute_result"
    }
   ],
   "source": [
    "#spatially join\n",
    "arcpy.analysis.SpatialJoin(\n",
    "    target_features=\"split_at_lane_change_1\", \n",
    "    join_features=\"through_ln_project_unsplit\", \n",
    "    out_feature_class=\"split_at_lane_change_1_5\", \n",
    "    join_operation=\"JOIN_ONE_TO_ONE\", \n",
    "    join_type=\"KEEP_ALL\", \n",
    "    field_mapping=\"\",\n",
    "    match_option=\"LARGEST_OVERLAP\",\n",
    "    search_radius=\"5 Feet\")"
   ]
  },
  {
   "cell_type": "markdown",
   "metadata": {
    "collapsed": false,
    "pycharm": {
     "name": "#%% md\n"
    }
   },
   "source": [
    "### Split at mile post."
   ]
  },
  {
   "cell_type": "markdown",
   "metadata": {},
   "source": [
    "Project the milepost."
   ]
  },
  {
   "cell_type": "code",
   "execution_count": 19,
   "metadata": {},
   "outputs": [],
   "source": [
    "project('milepost', 'sun_cloud_routes', 'milepost_project')"
   ]
  },
  {
   "cell_type": "markdown",
   "metadata": {},
   "source": [
    "Split at milepost. "
   ]
  },
  {
   "cell_type": "code",
   "execution_count": 20,
   "metadata": {
    "collapsed": false,
    "pycharm": {
     "name": "#%%\n"
    }
   },
   "outputs": [
    {
     "data": {
      "text/html": [
       "<div class='gpresult'><h2>Messages</h2><div id='messages' data-messages='[\"Start Time: Monday, January 16, 2023 4:45:31 PM\",\"Succeeded at Monday, January 16, 2023 4:45:39 PM (Elapsed Time: 8.16 seconds)\"]' data-show='true'><div id = 'default' /></div></div>"
      ],
      "text/plain": [
       "<Result 'C:\\\\Users\\\\AhjungKim\\\\Documents\\\\ArcGIS\\\\Projects\\\\sun_cloud_pro\\\\sc_safety_segments_2.gdb\\\\split_at_milepost_2'>"
      ]
     },
     "execution_count": 20,
     "metadata": {},
     "output_type": "execute_result"
    }
   ],
   "source": [
    "inFeatures = 'split_at_lane_change_1_5'\n",
    "pointFeatures = \"milepost_project\"\n",
    "splitresult2 = \"split_at_milepost_2\".format(pointFeatures)\n",
    "searchRadius = \"1 Meters\"\n",
    "\n",
    "arcpy.SplitLineAtPoint_management(inFeatures, pointFeatures, splitresult2, searchRadius)"
   ]
  },
  {
   "cell_type": "markdown",
   "metadata": {
    "collapsed": false,
    "pycharm": {
     "name": "#%% md\n"
    }
   },
   "source": [
    "### Split at major intersection\n",
    "major == functional class is 1-7, 11-17 per Yousef Dana"
   ]
  },
  {
   "cell_type": "markdown",
   "metadata": {
    "collapsed": false,
    "pycharm": {
     "name": "#%% md\n"
    }
   },
   "source": [
    "From the original routes layer (NOT the segmented route), delete non-major routes."
   ]
  },
  {
   "cell_type": "markdown",
   "metadata": {},
   "source": [
    "Create major intersection points. "
   ]
  },
  {
   "cell_type": "code",
   "execution_count": 21,
   "metadata": {},
   "outputs": [
    {
     "data": {
      "text/html": [
       "<div class='gpresult'><h2>Messages</h2><div id='messages' data-messages='[\"Start Time: Monday, January 16, 2023 4:45:40 PM\",\"Succeeded at Monday, January 16, 2023 4:45:41 PM (Elapsed Time: 0.87 seconds)\"]' data-show='true'><div id = 'default' /></div></div>"
      ],
      "text/plain": [
       "<Result 'C:\\\\Users\\\\AhjungKim\\\\Documents\\\\ArcGIS\\\\Projects\\\\sun_cloud_pro\\\\sc_safety_segments_2.gdb\\\\sun_cloud_routes_backup'>"
      ]
     },
     "execution_count": 21,
     "metadata": {},
     "output_type": "execute_result"
    }
   ],
   "source": [
    "# create a backup of sun cloud routes\n",
    "arcpy.conversion.ExportFeatures(\"sun_cloud_routes\", \"sun_cloud_routes_backup\")"
   ]
  },
  {
   "cell_type": "code",
   "execution_count": 22,
   "metadata": {
    "collapsed": false,
    "pycharm": {
     "name": "#%%\n"
    }
   },
   "outputs": [
    {
     "name": "stdout",
     "output_type": "stream",
     "text": [
      "0\n"
     ]
    }
   ],
   "source": [
    "route_raw = 'sun_cloud_routes'\n",
    "sql = \"\"\"functional_class BETWEEN 1 AND 7 OR functional_class BETWEEN 11 AND 17\"\"\"\n",
    "selected = arcpy.SelectLayerByAttribute_management(route_raw, \"NEW_SELECTION\", sql, \"INVERT\")\n",
    "count = int(arcpy.GetCount_management(selected)[0])\n",
    "print (count)\n",
    "\n",
    "if count > 0:\n",
    "    arcpy.DeleteFeatures_management(selected)"
   ]
  },
  {
   "cell_type": "markdown",
   "metadata": {
    "collapsed": false,
    "pycharm": {
     "name": "#%% md\n"
    }
   },
   "source": [
    "Find the real intersections. \n",
    "Reference: unsplit the original route to find the real intersections (https://support.esri.com/en/technical-article/000025044)"
   ]
  },
  {
   "cell_type": "code",
   "execution_count": 23,
   "metadata": {
    "collapsed": false,
    "pycharm": {
     "name": "#%%\n"
    }
   },
   "outputs": [
    {
     "data": {
      "text/html": [
       "<div class='gpresult'><h2>Messages</h2><div id='messages' data-messages='[\"Start Time: Monday, January 16, 2023 4:45:41 PM\",\"Dissolving...\",\"Succeeded at Monday, January 16, 2023 4:45:43 PM (Elapsed Time: 1.61 seconds)\"]' data-show='true'><div id = 'default' /></div></div>"
      ],
      "text/plain": [
       "<Result 'C:\\\\Users\\\\AhjungKim\\\\Documents\\\\ArcGIS\\\\Projects\\\\sun_cloud_pro\\\\sc_safety_segments_2.gdb\\\\unsplit_route'>"
      ]
     },
     "execution_count": 23,
     "metadata": {},
     "output_type": "execute_result"
    }
   ],
   "source": [
    "arcpy.management.UnsplitLine(route_raw, \"unsplit_route\")"
   ]
  },
  {
   "cell_type": "code",
   "execution_count": 24,
   "metadata": {
    "collapsed": false,
    "pycharm": {
     "name": "#%%\n"
    }
   },
   "outputs": [
    {
     "data": {
      "text/html": [
       "<div class='gpresult'><h2>Messages</h2><div id='messages' data-messages='[\"Start Time: Monday, January 16, 2023 4:45:43 PM\",\"Reading Features...\",\"Cracking Features...\",\"Assembling Features...\",\"Succeeded at Monday, January 16, 2023 4:45:45 PM (Elapsed Time: 2.04 seconds)\"]' data-show='true'><div id = 'default' /></div></div>"
      ],
      "text/plain": [
       "<Result 'C:\\\\Users\\\\AhjungKim\\\\Documents\\\\ArcGIS\\\\Projects\\\\sun_cloud_pro\\\\sc_safety_segments_2.gdb\\\\major_intersection'>"
      ]
     },
     "execution_count": 24,
     "metadata": {},
     "output_type": "execute_result"
    }
   ],
   "source": [
    "# Run the Intersect tool to create points at interaction.  Note that this layer is used to create the Sunc Cloud junciton layer.\n",
    "arcpy.analysis.Intersect(\"unsplit_route\", \"major_intersection\", \"ALL\", None, \"POINT\")"
   ]
  },
  {
   "cell_type": "code",
   "execution_count": 25,
   "metadata": {},
   "outputs": [
    {
     "data": {
      "text/html": [
       "<div class='gpresult'><h2>Messages</h2><div id='messages' data-messages='[\"Start Time: Monday, January 16, 2023 4:45:46 PM\",\"Succeeded at Monday, January 16, 2023 4:45:47 PM (Elapsed Time: 0.95 seconds)\"]' data-show='true'><div id = 'default' /></div></div>"
      ],
      "text/plain": [
       "<Result 'C:\\\\Users\\\\AhjungKim\\\\Documents\\\\ArcGIS\\\\Projects\\\\sun_cloud_pro\\\\sc_safety_segments_2.gdb\\\\major_intersec_single'>"
      ]
     },
     "execution_count": 25,
     "metadata": {},
     "output_type": "execute_result"
    }
   ],
   "source": [
    "arcpy.management.MultipartToSinglepart('major_intersection', 'major_intersec_single')"
   ]
  },
  {
   "cell_type": "markdown",
   "metadata": {},
   "source": [
    "Split at major intersection."
   ]
  },
  {
   "cell_type": "code",
   "execution_count": 26,
   "metadata": {
    "collapsed": false,
    "pycharm": {
     "name": "#%%\n"
    }
   },
   "outputs": [
    {
     "data": {
      "text/html": [
       "<div class='gpresult'><h2>Messages</h2><div id='messages' data-messages='[\"Start Time: Monday, January 16, 2023 4:45:47 PM\",\"Succeeded at Monday, January 16, 2023 4:45:55 PM (Elapsed Time: 8.23 seconds)\"]' data-show='true'><div id = 'default' /></div></div>"
      ],
      "text/plain": [
       "<Result 'C:\\\\Users\\\\AhjungKim\\\\Documents\\\\ArcGIS\\\\Projects\\\\sun_cloud_pro\\\\sc_safety_segments_2.gdb\\\\split_at_intersection_3'>"
      ]
     },
     "execution_count": 26,
     "metadata": {},
     "output_type": "execute_result"
    }
   ],
   "source": [
    "# split the segmented layer at the major intersection point\n",
    "inFeatures = 'split_at_milepost_2'\n",
    "pointFeatures = 'major_intersec_single'\n",
    "splitresult = \"split_at_intersection_3\"\n",
    "searchRadius = \"1 Meters\"\n",
    "\n",
    "\n",
    "arcpy.SplitLineAtPoint_management(inFeatures, pointFeatures, splitresult, searchRadius)"
   ]
  },
  {
   "cell_type": "markdown",
   "metadata": {
    "collapsed": false,
    "pycharm": {
     "name": "#%% md\n"
    }
   },
   "source": [
    "### If a segment is greater than 1 mile, generate a point at every 1 mile and split at the point. (Optional: Begin & End Point fields)"
   ]
  },
  {
   "cell_type": "code",
   "execution_count": 27,
   "metadata": {
    "collapsed": false,
    "pycharm": {
     "name": "#%%\n"
    }
   },
   "outputs": [
    {
     "name": "stdout",
     "output_type": "stream",
     "text": [
      "C:\\Users\\AhjungKim\\Documents\\ArcGIS\\Projects\\sun_cloud_pro\\sc_safety_segments_2.gdb\\split_at_intersection_3\n"
     ]
    }
   ],
   "source": [
    "# add length field in miles\n",
    "in_f = \"split_at_intersection_3\"\n",
    "geom_prop = \"Length_Mi LENGTH_GEODESIC\"\n",
    "unit = \"MILES_US\"\n",
    "result = arcpy.management.CalculateGeometryAttributes(in_f, geom_prop, unit)\n",
    "print(result)"
   ]
  },
  {
   "cell_type": "markdown",
   "metadata": {},
   "source": [
    "Genereate 1 mile points along the long segments."
   ]
  },
  {
   "cell_type": "code",
   "execution_count": 28,
   "metadata": {
    "collapsed": false,
    "pycharm": {
     "name": "#%%\n"
    }
   },
   "outputs": [
    {
     "name": "stdout",
     "output_type": "stream",
     "text": [
      "1578\n"
     ]
    }
   ],
   "source": [
    "# create a feature layer.  select by attribute. generate point along the line\n",
    "in_f = 'split_at_intersection_3'\n",
    "selected = arcpy.SelectLayerByAttribute_management(in_f,\"NEW_SELECTION\", \"Length_Mi >1\")\n",
    "count = int(arcpy.GetCount_management(selected)[0])\n",
    "print(count)\n",
    "mile_points = 'one_mile_points'\n",
    "if (count>0):\n",
    "    arcpy.GeneratePointsAlongLines_management(in_f, mile_points, 'DISTANCE',\n",
    "                                          Distance='1 miles')\n",
    "    \n"
   ]
  },
  {
   "cell_type": "markdown",
   "metadata": {},
   "source": [
    "Split at one mile points."
   ]
  },
  {
   "cell_type": "code",
   "execution_count": 29,
   "metadata": {
    "collapsed": false,
    "pycharm": {
     "name": "#%%\n"
    }
   },
   "outputs": [
    {
     "data": {
      "text/html": [
       "<div class='gpresult'><h2>Messages</h2><div id='messages' data-messages='[\"Start Time: Monday, January 16, 2023 4:46:15 PM\",\"Succeeded at Monday, January 16, 2023 4:46:18 PM (Elapsed Time: 2.95 seconds)\"]' data-show='true'><div id = 'default' /></div></div>"
      ],
      "text/plain": [
       "<Result 'C:\\\\Users\\\\AhjungKim\\\\Documents\\\\ArcGIS\\\\Projects\\\\sun_cloud_pro\\\\sc_safety_segments_2.gdb\\\\suncloud_safety_segments'>"
      ]
     },
     "execution_count": 29,
     "metadata": {},
     "output_type": "execute_result"
    }
   ],
   "source": [
    "\n",
    "inFeatures = 'split_at_intersection_3'\n",
    "pointFeatures = 'one_mile_points'\n",
    "splitresult4 = 'suncloud_safety_segments'\n",
    "searchRadius = \"1 Meters\"\n",
    "\n",
    "arcpy.SplitLineAtPoint_management(inFeatures, pointFeatures, splitresult4, searchRadius)"
   ]
  },
  {
   "cell_type": "markdown",
   "metadata": {
    "collapsed": false,
    "pycharm": {
     "name": "#%% md\n"
    }
   },
   "source": [
    "### Field name clean up"
   ]
  },
  {
   "cell_type": "code",
   "execution_count": 30,
   "metadata": {
    "collapsed": false,
    "pycharm": {
     "name": "#%%\n"
    }
   },
   "outputs": [
    {
     "name": "stdout",
     "output_type": "stream",
     "text": [
      "['route_id', 'functional_class', 'OBJECTID', 'Shape', 'Shape_Length', 'NumberOfLanes']\n"
     ]
    }
   ],
   "source": [
    "# get required fields\n",
    "fields = arcpy.ListFields('sun_cloud_routes')\n",
    "route_fields = [field.name for field in fields if field.required is False]\n",
    "\n",
    "\n",
    "all_fields = arcpy.ListFields('suncloud_safety_segments')\n",
    "req_fields = [field.name for field in all_fields if field.required is True]\n",
    "\n",
    "keep_fields = route_fields + req_fields + ['NumberOfLanes']\n",
    "print(keep_fields)"
   ]
  },
  {
   "cell_type": "code",
   "execution_count": 31,
   "metadata": {
    "collapsed": false,
    "pycharm": {
     "name": "#%%\n"
    }
   },
   "outputs": [],
   "source": [
    "# arcpy.management.DeleteField ('suncloud_safety_segments', keep_fields, method = 'KEEP_FIELDS')\n",
    "# # arcpy.management.DeleteField(\"segmented_routes\", \"route_id;from_measure;to_measure;functional_class;facility_type\", \"KEEP_FIELDS\")"
   ]
  },
  {
   "cell_type": "code",
   "execution_count": 32,
   "metadata": {
    "collapsed": false,
    "pycharm": {
     "name": "#%%\n"
    }
   },
   "outputs": [],
   "source": [
    "data = 'suncloud_safety_segments'\n",
    "fields = arcpy.ListFields(data)\n",
    "f_names = [field.name for field in fields if field.required is False]\n",
    "\n",
    "# delete one by on due to arcpy bug\n",
    "for f in f_names:\n",
    "    if f not in keep_fields:\n",
    "        arcpy.DeleteField_management(data, f)"
   ]
  },
  {
   "cell_type": "markdown",
   "metadata": {},
   "source": [
    "Alter field alias."
   ]
  },
  {
   "cell_type": "code",
   "execution_count": null,
   "metadata": {},
   "outputs": [],
   "source": []
  }
 ],
 "metadata": {
  "kernelspec": {
   "display_name": "ArcGISPro",
   "language": "Python",
   "name": "python3"
  },
  "language_info": {
   "codemirror_mode": {
    "name": "ipython",
    "version": 3
   },
   "file_extension": ".py",
   "mimetype": "text/x-python",
   "name": "python",
   "nbconvert_exporter": "python",
   "pygments_lexer": "ipython3",
   "version": "3.9.11"
  },
  "vscode": {
   "interpreter": {
    "hash": "ce21b655b4d6c9e397d5ad93d5666c623f49909f6d0cc2f72076dafcf1b3ecfb"
   }
  }
 },
 "nbformat": 4,
 "nbformat_minor": 2
}
