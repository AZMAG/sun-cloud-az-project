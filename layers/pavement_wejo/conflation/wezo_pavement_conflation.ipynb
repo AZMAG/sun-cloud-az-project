{
 "cells": [
  {
   "cell_type": "code",
   "execution_count": null,
   "metadata": {},
   "outputs": [],
   "source": [
    "import arcpy\n",
    "arcpy.env.overwriteOutput = True\n",
    "\n",
    "# authentication to access secured data\n",
    "from arcgis.gis import GIS\n",
    "from arcgis.features import FeatureLayer\n",
    "gis = GIS('pro')\n",
    "target_sr = arcpy.SpatialReference(2223)\n",
    "db = arcpy.env.workspace = r\".\\data\\sc_wezo_pavement_final.gdb\"\n",
    "arcpy.Describe(db)"
   ]
  },
  {
   "cell_type": "markdown",
   "metadata": {},
   "source": [
    "custom functions."
   ]
  },
  {
   "cell_type": "code",
   "execution_count": null,
   "metadata": {},
   "outputs": [],
   "source": [
    "# save hosted feature layer to db\n",
    "def save_fl(db, url, outname):\n",
    "    fl = FeatureLayer(url)\n",
    "    featureset = fl.query()\n",
    "    featureset.save(db, outname)\n",
    "\n",
    "# project in_data to match the target spatial reference\n",
    "def project(in_data, target_sr, out_name):\n",
    "\n",
    "\n",
    "    in_sr = arcpy.Describe(in_data).spatialReference\n",
    "\n",
    "    tr = arcpy.ListTransformations (in_sr, target_sr)\n",
    "    datum_conversion = ''\n",
    "    if(len(tr)>0):\n",
    "        datum_conversion = arcpy.ListTransformations (in_sr, target_sr)[0]\n",
    "\n",
    "    arcpy.Project_management(\n",
    "        in_dataset = in_data, \n",
    "        out_dataset = out_name,\n",
    "        out_coor_system = target_sr,\n",
    "        transform_method = datum_conversion)"
   ]
  },
  {
   "cell_type": "markdown",
   "metadata": {},
   "source": [
    "Export sc routes layer. "
   ]
  },
  {
   "cell_type": "code",
   "execution_count": null,
   "metadata": {},
   "outputs": [],
   "source": [
    "route_url = 'https://services6.arcgis.com/clPWQMwZfdWn4MQZ/arcgis/rest/services/Sun_Cloud_Segmented_Routes/FeatureServer/0'\n",
    "\n",
    "save_fl(db, route_url, 'sc_routes')"
   ]
  },
  {
   "cell_type": "markdown",
   "metadata": {},
   "source": [
    "Export the wezo pavement. "
   ]
  },
  {
   "cell_type": "code",
   "execution_count": null,
   "metadata": {},
   "outputs": [],
   "source": [
    "in_data = r'.\\data\\nira_combined_tiles.gpkg\\main.NIRA Roughness' \n",
    "arcpy.ExportFeatures_conversion(in_data, 'pavement_raw')"
   ]
  },
  {
   "cell_type": "markdown",
   "metadata": {},
   "source": [
    "Delete identical source segments. (1.4 mil -> )"
   ]
  },
  {
   "cell_type": "code",
   "execution_count": null,
   "metadata": {},
   "outputs": [],
   "source": [
    "arcpy.management.DeleteIdentical(\n",
    "    in_dataset=\"pavement_raw\",\n",
    "    fields=\"Shape;Long_term_Roughness;Long_term_Roughness_Uncertainty;Current_Roughness;Current_Roughness_Variance;Latest_measurement_update;FunctionalRoadClass;NvdbRoadClass;Shape_Length\",\n",
    "    xy_tolerance=None,\n",
    "    z_tolerance=0\n",
    ")"
   ]
  },
  {
   "cell_type": "markdown",
   "metadata": {},
   "source": [
    "Unsplit the source, if functional class and roughness values are the same. "
   ]
  },
  {
   "cell_type": "code",
   "execution_count": null,
   "metadata": {},
   "outputs": [],
   "source": [
    "arcpy.management.UnsplitLine(\n",
    "    in_features=\"pavement_raw\",\n",
    "    out_feature_class=\"pavement_raw_UnsplitLine\",\n",
    "    dissolve_field=\"Long_term_Roughness;Long_term_Roughness_Uncertainty;FunctionalRoadClass\",\n",
    "    statistics_fields=None,\n",
    "    concatenation_separator=\"\"\n",
    ")"
   ]
  },
  {
   "cell_type": "code",
   "execution_count": null,
   "metadata": {},
   "outputs": [],
   "source": [
    "# add new fields to the sc routes layer\n",
    "# ['long_term_roughness_sum', 'DOUBLE', 'Long Term Roughness (Sum)'], \n",
    "arcpy.management.AddFields(\n",
    "    'sc_routes', \n",
    "    [['average_iri_uncertainty', 'DOUBLE', 'Long Term Roughness Uncertainty (Wt.Avg.)'],\n",
    "     ['average_iri', 'DOUBLE', 'Long Term Roughness (Wt.Avg.)'],\n",
    "     ['source_seg_sum_mi', 'DOUBLE','Source Segment Length(Mi)']]\n",
    "     )"
   ]
  },
  {
   "cell_type": "markdown",
   "metadata": {},
   "source": [
    "Process for each functinal class pair. [(suncloud_fc, wezo_fc)]"
   ]
  },
  {
   "cell_type": "code",
   "execution_count": null,
   "metadata": {},
   "outputs": [],
   "source": [
    "import pandas\n",
    "import numpy as np\n",
    "\n",
    "buffer_dist = '75 Feet'\n",
    "\n",
    "# sc, wezo functional class match pairs\n",
    "pairs = [(1,1), (1,2),\n",
    "(2,2), (2, 1), (2,3), (2,4),\n",
    "(3, 3), (3, 2), (3, 1), (3, 4),\n",
    "(4, 4), (4,3), (4,1),\n",
    "(5, 4), (5,3),\n",
    "(6, 4),\n",
    "(7, 4)]\n",
    "\n",
    "\n",
    "\n",
    "for route_fc, wezo_fc in pairs:\n",
    "\n",
    "    buffer = 'sc_routes_{0}{1}_Buffer'.format(route_fc,wezo_fc)\n",
    "    intersect = \"sc_routes_{0}{1}_Buffer_Intersect\".format(route_fc,wezo_fc)\n",
    "\n",
    "    # select \n",
    "    query = \"functional_classification = '{}' and average_iri is null and average_iri_uncertainty is null\".format(route_fc)\n",
    "    print(query)\n",
    "    selection = arcpy.SelectLayerByAttribute_management(\"sc_routes\", 'NEW_SELECTION', query)\n",
    "\n",
    "    arcpy.analysis.Buffer(\n",
    "        in_features=selection,\n",
    "        out_feature_class= buffer,\n",
    "        buffer_distance_or_field=buffer_dist,\n",
    "        line_side=\"FULL\",\n",
    "        line_end_type=\"FLAT\",\n",
    "        dissolve_option=\"NONE\",\n",
    "        dissolve_field=None,\n",
    "        method=\"PLANAR\"\n",
    "    )\n",
    "    # source FunctionalRoadClass = 1\n",
    "    wezo_query = 'FunctionalRoadClass = {}'.format(wezo_fc)\n",
    "    print(wezo_query)\n",
    "    source_sel = arcpy.SelectLayerByAttribute_management(\"pavement_raw_UnsplitLine\", 'NEW_SELECTION', wezo_query)\n",
    "    intersect_tb = arcpy.analysis.Intersect(\n",
    "        in_features=[ buffer, source_sel],\n",
    "        out_feature_class=intersect,\n",
    "        join_attributes=\"ALL\",\n",
    "        cluster_tolerance=None,\n",
    "        output_type=\"INPUT\")\n",
    "\n",
    "\n",
    "    # intersect_tb = intersect\n",
    "    fields = ['ORIG_FID','Long_term_Roughness', 'Shape_Length','Long_term_Roughness_Uncertainty']\n",
    "\n",
    "    value_pairs = [row for row in arcpy.da.SearchCursor(intersect_tb, fields)]\n",
    "    # print(value_pairs)\n",
    "    if(len(value_pairs)>0):\n",
    "    \n",
    "        df = pandas.DataFrame(value_pairs)\n",
    "        df.columns = ['orig_fid', 'roughness', 'shape_length', 'uncertainty']\n",
    "        def f(x):\n",
    "            d = {}\n",
    "            d['roughness'] = sum(x['roughness'] * x['shape_length']) / sum(x['shape_length'])*63.36\n",
    "\n",
    "            d['uncertainty'] = sum(x['uncertainty'] * x['shape_length']) / sum(x['shape_length'])\n",
    "            d['length_sum_mi'] = sum(x['shape_length']*0.000189394)\n",
    "\n",
    "            return pandas.Series(d, index=['roughness', 'uncertainty', 'length_sum_mi'])\n",
    "\n",
    "\n",
    "        # export dataframe to csv\n",
    "        df2 = df.groupby(['orig_fid']).apply(f)\n",
    "        csv = r\".\\data\\class_{0}{1}.csv\".format(route_fc,wezo_fc)\n",
    "        df2.to_csv(csv)\n",
    "\n",
    "        # convert csv to esri table\n",
    "        out_tb = \"class_{0}{1}\".format(route_fc,wezo_fc)\n",
    "        arcpy.conversion.ExportTable(\n",
    "            in_table=csv,\n",
    "            out_table=out_tb\n",
    "        )\n",
    "\n",
    "\n",
    "        # join and calculate\n",
    "        joined = arcpy.management.AddJoin(\n",
    "            in_layer_or_view=\"sc_routes\",\n",
    "            in_field=\"OBJECTID\",\n",
    "            join_table=out_tb,\n",
    "            join_field=\"orig_fid\",\n",
    "            join_type=\"KEEP_COMMON\",\n",
    "            index_join_fields=\"NO_INDEX_JOIN_FIELDS\"\n",
    "        )\n",
    "\n",
    "        # calculate field\n",
    "        arcpy.management.CalculateField(\n",
    "            in_table=joined,\n",
    "            field=\"sc_routes.average_iri\",\n",
    "            expression=\"!{}.{}!\".format(out_tb,'roughness'),\n",
    "            expression_type=\"PYTHON3\",\n",
    "        )\n",
    "\n",
    "\n",
    "        arcpy.management.CalculateField(\n",
    "            in_table=joined,\n",
    "            field=\"sc_routes.average_iri_uncertainty\",\n",
    "            expression=\"!{}.{}!\".format(out_tb,'uncertainty'),\n",
    "            expression_type=\"PYTHON3\",\n",
    "        )\n",
    "\n",
    "        arcpy.management.CalculateField(\n",
    "            in_table=joined,\n",
    "            field=\"sc_routes.source_seg_sum_mi\",\n",
    "            expression=\"!{}.{}!\".format(out_tb,'length_sum_mi'),\n",
    "            expression_type=\"PYTHON3\",\n",
    "        )\n"
   ]
  },
  {
   "cell_type": "markdown",
   "metadata": {},
   "source": [
    "Decode the functional class"
   ]
  },
  {
   "cell_type": "code",
   "execution_count": 7,
   "metadata": {},
   "outputs": [
    {
     "data": {
      "text/html": [
       "<div class='gpresult'><h2>Messages</h2><div id='messages' data-messages='[\"Start Time: Friday, June 16, 2023 6:51:54 PM\",\"Succeeded at Friday, June 16, 2023 6:51:55 PM (Elapsed Time: 1.19 seconds)\"]' data-show='true'><div id = 'default' /></div></div>"
      ],
      "text/plain": [
       "<Result '.\\\\data\\\\sc_wezo_pavement_final.gdb\\\\sc_routes'>"
      ]
     },
     "execution_count": 7,
     "metadata": {},
     "output_type": "execute_result"
    }
   ],
   "source": [
    "fc_dict = {\n",
    "    1 : 'Interstate',\n",
    "    2 : 'Other Freeways and Expressways',\n",
    "    3 : 'Other Principal Arterial',\n",
    "    4 : 'Minor Arterial',\n",
    "    5 : 'Major Collector',\n",
    "    6 : 'Minor Collector',\n",
    "    7:  'Local'\n",
    "}\n",
    "\n",
    "arcpy.management.CalculateField(\n",
    "    in_table=\"sc_routes\",\n",
    "    field=\"functional_classification\",\n",
    "    expression=\"convert(!functional_classification_code!)\",\n",
    "    expression_type=\"PYTHON3\",\n",
    "    code_block=\"\"\"\n",
    "def convert(code):\n",
    "    return fc_dict.get(code)\"\"\",\n",
    "    field_type=\"TEXT\",\n",
    "    enforce_domains=\"NO_ENFORCE_DOMAINS\"\n",
    ")"
   ]
  }
 ],
 "metadata": {
  "kernelspec": {
   "display_name": "Python 3.9.16 ('arcgispro-py3-clone-dev')",
   "language": "python",
   "name": "python3"
  },
  "language_info": {
   "codemirror_mode": {
    "name": "ipython",
    "version": 3
   },
   "file_extension": ".py",
   "mimetype": "text/x-python",
   "name": "python",
   "nbconvert_exporter": "python",
   "pygments_lexer": "ipython3",
   "version": "3.9.16"
  },
  "vscode": {
   "interpreter": {
    "hash": "a4c764ea2bf24b1e69818dfba780d2c08c53d1474b8e32af3000e5573643d123"
   }
  }
 },
 "nbformat": 4,
 "nbformat_minor": 2
}
