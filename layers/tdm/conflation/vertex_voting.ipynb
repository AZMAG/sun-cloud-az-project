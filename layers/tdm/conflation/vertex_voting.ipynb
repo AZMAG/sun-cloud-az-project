{
 "cells": [
  {
   "cell_type": "markdown",
   "metadata": {},
   "source": [
    "### Define workspace"
   ]
  },
  {
   "cell_type": "markdown",
   "metadata": {},
   "source": [
    "define workspace and variables"
   ]
  },
  {
   "cell_type": "code",
   "execution_count": 1,
   "metadata": {},
   "outputs": [],
   "source": [
    "import arcpy\n",
    "arcpy.env.overwriteOutput = True\n",
    "\n",
    "# authentication to access secured data\n",
    "from arcgis.gis import GIS\n",
    "from arcgis.features import FeatureLayer\n",
    "\n",
    "gis = GIS('pro')\n",
    "db = arcpy.env.workspace = r\"C:\\Users\\AhjungKim\\Documents\\ArcGIS\\Projects\\SunCloud_TDM_Conflation\\tdm_1221.gdb\"\n",
    "routes_url = 'https://services6.arcgis.com/clPWQMwZfdWn4MQZ/arcgis/rest/services/Sun_Cloud_Routes/FeatureServer/2'\n",
    "tdm = 'SunCloudTDMnet2019_2050Volumes'"
   ]
  },
  {
   "cell_type": "markdown",
   "metadata": {},
   "source": [
    "resuable functions"
   ]
  },
  {
   "cell_type": "code",
   "execution_count": 19,
   "metadata": {},
   "outputs": [],
   "source": [
    "def save_fl(db, url, outname):\n",
    "    fl = FeatureLayer(url)\n",
    "    featureset = fl.query()\n",
    "    featureset.save(db, outname)"
   ]
  },
  {
   "cell_type": "markdown",
   "metadata": {},
   "source": [
    "export routes if it doesn't exist"
   ]
  },
  {
   "cell_type": "code",
   "execution_count": 20,
   "metadata": {},
   "outputs": [
    {
     "name": "stdout",
     "output_type": "stream",
     "text": [
      "sun cloud routes exists\n"
     ]
    }
   ],
   "source": [
    "routes = 'sun_cloud_routes'\n",
    "\n",
    "if arcpy.Exists(routes) == False:\n",
    "    save_fl(db, routes_url, routes)\n",
    "else:\n",
    "    print('sun cloud routes exists')\n",
    "    "
   ]
  },
  {
   "cell_type": "markdown",
   "metadata": {},
   "source": [
    "project if route's SR not in wkid = 2223"
   ]
  },
  {
   "cell_type": "code",
   "execution_count": 21,
   "metadata": {},
   "outputs": [
    {
     "name": "stdout",
     "output_type": "stream",
     "text": [
      "in correct SR\n"
     ]
    }
   ],
   "source": [
    "spatial_ref = arcpy.Describe('sun_cloud_routes').spatialReference\n",
    "projected = 'sun_cloud_routes_project'\n",
    "if spatial_ref.factoryCode != '2223' and arcpy.Exists(projected) == False:\n",
    "    print('anim')\n",
    "    arcpy.management.Project('sun_cloud_routes', \n",
    "     projected,\n",
    "    'PROJCS[\"NAD_1983_StatePlane_Arizona_Central_FIPS_0202_Feet_Intl\",GEOGCS[\"GCS_North_American_1983\",DATUM[\"D_North_American_1983\",SPHEROID[\"GRS_1980\",6378137.0,298.257222101]],PRIMEM[\"Greenwich\",0.0],UNIT[\"Degree\",0.0174532925199433]],PROJECTION[\"Transverse_Mercator\"],PARAMETER[\"False_Easting\",700000.0],PARAMETER[\"False_Northing\",0.0],PARAMETER[\"Central_Meridian\",-111.9166666666667],PARAMETER[\"Scale_Factor\",0.9999],PARAMETER[\"Latitude_Of_Origin\",31.0],UNIT[\"Foot\",0.3048]]', \"WGS_1984_(ITRF00)_To_NAD_1983\", 'PROJCS[\"WGS_1984_Web_Mercator_Auxiliary_Sphere\",GEOGCS[\"GCS_WGS_1984\",DATUM[\"D_WGS_1984\",SPHEROID[\"WGS_1984\",6378137.0,298.257223563]],PRIMEM[\"Greenwich\",0.0],UNIT[\"Degree\",0.0174532925199433]],PROJECTION[\"Mercator_Auxiliary_Sphere\"],PARAMETER[\"False_Easting\",0.0],PARAMETER[\"False_Northing\",0.0],PARAMETER[\"Central_Meridian\",0.0],PARAMETER[\"Standard_Parallel_1\",0.0],PARAMETER[\"Auxiliary_Sphere_Type\",0.0],UNIT[\"Meter\",1.0]]', \n",
    "    'PRESERVE_SHAPE')\n",
    "else:\n",
    "    print('in correct SR')"
   ]
  },
  {
   "cell_type": "markdown",
   "metadata": {},
   "source": [
    "project the tdm layer "
   ]
  },
  {
   "cell_type": "code",
   "execution_count": 22,
   "metadata": {},
   "outputs": [
    {
     "name": "stdout",
     "output_type": "stream",
     "text": [
      "in correct SR\n"
     ]
    }
   ],
   "source": [
    "#TODO: make this a function\n",
    "spatial_ref = arcpy.Describe(tdm).spatialReference\n",
    "projected = 'tdm_project'\n",
    "target_sr = arcpy.Describe('sun_cloud_routes_project').spatialReference\n",
    "if spatial_ref.factoryCode != '2223' and arcpy.Exists(projected) == False:\n",
    "    arcpy.management.Project(tdm, projected, target_sr)\n",
    "    print('project completed')\n",
    "else:\n",
    "    print('in correct SR')"
   ]
  },
  {
   "cell_type": "markdown",
   "metadata": {},
   "source": [
    "unsplit the source if attributes are identical"
   ]
  },
  {
   "cell_type": "code",
   "execution_count": 23,
   "metadata": {},
   "outputs": [
    {
     "data": {
      "text/html": [
       "<div class='gpresult'><h2>Messages</h2><div id='messages' data-messages='[\"Start Time: Thursday, December 29, 2022 3:46:13 PM\",\"Sorting Attributes...\",\"Dissolving...\",\"Succeeded at Thursday, December 29, 2022 3:46:17 PM (Elapsed Time: 3.61 seconds)\"]' data-show='true'><div id = 'default' /></div></div>"
      ],
      "text/plain": [
       "<Result 'C:\\\\Users\\\\AhjungKim\\\\Documents\\\\ArcGIS\\\\Projects\\\\SunCloud_TDM_Conflation\\\\tdm_1221.gdb\\\\tdm_project_unsplit'>"
      ]
     },
     "execution_count": 23,
     "metadata": {},
     "output_type": "execute_result"
    }
   ],
   "source": [
    "arcpy.management.UnsplitLine(\"tdm_project\", \"tdm_project_unsplit\", \"ST_NAME;ABDAYVOL2019;BADAYVOL2019;TOTDAYVOL2019;ABDAYVOL2050;BADAYVOL2050;TOTDAYVOL2050\")"
   ]
  },
  {
   "cell_type": "markdown",
   "metadata": {},
   "source": [
    "create end points from the source tdm.  we'll use this to split the destination"
   ]
  },
  {
   "cell_type": "code",
   "execution_count": 24,
   "metadata": {},
   "outputs": [
    {
     "data": {
      "text/html": [
       "<div class='gpresult'><h2>Messages</h2><div id='messages' data-messages='[\"Start Time: Thursday, December 29, 2022 3:46:17 PM\",\"Succeeded at Thursday, December 29, 2022 3:46:21 PM (Elapsed Time: 3.12 seconds)\"]' data-show='true'><div id = 'default' /></div></div>"
      ],
      "text/plain": [
       "<Result 'C:\\\\Users\\\\AhjungKim\\\\Documents\\\\ArcGIS\\\\Projects\\\\SunCloud_TDM_Conflation\\\\tdm_1221.gdb\\\\tdm_end_pts'>"
      ]
     },
     "execution_count": 24,
     "metadata": {},
     "output_type": "execute_result"
    }
   ],
   "source": [
    "arcpy.management.FeatureVerticesToPoints(\"tdm_project_unsplit\", \"tdm_end_pts\", \"BOTH_ENDS\")\n"
   ]
  },
  {
   "cell_type": "markdown",
   "metadata": {},
   "source": [
    "split the routes at tdm end points (don't use the snap tool)"
   ]
  },
  {
   "cell_type": "code",
   "execution_count": 25,
   "metadata": {},
   "outputs": [
    {
     "data": {
      "text/html": [
       "<div class='gpresult'><h2>Messages</h2><div id='messages' data-messages='[\"Start Time: Thursday, December 29, 2022 3:46:21 PM\",\"Succeeded at Thursday, December 29, 2022 3:48:15 PM (Elapsed Time: 1 minutes 53 seconds)\"]' data-show='true'><div id = 'default' /></div></div>"
      ],
      "text/plain": [
       "<Result 'C:\\\\Users\\\\AhjungKim\\\\Documents\\\\ArcGIS\\\\Projects\\\\SunCloud_TDM_Conflation\\\\tdm_1221.gdb\\\\routes_unsplit_endpt'>"
      ]
     },
     "execution_count": 25,
     "metadata": {},
     "output_type": "execute_result"
    }
   ],
   "source": [
    "arcpy.management.SplitLineAtPoint(\"sun_cloud_routes_project\", \"tdm_end_pts\", \"routes_unsplit_endpt\", \"40 Meters\")"
   ]
  },
  {
   "cell_type": "markdown",
   "metadata": {},
   "source": [
    "create points along the tmd line"
   ]
  },
  {
   "cell_type": "code",
   "execution_count": 26,
   "metadata": {},
   "outputs": [
    {
     "data": {
      "text/html": [
       "<div class='gpresult'><h2>Messages</h2><div id='messages' data-messages='[\"Start Time: Thursday, December 29, 2022 3:57:23 PM\",\"Succeeded at Thursday, December 29, 2022 3:58:51 PM (Elapsed Time: 1 minutes 27 seconds)\"]' data-show='true'><div id = 'default' /></div></div>"
      ],
      "text/plain": [
       "<Result 'C:\\\\Users\\\\AhjungKim\\\\Documents\\\\ArcGIS\\\\Projects\\\\SunCloud_TDM_Conflation\\\\tdm_1221.gdb\\\\tdm_points_8m_backup'>"
      ]
     },
     "execution_count": 26,
     "metadata": {},
     "output_type": "execute_result"
    }
   ],
   "source": [
    "arcpy.management.GeneratePointsAlongLines('tdm_project_unsplit', 'tdm_points_8m', \"DISTANCE\", \"8 Meters\", None, \"NO_END_POINTS\")\n",
    "arcpy.FeatureClassToFeatureClass_conversion(\"tdm_points_8m\", \n",
    "                                            db, \n",
    "                                            \"tdm_points_8m_backup\")"
   ]
  },
  {
   "cell_type": "markdown",
   "metadata": {},
   "source": [
    "get the source fields to transfer."
   ]
  },
  {
   "cell_type": "code",
   "execution_count": 27,
   "metadata": {},
   "outputs": [],
   "source": [
    "def containsNumber(value):\n",
    "    for character in value:\n",
    "        if character.isdigit():\n",
    "            return True\n",
    "    return False"
   ]
  },
  {
   "cell_type": "code",
   "execution_count": 28,
   "metadata": {},
   "outputs": [
    {
     "data": {
      "text/plain": [
       "[['ABDAYVOL2019', 'LONG'],\n",
       " ['BADAYVOL2019', 'LONG'],\n",
       " ['TOTDAYVOL2019', 'LONG'],\n",
       " ['ABDAYVOL2050', 'LONG'],\n",
       " ['BADAYVOL2050', 'LONG'],\n",
       " ['TOTDAYVOL2050', 'LONG']]"
      ]
     },
     "execution_count": 28,
     "metadata": {},
     "output_type": "execute_result"
    }
   ],
   "source": [
    "\n",
    "fields = arcpy.ListFields('tdm_project_unsplit')\n",
    "# for field in fields:\n",
    "#     print(\"{0} is a type of {1} with a length of {2}\"\n",
    "#           .format(field.name, field.type, field.length))\n",
    "\n",
    "# fields to conflate\n",
    "def convert_type(f):\n",
    "    if f.upper()=='INTEGER':\n",
    "        return 'LONG'\n",
    "    elif f.upper()=='STRING':\n",
    "        return 'TEXT'\n",
    "    else:\n",
    "        return f\n",
    "\n",
    "\n",
    "fields = [[field.name, convert_type(field.type)] for field in fields if field.required is False and field.name.upper() not in ('ST_NAME')]\n",
    "fields\n"
   ]
  },
  {
   "cell_type": "markdown",
   "metadata": {},
   "source": [
    "add new fields to destination"
   ]
  },
  {
   "cell_type": "code",
   "execution_count": 29,
   "metadata": {},
   "outputs": [
    {
     "data": {
      "text/html": [
       "<div class='gpresult'><h2>Messages</h2><div id='messages' data-messages='[\"Start Time: Thursday, December 29, 2022 3:58:52 PM\",\"Adding ABDAYVOL2019 to routes_unsplit_endpt...\",\"Adding BADAYVOL2019 to routes_unsplit_endpt...\",\"Adding TOTDAYVOL2019 to routes_unsplit_endpt...\",\"Adding ABDAYVOL2050 to routes_unsplit_endpt...\",\"Adding BADAYVOL2050 to routes_unsplit_endpt...\",\"Adding TOTDAYVOL2050 to routes_unsplit_endpt...\",\"Succeeded at Thursday, December 29, 2022 3:58:54 PM (Elapsed Time: 1.72 seconds)\"]' data-show='true'><div id = 'default' /></div></div>"
      ],
      "text/plain": [
       "<Result 'C:\\\\Users\\\\AhjungKim\\\\Documents\\\\ArcGIS\\\\Projects\\\\SunCloud_TDM_Conflation\\\\tdm_1221.gdb\\\\routes_unsplit_endpt'>"
      ]
     },
     "execution_count": 29,
     "metadata": {},
     "output_type": "execute_result"
    }
   ],
   "source": [
    "arcpy.management.AddFields('routes_unsplit_endpt', fields)"
   ]
  },
  {
   "cell_type": "markdown",
   "metadata": {},
   "source": [
    "verify new fields have been added"
   ]
  },
  {
   "cell_type": "code",
   "execution_count": 30,
   "metadata": {},
   "outputs": [
    {
     "name": "stdout",
     "output_type": "stream",
     "text": [
      "OBJECTID\n",
      "Shape\n",
      "route_id\n",
      "functional_class\n",
      "ORIG_FID\n",
      "ORIG_SEQ\n",
      "Shape_Length\n",
      "ABDAYVOL2019\n",
      "BADAYVOL2019\n",
      "TOTDAYVOL2019\n",
      "ABDAYVOL2050\n",
      "BADAYVOL2050\n",
      "TOTDAYVOL2050\n"
     ]
    }
   ],
   "source": [
    "fields = arcpy.ListFields('routes_unsplit_endpt')\n",
    "for field in fields:\n",
    "    print(field.name)"
   ]
  },
  {
   "cell_type": "markdown",
   "metadata": {},
   "source": [
    "snap points to the source "
   ]
  },
  {
   "cell_type": "code",
   "execution_count": 33,
   "metadata": {},
   "outputs": [],
   "source": [
    "# field_names = [item[0] for item in fields]\n",
    "# fields_to_update = field_names\n",
    "\n",
    "# field_names.insert(0, 'SHAPE@')\n",
    "# field_names.insert(1,'route_id')\n",
    "# field_names.insert(2,'OID@')\n",
    "# st_index = field_names.index('st_name')\n",
    "\n",
    "\n",
    "# filter snapped points via fuzzy string match\n",
    "import re\n",
    "def strip_stop_words(x):\n",
    "    # remove leading zeros\n",
    "    x =  x.lstrip(\"0\")\n",
    "\n",
    "    stop_words = ['avenue', 'ave', \n",
    "                  'boulevard', 'blvd', \n",
    "                  'drive', 'dr', \n",
    "                  'freeway', 'frwy', 'fwy',\n",
    "                  'lane', 'ln',\n",
    "                  'parkway', 'pkwy',  \n",
    "                  'road', 'rd', \n",
    "                  'route', 'rte',\n",
    "                  'street', 'st', \n",
    "                  'trail', 'tr',\n",
    "                  'way',\n",
    "                  'ditch', 'canal', 'wash', 'channel', 'aqueduct', 'creek', 'river', 'adot', 'maintenance',\n",
    "                  'railroad', 'chn', 'drainage', 'lake', 'siphons', 'track', 'bnsf', \n",
    "                  'place', 'pl', \n",
    "                  'l', 'n', 's', 'e', 'w', 'irr', 'i', 'us', 'to', '-', 'from',\n",
    "                  'sl', 'sr', 'loop', 'lp', 'frtg', \n",
    "                  'sb', 'wb', 'eb', 'nb', 'direct', 'hov', 'ramp', 'n-w', 'w-s', 'n-e']\n",
    "    x = re.split(r'\\'|\\s|;|,|/|-|\\(|\\)', x)\n",
    "    # print(x)\n",
    "    x = [y for y in x if y.lower() not in stop_words]\n",
    "    # clean_list = [n for n in x if n.strip()]\n",
    "    remove_zero = [item.lstrip('0') for item in x]\n",
    "    clean= [n for n in remove_zero if n.strip()]\n",
    "    return(clean)"
   ]
  },
  {
   "cell_type": "markdown",
   "metadata": {},
   "source": [
    "###  Recursively snap and attribute (TODO: make this a function)"
   ]
  },
  {
   "cell_type": "code",
   "execution_count": 2,
   "metadata": {},
   "outputs": [
    {
     "data": {
      "text/html": [
       "<div class='gpresult'><h2>Messages</h2><div id='messages' data-messages='[\"Start Time: Tuesday, January 3, 2023 3:48:37 PM\",\"Succeeded at Tuesday, January 3, 2023 3:58:47 PM (Elapsed Time: 10 minutes 9 seconds)\"]' data-show='true'><div id = 'default' /></div></div>"
      ],
      "text/plain": [
       "<Result 'C:\\\\Users\\\\AhjungKim\\\\Documents\\\\ArcGIS\\\\Projects\\\\SunCloud_TDM_Conflation\\\\tdm_1221.gdb\\\\tdm_points_8m'>"
      ]
     },
     "execution_count": 2,
     "metadata": {},
     "output_type": "execute_result"
    }
   ],
   "source": [
    "# snap by 20 meters\n",
    "\n",
    "vertices = 'tdm_points_8m'\n",
    "destination = 'routes_unsplit_endpt'\n",
    "snap_config =  [[destination, \"EDGE\", \"1 Meters\"]]\n",
    "arcpy.edit.Snap(vertices, snap_config)"
   ]
  },
  {
   "cell_type": "code",
   "execution_count": 46,
   "metadata": {},
   "outputs": [
    {
     "name": "stdout",
     "output_type": "stream",
     "text": [
      "OBJECTID\n",
      "Shape\n",
      "route_id\n",
      "functional_class\n",
      "ORIG_FID\n",
      "ORIG_SEQ\n",
      "Shape_Length\n",
      "ABDAYVOL2019\n",
      "BADAYVOL2019\n",
      "TOTDAYVOL2019\n",
      "ABDAYVOL2050\n",
      "BADAYVOL2050\n",
      "TOTDAYVOL2050\n",
      "notes\n"
     ]
    }
   ],
   "source": [
    "fields = arcpy.ListFields('routes_unsplit_endpt')\n",
    "for field in fields:\n",
    "    print(field.name)"
   ]
  },
  {
   "cell_type": "code",
   "execution_count": 40,
   "metadata": {},
   "outputs": [
    {
     "data": {
      "text/html": [
       "<div class='gpresult'><h2>Messages</h2><div id='messages' data-messages='[\"Start Time: Thursday, December 29, 2022 4:26:47 PM\",\"Adding notes to routes_unsplit_endpt...\",\"Succeeded at Thursday, December 29, 2022 4:26:47 PM (Elapsed Time: 0.11 seconds)\"]' data-show='true'><div id = 'default' /></div></div>"
      ],
      "text/plain": [
       "<Result 'C:\\\\Users\\\\AhjungKim\\\\Documents\\\\ArcGIS\\\\Projects\\\\SunCloud_TDM_Conflation\\\\tdm_1221.gdb\\\\routes_unsplit_endpt'>"
      ]
     },
     "execution_count": 40,
     "metadata": {},
     "output_type": "execute_result"
    }
   ],
   "source": [
    "arcpy.AddField_management('routes_unsplit_endpt', 'notes', 'TEXT')"
   ]
  },
  {
   "cell_type": "code",
   "execution_count": 5,
   "metadata": {},
   "outputs": [
    {
     "name": "stdout",
     "output_type": "stream",
     "text": [
      "13036 route segments intersect with points\n",
      "oid 2\n",
      "3 overlaps\n",
      "I-8\n",
      "no st name\n",
      "oid 3\n",
      "112 overlaps\n",
      "I-8\n",
      "no st name\n",
      "oid 4\n",
      "48 overlaps\n",
      "I-8\n",
      "no st name\n",
      "oid 5\n",
      "2 overlaps\n",
      " \n",
      "oid 8\n",
      "4 overlaps\n",
      "I-8\n",
      "no st name\n",
      "oid 9\n",
      "2 overlaps\n",
      "I-8\n",
      "no st name\n",
      "oid 10\n",
      "389 overlaps\n",
      "I-8\n",
      "no st name\n",
      "oid 11\n",
      "30 overlaps\n",
      "I-8\n",
      "no st name\n",
      "oid 12\n",
      "1 overlaps\n",
      "oid 13\n",
      "1 overlaps\n",
      "oid 14\n",
      "2 overlaps\n",
      " \n",
      "oid 15\n"
     ]
    }
   ],
   "source": [
    "from distutils.command.clean import clean\n",
    "import statistics\n",
    "\n",
    "point = 'tdm_points_8m'\n",
    "line = 'routes_unsplit_endpt'\n",
    "\n",
    "arcpy.Delete_management('pt_layer')\n",
    "arcpy.Delete_management('line_layer')\n",
    "arcpy.management.MakeFeatureLayer(point, 'pt_layer')\n",
    "# 'TOTDAYVOL2019 is null'\n",
    "arcpy.management.MakeFeatureLayer(line, 'line_layer', where_clause='TOTDAYVOL2019 is null')\n",
    "# 'OBJECTID = 7019'\n",
    "\n",
    "route_selection = arcpy.management.SelectLayerByLocation('line_layer', 'INTERSECT', 'pt_layer')\n",
    "\n",
    "cnt = int(arcpy.GetCount_management(route_selection).getOutput(0))\n",
    "print(cnt, 'route segments intersect with points')\n",
    "\n",
    "if cnt>0:\n",
    "    route_fields = ['SHAPE@', 'OID@', 'ABDAYVOL2019', 'BADAYVOL2019', 'TOTDAYVOL2019', 'ABDAYVOL2050', 'BADAYVOL2050', 'TOTDAYVOL2050', 'notes']\n",
    "    with arcpy.da.UpdateCursor(route_selection, route_fields, \"notes is null\") as cursor:\n",
    "        for row in cursor:\n",
    "            if row[0]:\n",
    "                line_geom = row[0]\n",
    "                oid = row[1]\n",
    "                print(\"oid\", oid)\n",
    "                selection = arcpy.management.SelectLayerByLocation('pt_layer', 'INTERSECT', line_geom)\n",
    "                \n",
    "                cnt = int(arcpy.GetCount_management(selection).getOutput(0))\n",
    "                print(cnt, 'overlaps')\n",
    "                \n",
    "                # proceed if more than one coinciding points\n",
    "                if cnt>1:\n",
    "\n",
    "                    if(1==1):\n",
    "                        mode_oid = statistics.multimode([row for row in arcpy.da.SearchCursor(selection, ['ORIG_FID', 'ST_NAME'])])\n",
    "                        st_name = (mode_oid[0])[1]\n",
    "                        print(st_name)\n",
    "\n",
    "                        if len(mode_oid) == 1:\n",
    "                            if not st_name:\n",
    "\n",
    "                                # print('tdm:', mode_oid)\n",
    "                                where = 'ORIG_FID={0}'.format(mode_oid[0][0])\n",
    "                                print(where)\n",
    "                                subset = arcpy.management.SelectLayerByAttribute('pt_layer', 'SUBSET_SELECTION', where_clause=where)\n",
    "                                # TODO: make this a function, use list index, check list has a single unique value\n",
    "                                row[2] = list(set([row[0] for row in arcpy.da.SearchCursor(subset, ['ABDAYVOL2019'])]))[0]\n",
    "                                row[3] = list(set([row[0] for row in arcpy.da.SearchCursor(subset, ['BADAYVOL2019'])]))[0]\n",
    "                                row[4] = list(set([row[0] for row in arcpy.da.SearchCursor(subset, ['TOTDAYVOL2019'])]))[0]\n",
    "                                row[5] = list(set([row[0] for row in arcpy.da.SearchCursor(subset, ['ABDAYVOL2050'])]))[0]\n",
    "                                row[6] = list(set([row[0] for row in arcpy.da.SearchCursor(subset, ['BADAYVOL2050'])]))[0]\n",
    "                                row[7] = list(set([row[0] for row in arcpy.da.SearchCursor(subset, ['TOTDAYVOL2050'])]))[0]\n",
    "                            else:\n",
    "                                print(\"no st name\")\n",
    "                                row[8] = 'no st_name'    \n",
    "                        else:\n",
    "                            row[8] = 'multimode'    \n",
    "\n",
    "                        # print(row)\n",
    "                        cursor.updateRow(row)\n",
    "                # else:\n",
    "                #     print('no overlap')\n",
    "                #     row[8] = 'no overlap'\n",
    "                #     cursor.updateRow(row)\n",
    "else:\n",
    "    print(\"null line doesn't overlap with points\")\n",
    "\n"
   ]
  },
  {
   "cell_type": "code",
   "execution_count": 3,
   "metadata": {},
   "outputs": [
    {
     "name": "stdout",
     "output_type": "stream",
     "text": [
      "714164\n"
     ]
    }
   ],
   "source": [
    "# delete the used points so they don't participate in snapping again.\n",
    "arcpy.Delete_management('pt_layer')\n",
    "arcpy.Delete_management('line_layer')\n",
    "arcpy.management.MakeFeatureLayer(point, 'pt_layer')\n",
    "arcpy.management.MakeFeatureLayer(line, 'line_layer', 'ABDAYVOL2019 is not null')\n",
    "\n",
    "pt_selection = arcpy.management.SelectLayerByLocation('pt_layer', 'INTERSECT', 'line_layer')\n",
    "\n",
    "cnt = int(arcpy.GetCount_management(pt_selection).getOutput(0))\n",
    "print(cnt)\n",
    "if cnt>0 :\n",
    "    arcpy.DeleteFeatures_management(pt_selection)\n"
   ]
  },
  {
   "cell_type": "code",
   "execution_count": null,
   "metadata": {},
   "outputs": [],
   "source": []
  }
 ],
 "metadata": {
  "kernelspec": {
   "display_name": "Python 3.9.11 ('arcgispro-py3')",
   "language": "python",
   "name": "python3"
  },
  "language_info": {
   "codemirror_mode": {
    "name": "ipython",
    "version": 3
   },
   "file_extension": ".py",
   "mimetype": "text/x-python",
   "name": "python",
   "nbconvert_exporter": "python",
   "pygments_lexer": "ipython3",
   "version": "3.9.11"
  },
  "orig_nbformat": 4,
  "vscode": {
   "interpreter": {
    "hash": "ce21b655b4d6c9e397d5ad93d5666c623f49909f6d0cc2f72076dafcf1b3ecfb"
   }
  }
 },
 "nbformat": 4,
 "nbformat_minor": 2
}
