{
 "cells": [
  {
   "cell_type": "code",
   "execution_count": null,
   "metadata": {},
   "outputs": [],
   "source": [
    "import arcpy\n",
    "\n",
    "\n",
    "db = arcpy.env.workspace = './data/tdm_conflation.gdb'\n",
    "arcpy.Describe(db)"
   ]
  },
  {
   "cell_type": "code",
   "execution_count": null,
   "metadata": {},
   "outputs": [],
   "source": [
    "sr = arcpy.SpatialReference(2223)\n",
    "\n",
    "def project(in_data, target_sr, out_name):\n",
    "\n",
    "\n",
    "    in_sr = arcpy.Describe(in_data).spatialReference\n",
    "    tr = arcpy.ListTransformations (in_sr, target_sr)\n",
    "    datum_conversion = ''\n",
    "    if(len(tr)>0):\n",
    "        datum_conversion = arcpy.ListTransformations (in_sr, target_sr)[0]\n",
    "\n",
    "    arcpy.Project_management(\n",
    "        in_dataset = in_data, \n",
    "        out_dataset = out_name,\n",
    "        out_coor_system = target_sr,\n",
    "        transform_method = datum_conversion)"
   ]
  },
  {
   "cell_type": "code",
   "execution_count": null,
   "metadata": {},
   "outputs": [],
   "source": [
    "future_rd_raw = 'SunCloudFutureOnlyLinksVolumesCapacityV3'\n",
    "out_name = 'unbuilt_future_roads '\n",
    "sr = arcpy.SpatialReference(2223)\n",
    "project(future_rd_raw,sr, out_name)\n"
   ]
  },
  {
   "cell_type": "code",
   "execution_count": null,
   "metadata": {},
   "outputs": [],
   "source": [
    "target = out_name\n",
    "\n",
    "arcpy.management.CalculateField(\n",
    "    in_table=\"unbuild_future_roads\",\n",
    "    field=\"volume_2050\",\n",
    "    expression=\"max(!ABdayVOL50!,!BAdayVOL50!,!TOTdayVOL50!)\",\n",
    "    expression_type=\"PYTHON3\",\n",
    "    code_block=\"\",\n",
    "    field_type=\"DOUBLE\",\n",
    "    enforce_domains=\"NO_ENFORCE_DOMAINS\"\n",
    ")\n",
    "\n",
    "arcpy.management.CalculateField(\n",
    "    in_table=\"unbuild_future_roads\",\n",
    "    field=\"capacity_2050\",\n",
    "    expression=\"!ABCAPACITY2050!+!BACAPACITY2050!\",\n",
    "    expression_type=\"PYTHON3\",\n",
    "    code_block=\"\",\n",
    "    field_type=\"DOUBLE\",\n",
    "    enforce_domains=\"NO_ENFORCE_DOMAINS\"\n",
    ")"
   ]
  },
  {
   "cell_type": "code",
   "execution_count": null,
   "metadata": {},
   "outputs": [],
   "source": [
    "fc = 'unbuilt_future_roads'\n",
    "target_fields = [\n",
    "    ('suncloud_id', 'sun_cloud_id', 'Segment ID'),\n",
    "    ('volume_2050','volume_2050','Daily Volume 2050'),\n",
    "    ('model', 'source', 'Source'),\n",
    "    ('st_name', 'route_id', 'Route ID'),\n",
    "    ('capacity_2050','capacity_2050', 'Capacity 2050'),\n",
    "    ('vc_2050','vc_2050','Volume/Capacity Ratio 2050')\n",
    "]\n",
    "for current, new, alias in target_fields:\n",
    "    arcpy.management.AlterField(fc, current, new, alias)"
   ]
  },
  {
   "cell_type": "code",
   "execution_count": 12,
   "metadata": {},
   "outputs": [
    {
     "data": {
      "text/plain": [
       "['ID',\n",
       " 'DIR',\n",
       " 'LENGTH',\n",
       " 'ABLANES2050',\n",
       " 'BALANES2050',\n",
       " 'ABCAPACITY2050',\n",
       " 'BACAPACITY2050',\n",
       " 'ABdayVOL50',\n",
       " 'BAdayVOL50',\n",
       " 'TOTdayVOL50',\n",
       " 'Comments']"
      ]
     },
     "execution_count": 12,
     "metadata": {},
     "output_type": "execute_result"
    }
   ],
   "source": [
    "req_fields = ['sun_cloud_id','capacity_2050', 'volume_2050','source','route_id', 'vc_2050']\n",
    "\n",
    "all_fields = arcpy.ListFields(fc)\n",
    "f_names = [f.name for f in all_fields if f.required == False]\n",
    "\n",
    "to_delete = [i for i in f_names if i not in req_fields]\n",
    "to_delete"
   ]
  },
  {
   "cell_type": "code",
   "execution_count": 15,
   "metadata": {},
   "outputs": [
    {
     "data": {
      "text/html": [
       "<div class='gpresult'><h2>Messages</h2><div id='messages' data-messages='[\"Start Time: Friday, March 17, 2023 2:18:05 PM\",\"Succeeded at Friday, March 17, 2023 2:18:09 PM (Elapsed Time: 3.36 seconds)\"]' data-show='true'><div id = 'default' /></div></div>"
      ],
      "text/plain": [
       "<Result './data/tdm_conflation.gdb\\\\unbuilt_future_roads'>"
      ]
     },
     "execution_count": 15,
     "metadata": {},
     "output_type": "execute_result"
    }
   ],
   "source": [
    "arcpy.DeleteField_management(fc, to_delete)"
   ]
  }
 ],
 "metadata": {
  "kernelspec": {
   "display_name": "Python 3.9.16 ('arcgispro-py3')",
   "language": "python",
   "name": "python3"
  },
  "language_info": {
   "codemirror_mode": {
    "name": "ipython",
    "version": 3
   },
   "file_extension": ".py",
   "mimetype": "text/x-python",
   "name": "python",
   "nbconvert_exporter": "python",
   "pygments_lexer": "ipython3",
   "version": "3.9.16"
  },
  "orig_nbformat": 4,
  "vscode": {
   "interpreter": {
    "hash": "ce21b655b4d6c9e397d5ad93d5666c623f49909f6d0cc2f72076dafcf1b3ecfb"
   }
  }
 },
 "nbformat": 4,
 "nbformat_minor": 2
}
