{
 "cells": [
  {
   "cell_type": "markdown",
   "metadata": {},
   "source": [
    "# Process the unattributed segments"
   ]
  },
  {
   "cell_type": "markdown",
   "metadata": {},
   "source": [
    "Define workspace and project."
   ]
  },
  {
   "cell_type": "code",
   "execution_count": 1,
   "metadata": {},
   "outputs": [
    {
     "data": {
      "text/html": [
       "<style>table td#td0  {font-weight: bold}</style><table class=\"notebook\"><colgroup><col style=\"width:45%\"></col><col style=\"width:55%\"></col></colgroup><tr><td id = \"td0\" title=\"catalogPath\">catalogPath</td><td title=\"./pro/tdm_conflation.gdb\">./pro/tdm_conflation.gdb</td></tr><tr><td id = \"td0\" title=\"dataType\">dataType</td><td title=\"Workspace\">Workspace</td></tr></table><p class=\"gpresult\">For additional help,     see <a href=\"#\" onclick=\"chrome.webview.postMessage('describe_helpid_120003837');return false;\">arcpy.Describe</a></p><br>"
      ],
      "text/plain": [
       "<geoprocessing describe data object at 0x24e3b9fafb0>"
      ]
     },
     "execution_count": 1,
     "metadata": {},
     "output_type": "execute_result"
    }
   ],
   "source": [
    "import arcpy\n",
    "arcpy.env.overwriteOutput = True\n",
    "\n",
    "# authentication to access secured data\n",
    "from arcgis.gis import GIS\n",
    "from arcgis.features import FeatureLayer\n",
    "\n",
    "gis = GIS('pro')\n",
    "db = arcpy.env.workspace = './pro/tdm_conflation.gdb'\n",
    "arcpy.Describe(db)"
   ]
  },
  {
   "cell_type": "code",
   "execution_count": null,
   "metadata": {},
   "outputs": [],
   "source": [
    "key_fields = ['ABSPEED2019',\n",
    " 'BASPEED2019',\n",
    " 'ABSPEED2050',\n",
    " 'BASPEED2050',\n",
    " 'ABLANES2019',\n",
    " 'BALANES2019',\n",
    " 'ABLANES2050',\n",
    " 'BALANES2050',\n",
    " 'ABLANECAP',\n",
    " 'BALANECAP',\n",
    " 'ABCAPACITY2019',\n",
    " 'BACAPACITY2019',\n",
    " 'ABCAPACITY2050',\n",
    " 'BACAPACITY2050',\n",
    " 'ABDAYVOL2019',\n",
    " 'BADAYVOL2019',\n",
    " 'TOTDAYVOL2019',\n",
    " 'ABDAYVOL2050',\n",
    " 'BADAYVOL2050',\n",
    " 'TOTDAYVOL2050']"
   ]
  },
  {
   "cell_type": "code",
   "execution_count": null,
   "metadata": {},
   "outputs": [],
   "source": [
    "prj_path = r\"C:\\Development\\sun_cloud\\layers\\tdm\\conflation\\pro\\tdm_conflation.aprx\"\n",
    "aprx = arcpy.mp.ArcGISProject(prj_path)\n",
    "map = aprx.listMaps()[0]\n",
    "map.name"
   ]
  },
  {
   "cell_type": "markdown",
   "metadata": {},
   "source": [
    "Function for applying definition query. "
   ]
  },
  {
   "cell_type": "code",
   "execution_count": null,
   "metadata": {},
   "outputs": [],
   "source": [
    "def apply_df_and_count(_aprx, map_index, query_str):\n",
    "    \"\"\"apply definition query to map layers and print count for each layer\"\"\"\n",
    "    map = aprx.listMaps()[map_index]\n",
    "    for lyr in map.listLayers():\n",
    "        if lyr.supports(\"DEFINITIONQUERY\"):\n",
    "            lyr.definitionQuery = query_str\n",
    "            result = arcpy.GetCount_management(lyr)\n",
    "            count = int(result.getOutput(0))\n",
    "            if count>0:\n",
    "                print(\"{}:{}\".format(lyr, count))\n",
    "    _aprx.save() \n",
    "# apply_df_and_count(aprx, 0, None)"
   ]
  },
  {
   "cell_type": "code",
   "execution_count": null,
   "metadata": {},
   "outputs": [],
   "source": [
    "base_query = \"note = 'vc 2019 null' And conflation_type NOT IN ('no_source', 'review road representation')\"\n",
    "\n",
    "apply_df_and_count(aprx,0, base_query)"
   ]
  },
  {
   "cell_type": "markdown",
   "metadata": {},
   "source": [
    "Dual to dual case."
   ]
  },
  {
   "cell_type": "code",
   "execution_count": null,
   "metadata": {},
   "outputs": [],
   "source": [
    "base_query = \"note = 'vc 2019 null' And conflation_type NOT IN ('no_source', 'review road representation')\"\n",
    "sel_query = \" and conflation_type in ('dual_line to dual_line')\"\n",
    "apply_df_and_count(aprx,0, base_query+sel_query)"
   ]
  },
  {
   "cell_type": "code",
   "execution_count": null,
   "metadata": {},
   "outputs": [],
   "source": [
    "joined = arcpy.management.AddJoin(\n",
    "    in_layer_or_view=\"tdm_conflation_backup_bf_dropfields\",\n",
    "    in_field=\"suncloudid\",\n",
    "    join_table=\"tdm_project\",\n",
    "    join_field=\"SUNCLOUDID\",\n",
    "    join_type=\"KEEP_COMMON\",\n",
    "    index_join_fields=\"INDEX_JOIN_FIELDS\"\n",
    ")"
   ]
  },
  {
   "cell_type": "code",
   "execution_count": null,
   "metadata": {},
   "outputs": [],
   "source": [
    "# transfer over all key field values"
   ]
  },
  {
   "cell_type": "code",
   "execution_count": null,
   "metadata": {},
   "outputs": [],
   "source": [
    "# transfer over all fields\n",
    "\n",
    "fc = 'tdm_conflation_backup_bf_dropfields'\n",
    "for k in key_fields:\n",
    "    print(k)\n",
    "    arcpy.management.CalculateField(\n",
    "    in_table=joined,\n",
    "    field=\"{0}.{1}\".format(fc, k),\n",
    "    expression=\"!tdm_project.{}!\".format(k),\n",
    "    expression_type=\"PYTHON3\",\n",
    "    code_block=\"\",\n",
    "    field_type=\"TEXT\",\n",
    "    enforce_domains=\"NO_ENFORCE_DOMAINS\"\n",
    ")"
   ]
  },
  {
   "cell_type": "code",
   "execution_count": null,
   "metadata": {},
   "outputs": [],
   "source": [
    "# Remove definition query."
   ]
  },
  {
   "cell_type": "code",
   "execution_count": null,
   "metadata": {},
   "outputs": [],
   "source": [
    "apply_df_and_count(aprx, 0, None)"
   ]
  },
  {
   "cell_type": "markdown",
   "metadata": {},
   "source": [
    "Dual to single line."
   ]
  },
  {
   "cell_type": "code",
   "execution_count": null,
   "metadata": {},
   "outputs": [],
   "source": [
    "base_query = \"note = 'vc 2019 null' And conflation_type NOT IN ('no_source', 'review road representation')\"\n",
    "sel_query = \" and conflation_type IN ('single_line to dual_line')\"\n",
    "apply_df_and_count(aprx,0, base_query+sel_query)"
   ]
  },
  {
   "cell_type": "code",
   "execution_count": null,
   "metadata": {},
   "outputs": [],
   "source": [
    "def unique_values(table , field):\n",
    "    with arcpy.da.SearchCursor(table, [field]) as cursor:\n",
    "        return sorted({row[0] for row in cursor})"
   ]
  },
  {
   "cell_type": "code",
   "execution_count": null,
   "metadata": {},
   "outputs": [],
   "source": [
    "base_query = \"note = 'vc 2019 null' And conflation_type NOT IN ('no_source', 'review road representation')\"\n",
    "sel_query = \"note = 'vc 2019 null' And conflation_type NOT IN ('no_source', 'review road representation') and conflation_type IN ('single_line to dual_line')\""
   ]
  },
  {
   "cell_type": "code",
   "execution_count": null,
   "metadata": {},
   "outputs": [],
   "source": [
    "\n",
    "sel = arcpy.SelectLayerByAttribute_management('tdm_conflation_backup_bf_dropfields', 'NEW_SELECTION', base_query+sel_query)\n",
    "print(arcpy.GetCount_management(sel))"
   ]
  },
  {
   "cell_type": "code",
   "execution_count": null,
   "metadata": {},
   "outputs": [],
   "source": [
    "\n",
    "sc_ids = unique_values(sel, 'suncloudid')\n",
    "sc_ids"
   ]
  },
  {
   "cell_type": "code",
   "execution_count": null,
   "metadata": {},
   "outputs": [],
   "source": [
    "key_fields = [\n",
    " 'ABLANES2019',\n",
    " 'BALANES2019',\n",
    " 'ABLANES2050',\n",
    " 'BALANES2050',\n",
    " 'ABCAPACITY2019',\n",
    " 'BACAPACITY2019',\n",
    " 'ABCAPACITY2050',\n",
    " 'BACAPACITY2050',\n",
    " 'ABDAYVOL2019',\n",
    " 'BADAYVOL2019',\n",
    " 'TOTDAYVOL2019',\n",
    " 'ABDAYVOL2050',\n",
    " 'BADAYVOL2050',\n",
    " 'TOTDAYVOL2050']"
   ]
  },
  {
   "cell_type": "code",
   "execution_count": null,
   "metadata": {},
   "outputs": [],
   "source": [
    "\n",
    "for sid in sc_ids:\n",
    "# if 1==1:\n",
    "    # sid = 'ADOT_146609'\n",
    "    sql = \"suncloudid = '{}'\".format(sid)\n",
    "    print(sql)\n",
    "\n",
    "    route_ids = [row[0] for row in arcpy.da.SearchCursor(sel, 'route_id', sql)]\n",
    "    print(route_ids)\n",
    "\n",
    "    route_ids = list(set(route_ids))\n",
    "    length = len(route_ids)\n",
    "    if length==2:\n",
    "        print(route_ids)\n",
    "        # for id in route_ids:\n",
    "\n",
    "        for f in key_fields:\n",
    "            print('field='+f)\n",
    "            value = [row[0] for row in arcpy.da.SearchCursor('tdm_project', f, \"SUNCLOUDID ='{}'\".format(sid))][0]\n",
    "            print(\"value: {}\".format(value))\n",
    "            if(value):\n",
    "                if(f.startswith('A')):\n",
    "                    _query = \"route_id = '{0}' and suncloudid = '{1}'\".format(route_ids[0], sid)\n",
    "                    selected = arcpy.SelectLayerByAttribute_management(sel, 'NEW_SELECTION', _query)\n",
    "                    arcpy.management.CalculateField(\n",
    "                        in_table=selected,\n",
    "                        field=f,\n",
    "                        expression=value,\n",
    "                        expression_type=\"PYTHON3\")\n",
    "                        # arcpy.SelectLayerByAttribute_management\n",
    "                elif(f.startswith('B')):\n",
    "                    _query = \"route_id = '{0}' and suncloudid = '{1}'\".format(route_ids[1], sid)\n",
    "                    selected = arcpy.SelectLayerByAttribute_management(sel, 'NEW_SELECTION', _query)\n",
    "\n",
    "                    arcpy.management.CalculateField(\n",
    "                        in_table=selected,\n",
    "                        field=f,\n",
    "                        expression=value,\n",
    "                        expression_type=\"PYTHON3\")\n",
    "                        # arcpy.SelectLayerByAttribute_managemen\n",
    "\n",
    "    else:\n",
    "        _query = \"suncloudid = '{0}'\".format(sid)\n",
    "        selected = arcpy.SelectLayerByAttribute_management(sel, 'NEW_SELECTION', _query)\n",
    "        arcpy.management.CalculateField(\n",
    "            in_table=selected,\n",
    "            field='flag',\n",
    "            expression=\"'{}'\".format(length),\n",
    "            expression_type=\"PYTHON3\")\n",
    "    \n",
    "\n",
    "       "
   ]
  },
  {
   "cell_type": "code",
   "execution_count": null,
   "metadata": {},
   "outputs": [],
   "source": [
    "arcpy.management.CalculateField(\n",
    "    in_table=\"tdm_conflation_backup_bf_dropfields\",\n",
    "    field=\"TOTDAYVOL2019\",\n",
    "    expression=\"(!ABDAYVOL2019!,!BADAYVOL2019!)\",\n",
    "    expression_type=\"PYTHON3\",\n",
    "    code_block=\"\"\"def sum_null(*args):\n",
    "    args = [a for a in args if not a is None]\n",
    "    return sum(args) if args else None\"\"\",\n",
    "    field_type=\"TEXT\",\n",
    "    enforce_domains=\"NO_ENFORCE_DOMAINS\"\n",
    ")"
   ]
  },
  {
   "cell_type": "code",
   "execution_count": null,
   "metadata": {},
   "outputs": [],
   "source": [
    "#vs_2019\n",
    "arcpy.management.CalculateField(\n",
    "    in_table=\"tdm_conflation_backup_bf_dropfields\",\n",
    "    field=\"volume_2019\",\n",
    "    expression=\"max_null(!ABDAYVOL2019!,!BADAYVOL2019!,!TOTDAYVOL2019!)\",\n",
    "    expression_type=\"PYTHON3\",\n",
    "    code_block=\"\"\"def max_null(*args):\n",
    "    args = [a for a in args if not a is None]\n",
    "    return max(args) if args else None\"\"\",\n",
    "    field_type=\"TEXT\",\n",
    "    enforce_domains=\"NO_ENFORCE_DOMAINS\"\n",
    ")"
   ]
  },
  {
   "cell_type": "code",
   "execution_count": 5,
   "metadata": {},
   "outputs": [],
   "source": [
    "fc = 'tdm_conflation_0320backup'\n",
    "target_fields = [\n",
    "    ('suncloudid', 'sun_cloud_id', 'Segment ID'),\n",
    "    ('volume_2019', 'volume_2019', 'Daily Volume 2019'),\n",
    "    ('volume_2050','volume_2050','Daily Volume 2050'),\n",
    "    ('speed_2019','speed_2019','Peak Hour Speed 2019'),\n",
    "    ('speed_2050','speed_2050','Peak Hour Speed 2050'),\n",
    "    ('lanes_2019','lanes_2019','Lanes 2019'),\n",
    "    ('lanes_2050','lanes_2050','Lanes 2050'),\n",
    "    ('capacity_2019','capacity_2019','Capacity 2019'),\n",
    "    ('capacity_2050','capacity_2050','Capacity 2050'),\n",
    "    ('vc_2019','vc_2019','Volume/Capacity Ratio 2019'),\n",
    "    ('vc_2050','vc_2050','Volume/Capacity Ratio 2050')\n",
    "\n",
    "]\n",
    "for current, new, alias in target_fields:\n",
    "    arcpy.management.AlterField(fc, current, new, alias)"
   ]
  },
  {
   "cell_type": "code",
   "execution_count": 3,
   "metadata": {},
   "outputs": [
    {
     "data": {
      "text/plain": [
       "['conflation_type',\n",
       " 'ABDAYVOL2019',\n",
       " 'BADAYVOL2019',\n",
       " 'TOTDAYVOL2019',\n",
       " 'ABDAYVOL2050',\n",
       " 'BADAYVOL2050',\n",
       " 'TOTDAYVOL2050',\n",
       " 'ABSPEED2019',\n",
       " 'BASPEED2019',\n",
       " 'ABSPEED2050',\n",
       " 'BASPEED2050',\n",
       " 'ABLANES2019',\n",
       " 'BALANES2019',\n",
       " 'ABLANES2050',\n",
       " 'BALANES2050',\n",
       " 'ABLANECAP',\n",
       " 'BALANECAP',\n",
       " 'ABCAPACITY2019',\n",
       " 'BACAPACITY2019',\n",
       " 'ABCAPACITY2050',\n",
       " 'BACAPACITY2050',\n",
       " 'speed_2019',\n",
       " 'speed_2050',\n",
       " 'note',\n",
       " 'flag',\n",
       " 'SUNCLOUDID_1']"
      ]
     },
     "execution_count": 3,
     "metadata": {},
     "output_type": "execute_result"
    }
   ],
   "source": [
    "# drop and rename fields\n",
    "required_fields = ['OBJECTID', 'route_id', 'functional_class', 'sun_cloud_id',\n",
    "'volume_2019','volume_2050', 'lanes_2019','lanes_2050','capacity_2019', 'capacity_2050',\n",
    "'vc_2019', 'vc_2050']\n",
    "\n",
    "all_fields = arcpy.ListFields(fc)\n",
    "f_names = [f.name for f in all_fields if f.required == False]\n",
    "\n",
    "to_delete = [i for i in f_names if i not in required_fields]\n",
    "to_delete"
   ]
  },
  {
   "cell_type": "code",
   "execution_count": 4,
   "metadata": {},
   "outputs": [
    {
     "data": {
      "text/html": [
       "<div class='gpresult'><h2>Messages</h2><div id='messages' data-messages='[\"Start Time: Monday, March 20, 2023 10:57:02 AM\",\"Succeeded at Monday, March 20, 2023 10:58:18 AM (Elapsed Time: 1 minutes 16 seconds)\"]' data-show='true'><div id = 'default' /></div></div>"
      ],
      "text/plain": [
       "<Result './pro/tdm_conflation.gdb\\\\tdm_conflation_backup_bf_dropfields'>"
      ]
     },
     "execution_count": 4,
     "metadata": {},
     "output_type": "execute_result"
    }
   ],
   "source": [
    "arcpy.DeleteField_management(fc, to_delete)"
   ]
  }
 ],
 "metadata": {
  "kernelspec": {
   "display_name": "ArcGISPro",
   "language": "Python",
   "name": "python3"
  },
  "language_info": {
   "codemirror_mode": {
    "name": "ipython",
    "version": 3
   },
   "file_extension": ".py",
   "mimetype": "text/x-python",
   "name": "python",
   "nbconvert_exporter": "python",
   "pygments_lexer": "ipython3",
   "version": "3.9.16"
  },
  "vscode": {
   "interpreter": {
    "hash": "ce21b655b4d6c9e397d5ad93d5666c623f49909f6d0cc2f72076dafcf1b3ecfb"
   }
  }
 },
 "nbformat": 4,
 "nbformat_minor": 2
}
