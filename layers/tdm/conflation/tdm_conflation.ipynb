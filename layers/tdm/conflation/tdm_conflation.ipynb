{
 "cells": [
  {
   "cell_type": "markdown",
   "metadata": {},
   "source": [
    "# Conflate travel demand model attributes."
   ]
  },
  {
   "cell_type": "markdown",
   "metadata": {},
   "source": [
    "### Prepare the data for processing."
   ]
  },
  {
   "cell_type": "markdown",
   "metadata": {},
   "source": [
    "Workspace, spatial reference. Point it to your local file geodatabase. "
   ]
  },
  {
   "cell_type": "code",
   "execution_count": null,
   "metadata": {},
   "outputs": [],
   "source": [
    "import arcpy\n",
    "arcpy.env.overwriteOutput = True\n",
    "\n",
    "# authentication to access secured data\n",
    "from arcgis.gis import GIS\n",
    "from arcgis.features import FeatureLayer\n",
    "gis = GIS('pro')\n",
    "\n",
    "db = arcpy.env.workspace = r\".\\data\\tdm_conflation_0324.gdb\"\n",
    "arcpy.Describe(db)\n",
    "\n",
    "target_sr = arcpy.SpatialReference(2223)"
   ]
  },
  {
   "cell_type": "markdown",
   "metadata": {},
   "source": [
    "Source data URL, key fields."
   ]
  },
  {
   "cell_type": "code",
   "execution_count": null,
   "metadata": {},
   "outputs": [],
   "source": [
    "route_url = 'https://services6.arcgis.com/clPWQMwZfdWn4MQZ/arcgis/rest/services/Sun_Cloud_Routes/FeatureServer/92'\n",
    "# This is the sun cloud routes layer where the road representation type was indentified by Mark E. \n",
    "route_by_type = 'https://services6.arcgis.com/clPWQMwZfdWn4MQZ/ArcGIS/rest/services/Segmented_Routes_by_Line_Representation_Type/FeatureServer/0'\n",
    "key_fields = [\n",
    "    'ABLANES2019',\n",
    "    'BALANES2019',\n",
    "    'ABLANES2050',\n",
    "    'BALANES2050',\n",
    "    'ABDAYVOL2019',\n",
    "    'BADAYVOL2019',\n",
    "    'TOTDAYVOL2019',\n",
    "    'ABDAYVOL2050',\n",
    "    'BADAYVOL2050',\n",
    "    'TOTDAYVOL2050',\n",
    "    'ABCAPACITY2019',\n",
    "    'BACAPACITY2019',\n",
    "    'ABCAPACITY2050',\n",
    "    'BACAPACITY2050',]"
   ]
  },
  {
   "cell_type": "markdown",
   "metadata": {},
   "source": [
    "Custom functions. "
   ]
  },
  {
   "cell_type": "code",
   "execution_count": null,
   "metadata": {},
   "outputs": [],
   "source": [
    "# fill the shor segments with the boundary touching segment that has the same route ID\n",
    "def fill_short(distance, query):\n",
    "    fc = 'destination'\n",
    "    arcpy.Delete_management('short_lyr')\n",
    "    arcpy.Delete_management('full_lyr')\n",
    "\n",
    "    arcpy.management.MakeFeatureLayer(fc, 'short_lyr', 'Shape_Length <{} and {sun_cloud_id is null}'.format(distance))\n",
    "    print(arcpy.GetCount_management('short_lyr')[0])\n",
    "\n",
    "    arcpy.management.MakeFeatureLayer(fc, 'full_lyr', 'sun_cloud_id is not null')\n",
    "\n",
    "\n",
    "    fields = ['SHAPE@', 'OID@', 'route_id', 'sun_cloud_id']\n",
    "\n",
    "    with arcpy.da.UpdateCursor('short_lyr', fields) as cursor:\n",
    "        for row in cursor:\n",
    "            geom = row[0]\n",
    "            # select full layer that touches boundary of short layer.\n",
    "            selected = arcpy.SelectLayerByLocation_management('full_lyr', 'BOUNDARY_TOUCHES', geom, '', 'NEW_SELECTION')\n",
    "            sql=\"route_id = '{}'\".format(row[2])\n",
    "            # print(sql)\n",
    "            # subselect where route_id matches. \n",
    "            sub_selection = arcpy.SelectLayerByAttribute_management(selected, 'SUBSET_SELECTION', sql)\n",
    "\n",
    "            sid = [r[0] for r in arcpy.da.SearchCursor(sub_selection, ['sun_cloud_id'])]\n",
    "            # notes = [r[0] for r in arcpy.da.SearchCursor(sub_selection, ['notes'])]\n",
    "            # print(sid)\n",
    "            # if there are multiple segments that meet the condition, just grab the first one.\n",
    "            if len(sid)>0:\n",
    "                print(sid)\n",
    "                row[3]=sid[0]\n",
    "            \n",
    "            cursor.updateRow(row)\n",
    "\n",
    "# get unique field values from a table\n",
    "def unique_values(table , field):\n",
    "    with arcpy.da.SearchCursor(table, [field]) as cursor:\n",
    "        return sorted({row[0] for row in cursor})\n",
    "\n",
    "# save hosted feature layer to db\n",
    "def save_fl(db, url, outname):\n",
    "    fl = FeatureLayer(url)\n",
    "    featureset = fl.query()\n",
    "    featureset.save(db, outname)\n",
    "\n",
    "# project in_data to match the target spatial reference\n",
    "def project(in_data, target_sr, out_name):\n",
    "\n",
    "\n",
    "    in_sr = arcpy.Describe(in_data).spatialReference\n",
    "\n",
    "    tr = arcpy.ListTransformations (in_sr, target_sr)\n",
    "    datum_conversion = ''\n",
    "    if(len(tr)>0):\n",
    "        datum_conversion = arcpy.ListTransformations (in_sr, target_sr)[0]\n",
    "\n",
    "    arcpy.Project_management(\n",
    "        in_dataset = in_data, \n",
    "        out_dataset = out_name,\n",
    "        out_coor_system = target_sr,\n",
    "        transform_method = datum_conversion)\n",
    "\n",
    "# standardize road name\n",
    "import re\n",
    "def strip_stop_words(x):\n",
    "# remove leading zeros\n",
    "    x =  x.lower()\n",
    "\n",
    "    stop_words = ['avenue', 'ave', \n",
    "            'boulevard', 'blvd', \n",
    "            'drive', 'dr', \n",
    "            'freeway', 'frwy', 'fwy',\n",
    "            'lane', 'ln',\n",
    "            'parkway', 'pkwy',  \n",
    "            'road', 'rd', \n",
    "            'route', 'rte',\n",
    "            'street', 'st', \n",
    "            'trail', 'tr',\n",
    "            'way',\n",
    "\n",
    "            'railroad', 'chn', 'drainage', 'lake', 'siphons', 'track', 'bnsf', \n",
    "            'place', 'pl', \n",
    "            'l', 'n', 's', 'e', 'w', 'irr', 'i', 'us', 'to', '-', 'from',\n",
    "            'sl', 'sr', 'loop', 'lp', 'frtg', \n",
    "            'sb', 'wb', 'eb', 'nb', 'direct', 'hov', 'ramp', 'n-w', 'w-s', 'n-e']\n",
    "            \n",
    "    x = re.split(r\"\\'|\\s|;|,|/|-|\\(|\\)\", x)\n",
    "    # print(x)\n",
    "    x = [y for y in x if y.lower() not in stop_words]\n",
    "    # clean_list = [n for n in x if n.strip()]\n",
    "    remove_zero = [item.lstrip('0') for item in x]\n",
    "    clean= [n for n in remove_zero if n.strip()]\n",
    "    return(clean)\n",
    "\n",
    "# use this to check joined field names\n",
    "def joinCheck(lyr):\n",
    "  fList = arcpy.Describe(lyr).fields\n",
    "  for f in fList:\n",
    "    print (f.name)\n",
    "\n",
    "# returns total count of a feature class, feature layer\n",
    "def get_count(fc):\n",
    "    cnt = int(arcpy.GetCount_management(fc)[0])\n",
    "    print(cnt)\n",
    "    return cnt"
   ]
  },
  {
   "cell_type": "markdown",
   "metadata": {},
   "source": [
    "Save the routes layer locally and project if needed."
   ]
  },
  {
   "cell_type": "code",
   "execution_count": null,
   "metadata": {},
   "outputs": [],
   "source": [
    "\n",
    "fc = 'route_by_representation'\n",
    "if arcpy.Exists(fc)==False:\n",
    "    save_fl(db, route_by_type, fc)"
   ]
  },
  {
   "cell_type": "markdown",
   "metadata": {},
   "source": [
    "### Prepare the source layer."
   ]
  },
  {
   "cell_type": "markdown",
   "metadata": {},
   "source": [
    "Project the data."
   ]
  },
  {
   "cell_type": "code",
   "execution_count": null,
   "metadata": {},
   "outputs": [],
   "source": [
    "source_fc = 'SunCloudBaseandFutureVolumesCapacityV3'\n",
    "sr = arcpy.Describe(source_fc).spatialReference\n",
    "if target_sr != sr:\n",
    "    print('projecting...')\n",
    "    project(source_fc, target_sr, 'tdm_project')"
   ]
  },
  {
   "cell_type": "markdown",
   "metadata": {},
   "source": [
    "Delete the connectors and ramps (they are not a part of the sun cloud routes)."
   ]
  },
  {
   "cell_type": "code",
   "execution_count": null,
   "metadata": {},
   "outputs": [],
   "source": [
    "fc = 'tdm_project'\n",
    "print(arcpy.GetCount_management(fc).getOutput(0))\n",
    "sql = \"FUNCLASSDESC IN ('Connect HOV & GP lanes', 'Ramp')\"\n",
    "\n",
    "selection = arcpy.management.SelectLayerByAttribute(fc, 'NEW_SELECTION', sql)\n",
    "\n",
    "cnt = int(arcpy.GetCount_management(selection).getOutput(0))\n",
    "print(cnt)\n",
    "if cnt>0 :\n",
    "    print('deleting...')\n",
    "    arcpy.DeleteFeatures_management(selection)\n",
    "\n",
    "print(arcpy.GetCount_management(fc).getOutput(0))\n"
   ]
  },
  {
   "cell_type": "markdown",
   "metadata": {},
   "source": [
    "### Split the destination to match the source segments.\n",
    "Over splitting is acceptable as we will eventually unsplit the final result layer."
   ]
  },
  {
   "cell_type": "markdown",
   "metadata": {},
   "source": [
    "Project the 'route by representation' layer."
   ]
  },
  {
   "cell_type": "code",
   "execution_count": null,
   "metadata": {},
   "outputs": [],
   "source": [
    "#project the route by type\n",
    "fc = 'route_by_representation'\n",
    "project(fc, target_sr, '{0}_project'.format(fc))"
   ]
  },
  {
   "cell_type": "code",
   "execution_count": null,
   "metadata": {},
   "outputs": [],
   "source": [
    "in_fc1 = 'sun_cloud_segmented_route'\n",
    "# feature class that has road representation type value.\n",
    "in_fc2 = '_destination'\n",
    "out_intersect = 'temp_intersect'\n",
    "arcpy.analysis.Intersect(\n",
    "    in_features=\"{0};{1}\".format(in_fc1, in_fc2),\n",
    "    out_feature_class=out_intersect,\n",
    "    join_attributes=\"ALL\",\n",
    "    cluster_tolerance=None,\n",
    "    output_type=\"INPUT\"\n",
    ")\n",
    "\n",
    "joined = arcpy.management.AddJoin(\n",
    "    in_layer_or_view=in_fc1,\n",
    "    in_field=\"OBJECTID\",\n",
    "    join_table=out_intersect,\n",
    "    join_field=\"FID_sun_cloud_segmented_route\",\n",
    "    join_type=\"KEEP_COMMON\",\n",
    "    index_join_fields=\"INDEX_JOIN_FIELDS\"\n",
    ")\n",
    "\n",
    "print(arcpy.GetCount_management(joined)[0])\n",
    "joinCheck(joined)\n"
   ]
  },
  {
   "cell_type": "code",
   "execution_count": null,
   "metadata": {},
   "outputs": [],
   "source": [
    "# transfer over the \"type(road representation type)\"\n",
    "arcpy.management.CalculateField(\n",
    "    in_table=joined,\n",
    "    field=\"{}.type\".format(in_fc1),\n",
    "    expression=\"!{}.type_1!\".format(out_intersect),\n",
    "    expression_type=\"PYTHON3\",\n",
    "    code_block=\"\",\n",
    "    field_type=\"TEXT\",\n",
    "    enforce_domains=\"NO_ENFORCE_DOMAINS\"\n",
    ")"
   ]
  },
  {
   "cell_type": "markdown",
   "metadata": {},
   "source": [
    "Create end points from the source layer. We'll use this to split the destination."
   ]
  },
  {
   "cell_type": "code",
   "execution_count": null,
   "metadata": {},
   "outputs": [],
   "source": [
    "fc = 'tdm_project'\n",
    "end_pt= \"tdm_end_pts\"\n",
    "\n",
    "arcpy.management.FeatureVerticesToPoints(fc, end_pt, \"BOTH_ENDS\")"
   ]
  },
  {
   "cell_type": "markdown",
   "metadata": {},
   "source": [
    "Snap end points to the routes & split (oversplitting is fine, we'll run unsplit at the end of the process.)"
   ]
  },
  {
   "cell_type": "code",
   "execution_count": null,
   "metadata": {},
   "outputs": [],
   "source": [
    "target = 'sun_cloud_segmented_route'\n",
    "arcpy.edit.Snap('tdm_end_pts',[[target, \"EDGE\", \"300 Feet\"]])"
   ]
  },
  {
   "cell_type": "code",
   "execution_count": null,
   "metadata": {},
   "outputs": [],
   "source": [
    "target = 'sun_cloud_segmented_route'\n",
    "end_pt = 'tdm_end_pts'\n",
    "search_distance = '300 Feet'\n",
    "arcpy.management.SplitLineAtPoint(target, end_pt, 'destination', search_distance)"
   ]
  },
  {
   "cell_type": "markdown",
   "metadata": {},
   "source": [
    "Separate out the HOV lane. We'll conflate this separately and add the volume/capacity to correndponding freeway."
   ]
  },
  {
   "cell_type": "code",
   "execution_count": null,
   "metadata": {},
   "outputs": [],
   "source": [
    "fc = 'tdm_project'\n",
    "sql = \"FUNCLASSDESC = 'Freeway HOV Lane'\"\n",
    "\n",
    "arcpy.conversion.FeatureClassToFeatureClass(fc, db, 'tdm_hov', sql)\n",
    "\n",
    "selection = arcpy.management.SelectLayerByAttribute(fc, 'NEW_SELECTION', sql)\n",
    "\n",
    "cnt = int(arcpy.GetCount_management(selection).getOutput(0))\n",
    "\n",
    "print(cnt)\n",
    "if cnt>0 :\n",
    "    arcpy.DeleteFeatures_management(selection)\n",
    "    print(arcpy.GetCount_management(fc).getOutput(0))"
   ]
  },
  {
   "cell_type": "markdown",
   "metadata": {},
   "source": [
    "### Prepare the data for conflation."
   ]
  },
  {
   "cell_type": "markdown",
   "metadata": {},
   "source": [
    "Standardize the road name value."
   ]
  },
  {
   "cell_type": "code",
   "execution_count": null,
   "metadata": {},
   "outputs": [],
   "source": [
    "#  clean up\n",
    "fc = 'destination'\n",
    "arcpy.DeleteField_management(fc, ['ORIG_FID', 'ORIG_SEQ'])\n",
    "\n",
    "custom_code = \"\"\"\n",
    "import re\n",
    "def strip_stop_words(x):\n",
    "\n",
    "    x =  x.lower()\n",
    "    stop_words = ['avenue', 'ave', \n",
    "            'boulevard', 'blvd', \n",
    "            'drive', 'dr', \n",
    "            'freeway', 'frwy', 'fwy',\n",
    "            'lane', 'ln',\n",
    "            'parkway', 'pkwy',  \n",
    "            'road', 'rd', \n",
    "            'route', 'rte',\n",
    "            'street', 'st', \n",
    "            'trail', 'tr',\n",
    "            'way', 'hwy', 'highway',\n",
    "\n",
    "            'railroad', 'chn', 'drainage', 'lake', 'siphons', 'track', 'bnsf', \n",
    "            'place', 'pl', \n",
    "            'l', 'n', 's', 'e', 'w', 'irr', 'i', 'us', 'to', '-', 'from',\n",
    "            'sl', 'sr', 'loop', 'lp', 'frtg', \n",
    "            'sb', 'wb', 'eb', 'nb', 'direct', 'hov', 'ramp', 'n-w', 'w-s', 'n-e']\n",
    "            \n",
    "    x = re.split(r\"\\'|\\s|;|,|/|-|\\(|\\)\", x)\n",
    "\n",
    "    x = [y for y in x if y.lower() not in stop_words]\n",
    "    # clean_list = [n for n in x if n.strip()]\n",
    "    remove_zero = [item.lstrip('0') for item in x]\n",
    "    clean= [n for n in remove_zero if n.strip()]\n",
    "    return ' '.join(clean)\n",
    "    \"\"\"\n",
    "\n",
    "arcpy.management.CalculateField(\n",
    "    in_table=fc,\n",
    "    field=\"clean_name\",\n",
    "    expression=\"strip_stop_words(!route_id!)\",\n",
    "    expression_type=\"PYTHON3\",\n",
    "    code_block= custom_code,\n",
    "    enforce_domains=\"NO_ENFORCE_DOMAINS\"\n",
    ")\n",
    "\n",
    "arcpy.management.CalculateField(\n",
    "    in_table=\"tdm_project\",\n",
    "    field=\"clean_name\",\n",
    "    expression=\"strip_stop_words(!ST_NAME!)\",\n",
    "    expression_type=\"PYTHON3\",\n",
    "    code_block= custom_code,\n",
    "    field_type=\"TEXT\",\n",
    "    enforce_domains=\"NO_ENFORCE_DOMAINS\"\n",
    ")"
   ]
  },
  {
   "cell_type": "markdown",
   "metadata": {},
   "source": [
    "Add the key fields to destination."
   ]
  },
  {
   "cell_type": "code",
   "execution_count": null,
   "metadata": {},
   "outputs": [],
   "source": [
    "fc = 'destination'\n",
    "fields = [\n",
    "['sun_cloud_id', 'TEXT'],   \n",
    "['ABLANES2019', 'SHORT'],\n",
    "['BALANES2019','SHORT'],\n",
    "['ABLANES2050','SHORT'],\n",
    "['BALANES2050','SHORT'],\n",
    "['ABDAYVOL2019','DOUBLE'],\n",
    "['BADAYVOL2019','DOUBLE'],\n",
    "['TOTDAYVOL2019','DOUBLE'],\n",
    "['ABDAYVOL2050', 'DOUBLE'],\n",
    "['BADAYVOL2050','DOUBLE'],\n",
    "['TOTDAYVOL2050','DOUBLE'],\n",
    "['ABCAPACITY2019','DOUBLE'],\n",
    "['BACAPACITY2019','DOUBLE'],\n",
    "['ABCAPACITY2050','DOUBLE'],\n",
    "['BACAPACITY2050','DOUBLE'],\n",
    "['notes', 'TEXT'],\n",
    "['conflation_type','TEXT']\n",
    "]\n",
    "\n",
    "\n",
    "arcpy.management.AddFields(\n",
    "    fc,fields)\n",
    "featureclass = fc\n",
    "field_names = [f.name for f in arcpy.ListFields(featureclass)]\n",
    "field_names\n"
   ]
  },
  {
   "cell_type": "markdown",
   "metadata": {},
   "source": [
    "### Match the destination to source through buffer, join, and validation."
   ]
  },
  {
   "cell_type": "markdown",
   "metadata": {},
   "source": [
    "- For each segment where sun cloud id is null, create a buffer.\n",
    "- Intersect the buffer to TDM source layer. \n",
    "  - Validate road name and functional class.\n",
    "  - Delete out the bad matches. \n",
    "  - Find the longest match from the multiple valid matches. \n",
    "- Join the routes layer to the longest valid match and attribute the Sun Cloud ID. \n",
    "\n",
    "Review the result and repeat the process while increasing the buffer distance. "
   ]
  },
  {
   "cell_type": "code",
   "execution_count": null,
   "metadata": {},
   "outputs": [],
   "source": [
    "arcpy.AddField_management('tdm_project', 'type','TEXT')\n",
    "custom_code = \"\"\"\n",
    "\n",
    "def get_type(f):\n",
    "    if f in [-1, 1]: \n",
    "        return 'dual_line'\n",
    "    elif f in [0]:\n",
    "        return 'single_line'\n",
    "\"\"\"\n",
    "\n",
    "\n",
    "arcpy.management.CalculateField(\n",
    "    in_table=\"tdm_project\",\n",
    "    field=\"type\",\n",
    "    expression=\"get_type(!DIR!)\",\n",
    "    expression_type=\"PYTHON3\",\n",
    "    code_block= custom_code,\n",
    "    enforce_domains=\"NO_ENFORCE_DOMAINS\"\n",
    ")"
   ]
  },
  {
   "cell_type": "markdown",
   "metadata": {},
   "source": [
    "Transfer the sun cloud ID. "
   ]
  },
  {
   "cell_type": "code",
   "execution_count": null,
   "metadata": {},
   "outputs": [],
   "source": [
    "! pip install fuzzywuzzy"
   ]
  },
  {
   "cell_type": "code",
   "execution_count": null,
   "metadata": {},
   "outputs": [],
   "source": [
    "def tdm_conflation(distance, in_fc):\n",
    "    sql_query = \"sun_cloud_id is null\"\n",
    "    arcpy.Delete_management('destination_lyr')\n",
    "\n",
    "    arcpy.management.SelectLayerByAttribute( in_fc, 'CLEAR_SELECTION') \n",
    "    arcpy.management.MakeFeatureLayer(in_features=in_fc, out_layer='destination_lyr', where_clause=sql_query)\n",
    "    \n",
    "    # Create buffer around the routes with no SC ID. \n",
    "    buffer_table = \"destination_Buffer_{}\".format(distance)\n",
    "    arcpy.analysis.Buffer(\n",
    "        in_features='destination_lyr',\n",
    "        out_feature_class=\"destination_Buffer_{}\".format(distance),\n",
    "        buffer_distance_or_field=\"{} FeetInt\".format(distance),\n",
    "        line_side=\"FULL\",\n",
    "        line_end_type=\"FLAT\",\n",
    "        dissolve_option=\"NONE\",\n",
    "        dissolve_field=None,\n",
    "        method=\"PLANAR\"\n",
    "    )\n",
    "\n",
    "    # create a intersect table\n",
    "    intersect = \"{}_intersect\".format(buffer_table)\n",
    "    arcpy.analysis.PairwiseIntersect(\n",
    "        in_features=\"{};tdm_project\".format(buffer_table),\n",
    "        out_feature_class=intersect,\n",
    "        join_attributes=\"ALL\",\n",
    "        cluster_tolerance=None,\n",
    "        output_type=\"INPUT\"\n",
    "    )\n",
    "\n",
    "    custom_code = \"\"\"\n",
    "from fuzzywuzzy import fuzz\n",
    "\n",
    "def func_match(functional_class, FUNCLASSCODE, type, type_1, desc):\n",
    "\n",
    "    if (desc ==  'Freeway' and functional_class in [1,2,3]):\n",
    "        result = '{0} to {1}'.format(type_1, type)\n",
    "    elif (desc ==  'Expressway' and functional_class in [2,3]):\n",
    "        result = '{0} to {1}'.format(type_1, type)\n",
    "    elif (desc == '6 Legged Arterial' and functional_class in [2, 4]):\n",
    "        result = '{0} to {1}'.format(type_1, type)\n",
    "    elif (desc in ['Arterial']  and functional_class in [2,3,4,5, 6]):\n",
    "        result = '{0} to {1}'.format(type_1, type)\n",
    "    elif (desc in ['Collector/Frontage Rd', 'Major Collector', 'Minor Arterial']  and functional_class in [3,4,5, 6]):\n",
    "        result = '{0} to {1}'.format(type_1, type)\n",
    "\n",
    "    elif (desc in ['Collector/Frontage Rd']  and functional_class in [3,4,5,6,7]):\n",
    "        result = '{0} to {1}'.format(type_1, type)\n",
    "\n",
    "    elif (desc == 'CD Road' and functional_class in [2,3,4,5,6,7]):\n",
    "        result = '{0} to {1}'.format(type_1, type)\n",
    "    elif (desc == 'Collector' and functional_class in [4,5]):\n",
    "        result = '{0} to {1}'.format(type_1, type)\n",
    "    elif (desc ==  'Major Arterial' and functional_class in [3, 4]):\n",
    "        result = '{0} to {1}'.format(type_1, type)\n",
    "    elif (desc == 'Principal Arterial' and functional_class in [3]):\n",
    "        result = '{0} to {1}'.format(type_1, type)\n",
    "    elif (desc == 'Local' and functional_class in [7]):\n",
    "        result = '{0} to {1}'.format(type_1, type)\n",
    "    else:\n",
    "        result = 'fc mismatch'\n",
    "    return result\n",
    "    \n",
    "def validate_join_strict (clean_name, clean_name_1, functional_class, FUNCLASSCODE, type, type_1, desc):\n",
    "    # print(clean_name, clean_name_1, functional_class, FUNCLASSCODE, type, type_1, desc)\n",
    "    result = None\n",
    "    # if name value exists\n",
    "    if (clean_name and clean_name_1):\n",
    "        # print('{0}, {1}'.format(clean_name, clean_name_1))\n",
    "        if (clean_name_1 in clean_name) or (clean_name in clean_name_1):\n",
    "            # print('name match')\n",
    "            result = '{0} to {1}'.format(type_1, type)\n",
    "        else:\n",
    "            name_match_ratio = fuzz.partial_ratio(clean_name, clean_name_1)\n",
    "            # print(name_match_ratio)\n",
    "            if name_match_ratio > 80:\n",
    "                result = '{0} to {1}'.format(type_1, type)\n",
    "            else:\n",
    "                result = func_match(functional_class, FUNCLASSCODE, type, type_1, desc)\n",
    "\n",
    "    else:\n",
    "        result = func_match(functional_class, FUNCLASSCODE, type, type_1, desc)\n",
    "\n",
    "    return result\n",
    "    \"\"\"\n",
    "\n",
    "\n",
    "    # compare standardized name and functional class. \n",
    "    arcpy.management.CalculateField(\n",
    "        in_table=intersect,\n",
    "        field=\"notes\",\n",
    "        expression=\"validate_join_strict(!clean_name!, !clean_name_1!, !functional_class!, !FUNCLASSCODE!, !type!, !type_1!,!FUNCLASSDESC!)\",\n",
    "        expression_type=\"PYTHON3\",\n",
    "        code_block=custom_code,\n",
    "        enforce_domains=\"NO_ENFORCE_DOMAINS\"\n",
    "    )\n",
    "    \n",
    "    # export the full table before row deletion\n",
    "    arcpy.ExportFeatures_conversion(intersect, '{}_backup'.format(intersect))\n",
    "\n",
    "    sql_query = \"notes is null or notes IN ('name mismatch', 'missing name', 'fc mismatch')\"\n",
    "\n",
    "    # delete the bad matches from the intersect table\n",
    "    selected = arcpy.SelectLayerByAttribute_management(intersect, 'NEW_SELECTION', sql_query)\n",
    "    cnt = int(arcpy.GetCount_management(selected)[0])\n",
    "    if(cnt>0):\n",
    "        arcpy.DeleteFeatures_management(selected)\n",
    "    # get all unique orig_fids\n",
    "    org_fids = [row[0] for row in arcpy.da.SearchCursor(\n",
    "                in_table=intersect, \n",
    "                field_names='ORIG_FID', \n",
    "                sql_clause= ('DISTINCT ORIG_FID', 'ORDER BY ORIG_FID ASC'))]\n",
    "     \n",
    "    # For Each OID, leave the longest segment and delete the rest\n",
    "    fields = ['Shape_Length']\n",
    "    for oid in org_fids:\n",
    "        print('Processing oid = {}'.format(oid))\n",
    "        _query = 'ORIG_FID={}'.format(oid)\n",
    "        arcpy.MakeFeatureLayer_management(intersect, 'intersect_lyr')\n",
    "        sel = arcpy.SelectLayerByAttribute_management('intersect_lyr', 'NEW_SELECTION', _query)\n",
    "\n",
    "        # get_count(sel)\n",
    "\n",
    "        length = [row[0] for row in arcpy.da.SearchCursor(\n",
    "                in_table=sel, \n",
    "                field_names='Shape_Length')]\n",
    "\n",
    "        max_len = max(length)\n",
    "        _query = 'ORIG_FID = {} and Shape_Length <{}'.format(oid, max_len)\n",
    "        sub_sel = arcpy.SelectLayerByAttribute_management(sel, 'SUBSET_SELECTION', _query)\n",
    "        if int(arcpy.GetCount_management(sub_sel)[0])>0:\n",
    "\n",
    "            arcpy.DeleteFeatures_management(sub_sel)\n",
    "\n",
    "    # join it back to the routes table and transfer the sc id. \n",
    "    arcpy.Delete_management('null_layer')\n",
    "    arcpy.MakeFeatureLayer_management(in_fc, 'null_layer', 'sun_cloud_id is null')\n",
    "    arcpy.Delete_management('intersect_lyr')   \n",
    "    arcpy.MakeFeatureLayer_management(intersect, 'intersect_lyr')\n",
    "\n",
    "\n",
    "    joined = arcpy.management.AddJoin(\n",
    "        in_layer_or_view=\"null_layer\",\n",
    "        in_field=\"OBJECTID\",\n",
    "        join_table='intersect_lyr',\n",
    "        join_field=\"ORIG_FID\",\n",
    "        join_type=\"\",\n",
    "        index_join_fields=\"INDEX_JOIN_FIELDS\"\n",
    "        )\n",
    "\n",
    "    arcpy.management.CalculateField(\n",
    "\n",
    "        in_table=joined,\n",
    "        field=\"{}.notes\".format(in_fc),\n",
    "        expression=\"\"\"!{}.notes!\"\"\".format(intersect),\n",
    "        expression_type=\"PYTHON3\",\n",
    "        code_block=\"\",\n",
    "        field_type=\"TEXT\",\n",
    "        enforce_domains=\"NO_ENFORCE_DOMAINS\"\n",
    "    )\n",
    "\n",
    "    arcpy.management.CalculateField(\n",
    "        in_table=joined,\n",
    "        field=\"{}.sun_cloud_id\".format(in_fc),\n",
    "        expression=\"\"\"!{}.SUNCLOUDID!\"\"\".format(intersect),\n",
    "        expression_type=\"PYTHON3\",\n",
    "        code_block=\"\",\n",
    "        field_type=\"TEXT\",\n",
    "        enforce_domains=\"NO_ENFORCE_DOMAINS\"\n",
    "    )\n",
    "    # garbage collection\n",
    "    arcpy.Delete_management(joined)\n"
   ]
  },
  {
   "cell_type": "code",
   "execution_count": null,
   "metadata": {},
   "outputs": [],
   "source": [
    "distances = [20, 50, 100, 150, 200, 250 300]\n",
    "for d in distances:\n",
    "    print(d)\n",
    "    tdm_conflation(d, 'destination')"
   ]
  },
  {
   "cell_type": "markdown",
   "metadata": {},
   "source": [
    "Fill the short segments using the neighboring segment's information (if length is less than n feet and route id is the same, attribute.)"
   ]
  },
  {
   "cell_type": "code",
   "execution_count": null,
   "metadata": {},
   "outputs": [],
   "source": [
    "fill_short(50)"
   ]
  },
  {
   "cell_type": "markdown",
   "metadata": {},
   "source": [
    "**In the map, visually examine and mark the segments that do not have TDM matches. (\"no_source\")**\n",
    "\n",
    "- There are functional class mismatches due to errornous value in the source data. They need to be manually attributed. "
   ]
  },
  {
   "cell_type": "markdown",
   "metadata": {},
   "source": [
    "Determine the conflation method based on the road representation type. "
   ]
  },
  {
   "cell_type": "code",
   "execution_count": null,
   "metadata": {},
   "outputs": [],
   "source": [
    "fc = 'destination'\n",
    "\n",
    "joined = arcpy.management.AddJoin(\n",
    "    in_layer_or_view=fc,\n",
    "    in_field=\"sun_cloud_id\",\n",
    "    join_table='tdm_project',\n",
    "    join_field=\"SUNCLOUDID\",\n",
    "    join_type=\"KEEP_COMMON\",\n",
    "    index_join_fields=\"INDEX_JOIN_FIELDS\"\n",
    "    )\n",
    "get_count(joined)\n",
    "joinCheck(joined)"
   ]
  },
  {
   "cell_type": "code",
   "execution_count": null,
   "metadata": {},
   "outputs": [],
   "source": [
    "\n",
    "arcpy.management.CalculateField(\n",
    "    in_table=joined,\n",
    "    field=\"{}.conflation_type\".format(fc),\n",
    "    expression='\"{0} to {1}\".format(!tdm_project.type!, !destination.type!)',\n",
    "    expression_type=\"PYTHON3\",\n",
    "    code_block=\"\",\n",
    "    field_type=\"TEXT\",\n",
    "    enforce_domains=\"NO_ENFORCE_DOMAINS\"\n",
    ")\n",
    "\n",
    "arcpy.Delete_management(joined)"
   ]
  },
  {
   "cell_type": "markdown",
   "metadata": {},
   "source": [
    "### Merge attributes by road representation type."
   ]
  },
  {
   "cell_type": "markdown",
   "metadata": {},
   "source": [
    "#### Simple cases."
   ]
  },
  {
   "cell_type": "code",
   "execution_count": null,
   "metadata": {},
   "outputs": [],
   "source": [
    "fc = 'destination'\n",
    "# sql=\"conflation_type in ('dual_line to dual_line', 'single_line to single_line')\"\n",
    "sql=\"conflation_type in ('simple reprocess')\"\n",
    "\n",
    "arcpy.MakeFeatureLayer_management(fc, 'simple_lyr', sql)\n",
    "print(arcpy.GetCount_management('simple_lyr')[0])"
   ]
  },
  {
   "cell_type": "code",
   "execution_count": null,
   "metadata": {},
   "outputs": [],
   "source": [
    "joined = arcpy.management.AddJoin(\n",
    "    in_layer_or_view='simple_lyr',\n",
    "    in_field=\"sun_cloud_id\",\n",
    "    join_table=\"tdm_project\",\n",
    "    join_field=\"SUNCLOUDID\",\n",
    "    join_type=\"KEEP_COMMON\",\n",
    "    index_join_fields=\"INDEX_JOIN_FIELDS\"\n",
    ")"
   ]
  },
  {
   "cell_type": "code",
   "execution_count": null,
   "metadata": {},
   "outputs": [],
   "source": [
    "get_count(joined)\n",
    "joinCheck(joined)"
   ]
  },
  {
   "cell_type": "code",
   "execution_count": null,
   "metadata": {},
   "outputs": [],
   "source": [
    "# transfer over all the key field values\n",
    "for k in key_fields:\n",
    "    print(k)\n",
    "    arcpy.management.CalculateField(\n",
    "    in_table=joined,\n",
    "    field=\"{0}.{1}\".format(fc, k),\n",
    "    expression=\"!tdm_project.{}!\".format(k),\n",
    "    expression_type=\"PYTHON3\",\n",
    "    code_block=\"\",\n",
    "    field_type=\"TEXT\",\n",
    "    enforce_domains=\"NO_ENFORCE_DOMAINS\"\n",
    ")"
   ]
  },
  {
   "cell_type": "markdown",
   "metadata": {},
   "source": [
    "#### Single line to dual line. "
   ]
  },
  {
   "cell_type": "markdown",
   "metadata": {},
   "source": [
    "Attribute AB_ value to a direction and the BA_value to the opposite direction. "
   ]
  },
  {
   "cell_type": "code",
   "execution_count": null,
   "metadata": {},
   "outputs": [],
   "source": [
    "fc = 'destination'\n",
    "sql = \"conflation_type = 'single_line to dual_line'\"\n",
    "selected = arcpy.SelectLayerByAttribute_management(fc, 'NEW_SELECTION', sql)\n",
    "get_count(selected)"
   ]
  },
  {
   "cell_type": "code",
   "execution_count": null,
   "metadata": {},
   "outputs": [],
   "source": [
    "ref_fields = ['SUNCLOUDID']\n",
    "a_fields = ['ABLANES2019', 'ABLANES2050', 'ABDAYVOL2019', 'ABDAYVOL2050', 'ABCAPACITY2019','ABCAPACITY2050']\n",
    "b_fields = ['BALANES2019', 'BALANES2050', 'BADAYVOL2019', 'BADAYVOL2050', 'BACAPACITY2019', 'BACAPACITY2050']\n",
    "ref_fields = ref_fields + a_fields + b_fields\n",
    "\n",
    "sc_ids = unique_values(selected, 'sun_cloud_id')\n",
    "total = len(sc_ids)\n",
    "i=0\n",
    "for sid in sc_ids:\n",
    "    # if sid != 'MAG_33518':\n",
    "    if 1==1:\n",
    "        i=i+1\n",
    "        print('{0}/{1}'.format(i, total))\n",
    "\n",
    "        q = \"sun_cloud_id = '{}'\".format(sid)\n",
    "        print(q)\n",
    "\n",
    "        \n",
    "        clean_names = [row[0] for row in arcpy.da.SearchCursor(\n",
    "            in_table=selected, \n",
    "            field_names='clean_name', \n",
    "            where_clause=q,\n",
    "            sql_clause= ('DISTINCT', 'ORDER BY route_id'))]\n",
    "\n",
    "        print(clean_names)\n",
    "        if len(clean_names)>1:\n",
    "            for name in clean_names:\n",
    "                q = \"sun_cloud_id = '{0}' and clean_name = '{1}'\".format(sid, name)\n",
    "                \n",
    "                route_ids = [row[0] for row in arcpy.da.SearchCursor(\n",
    "                    in_table=selected, \n",
    "                    field_names='route_id', \n",
    "                    where_clause=q,\n",
    "                    sql_clause= ('DISTINCT', 'ORDER BY route_id'))]\n",
    "                print(route_ids)\n",
    "\n",
    "\n",
    "                route_ids = [row[0] for row in arcpy.da.SearchCursor(\n",
    "                    in_table=selected, \n",
    "                    field_names='route_id', \n",
    "                    where_clause=q,\n",
    "                    sql_clause= ('DISTINCT', 'ORDER BY route_id'))]\n",
    "                # print(route_ids)\n",
    "                route_ids = list(set(route_ids))\n",
    "                print(route_ids)\n",
    "                length = len(route_ids)\n",
    "                print(length)\n",
    "                # if there are two distinct route IDs, split and assign values to each direction\n",
    "                if length==2:\n",
    "                    # get the key field values \n",
    "                    value = [row for row in arcpy.da.SearchCursor('tdm_project', ref_fields, \"SUNCLOUDID ='{}'\".format(sid))][0]\n",
    "                    # print(value)\n",
    "\n",
    "                    a_query = \"sun_cloud_id = '{0}' and route_id='{1}'\".format(sid, route_ids[0])\n",
    "                    with arcpy.da.UpdateCursor (fc, a_fields, a_query) as cursor:\n",
    "                        for row in cursor:\n",
    "                            row[0] = int(value[1] or 0)\n",
    "                            row[1] = int(value[2] or 0)\n",
    "                            row[2] = int(value[3] or 0)\n",
    "                            row[3] = int(value[4] or 0)\n",
    "                            row[4] = int(value[5] or 0)\n",
    "                            row[5] = int(value[6] or 0)\n",
    "                            print('updated a fields')\n",
    "                            cursor.updateRow(row)\n",
    "\n",
    "                    \n",
    "                    b_query = \"sun_cloud_id = '{0}' and route_id='{1}'\".format(sid, route_ids[1])\n",
    "                    with arcpy.da.UpdateCursor (fc, b_fields, b_query) as Bcursor:\n",
    "                        for Brow in Bcursor:\n",
    "                            Brow[0] = int(value[7] or 0)\n",
    "                            Brow[1] = int(value[8] or 0)\n",
    "                            Brow[2] = int(value[9] or 0)\n",
    "                            Brow[3] = int(value[10] or 0)\n",
    "                            Brow[4] = int(value[11] or 0)\n",
    "                            Brow[5] = int(value[12] or 0)\n",
    "                            print('updated b fields')\n",
    "                            Bcursor.updateRow(Brow)\n",
    "                if length==1:\n",
    "                    query = \"sun_cloud_id = '{0}'\".format(sid, route_ids[0])\n",
    "                    with arcpy.da.UpdateCursor (fc, 'conflation_type', query) as cursor:\n",
    "                        for row in cursor:\n",
    "                            row[0]='simple'\n",
    "                            cursor.updateRow(row)\n",
    "        else:\n",
    "                route_ids = [row[0] for row in arcpy.da.SearchCursor(\n",
    "                    in_table=selected, \n",
    "                    field_names='route_id', \n",
    "                    where_clause=q,\n",
    "                    sql_clause= ('DISTINCT', 'ORDER BY route_id'))]\n",
    "                print(route_ids)\n",
    "\n",
    "\n",
    "                route_ids = [row[0] for row in arcpy.da.SearchCursor(\n",
    "                    in_table=selected, \n",
    "                    field_names='route_id', \n",
    "                    where_clause=q,\n",
    "                    sql_clause= ('DISTINCT', 'ORDER BY route_id'))]\n",
    "                # print(route_ids)\n",
    "                route_ids = list(set(route_ids))\n",
    "                print(route_ids)\n",
    "                length = len(route_ids)\n",
    "                print(length)\n",
    "                # if there are two distinct route IDs, split and assign values to each direction\n",
    "                if length==2:\n",
    "                    # get the key field values \n",
    "                    value = [row for row in arcpy.da.SearchCursor('tdm_project', ref_fields, \"SUNCLOUDID ='{}'\".format(sid))][0]\n",
    "                    # print(value)\n",
    "\n",
    "                    a_query = \"sun_cloud_id = '{0}' and route_id='{1}'\".format(sid, route_ids[0])\n",
    "                    with arcpy.da.UpdateCursor (fc, a_fields, a_query) as cursor:\n",
    "                        for row in cursor:\n",
    "                            row[0] = int(value[1] or 0)\n",
    "                            row[1] = int(value[2] or 0)\n",
    "                            row[2] = int(value[3] or 0)\n",
    "                            row[3] = int(value[4] or 0)\n",
    "                            row[4] = int(value[5] or 0)\n",
    "                            row[5] = int(value[6] or 0)\n",
    "                            print('updated a fields')\n",
    "                            cursor.updateRow(row)\n",
    "\n",
    "                    \n",
    "                    b_query = \"sun_cloud_id = '{0}' and route_id='{1}'\".format(sid, route_ids[1])\n",
    "                    with arcpy.da.UpdateCursor (fc, b_fields, b_query) as Bcursor:\n",
    "                        for Brow in Bcursor:\n",
    "                            Brow[0] = int(value[7] or 0)\n",
    "                            Brow[1] = int(value[8] or 0)\n",
    "                            Brow[2] = int(value[9] or 0)\n",
    "                            Brow[3] = int(value[10] or 0)\n",
    "                            Brow[4] = int(value[11] or 0)\n",
    "                            Brow[5] = int(value[12] or 0)\n",
    "                            print('updated b fields')\n",
    "                            Bcursor.updateRow(Brow)\n",
    "                if length==1:\n",
    "                    query = \"sun_cloud_id = '{0}'\".format(sid, route_ids[0])\n",
    "                    with arcpy.da.UpdateCursor (fc, 'conflation_type', query) as cursor:\n",
    "                        for row in cursor:\n",
    "                            row[0]='simple'\n",
    "                            cursor.updateRow(row)\n",
    "            \n",
    "\n"
   ]
  },
  {
   "cell_type": "markdown",
   "metadata": {},
   "source": [
    "#### Dual line to single line. "
   ]
  },
  {
   "cell_type": "markdown",
   "metadata": {},
   "source": [
    "Get two SUNCLOUD ID for dual to single cases. "
   ]
  },
  {
   "cell_type": "code",
   "execution_count": null,
   "metadata": {},
   "outputs": [],
   "source": [
    "arcpy.env.overwriteOutput = True\n",
    "# Create a buffer\n",
    "sql = \"conflation_type = 'dual_line to single_line'\"\n",
    "fc = \"destination\"\n",
    "# sql = \"ABDAYVOL2019 IS NULL And BADAYVOL2019 IS NULL And ABDAYVOL2050 IS NULL And BADAYVOL2050 IS NULL And sun_cloud_id LIKE '%,%'\"\n",
    "arcpy.Delete_management(\"destination_lyr\")\n",
    "arcpy.MakeFeatureLayer_management (fc, \"destination_lyr\", sql)\n",
    "\n",
    "get_count(\"destination_lyr\")\n"
   ]
  },
  {
   "cell_type": "code",
   "execution_count": null,
   "metadata": {},
   "outputs": [],
   "source": [
    "\n",
    "ref_sql = 'DIR IN (-1, 1)'\n",
    "arcpy.Delete_management(\"ref_lyr\")\n",
    "arcpy.MakeFeatureLayer_management (\"tdm_project\", \"ref_lyr\", ref_sql)\n",
    "\n",
    "arcpy.analysis.Buffer('destination_lyr', 'destination_buffer', '400 Feet', \"FULL\", \"FLAT\", \"NONE\", None, \"PLANAR\")\n",
    "\n",
    "\n",
    "# route = 'routes_split_intersection'\n",
    "ref = 'ref_lyr'\n",
    "buffer = 'destination_buffer'\n",
    "\n",
    "\n",
    "fields = ['SHAPE@', 'OID@', 'route_id', 'suncloudid', 'flag']\n",
    "\n",
    "ref_fields = ['SUNCLOUDID']"
   ]
  },
  {
   "cell_type": "code",
   "execution_count": null,
   "metadata": {},
   "outputs": [],
   "source": [
    "dual_single = \"dual_single_intersect\"\n",
    "# Run intersect\n",
    "arcpy.analysis.Intersect(\n",
    "    in_features=['destination_buffer', 'ref_lyr'],\n",
    "    out_feature_class=dual_single ,\n",
    "    join_attributes=\"ALL\",\n",
    "    cluster_tolerance=None,\n",
    "    output_type=\"INPUT\"\n",
    ")\n"
   ]
  },
  {
   "cell_type": "code",
   "execution_count": null,
   "metadata": {},
   "outputs": [],
   "source": [
    "# In the intersect table\n",
    "# for each orig_fid\n",
    "# get all rows\n",
    "# perform name check, functional class check\n",
    "# leavel the two longest segsments\n",
    "# sum each key field values\n",
    "\n",
    "\n",
    "# create a reference fields\n",
    "ref_fields = []\n",
    "for f in key_fields:\n",
    "    ref_fields.append('{}_1'.format(f))\n",
    "\n",
    "ref_fields"
   ]
  },
  {
   "cell_type": "code",
   "execution_count": null,
   "metadata": {},
   "outputs": [],
   "source": [
    "def func_match(functional_class, desc):\n",
    "    # print(functional_class, desc)\n",
    "    if (desc ==  'Freeway' and functional_class in [1,2]):\n",
    "        result = True\n",
    "    elif (desc ==  'Expressway' and functional_class in [2,3]):\n",
    "        result = True\n",
    "    elif (desc == '6 Legged Arterial' and functional_class in [2, 4]):\n",
    "        result = True\n",
    "    elif (desc in ['Arterial']  and functional_class in [2,3,4,5, 6]):\n",
    "        result = True\n",
    "    elif (desc in ['Collector/Frontage Rd', 'Major Collector', 'Minor Arterial']  and functional_class in [3,4,5, 6]):\n",
    "        result = True\n",
    "    elif (desc in ['Collector/Frontage Rd']  and functional_class in [3,4,5,6,7]):\n",
    "        result = True\n",
    "    elif (desc == 'CD Road' and functional_class in [2,3,4,5,6,7]):\n",
    "        result = True\n",
    "    elif (desc == 'Collector' and functional_class in [4,5]):\n",
    "        result = True\n",
    "    elif (desc ==  'Major Arterial' and functional_class in [3, 4]):\n",
    "        result = True\n",
    "    elif (desc == 'Principal Arterial' and functional_class in [3]):\n",
    "        result = True\n",
    "    elif (desc == 'Local' and functional_class in [7]):\n",
    "        result = True\n",
    "    else:\n",
    "        result = False\n",
    "    # print(result)\n",
    "    return result"
   ]
  },
  {
   "cell_type": "code",
   "execution_count": null,
   "metadata": {},
   "outputs": [],
   "source": [
    "# Get all the orig_fid\n",
    "dual_single = \"dual_single_intersect\"\n",
    "unique_oids  = unique_values(dual_single, 'ORIG_FID')\n",
    "unique_oids\n",
    "\n",
    "\n",
    "destination = 'destination_lyr'\n",
    "fields = ['SUNCLOUDID', 'Shape_Length','functional_class', 'FUNCLASSDESC'] +ref_fields\n",
    "print(fields)\n",
    "route_fields = ['OID@', 'sun_cloud_id', 'ABLANES2019','BALANES2019','ABLANES2050','BALANES2050',\n",
    "                'ABDAYVOL2019', 'BADAYVOL2019','ABDAYVOL2050','BADAYVOL2050', \n",
    "                'ABCAPACITY2019','BACAPACITY2019', 'ABCAPACITY2050', 'BACAPACITY2050']\n",
    "for oid in unique_oids:\n",
    "    \n",
    "    if 1==1:\n",
    "        print('processing {}...'.format(oid))\n",
    "        ref = [row for row in arcpy.da.SearchCursor(in_table =dual_single, \n",
    "                                                        field_names =fields, \n",
    "                                                        where_clause=\"ORIG_FID ={}\".format(oid),\n",
    "                                                        \n",
    "                                                        sql_clause= ('DISTINCT SUNCLOUDID', 'ORDER BY Shape_Length DESC'))]\n",
    "        # print(ref)\n",
    "        candidates = []\n",
    "        for item in ref:\n",
    "            # print(item[2])\n",
    "            if(func_match(item[2], item[3])==True):\n",
    "                candidates.append(item)\n",
    "        if len(candidates)>1:\n",
    "            candidates= candidates[:2]\n",
    "            # print(candidates)\n",
    "            _query = 'OBJECTID = {}'.format(oid)\n",
    "            # print(_query)\n",
    "            with arcpy.da.UpdateCursor(destination, route_fields, _query) as cursor:\n",
    "                for row in cursor:\n",
    "                    \n",
    "                    c1 = candidates[0]\n",
    "                    c2 = candidates[1]\n",
    "                    # sc id\n",
    "                    sc_ids = '{0},{1}'.format(c1[0],c2[0])\n",
    "                    # print(sc_ids)\n",
    "                    row[1]=sc_ids\n",
    "                    # TODO: simplify this using index\n",
    "                    row[2] = int(c1[4] or 0)+int(c2[4] or 0)\n",
    "                    # BA LANES 2019\n",
    "                    row[3] = int(c1[5] or 0)+int(c2[5] or 0)\n",
    "                    #  ab lanes 2050\n",
    "                    row[4] = int(c1[6] or 0)+int(c2[6] or 0)\n",
    "                    #  ba lanes 2050\n",
    "                    row[5] = int(c1[7] or 0)+int(c2[7] or 0)\n",
    "                    # ab vol 2019\n",
    "                    row[6] = int(c1[8] or 0)+int(c2[8] or 0)\n",
    "                    # ba vol 2019\n",
    "                    row[7] = int(c1[9] or 0)+int(c2[9] or 0)\n",
    "                    # ab vol 2050\n",
    "                    row[8] = int(c1[10] or 0)+int(c2[10] or 0)\n",
    "                    # ba vol 2050\n",
    "                    row[9] = int(c1[12] or 0)+int(c2[12] or 0)\n",
    "                    # ab capacity 2019\n",
    "                    row[10] = int(c1[13] or 0)+int(c2[13] or 0)\n",
    "                    # ba capacity 2019\n",
    "                    row[11] = int(c1[15] or 0)+int(c2[15] or 0)\n",
    "                    # ab capacity 2050\n",
    "                    row[12] = int(c1[16] or 0)+int(c2[16] or 0)\n",
    "                    # ab capacity 2050\n",
    "                    row[13] = int(c1[17] or 0)+int(c2[17] or 0)\n",
    "                    cursor.updateRow(row)\n",
    "        # if there's only one match, it's due to error in road representation type value. Categorize this as simple case and process later using the simple case code. \n",
    "        if len(candidates)==1:\n",
    "            with arcpy.da.UpdateCursor(destination, ['conflation_type'], _query) as cursor:\n",
    "                for row in cursor:\n",
    "                    row[0]='wtf'\n",
    "                    cursor.updateRow(row)"
   ]
  },
  {
   "cell_type": "markdown",
   "metadata": {},
   "source": [
    "We changed conflation type to 'simple' where applicable.  Attribute those cases. \n",
    "- If there are sun_cloud_id with multiple values(dual to signle type), examine those in the map and update the sc ID where applicable. "
   ]
  },
  {
   "cell_type": "code",
   "execution_count": null,
   "metadata": {},
   "outputs": [],
   "source": [
    "fc = 'destination'\n",
    "sql=\"conflation_type in ('simple')\"\n",
    "\n",
    "arcpy.MakeFeatureLayer_management(fc, 'simple_lyr', sql)\n",
    "print(arcpy.GetCount_management('simple_lyr')[0])"
   ]
  },
  {
   "cell_type": "code",
   "execution_count": null,
   "metadata": {},
   "outputs": [],
   "source": [
    "joined = arcpy.management.AddJoin(\n",
    "    in_layer_or_view='simple_lyr',\n",
    "    in_field=\"sun_cloud_id\",\n",
    "    join_table=\"tdm_project\",\n",
    "    join_field=\"SUNCLOUDID\",\n",
    "    index_join_fields=\"INDEX_JOIN_FIELDS\"\n",
    ")"
   ]
  },
  {
   "cell_type": "code",
   "execution_count": null,
   "metadata": {},
   "outputs": [],
   "source": [
    "# get_count(joined)\n",
    "# joinCheck(joined)"
   ]
  },
  {
   "cell_type": "code",
   "execution_count": null,
   "metadata": {},
   "outputs": [],
   "source": [
    "# transfer over all the key field values\n",
    "for k in key_fields:\n",
    "    print(k)\n",
    "    arcpy.management.CalculateField(\n",
    "    in_table=joined,\n",
    "    field=\"{0}.{1}\".format(fc, k),\n",
    "    expression=\"!tdm_project.{}!\".format(k),\n",
    "    expression_type=\"PYTHON3\",\n",
    "    enforce_domains=\"NO_ENFORCE_DOMAINS\"\n",
    ")"
   ]
  },
  {
   "cell_type": "markdown",
   "metadata": {},
   "source": [
    "Calculate the total fields"
   ]
  },
  {
   "cell_type": "code",
   "execution_count": null,
   "metadata": {},
   "outputs": [],
   "source": [
    "# Calculate the total fields.\n",
    "sql = \"sun_cloud_id <> 'no_source'\"\n",
    "selected = arcpy.SelectLayerByAttribute_management('destination', 'NEW_SELECTION', sql)\n",
    "arcpy.management.CalculateField(\n",
    "    in_table =selected,\n",
    "    field=\"TOTDAYVOL2019\",\n",
    "    expression=\"int(!ABDAYVOL2019! or 0) + int(!BADAYVOL2019! or 0)\",\n",
    "    expression_type=\"PYTHON3\",\n",
    "    code_block=\"\",\n",
    "    field_type=\"TEXT\",\n",
    "    enforce_domains=\"NO_ENFORCE_DOMAINS\"\n",
    ")"
   ]
  },
  {
   "cell_type": "code",
   "execution_count": null,
   "metadata": {},
   "outputs": [],
   "source": [
    "# Calculate the total fields.\n",
    "sql = \"sun_cloud_id <> 'no_source'\"\n",
    "selected = arcpy.SelectLayerByAttribute_management('destination', 'NEW_SELECTION', sql)\n",
    "arcpy.management.CalculateField(\n",
    "    in_table=selected,\n",
    "    field=\"TOTDAYVOL2050\",\n",
    "    expression=\"int(!ABDAYVOL2050! or 0) + int(!BADAYVOL2050! or 0)\",\n",
    "    expression_type=\"PYTHON3\",\n",
    "    code_block=\"\",\n",
    "    field_type=\"TEXT\",\n",
    "    enforce_domains=\"NO_ENFORCE_DOMAINS\"\n",
    ")"
   ]
  },
  {
   "cell_type": "markdown",
   "metadata": {},
   "source": [
    "#### Process the HOV lanes."
   ]
  },
  {
   "cell_type": "code",
   "execution_count": null,
   "metadata": {},
   "outputs": [],
   "source": [
    "# select destination_restore where functional_class IN (1, 2)\n",
    "# tdm_hov is the source\n",
    "\n",
    "selected = arcpy.SelectLayerByAttribute_management('destination', \"NEW_SELECTION\", 'functional_class IN (1, 2)')\n",
    "print(arcpy.GetCount_management(selected)[0])\n",
    "\n",
    "\n",
    "possible_hov = arcpy.management.SelectLayerByLocation(\n",
    "    in_layer=selected,\n",
    "    overlap_type=\"WITHIN_A_DISTANCE\",\n",
    "    select_features=\"tdm_hov\",\n",
    "    search_distance=\"500 FeetInt\",\n",
    "    selection_type=\"NEW_SELECTION\",\n",
    "    invert_spatial_relationship=\"NOT_INVERT\"\n",
    ")\n",
    "\n",
    "print(arcpy.GetCount_management(possible_hov)[0])\n",
    "\n",
    "# use the out-of-the-box transfer attribute tool with 500ft search distance"
   ]
  },
  {
   "cell_type": "code",
   "execution_count": null,
   "metadata": {},
   "outputs": [],
   "source": [
    "arcpy.analysis.Buffer(\n",
    "    in_features=possible_hov,\n",
    "    out_feature_class=\"hov_buffer\",\n",
    "    buffer_distance_or_field=\"300 FeetInt\",\n",
    "    line_side=\"FULL\",\n",
    "    line_end_type=\"FLAT\",\n",
    "    dissolve_option=\"NONE\",\n",
    "    dissolve_field=None,\n",
    "    method=\"PLANAR\"\n",
    ")"
   ]
  },
  {
   "cell_type": "markdown",
   "metadata": {},
   "source": [
    "Add hov fields."
   ]
  },
  {
   "cell_type": "code",
   "execution_count": null,
   "metadata": {},
   "outputs": [],
   "source": [
    "fc = 'destination'\n",
    "hov_fields = [\n",
    "['sun_cloud_id_hov', 'TEXT'],   \n",
    "['ABLANES2019_hov', 'SHORT'],\n",
    "['BALANES2019_hov','SHORT'],\n",
    "['ABLANES2050_hov','SHORT'],\n",
    "['BALANES2050_hov','SHORT'],\n",
    "['ABDAYVOL2019_hov','DOUBLE'],\n",
    "['BADAYVOL2019_hov','DOUBLE'],\n",
    "['TOTDAYVOL2019_hov','DOUBLE'],\n",
    "['ABDAYVOL2050_hov', 'DOUBLE'],\n",
    "['BADAYVOL2050_hov','DOUBLE'],\n",
    "['TOTDAYVOL2050_hov','DOUBLE'],\n",
    "['ABCAPACITY2019_hov','DOUBLE'],\n",
    "['BACAPACITY2019_hov','DOUBLE'],\n",
    "['ABCAPACITY2050_hov','DOUBLE'],\n",
    "['BACAPACITY2050_hov','DOUBLE']]\n",
    "\n",
    "arcpy.management.AddFields(\n",
    "    fc,hov_fields)\n",
    "featureclass = fc\n",
    "field_names = [f.name for f in arcpy.ListFields(featureclass)]\n",
    "field_names"
   ]
  },
  {
   "cell_type": "markdown",
   "metadata": {},
   "source": [
    "hov conflation function."
   ]
  },
  {
   "cell_type": "code",
   "execution_count": null,
   "metadata": {},
   "outputs": [],
   "source": [
    "# def tdm_conflation_hov(distance, in_fc, source_fc):\n",
    "\n",
    "#     hov_query = 'hov = 1 And sun_cloud_id_hov IS NULL'\n",
    "#     print(hov_query)\n",
    "\n",
    "#     arcpy.Delete_management('destination_lyr')\n",
    "#     arcpy.management.SelectLayerByAttribute( in_fc, 'CLEAR_SELECTION') \n",
    "#     arcpy.MakeFeatureLayer_management(in_fc, 'destination_lyr', hov_query)\n",
    "#     get_count('destination_lyr')\n",
    "    \n",
    "#     # Create buffer around the routes with no SC ID. \n",
    "#     buffer_table = \"hov_Buffer_{}\".format(distance)\n",
    "#     arcpy.analysis.Buffer(\n",
    "#         in_features='destination_lyr',\n",
    "#         out_feature_class=buffer_table,\n",
    "#         buffer_distance_or_field=\"{} FeetInt\".format(distance),\n",
    "#         line_side=\"FULL\",\n",
    "#         line_end_type=\"FLAT\",\n",
    "#         dissolve_option=\"NONE\",\n",
    "#         dissolve_field=None,\n",
    "#         method=\"PLANAR\"\n",
    "#     )\n",
    "\n",
    "#     # # create a intersect table\n",
    "#     intersect = \"{}_hov_intersect\".format(buffer_table)\n",
    "#     arcpy.analysis.PairwiseIntersect(\n",
    "#         in_features=\"{0};{1}\".format(buffer_table, source_fc),\n",
    "#         out_feature_class=intersect,\n",
    "#         join_attributes=\"ALL\",\n",
    "#         cluster_tolerance=None,\n",
    "#         output_type=\"INPUT\"\n",
    "#     )\n",
    "\n",
    "#     org_fids = [row[0] for row in arcpy.da.SearchCursor(\n",
    "#                 in_table=intersect, \n",
    "#                 field_names='ORIG_FID', \n",
    "#                 sql_clause= ('DISTINCT ORIG_FID', 'ORDER BY ORIG_FID ASC'))]\n",
    "     \n",
    "#     # For Each OID, leave the longest segment and delete the rest\n",
    "#     fields = ['Shape_Length']\n",
    "#     for oid in org_fids:\n",
    "#         print('Processing oid = {}'.format(oid))\n",
    "#         _query = 'ORIG_FID={}'.format(oid)\n",
    "#         arcpy.MakeFeatureLayer_management(intersect, 'intersect_lyr')\n",
    "#         sel = arcpy.SelectLayerByAttribute_management('intersect_lyr', 'NEW_SELECTION', _query)\n",
    "\n",
    "#         # get_count(sel)\n",
    "\n",
    "#         length = [row[0] for row in arcpy.da.SearchCursor(\n",
    "#                 in_table=sel, \n",
    "#                 field_names='Shape_Length')]\n",
    "\n",
    "#         max_len = max(length)\n",
    "#         _query = 'ORIG_FID = {} and Shape_Length <{}'.format(oid, max_len)\n",
    "#         sub_sel = arcpy.SelectLayerByAttribute_management(sel, 'SUBSET_SELECTION', _query)\n",
    "#         if int(arcpy.GetCount_management(sub_sel)[0])>0:\n",
    "\n",
    "#             arcpy.DeleteFeatures_management(sub_sel)\n",
    "\n",
    "#     # join it back to the routes table and transfer the sc id. \n",
    "#     arcpy.Delete_management('null_layer')\n",
    "#     arcpy.MakeFeatureLayer_management(in_fc, 'null_layer', 'sun_cloud_id_hov is null and hov=1')\n",
    "#     arcpy.Delete_management('intersect_lyr')   \n",
    "#     arcpy.MakeFeatureLayer_management(intersect, 'intersect_lyr')\n",
    "\n",
    "\n",
    "#     joined = arcpy.management.AddJoin(\n",
    "#         in_layer_or_view=\"null_layer\",\n",
    "#         in_field=\"OBJECTID\",\n",
    "#         join_table='intersect_lyr',\n",
    "#         join_field=\"ORIG_FID\",\n",
    "#         join_type=\"\",\n",
    "#         index_join_fields=\"INDEX_JOIN_FIELDS\"\n",
    "#         )\n",
    "\n",
    "#     arcpy.management.CalculateField(\n",
    "\n",
    "#         in_table=joined,\n",
    "#         field=\"{}.sun_cloud_id_hov\".format(in_fc),\n",
    "#         expression=\"\"\"!{}.SUNCLOUDID_1!\"\"\".format(intersect),\n",
    "#         expression_type=\"PYTHON3\",\n",
    "#         code_block=\"\",\n",
    "#         field_type=\"TEXT\",\n",
    "#         enforce_domains=\"NO_ENFORCE_DOMAINS\"\n",
    "#     )\n",
    "\n",
    "#     # garbage collection\n",
    "#     arcpy.Delete_management(joined)\n",
    "# distances = [50, 100, 150, 200, 300]\n",
    "# # for d in distances:\n",
    "# #     tdm_conflation_hov(d, 'destination', 'tdm_hov')"
   ]
  },
  {
   "cell_type": "markdown",
   "metadata": {},
   "source": [
    "Add up the hov values. "
   ]
  },
  {
   "cell_type": "code",
   "execution_count": null,
   "metadata": {},
   "outputs": [],
   "source": [
    "# where sun_cloud_id hov is not null, add up hov vlaues\n",
    "\n",
    "sql_string = 'sun_cloud_id_hov is not null'\n",
    "arcpy.Delete_management('hov_destination_lyr')\n",
    "arcpy.MakeFeatureLayer_management('destination', 'hov_destination_lyr', sql_string)\n",
    "get_count('hov_destination_lyr')"
   ]
  },
  {
   "cell_type": "code",
   "execution_count": null,
   "metadata": {},
   "outputs": [],
   "source": [
    "hov_ids = unique_values('hov_destination_lyr' , 'sun_cloud_id_hov')\n",
    "hov_ids"
   ]
  },
  {
   "cell_type": "code",
   "execution_count": null,
   "metadata": {},
   "outputs": [],
   "source": [
    "hov_fields = [\n",
    " 'ABDAYVOL2019',\n",
    " 'BADAYVOL2019',\n",
    " 'TOTDAYVOL2019',\n",
    " 'ABDAYVOL2050',\n",
    " 'BADAYVOL2050',\n",
    " 'ABCAPACITY2019',\n",
    " 'BACAPACITY2019',\n",
    " 'ABCAPACITY2050',\n",
    " 'BACAPACITY2050',\n",
    " 'OID@'\n",
    "]\n",
    "for id in hov_ids:\n",
    "    # if id=='MAG_17517':\n",
    "    if 1==1:\n",
    "        with arcpy.da.UpdateCursor('hov_destination_lyr', hov_fields, \"sun_cloud_id_hov = '{}'\".format(id)) as uCursor:\n",
    "\n",
    "            lookup_sql = \"SUNCLOUDID = '{}'\".format(id)\n",
    "            print(lookup_sql)\n",
    "            values = [r for r in arcpy.da.SearchCursor('tdm_hov', hov_fields, lookup_sql)]\n",
    "            print(values)\n",
    "            \n",
    "            for row in uCursor:\n",
    "                print(row)\n",
    "                i=0\n",
    "                print('oid', row[9])\n",
    "                while i <= 8:\n",
    "                    val = values[0][i]\n",
    "                    # if the hov value is greater than 0, add it to the destination value\n",
    "                    if(val and val>0):\n",
    "                        print(hov_fields[i])\n",
    "                        print(row[i])\n",
    "                        print(val)\n",
    "                        row[i] = int(row[i] or 0) +val\n",
    "                        print(row[i])\n",
    "                    i = i + 1\n",
    "                uCursor.updateRow(row)\n",
    "        \n",
    "    "
   ]
  },
  {
   "cell_type": "markdown",
   "metadata": {},
   "source": [
    "### Field clean up."
   ]
  },
  {
   "cell_type": "markdown",
   "metadata": {},
   "source": [
    "Simplify fields."
   ]
  },
  {
   "cell_type": "code",
   "execution_count": null,
   "metadata": {},
   "outputs": [],
   "source": [
    "fc = 'destination'\n",
    "\n",
    "\n",
    "arcpy.management.CalculateField(\n",
    "    in_table=fc,\n",
    "    field=\"volume_2019\",\n",
    "    expression=\"max(int(!ABDAYVOL2019! or 0), int(!BADAYVOL2019! or 0), int(!TOTDAYVOL2019! or 0))\",\n",
    "    expression_type=\"PYTHON3\",\n",
    "    code_block=\"\",\n",
    "    field_type=\"DOUBLE\",\n",
    "    enforce_domains=\"NO_ENFORCE_DOMAINS\"\n",
    ")"
   ]
  },
  {
   "cell_type": "code",
   "execution_count": null,
   "metadata": {},
   "outputs": [],
   "source": [
    "arcpy.management.CalculateField(\n",
    "    in_table=fc,\n",
    "    field=\"volume_2050\",\n",
    "    expression=\"max(int(!ABDAYVOL2050! or 0), int(!BADAYVOL2050! or 0), int(!TOTDAYVOL2050! or 0))\",\n",
    "    expression_type=\"PYTHON3\",\n",
    "    code_block=\"\",\n",
    "    field_type=\"DOUBLE\",\n",
    "    enforce_domains=\"NO_ENFORCE_DOMAINS\"\n",
    ")"
   ]
  },
  {
   "cell_type": "code",
   "execution_count": null,
   "metadata": {},
   "outputs": [],
   "source": [
    "fc='destination'\n",
    "arcpy.management.CalculateField(\n",
    "    in_table=fc,\n",
    "    field=\"capacity_2019\",\n",
    "    expression=\"int(!ABCAPACITY2019! or 0)+int(!BACAPACITY2019! or 0)\",\n",
    "    expression_type=\"PYTHON3\",\n",
    "    code_block=\"\",\n",
    "    field_type=\"DOUBLE\",\n",
    "    enforce_domains=\"NO_ENFORCE_DOMAINS\"\n",
    ")"
   ]
  },
  {
   "cell_type": "code",
   "execution_count": null,
   "metadata": {},
   "outputs": [],
   "source": [
    "fc='destination'\n",
    "arcpy.management.CalculateField(\n",
    "    in_table=fc,\n",
    "    field=\"capacity_2050\",\n",
    "    expression=\"int(!ABCAPACITY2050! or 0)+int(!BACAPACITY2050! or 0)\",\n",
    "    expression_type=\"PYTHON3\",\n",
    "    code_block=\"\",\n",
    "    field_type=\"DOUBLE\",\n",
    "    enforce_domains=\"NO_ENFORCE_DOMAINS\"\n",
    ")"
   ]
  },
  {
   "cell_type": "code",
   "execution_count": null,
   "metadata": {},
   "outputs": [],
   "source": [
    "arcpy.management.CalculateField(\n",
    "    in_table=fc,\n",
    "    field=\"lanes_2019\",\n",
    "    expression=\"lane_sum(!ABLANES2019!,!BALANES2019!)\",\n",
    "    expression_type=\"PYTHON3\",\n",
    "    code_block=\"\"\"def lane_sum(a, b):\n",
    "    \n",
    "    if (a is None):\n",
    "        a=0\n",
    "    if (b is None):\n",
    "        b=0\n",
    "    result = a + b\n",
    "    if (result == 0):\n",
    "        return None\n",
    "    else:\n",
    "        return result\"\"\",\n",
    "    field_type=\"DOUBLE\",\n",
    "    enforce_domains=\"NO_ENFORCE_DOMAINS\"\n",
    ")"
   ]
  },
  {
   "cell_type": "code",
   "execution_count": null,
   "metadata": {},
   "outputs": [],
   "source": [
    "arcpy.management.CalculateField(\n",
    "    in_table=fc,\n",
    "    field=\"lanes_2050\",\n",
    "    expression=\"lane_sum(!ABLANES2050!,!BALANES2050!)\",\n",
    "    expression_type=\"PYTHON3\",\n",
    "    code_block=\"\"\"def lane_sum(a, b):\n",
    "    \n",
    "    if (a is None):\n",
    "        a=0\n",
    "    if (b is None):\n",
    "        b=0\n",
    "    result = a + b\n",
    "    if (result == 0):\n",
    "        return None\n",
    "    else:\n",
    "        return result\"\"\",\n",
    "    field_type=\"DOUBLE\",\n",
    "    enforce_domains=\"NO_ENFORCE_DOMAINS\"\n",
    ")"
   ]
  },
  {
   "cell_type": "code",
   "execution_count": null,
   "metadata": {},
   "outputs": [],
   "source": [
    "arcpy.management.CalculateField(\n",
    "    in_table='destination',\n",
    "    field=\"vc_2019\",\n",
    "    expression=\"get_vc(!volume_2019!,!capacity_2019!)\",\n",
    "    expression_type=\"PYTHON3\",\n",
    "    code_block=\"\"\"def get_vc(vol, cap):\n",
    "    if cap>0:\n",
    "        return round(vol/cap,3)\n",
    "    \n",
    "    \"\"\",\n",
    "    field_type=\"DOUBLE\",\n",
    "    enforce_domains=\"NO_ENFORCE_DOMAINS\"\n",
    ")"
   ]
  },
  {
   "cell_type": "code",
   "execution_count": null,
   "metadata": {},
   "outputs": [],
   "source": [
    "arcpy.management.CalculateField(\n",
    "    in_table='destination',\n",
    "    field=\"vc_2050\",\n",
    "    expression=\"get_vc(!volume_2050!,!capacity_2050!)\",\n",
    "    expression_type=\"PYTHON3\",\n",
    "    code_block=\"\"\"def get_vc(vol, cap):\n",
    "    if cap>0:\n",
    "        return round(vol/cap,3)\n",
    "    \n",
    "    \"\"\",\n",
    "    field_type=\"DOUBLE\",\n",
    "    enforce_domains=\"NO_ENFORCE_DOMAINS\"\n",
    ")"
   ]
  },
  {
   "cell_type": "markdown",
   "metadata": {},
   "source": [
    "Drop fields and unsplit. \n"
   ]
  },
  {
   "cell_type": "code",
   "execution_count": null,
   "metadata": {},
   "outputs": [],
   "source": [
    "fc = 'destination'"
   ]
  },
  {
   "cell_type": "code",
   "execution_count": null,
   "metadata": {},
   "outputs": [],
   "source": [
    "# drop and rename fields\n",
    "required_fields = ['OBJECTID', 'route_id', 'functional_class', 'sun_cloud_id',\n",
    "'volume_2019','volume_2050', 'lanes_2019','lanes_2050','capacity_2019', 'capacity_2050',\n",
    "'vc_2019', 'vc_2050']"
   ]
  },
  {
   "cell_type": "code",
   "execution_count": null,
   "metadata": {},
   "outputs": [],
   "source": [
    "all_fields = arcpy.ListFields(fc)\n",
    "f_names = [f.name for f in all_fields if f.required == False]\n",
    "\n",
    "to_delete = [i for i in f_names if i not in required_fields]\n",
    "to_delete"
   ]
  },
  {
   "cell_type": "code",
   "execution_count": null,
   "metadata": {},
   "outputs": [],
   "source": [
    "arcpy.DeleteField_management(fc, to_delete)"
   ]
  },
  {
   "cell_type": "code",
   "execution_count": null,
   "metadata": {},
   "outputs": [],
   "source": [
    "target_fields = [\n",
    "    ('sun_cloud_id', 'sun_cloud_id', 'Segment ID'),\n",
    "    ('volume_2019', 'volume_2019', 'Daily Volume 2019'),\n",
    "    ('volume_2050','volume_2050','Daily Volume 2050'),\n",
    "    ('lanes_2019','lanes_2019','Lanes 2019'),\n",
    "    ('lanes_2050','lanes_2050','Lanes 2050'),\n",
    "    ('capacity_2019','capacity_2019','Capacity 2019'),\n",
    "    ('capacity_2050','capacity_2050','Capacity 2050'),\n",
    "    ('vc_2019','vc_2019','Volume/Capacity Ratio 2019'),\n",
    "    ('vc_2050','vc_2050','Volume/Capacity Ratio 2050')\n",
    "\n",
    "]\n",
    "for current, new, alias in target_fields:\n",
    "    arcpy.management.AlterField(fc, current, new, alias)"
   ]
  },
  {
   "cell_type": "markdown",
   "metadata": {},
   "source": [
    "Decode functional class."
   ]
  },
  {
   "cell_type": "code",
   "execution_count": null,
   "metadata": {},
   "outputs": [],
   "source": [
    "fc='destination'\n",
    "arcpy.AddField_management(fc, 'functional_classification_code', 'SHORT')"
   ]
  },
  {
   "cell_type": "code",
   "execution_count": null,
   "metadata": {},
   "outputs": [],
   "source": [
    "# copy over the functional class values\n",
    "arcpy.management.CalculateField(\n",
    "    in_table=fc,\n",
    "    field=\"functional_classification_code\",\n",
    "    expression=\"!functional_class!\",\n",
    "    expression_type=\"PYTHON3\",\n",
    "\n",
    "    enforce_domains=\"NO_ENFORCE_DOMAINS\"\n",
    ")"
   ]
  },
  {
   "cell_type": "code",
   "execution_count": null,
   "metadata": {},
   "outputs": [],
   "source": [
    "arcpy.AddField_management(fc, 'functional_classification', 'TEXT')\n",
    "arcpy.management.CalculateField(\n",
    "    in_table=fc,\n",
    "    field=\"functional_classification\",\n",
    "    expression=\"!functional_class!\",\n",
    "    expression_type=\"PYTHON3\",\n",
    "\n",
    "    enforce_domains=\"NO_ENFORCE_DOMAINS\"\n",
    ")"
   ]
  },
  {
   "cell_type": "code",
   "execution_count": null,
   "metadata": {},
   "outputs": [],
   "source": [
    "fc_dict = {\n",
    "    1 : 'Interstate',\n",
    "    2 : 'Other Freeways and Expressways',\n",
    "    3 : 'Other Principal Arterial',\n",
    "    4 : 'Minor Arterial',\n",
    "    5 : 'Major Collector',\n",
    "    6 : 'Minor Collector',\n",
    "    7:  'Local'\n",
    "}\n",
    "arcpy.management.CreateDomain(db, \"functional class\", \n",
    "                              \"functional class\", \"TEXT\", \"CODED\")"
   ]
  },
  {
   "cell_type": "code",
   "execution_count": null,
   "metadata": {},
   "outputs": [],
   "source": [
    "for i in fc_dict:\n",
    "    arcpy.AddCodedValueToDomain_management(db, 'functional class', i, fc_dict[i])\n",
    "\n",
    "# assign domain to field\n",
    "arcpy.management.AssignDomainToField(fc, 'functional_classification', 'functional class')"
   ]
  },
  {
   "cell_type": "code",
   "execution_count": null,
   "metadata": {},
   "outputs": [],
   "source": [
    "joinCheck(fc)"
   ]
  },
  {
   "cell_type": "code",
   "execution_count": null,
   "metadata": {},
   "outputs": [],
   "source": [
    "target_fields = [\n",
    "    ('functional_classification', 'functional_classification', 'Functional Classification'),\n",
    "    ('functional_classification_code', 'functional_classification_code', 'Functional Classification_code'),\n",
    "\n",
    "]\n",
    "for current, new, alias in target_fields:\n",
    "    arcpy.management.AlterField(fc, current, new, alias)\n",
    "\n",
    "arcpy.DeleteField_management(fc, 'functional_class')"
   ]
  },
  {
   "cell_type": "markdown",
   "metadata": {},
   "source": [
    "Unsplit."
   ]
  },
  {
   "cell_type": "code",
   "execution_count": null,
   "metadata": {},
   "outputs": [],
   "source": [
    "# unsplit\n",
    "arcpy.management.UnsplitLine(\n",
    "    in_features=\"\",\n",
    "    out_feature_class=\"ExistingRoadways_UnsplitLine\",\n",
    "    dissolve_field=\"route_id;sun_cloud_id;volume_2019;volume_2050;lanes_2019;lanes_2050;capacity_2019;capacity_2050;vc_2019;vc_2050;functional_classification_code;functional_classification\",\n",
    "    statistics_fields=None,\n",
    "    concatenation_separator=\"\"\n",
    ")"
   ]
  }
 ],
 "metadata": {
  "kernelspec": {
   "display_name": "Python 3.9.16 ('arcgispro-py3-clone-dev')",
   "language": "python",
   "name": "python3"
  },
  "language_info": {
   "codemirror_mode": {
    "name": "ipython",
    "version": 3
   },
   "file_extension": ".py",
   "mimetype": "text/x-python",
   "name": "python",
   "nbconvert_exporter": "python",
   "pygments_lexer": "ipython3",
   "version": "3.9.16"
  },
  "vscode": {
   "interpreter": {
    "hash": "a4c764ea2bf24b1e69818dfba780d2c08c53d1474b8e32af3000e5573643d123"
   }
  }
 },
 "nbformat": 4,
 "nbformat_minor": 2
}
